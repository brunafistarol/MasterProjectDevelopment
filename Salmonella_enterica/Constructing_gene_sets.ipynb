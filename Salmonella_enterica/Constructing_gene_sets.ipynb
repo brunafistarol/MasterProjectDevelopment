{
 "cells": [
  {
   "cell_type": "code",
   "execution_count": 51,
   "metadata": {},
   "outputs": [],
   "source": [
    "import pandas as pd\n",
    "import numpy as np\n",
    "import networkx as nx\n",
    "import os\n",
    "from os import listdir\n",
    "import random"
   ]
  },
  {
   "cell_type": "markdown",
   "metadata": {},
   "source": [
    "# Salmonella enterica subsp. enterica serovar Typhimurium str. LT2\n",
    "\n",
    "In order to have the same RefSeq on both databases, this subspecie is used"
   ]
  },
  {
   "cell_type": "code",
   "execution_count": 109,
   "metadata": {},
   "outputs": [],
   "source": [
    "bacteria = 'Salmonella'\n",
    "root = 'E:/User/bruna.fistarol/Documents/GitHub'"
   ]
  },
  {
   "cell_type": "markdown",
   "metadata": {},
   "source": [
    "# Data From PATRIC"
   ]
  },
  {
   "cell_type": "markdown",
   "metadata": {},
   "source": [
    "## Genomic Features\n",
    "\n",
    "The table below contains a list of genomic features, including coding DNA.\n",
    "\n",
    "Each feature is solely identified by BRC ID and associated to a protein family referred as PATRIC genus-specific families (PLfams). Most of the genes has the associated RefSeq."
   ]
  },
  {
   "cell_type": "code",
   "execution_count": 53,
   "metadata": {},
   "outputs": [],
   "source": [
    "features = pd.read_csv('genome_features.csv')"
   ]
  },
  {
   "cell_type": "markdown",
   "metadata": {},
   "source": [
    "Through this table, we extract useful data to map protein families referred by Nguyen et. al.:"
   ]
  },
  {
   "cell_type": "code",
   "execution_count": 54,
   "metadata": {},
   "outputs": [
    {
     "data": {
      "text/html": [
       "<div>\n",
       "<style scoped>\n",
       "    .dataframe tbody tr th:only-of-type {\n",
       "        vertical-align: middle;\n",
       "    }\n",
       "\n",
       "    .dataframe tbody tr th {\n",
       "        vertical-align: top;\n",
       "    }\n",
       "\n",
       "    .dataframe thead th {\n",
       "        text-align: right;\n",
       "    }\n",
       "</style>\n",
       "<table border=\"1\" class=\"dataframe\">\n",
       "  <thead>\n",
       "    <tr style=\"text-align: right;\">\n",
       "      <th></th>\n",
       "      <th>PLFam</th>\n",
       "    </tr>\n",
       "    <tr>\n",
       "      <th>BRC_ID</th>\n",
       "      <th></th>\n",
       "    </tr>\n",
       "  </thead>\n",
       "  <tbody>\n",
       "    <tr>\n",
       "      <th>fig|99287.12.peg.977</th>\n",
       "      <td>PLF_590_00000012</td>\n",
       "    </tr>\n",
       "    <tr>\n",
       "      <th>fig|99287.12.peg.978</th>\n",
       "      <td>PLF_590_00014201</td>\n",
       "    </tr>\n",
       "    <tr>\n",
       "      <th>fig|99287.12.peg.979</th>\n",
       "      <td>PLF_590_00019426</td>\n",
       "    </tr>\n",
       "    <tr>\n",
       "      <th>fig|99287.12.peg.980</th>\n",
       "      <td>PLF_590_00015851</td>\n",
       "    </tr>\n",
       "    <tr>\n",
       "      <th>fig|99287.12.peg.981</th>\n",
       "      <td>PLF_590_00000025</td>\n",
       "    </tr>\n",
       "    <tr>\n",
       "      <th>...</th>\n",
       "      <td>...</td>\n",
       "    </tr>\n",
       "    <tr>\n",
       "      <th>fig|99287.12.peg.4975</th>\n",
       "      <td>PLF_590_00006047</td>\n",
       "    </tr>\n",
       "    <tr>\n",
       "      <th>fig|99287.12.peg.4976</th>\n",
       "      <td>PLF_590_00005031</td>\n",
       "    </tr>\n",
       "    <tr>\n",
       "      <th>fig|99287.12.peg.4844</th>\n",
       "      <td>PLF_590_00005081</td>\n",
       "    </tr>\n",
       "    <tr>\n",
       "      <th>fig|99287.12.peg.4864</th>\n",
       "      <td>PLF_590_00005446</td>\n",
       "    </tr>\n",
       "    <tr>\n",
       "      <th>fig|99287.12.peg.4846</th>\n",
       "      <td>PLF_590_00005107</td>\n",
       "    </tr>\n",
       "  </tbody>\n",
       "</table>\n",
       "<p>4970 rows × 1 columns</p>\n",
       "</div>"
      ],
      "text/plain": [
       "                                  PLFam\n",
       "BRC_ID                                 \n",
       "fig|99287.12.peg.977   PLF_590_00000012\n",
       "fig|99287.12.peg.978   PLF_590_00014201\n",
       "fig|99287.12.peg.979   PLF_590_00019426\n",
       "fig|99287.12.peg.980   PLF_590_00015851\n",
       "fig|99287.12.peg.981   PLF_590_00000025\n",
       "...                                 ...\n",
       "fig|99287.12.peg.4975  PLF_590_00006047\n",
       "fig|99287.12.peg.4976  PLF_590_00005031\n",
       "fig|99287.12.peg.4844  PLF_590_00005081\n",
       "fig|99287.12.peg.4864  PLF_590_00005446\n",
       "fig|99287.12.peg.4846  PLF_590_00005107\n",
       "\n",
       "[4970 rows x 1 columns]"
      ]
     },
     "execution_count": 54,
     "metadata": {},
     "output_type": "execute_result"
    }
   ],
   "source": [
    "plf = features[['BRC ID', 'PATRIC genus-specific families (PLfams)']].astype(\"string\")\n",
    "plf.columns = ['BRC_ID', 'PLFam']\n",
    "plf.set_index('BRC_ID', inplace = True)\n",
    "plf"
   ]
  },
  {
   "cell_type": "markdown",
   "metadata": {},
   "source": [
    "## Specialty Genes\n",
    "\n",
    "The table containing specialty genes relates several genomic features to a relevant property. Here the table is filtered by the antibiotic resistance property"
   ]
  },
  {
   "cell_type": "code",
   "execution_count": 55,
   "metadata": {},
   "outputs": [],
   "source": [
    "AMR_genes = pd.DataFrame(pd.read_csv('specialty_genes.csv')['BRC ID'])\n",
    "AMR_genes.columns = ['BRC_ID']"
   ]
  },
  {
   "cell_type": "markdown",
   "metadata": {},
   "source": [
    "## Data from Nguyen et. al."
   ]
  },
  {
   "cell_type": "code",
   "execution_count": 56,
   "metadata": {},
   "outputs": [],
   "source": [
    "plf_500 = []\n",
    "\n",
    "datadir = f'{root}/Nguyen_et_al_2020/{bacteria}/fasta.500.0'\n",
    "for strain in listdir(datadir):\n",
    "    with open(os.path.join(datadir, strain), 'r') as sequences:\n",
    "        for line in sequences:\n",
    "            if line[0] == '>':\n",
    "                plf_500.append(line[1:len(line)-1])\n",
    "                \n",
    "plf_500 = pd.DataFrame(np.unique(plf_500))\n",
    "plf_500.columns = ['Protein Family ID']"
   ]
  },
  {
   "cell_type": "markdown",
   "metadata": {},
   "source": [
    "## RefSeq Mapping"
   ]
  },
  {
   "cell_type": "code",
   "execution_count": 57,
   "metadata": {},
   "outputs": [],
   "source": [
    "refseq = features[['BRC ID', 'RefSeq Locus Tag']]\n",
    "refseq.columns = ['BRC_ID', 'RefSeq']\n",
    "refseq.set_index('BRC_ID', inplace = True)"
   ]
  },
  {
   "cell_type": "code",
   "execution_count": 58,
   "metadata": {},
   "outputs": [],
   "source": [
    "AMR_refseq = features[['RefSeq Locus Tag']][features['BRC ID'].isin(AMR_genes['BRC_ID'])].reset_index(drop = True)\n",
    "AMR_refseq.columns = ['AMR_RefSeq']"
   ]
  },
  {
   "cell_type": "code",
   "execution_count": 59,
   "metadata": {},
   "outputs": [],
   "source": [
    "plf_map_refseq = features[['RefSeq Locus Tag', 'PATRIC genus-specific families (PLfams)']][features['PATRIC genus-specific families (PLfams)'].isin(plf_500['Protein Family ID'])].reset_index(drop = True)\n",
    "plf_map_refseq.columns = ['RefSeq', 'PLF']\n",
    "plf_map_refseq.dropna(inplace = True)\n",
    "plf_map_refseq = plf_map_refseq.reset_index(drop = True)"
   ]
  },
  {
   "cell_type": "code",
   "execution_count": 60,
   "metadata": {},
   "outputs": [
    {
     "data": {
      "text/html": [
       "<div>\n",
       "<style scoped>\n",
       "    .dataframe tbody tr th:only-of-type {\n",
       "        vertical-align: middle;\n",
       "    }\n",
       "\n",
       "    .dataframe tbody tr th {\n",
       "        vertical-align: top;\n",
       "    }\n",
       "\n",
       "    .dataframe thead th {\n",
       "        text-align: right;\n",
       "    }\n",
       "</style>\n",
       "<table border=\"1\" class=\"dataframe\">\n",
       "  <thead>\n",
       "    <tr style=\"text-align: right;\">\n",
       "      <th></th>\n",
       "      <th>RefSeq</th>\n",
       "      <th>PLF</th>\n",
       "    </tr>\n",
       "  </thead>\n",
       "  <tbody>\n",
       "    <tr>\n",
       "      <th>0</th>\n",
       "      <td>STM0934</td>\n",
       "      <td>PLF_590_00001917</td>\n",
       "    </tr>\n",
       "    <tr>\n",
       "      <th>1</th>\n",
       "      <td>STM0936</td>\n",
       "      <td>PLF_590_00003070</td>\n",
       "    </tr>\n",
       "    <tr>\n",
       "      <th>2</th>\n",
       "      <td>STM0942</td>\n",
       "      <td>PLF_590_00000215</td>\n",
       "    </tr>\n",
       "    <tr>\n",
       "      <th>3</th>\n",
       "      <td>STM0961</td>\n",
       "      <td>PLF_590_00001933</td>\n",
       "    </tr>\n",
       "    <tr>\n",
       "      <th>4</th>\n",
       "      <td>STM0969</td>\n",
       "      <td>PLF_590_00001385</td>\n",
       "    </tr>\n",
       "    <tr>\n",
       "      <th>...</th>\n",
       "      <td>...</td>\n",
       "      <td>...</td>\n",
       "    </tr>\n",
       "    <tr>\n",
       "      <th>487</th>\n",
       "      <td>STM0869</td>\n",
       "      <td>PLF_590_00002654</td>\n",
       "    </tr>\n",
       "    <tr>\n",
       "      <th>488</th>\n",
       "      <td>STM0874</td>\n",
       "      <td>PLF_590_00000196</td>\n",
       "    </tr>\n",
       "    <tr>\n",
       "      <th>489</th>\n",
       "      <td>STM0876</td>\n",
       "      <td>PLF_590_00001271</td>\n",
       "    </tr>\n",
       "    <tr>\n",
       "      <th>490</th>\n",
       "      <td>STM0889</td>\n",
       "      <td>PLF_590_00000747</td>\n",
       "    </tr>\n",
       "    <tr>\n",
       "      <th>491</th>\n",
       "      <td>STM0086</td>\n",
       "      <td>PLF_590_00000529</td>\n",
       "    </tr>\n",
       "  </tbody>\n",
       "</table>\n",
       "<p>492 rows × 2 columns</p>\n",
       "</div>"
      ],
      "text/plain": [
       "      RefSeq               PLF\n",
       "0    STM0934  PLF_590_00001917\n",
       "1    STM0936  PLF_590_00003070\n",
       "2    STM0942  PLF_590_00000215\n",
       "3    STM0961  PLF_590_00001933\n",
       "4    STM0969  PLF_590_00001385\n",
       "..       ...               ...\n",
       "487  STM0869  PLF_590_00002654\n",
       "488  STM0874  PLF_590_00000196\n",
       "489  STM0876  PLF_590_00001271\n",
       "490  STM0889  PLF_590_00000747\n",
       "491  STM0086  PLF_590_00000529\n",
       "\n",
       "[492 rows x 2 columns]"
      ]
     },
     "execution_count": 60,
     "metadata": {},
     "output_type": "execute_result"
    }
   ],
   "source": [
    "plf_map_refseq"
   ]
  },
  {
   "cell_type": "markdown",
   "metadata": {},
   "source": [
    "## Protein Interaction Network"
   ]
  },
  {
   "cell_type": "code",
   "execution_count": 61,
   "metadata": {},
   "outputs": [],
   "source": [
    "ppi_patric = pd.read_csv('ppi_patric.csv')\n",
    "ppi_patric = ppi_patric[['Interactor A ID', 'Interactor B ID']].astype(\"string\")\n",
    "ppi_patric.columns = ['Interactor_A_ID', 'Interactor_B_ID']"
   ]
  },
  {
   "cell_type": "code",
   "execution_count": 62,
   "metadata": {},
   "outputs": [],
   "source": [
    "ppi_refseq = ppi_patric\n",
    "for i in range(len(ppi_refseq['Interactor_A_ID'])):\n",
    "    if ppi_refseq['Interactor_A_ID'][i] in list(refseq.index):\n",
    "        ppi_refseq.at[i, 'Interactor_A_ID'] = refseq.loc[ppi_refseq['Interactor_A_ID'][i]].RefSeq\n",
    "    else:\n",
    "        ppi_refseq.drop(inplace = True, labels = i)\n",
    "        \n",
    "ppi_refseq.reset_index(inplace = True, drop = True)\n",
    "        \n",
    "for i in range(len(ppi_refseq['Interactor_B_ID'])):\n",
    "    if ppi_refseq['Interactor_B_ID'][i]in (refseq.index):\n",
    "        ppi_refseq.at[i, 'Interactor_B_ID'] = refseq.loc[ppi_refseq['Interactor_B_ID'][i]].RefSeq\n",
    "    else:\n",
    "        ppi_refseq.drop(inplace = True, labels = i)"
   ]
  },
  {
   "cell_type": "code",
   "execution_count": 63,
   "metadata": {},
   "outputs": [],
   "source": [
    "ppi_string = pd.read_csv('ppi_string.txt', sep = ' ')\n",
    "ppi_string.columns = ['Interactor_A_ID', 'Interactor_B_ID', 'weight']\n",
    "ppi_string.replace('99287.', '', regex = True, inplace = True)"
   ]
  },
  {
   "cell_type": "code",
   "execution_count": 70,
   "metadata": {},
   "outputs": [],
   "source": [
    "ppi_all = pd.DataFrame(pd.concat([ppi_refseq, ppi_string], axis = 0))"
   ]
  },
  {
   "cell_type": "code",
   "execution_count": 71,
   "metadata": {},
   "outputs": [],
   "source": [
    "ppi_all.fillna(999, inplace = True)"
   ]
  },
  {
   "cell_type": "code",
   "execution_count": 72,
   "metadata": {},
   "outputs": [
    {
     "data": {
      "text/html": [
       "<div>\n",
       "<style scoped>\n",
       "    .dataframe tbody tr th:only-of-type {\n",
       "        vertical-align: middle;\n",
       "    }\n",
       "\n",
       "    .dataframe tbody tr th {\n",
       "        vertical-align: top;\n",
       "    }\n",
       "\n",
       "    .dataframe thead th {\n",
       "        text-align: right;\n",
       "    }\n",
       "</style>\n",
       "<table border=\"1\" class=\"dataframe\">\n",
       "  <thead>\n",
       "    <tr style=\"text-align: right;\">\n",
       "      <th></th>\n",
       "      <th>Interactor_A_ID</th>\n",
       "      <th>Interactor_B_ID</th>\n",
       "      <th>weight</th>\n",
       "    </tr>\n",
       "  </thead>\n",
       "  <tbody>\n",
       "    <tr>\n",
       "      <th>0</th>\n",
       "      <td>STM2168</td>\n",
       "      <td>STM2439</td>\n",
       "      <td>999.0</td>\n",
       "    </tr>\n",
       "    <tr>\n",
       "      <th>1</th>\n",
       "      <td>STM0264</td>\n",
       "      <td>STM0798</td>\n",
       "      <td>999.0</td>\n",
       "    </tr>\n",
       "    <tr>\n",
       "      <th>2</th>\n",
       "      <td>STM0558</td>\n",
       "      <td>STM1340</td>\n",
       "      <td>999.0</td>\n",
       "    </tr>\n",
       "    <tr>\n",
       "      <th>3</th>\n",
       "      <td>STM2999</td>\n",
       "      <td>STM3000</td>\n",
       "      <td>999.0</td>\n",
       "    </tr>\n",
       "    <tr>\n",
       "      <th>4</th>\n",
       "      <td>STM1398</td>\n",
       "      <td>STM1396</td>\n",
       "      <td>999.0</td>\n",
       "    </tr>\n",
       "    <tr>\n",
       "      <th>...</th>\n",
       "      <td>...</td>\n",
       "      <td>...</td>\n",
       "      <td>...</td>\n",
       "    </tr>\n",
       "    <tr>\n",
       "      <th>105069</th>\n",
       "      <td>STM4585</td>\n",
       "      <td>STM4578</td>\n",
       "      <td>403.0</td>\n",
       "    </tr>\n",
       "    <tr>\n",
       "      <th>105070</th>\n",
       "      <td>STM4588</td>\n",
       "      <td>STM4589</td>\n",
       "      <td>627.0</td>\n",
       "    </tr>\n",
       "    <tr>\n",
       "      <th>105071</th>\n",
       "      <td>STM4589</td>\n",
       "      <td>STM4588</td>\n",
       "      <td>627.0</td>\n",
       "    </tr>\n",
       "    <tr>\n",
       "      <th>105072</th>\n",
       "      <td>STM4592</td>\n",
       "      <td>STM4593</td>\n",
       "      <td>173.0</td>\n",
       "    </tr>\n",
       "    <tr>\n",
       "      <th>105073</th>\n",
       "      <td>STM4593</td>\n",
       "      <td>STM4592</td>\n",
       "      <td>173.0</td>\n",
       "    </tr>\n",
       "  </tbody>\n",
       "</table>\n",
       "<p>109391 rows × 3 columns</p>\n",
       "</div>"
      ],
      "text/plain": [
       "       Interactor_A_ID Interactor_B_ID  weight\n",
       "0              STM2168         STM2439   999.0\n",
       "1              STM0264         STM0798   999.0\n",
       "2              STM0558         STM1340   999.0\n",
       "3              STM2999         STM3000   999.0\n",
       "4              STM1398         STM1396   999.0\n",
       "...                ...             ...     ...\n",
       "105069         STM4585         STM4578   403.0\n",
       "105070         STM4588         STM4589   627.0\n",
       "105071         STM4589         STM4588   627.0\n",
       "105072         STM4592         STM4593   173.0\n",
       "105073         STM4593         STM4592   173.0\n",
       "\n",
       "[109391 rows x 3 columns]"
      ]
     },
     "execution_count": 72,
     "metadata": {},
     "output_type": "execute_result"
    }
   ],
   "source": [
    "ppi_all"
   ]
  },
  {
   "cell_type": "code",
   "execution_count": 78,
   "metadata": {},
   "outputs": [],
   "source": [
    "ppi = ppi_all[ppi_all['weight'] > 600].reset_index()"
   ]
  },
  {
   "cell_type": "code",
   "execution_count": 82,
   "metadata": {},
   "outputs": [],
   "source": [
    "conserved_ppi_A = plf_map_refseq[plf_map_refseq['RefSeq'].isin(ppi['Interactor_A_ID'])]['RefSeq']\n",
    "conserved_ppi_B = plf_map_refseq[plf_map_refseq['RefSeq'].isin(ppi['Interactor_B_ID'])]['RefSeq']\n",
    "\n",
    "conserved_ppi = pd.DataFrame(pd.concat([conserved_ppi_A, conserved_ppi_B], axis = 0).drop_duplicates())"
   ]
  },
  {
   "cell_type": "code",
   "execution_count": 83,
   "metadata": {},
   "outputs": [
    {
     "data": {
      "text/html": [
       "<div>\n",
       "<style scoped>\n",
       "    .dataframe tbody tr th:only-of-type {\n",
       "        vertical-align: middle;\n",
       "    }\n",
       "\n",
       "    .dataframe tbody tr th {\n",
       "        vertical-align: top;\n",
       "    }\n",
       "\n",
       "    .dataframe thead th {\n",
       "        text-align: right;\n",
       "    }\n",
       "</style>\n",
       "<table border=\"1\" class=\"dataframe\">\n",
       "  <thead>\n",
       "    <tr style=\"text-align: right;\">\n",
       "      <th></th>\n",
       "      <th>RefSeq</th>\n",
       "    </tr>\n",
       "  </thead>\n",
       "  <tbody>\n",
       "    <tr>\n",
       "      <th>0</th>\n",
       "      <td>STM0934</td>\n",
       "    </tr>\n",
       "    <tr>\n",
       "      <th>1</th>\n",
       "      <td>STM0936</td>\n",
       "    </tr>\n",
       "    <tr>\n",
       "      <th>2</th>\n",
       "      <td>STM0942</td>\n",
       "    </tr>\n",
       "    <tr>\n",
       "      <th>3</th>\n",
       "      <td>STM0961</td>\n",
       "    </tr>\n",
       "    <tr>\n",
       "      <th>5</th>\n",
       "      <td>STM0970</td>\n",
       "    </tr>\n",
       "    <tr>\n",
       "      <th>...</th>\n",
       "      <td>...</td>\n",
       "    </tr>\n",
       "    <tr>\n",
       "      <th>334</th>\n",
       "      <td>STM3686</td>\n",
       "    </tr>\n",
       "    <tr>\n",
       "      <th>379</th>\n",
       "      <td>STM4082</td>\n",
       "    </tr>\n",
       "    <tr>\n",
       "      <th>385</th>\n",
       "      <td>STM4127</td>\n",
       "    </tr>\n",
       "    <tr>\n",
       "      <th>423</th>\n",
       "      <td>STM4381</td>\n",
       "    </tr>\n",
       "    <tr>\n",
       "      <th>454</th>\n",
       "      <td>STM0599</td>\n",
       "    </tr>\n",
       "  </tbody>\n",
       "</table>\n",
       "<p>407 rows × 1 columns</p>\n",
       "</div>"
      ],
      "text/plain": [
       "      RefSeq\n",
       "0    STM0934\n",
       "1    STM0936\n",
       "2    STM0942\n",
       "3    STM0961\n",
       "5    STM0970\n",
       "..       ...\n",
       "334  STM3686\n",
       "379  STM4082\n",
       "385  STM4127\n",
       "423  STM4381\n",
       "454  STM0599\n",
       "\n",
       "[407 rows x 1 columns]"
      ]
     },
     "execution_count": 83,
     "metadata": {},
     "output_type": "execute_result"
    }
   ],
   "source": [
    "conserved_ppi"
   ]
  },
  {
   "cell_type": "code",
   "execution_count": 84,
   "metadata": {},
   "outputs": [],
   "source": [
    "AMR_ppi_A = AMR_refseq[AMR_refseq['AMR_RefSeq'].isin(ppi['Interactor_A_ID'])]['AMR_RefSeq']\n",
    "AMR_ppi_B = AMR_refseq[AMR_refseq['AMR_RefSeq'].isin(ppi['Interactor_B_ID'])]['AMR_RefSeq']\n",
    "\n",
    "AMR_ppi = pd.DataFrame(pd.concat([AMR_ppi_A, AMR_ppi_B], axis = 0))\n",
    "AMR_ppi.reset_index(drop=True, inplace=True)"
   ]
  },
  {
   "cell_type": "code",
   "execution_count": 85,
   "metadata": {},
   "outputs": [
    {
     "data": {
      "text/html": [
       "<div>\n",
       "<style scoped>\n",
       "    .dataframe tbody tr th:only-of-type {\n",
       "        vertical-align: middle;\n",
       "    }\n",
       "\n",
       "    .dataframe tbody tr th {\n",
       "        vertical-align: top;\n",
       "    }\n",
       "\n",
       "    .dataframe thead th {\n",
       "        text-align: right;\n",
       "    }\n",
       "</style>\n",
       "<table border=\"1\" class=\"dataframe\">\n",
       "  <thead>\n",
       "    <tr style=\"text-align: right;\">\n",
       "      <th></th>\n",
       "      <th>AMR_RefSeq</th>\n",
       "    </tr>\n",
       "  </thead>\n",
       "  <tbody>\n",
       "    <tr>\n",
       "      <th>0</th>\n",
       "      <td>STM0087</td>\n",
       "    </tr>\n",
       "    <tr>\n",
       "      <th>1</th>\n",
       "      <td>STM0941</td>\n",
       "    </tr>\n",
       "    <tr>\n",
       "      <th>2</th>\n",
       "      <td>STM0942</td>\n",
       "    </tr>\n",
       "    <tr>\n",
       "      <th>3</th>\n",
       "      <td>STM1197</td>\n",
       "    </tr>\n",
       "    <tr>\n",
       "      <th>4</th>\n",
       "      <td>STM0130</td>\n",
       "    </tr>\n",
       "    <tr>\n",
       "      <th>...</th>\n",
       "      <td>...</td>\n",
       "    </tr>\n",
       "    <tr>\n",
       "      <th>116</th>\n",
       "      <td>STM4338</td>\n",
       "    </tr>\n",
       "    <tr>\n",
       "      <th>117</th>\n",
       "      <td>STM4517</td>\n",
       "    </tr>\n",
       "    <tr>\n",
       "      <th>118</th>\n",
       "      <td>STM0475</td>\n",
       "    </tr>\n",
       "    <tr>\n",
       "      <th>119</th>\n",
       "      <td>STM0476</td>\n",
       "    </tr>\n",
       "    <tr>\n",
       "      <th>120</th>\n",
       "      <td>STM0046</td>\n",
       "    </tr>\n",
       "  </tbody>\n",
       "</table>\n",
       "<p>121 rows × 1 columns</p>\n",
       "</div>"
      ],
      "text/plain": [
       "    AMR_RefSeq\n",
       "0      STM0087\n",
       "1      STM0941\n",
       "2      STM0942\n",
       "3      STM1197\n",
       "4      STM0130\n",
       "..         ...\n",
       "116    STM4338\n",
       "117    STM4517\n",
       "118    STM0475\n",
       "119    STM0476\n",
       "120    STM0046\n",
       "\n",
       "[121 rows x 1 columns]"
      ]
     },
     "execution_count": 85,
     "metadata": {},
     "output_type": "execute_result"
    }
   ],
   "source": [
    "AMR_ppi"
   ]
  },
  {
   "cell_type": "code",
   "execution_count": 86,
   "metadata": {},
   "outputs": [],
   "source": [
    "ppi_info = pd.DataFrame(columns = ['Conserved Gene', 'Shortest Path to an AMR gene (length)',])\n",
    "\n",
    "ppi_info['Conserved Gene'] = conserved_ppi.reset_index(drop = True)['RefSeq']"
   ]
  },
  {
   "cell_type": "code",
   "execution_count": 96,
   "metadata": {},
   "outputs": [],
   "source": [
    "ppi_graph = nx.from_pandas_edgelist(ppi, 'Interactor_A_ID', 'Interactor_B_ID', edge_attr = ['weight'])"
   ]
  },
  {
   "cell_type": "code",
   "execution_count": 97,
   "metadata": {},
   "outputs": [
    {
     "data": {
      "text/plain": [
       "18347"
      ]
     },
     "execution_count": 97,
     "metadata": {},
     "output_type": "execute_result"
    }
   ],
   "source": [
    "ppi_graph.number_of_edges()"
   ]
  },
  {
   "cell_type": "code",
   "execution_count": 98,
   "metadata": {},
   "outputs": [
    {
     "data": {
      "text/plain": [
       "3445"
      ]
     },
     "execution_count": 98,
     "metadata": {},
     "output_type": "execute_result"
    }
   ],
   "source": [
    "ppi_graph.number_of_nodes()"
   ]
  },
  {
   "cell_type": "code",
   "execution_count": 99,
   "metadata": {},
   "outputs": [
    {
     "data": {
      "text/plain": [
       "True"
      ]
     },
     "execution_count": 99,
     "metadata": {},
     "output_type": "execute_result"
    }
   ],
   "source": [
    "i = conserved_ppi['RefSeq'][0]\n",
    "j = AMR_ppi['AMR_RefSeq'][0]\n",
    "nx.has_path(ppi_graph, i, j)"
   ]
  },
  {
   "cell_type": "code",
   "execution_count": 101,
   "metadata": {},
   "outputs": [
    {
     "data": {
      "text/plain": [
       "['STM0934', 'STM2555', 'STM0087']"
      ]
     },
     "execution_count": 101,
     "metadata": {},
     "output_type": "execute_result"
    }
   ],
   "source": [
    "nx.shortest_path(ppi_graph, i, j)"
   ]
  },
  {
   "cell_type": "code",
   "execution_count": 90,
   "metadata": {},
   "outputs": [],
   "source": [
    "idx = 0\n",
    "for i in conserved_ppi['RefSeq']:\n",
    "    lengths = []\n",
    "    for j in AMR_ppi['AMR_RefSeq']:\n",
    "        if nx.has_path(ppi_graph, i, j):\n",
    "            lengths.append(nx.shortest_path_length(ppi_graph, i, j))\n",
    "    if lengths:        \n",
    "        ppi_info['Shortest Path to an AMR gene (length)'][idx] = min(lengths)\n",
    "        \n",
    "    idx += 1"
   ]
  },
  {
   "cell_type": "code",
   "execution_count": 91,
   "metadata": {},
   "outputs": [
    {
     "name": "stdout",
     "output_type": "stream",
     "text": [
      "   Shortest Path to an AMR gene (length)  Count\n",
      "0                                      0     10\n",
      "1                                      1     55\n",
      "2                                      2    165\n",
      "3                                      3    134\n",
      "4                                      4     33\n",
      "5                                      5      6\n",
      "6                                      6      1\n"
     ]
    }
   ],
   "source": [
    "print(ppi_info.groupby(['Shortest Path to an AMR gene (length)']).size().reset_index(name='Count'))"
   ]
  },
  {
   "cell_type": "code",
   "execution_count": 93,
   "metadata": {},
   "outputs": [
    {
     "data": {
      "text/plain": [
       "['STM4292',\n",
       " 'STM0046',\n",
       " 'STM3441',\n",
       " 'STM3186',\n",
       " 'STM2272',\n",
       " 'STM3390',\n",
       " 'STM2814',\n",
       " 'STM1700',\n",
       " 'STM3873.S',\n",
       " 'STM4293',\n",
       " 'STM0942']"
      ]
     },
     "execution_count": 93,
     "metadata": {},
     "output_type": "execute_result"
    }
   ],
   "source": [
    "list(set(AMR_refseq['AMR_RefSeq']) & set(plf_map_refseq['RefSeq']))"
   ]
  },
  {
   "cell_type": "code",
   "execution_count": 102,
   "metadata": {},
   "outputs": [],
   "source": [
    "plf_map_refseq = plf_map_refseq.set_index('RefSeq')"
   ]
  },
  {
   "cell_type": "code",
   "execution_count": 103,
   "metadata": {},
   "outputs": [],
   "source": [
    "for i in ppi_info['Shortest Path to an AMR gene (length)'].unique():\n",
    "    gene_set = ppi_info[ppi_info['Shortest Path to an AMR gene (length)'] == i]['Conserved Gene']\n",
    "    globals()[f'plf_length_{i}'] = plf_map_refseq.loc[list(gene_set)]['PLF']"
   ]
  },
  {
   "cell_type": "code",
   "execution_count": 105,
   "metadata": {},
   "outputs": [],
   "source": [
    "bacdir = f'{root}/Fistarol_2022_2.0/{bacteria}'\n",
    "\n",
    "os.mkdir(bacdir)\n",
    "\n",
    "for i in ppi_info['Shortest Path to an AMR gene (length)'].unique():\n",
    "    newdir = f'length.{i}'\n",
    "    lendir = os.path.join(bacdir, newdir)\n",
    "    os.mkdir(path)\n",
    "    \n",
    "    sample = f'{root}/Nguyen_et_al_2020/{bacteria}/fasta.500.0'\n",
    "    for strain in listdir(sample):\n",
    "        with open(os.path.join(lendir, strain), 'a') as mystrain:\n",
    "            with open(os.path.join(sample, strain), 'r') as sequences:\n",
    "                first_loop = True\n",
    "                for line in sequences:\n",
    "                    if line[0] == '>':\n",
    "                        if first_loop:\n",
    "                            plfam = line[1:len(line)-1]\n",
    "                            seq = ''\n",
    "                            first_loop = False\n",
    "                            continue\n",
    "                        if plfam in list((globals()[f'plf_length_{i}'])):\n",
    "                            mystrain.write('>' + plfam + '\\n')\n",
    "                            mystrain.write(seq)\n",
    "                        plfam = line[1:len(line)-1]\n",
    "                        seq = ''\n",
    "                    else:\n",
    "                        seq += line\n",
    "                if plfam in list((globals()[f'plf_length_{i}'])):\n",
    "                            mystrain.write('>' + plfam + '\\n')\n",
    "                            mystrain.write(seq)"
   ]
  },
  {
   "cell_type": "markdown",
   "metadata": {},
   "source": [
    "At this point, it is possible to use this new configuration of data to run the model. We can take 25 genes to each strain for lengths equals to 1, 2 and 3, because the results from the paper also are derived from groups of 25 genes, hence, we can compare these results."
   ]
  },
  {
   "cell_type": "code",
   "execution_count": 112,
   "metadata": {},
   "outputs": [],
   "source": [
    "dir_25genes = os.path.join(bacdir, '25genes')\n",
    "os.mkdir(dir_25genes)\n",
    "\n",
    "for j in [0, 1, 2, 3, 4]:\n",
    "    \n",
    "    rand_idx = [sorted(random.sample(range(55), 25)), \n",
    "                sorted(random.sample(range(165), 25)), \n",
    "                sorted(random.sample(range(134), 25)),\n",
    "                sorted(random.sample(range(33), 25))]\n",
    "    \n",
    "    for i in range(1, len(rand_idx)+1):   \n",
    "\n",
    "        lendir = os.path.join(bacdir, f'length.{i}')\n",
    "        repdir = os.path.join(dir_25genes, f'length.{i}.{j}')\n",
    "        os.mkdir(repdir)\n",
    "\n",
    "        for strain in listdir(lendir):\n",
    "            with open(os.path.join(repdir, strain), 'a') as mystrain:\n",
    "                with open(os.path.join(lendir, strain), 'r') as sequences:\n",
    "                    c = 0\n",
    "                    first_loop = True\n",
    "                    for line in sequences:\n",
    "                        if line[0] == '>':\n",
    "                            if first_loop:\n",
    "                                plfam = line\n",
    "                                seq = ''\n",
    "                                c += 1\n",
    "                                first_loop = False\n",
    "                                continue\n",
    "                            if c in rand_idx[i-1]:\n",
    "                                mystrain.write(plfam)\n",
    "                                mystrain.write(seq)\n",
    "                            plfam = line\n",
    "                            seq = ''\n",
    "                            c += 1\n",
    "                        else:\n",
    "                            seq += line\n",
    "                    if c in rand_idx[i-1]:\n",
    "                            mystrain.write(plfam)\n",
    "                            mystrain.write(seq)"
   ]
  },
  {
   "cell_type": "code",
   "execution_count": 113,
   "metadata": {},
   "outputs": [],
   "source": [
    "rand_idx = range(10)\n",
    "\n",
    "lendir = os.path.join(bacdir, 'length.0')\n",
    "repdir = os.path.join(dir_25genes, 'length.0.0')\n",
    "os.mkdir(repdir)\n",
    "\n",
    "for strain in listdir(lendir):\n",
    "    with open(os.path.join(repdir, strain), 'a') as mystrain:\n",
    "        with open(os.path.join(lendir, strain), 'r') as sequences:\n",
    "            c = 0\n",
    "            first_loop = True\n",
    "            for line in sequences:\n",
    "                if line[0] == '>':\n",
    "                    if first_loop:\n",
    "                        plfam = line\n",
    "                        seq = ''\n",
    "                        c += 1\n",
    "                        first_loop = False\n",
    "                        continue\n",
    "                    if c in rand_idx:\n",
    "                        mystrain.write(plfam)\n",
    "                        mystrain.write(seq)\n",
    "                    plfam = line\n",
    "                    seq = ''\n",
    "                    c += 1\n",
    "                else:\n",
    "                    seq += line\n",
    "            if c in rand_idx:\n",
    "                    mystrain.write(plfam)\n",
    "                    mystrain.write(seq)"
   ]
  }
 ],
 "metadata": {
  "kernelspec": {
   "display_name": "Python 3",
   "language": "python",
   "name": "python3"
  },
  "language_info": {
   "codemirror_mode": {
    "name": "ipython",
    "version": 3
   },
   "file_extension": ".py",
   "mimetype": "text/x-python",
   "name": "python",
   "nbconvert_exporter": "python",
   "pygments_lexer": "ipython3",
   "version": "3.7.6"
  }
 },
 "nbformat": 4,
 "nbformat_minor": 4
}
