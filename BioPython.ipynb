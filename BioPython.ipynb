{
 "cells": [
  {
   "cell_type": "markdown",
   "metadata": {},
   "source": [
    "Tutorial from tutorialspoint.com/biopython/biopython_overview_of_blast.htm\n",
    "\n",
    "BLAST stands for Basic Local Alignment Search Tool. It finds regions of similarity between biological sequences. Biopython provides Bio.Blast module to deal with NCBI BLAST operation. You can run BLAST in either local connection or over Internet connection.\n",
    "\n",
    "# Running over Internet\n",
    "Biopython provides Bio.Blast.NCBIWWW module to call the online version of BLAST. To do this, we need to import the following module"
   ]
  },
  {
   "cell_type": "code",
   "execution_count": 16,
   "metadata": {},
   "outputs": [],
   "source": [
    "from Bio.Blast import NCBIWWW"
   ]
  },
  {
   "cell_type": "markdown",
   "metadata": {},
   "source": [
    "NCBIWW module provides qblast function to query the BLAST online version, https://blast.ncbi.nlm.nih.gov/Blast.cgi. qblast supports all the parameters supported by the online version.\n",
    "\n",
    "To obtain any help about this module, use the below command and understand the features"
   ]
  },
  {
   "cell_type": "code",
   "execution_count": 10,
   "metadata": {},
   "outputs": [
    {
     "name": "stdout",
     "output_type": "stream",
     "text": [
      "Help on function qblast in module Bio.Blast.NCBIWWW:\n",
      "\n",
      "qblast(program, database, sequence, url_base='https://blast.ncbi.nlm.nih.gov/Blast.cgi', auto_format=None, composition_based_statistics=None, db_genetic_code=None, endpoints=None, entrez_query='(none)', expect=10.0, filter=None, gapcosts=None, genetic_code=None, hitlist_size=50, i_thresh=None, layout=None, lcase_mask=None, matrix_name=None, nucl_penalty=None, nucl_reward=None, other_advanced=None, perc_ident=None, phi_pattern=None, query_file=None, query_believe_defline=None, query_from=None, query_to=None, searchsp_eff=None, service=None, threshold=None, ungapped_alignment=None, word_size=None, short_query=None, alignments=500, alignment_view=None, descriptions=500, entrez_links_new_window=None, expect_low=None, expect_high=None, format_entrez_query=None, format_object=None, format_type='XML', ncbi_gi=None, results_file=None, show_overview=None, megablast=None, template_type=None, template_length=None)\n",
      "    BLAST search using NCBI's QBLAST server or a cloud service provider.\n",
      "    \n",
      "    Supports all parameters of the old qblast API for Put and Get.\n",
      "    \n",
      "    Please note that NCBI uses the new Common URL API for BLAST searches\n",
      "    on the internet (http://ncbi.github.io/blast-cloud/dev/api.html). Thus,\n",
      "    some of the parameters used by this function are not (or are no longer)\n",
      "    officially supported by NCBI. Although they are still functioning, this\n",
      "    may change in the future.\n",
      "    \n",
      "    The Common URL API (http://ncbi.github.io/blast-cloud/dev/api.html) allows\n",
      "    doing BLAST searches on cloud servers. To use this feature, please set\n",
      "    ``url_base='http://host.my.cloud.service.provider.com/cgi-bin/blast.cgi'``\n",
      "    and ``format_object='Alignment'``. For more details, please see\n",
      "    https://blast.ncbi.nlm.nih.gov/Blast.cgi?PAGE_TYPE=BlastDocs&DOC_TYPE=CloudBlast\n",
      "    \n",
      "    Some useful parameters:\n",
      "    \n",
      "     - program        blastn, blastp, blastx, tblastn, or tblastx (lower case)\n",
      "     - database       Which database to search against (e.g. \"nr\").\n",
      "     - sequence       The sequence to search.\n",
      "     - ncbi_gi        TRUE/FALSE whether to give 'gi' identifier.\n",
      "     - descriptions   Number of descriptions to show.  Def 500.\n",
      "     - alignments     Number of alignments to show.  Def 500.\n",
      "     - expect         An expect value cutoff.  Def 10.0.\n",
      "     - matrix_name    Specify an alt. matrix (PAM30, PAM70, BLOSUM80, BLOSUM45).\n",
      "     - filter         \"none\" turns off filtering.  Default no filtering\n",
      "     - format_type    \"HTML\", \"Text\", \"ASN.1\", or \"XML\".  Def. \"XML\".\n",
      "     - entrez_query   Entrez query to limit Blast search\n",
      "     - hitlist_size   Number of hits to return. Default 50\n",
      "     - megablast      TRUE/FALSE whether to use MEga BLAST algorithm (blastn only)\n",
      "     - short_query    TRUE/FALSE whether to adjust the search parameters for a\n",
      "                      short query sequence. Note that this will override\n",
      "                      manually set parameters like word size and e value. Turns\n",
      "                      off when sequence length is > 30 residues. Default: None.\n",
      "     - service        plain, psi, phi, rpsblast, megablast (lower case)\n",
      "    \n",
      "    This function does no checking of the validity of the parameters\n",
      "    and passes the values to the server as is.  More help is available at:\n",
      "    https://ncbi.github.io/blast-cloud/dev/api.html\n",
      "\n"
     ]
    }
   ],
   "source": [
    "help(NCBIWWW.qblast)"
   ]
  },
  {
   "cell_type": "markdown",
   "metadata": {},
   "source": [
    "## Simple example"
   ]
  },
  {
   "cell_type": "markdown",
   "metadata": {},
   "source": [
    "Open the sequence file, blast_example.fasta using python IO module."
   ]
  },
  {
   "cell_type": "code",
   "execution_count": 12,
   "metadata": {},
   "outputs": [
    {
     "data": {
      "text/plain": [
       "'Example of a single sequence in FASTA/Pearson format: \\n>sequence A ggtaagtcctctagtacaaacacccccaatattgtgatataattaaaattatattcatat\\ntctgttgccagaaaaaacacttttaggctatattagagccatcttctttgaagcgttgtc \\n\\n>sequence B ggtaagtcctctagtacaaacacccccaatattgtgatataattaaaattatattca\\ntattctgttgccagaaaaaacacttttaggctatattagagccatcttctttgaagcgttgtc'"
      ]
     },
     "execution_count": 12,
     "metadata": {},
     "output_type": "execute_result"
    }
   ],
   "source": [
    "sequence_data = open(\"blast_example.fasta\").read() \n",
    "sequence_data"
   ]
  },
  {
   "cell_type": "markdown",
   "metadata": {},
   "source": [
    "Now, call the qblast function passing sequence data as main parameter. The other parameter represents the database (nt) and the internal program (blastn)."
   ]
  },
  {
   "cell_type": "code",
   "execution_count": 13,
   "metadata": {},
   "outputs": [
    {
     "data": {
      "text/plain": [
       "<_io.StringIO at 0x1d86d4a6678>"
      ]
     },
     "execution_count": 13,
     "metadata": {},
     "output_type": "execute_result"
    }
   ],
   "source": [
    "result_handle = NCBIWWW.qblast(\"blastn\", \"refseq_rna\", sequence_data) \n",
    "result_handle"
   ]
  },
  {
   "cell_type": "code",
   "execution_count": 21,
   "metadata": {},
   "outputs": [
    {
     "data": {
      "text/plain": [
       "0"
      ]
     },
     "execution_count": 21,
     "metadata": {},
     "output_type": "execute_result"
    }
   ],
   "source": [
    "result_handle.seek(0, 0)"
   ]
  },
  {
   "cell_type": "code",
   "execution_count": 22,
   "metadata": {},
   "outputs": [],
   "source": [
    "with open('results.xml', 'w') as save_file: \n",
    "    blast_results = result_handle.read() \n",
    "    save_file.write(blast_results)"
   ]
  },
  {
   "cell_type": "markdown",
   "metadata": {},
   "source": [
    "### Parsing Result"
   ]
  },
  {
   "cell_type": "code",
   "execution_count": 18,
   "metadata": {},
   "outputs": [],
   "source": [
    "from Bio.Blast import NCBIXML"
   ]
  },
  {
   "cell_type": "code",
   "execution_count": 23,
   "metadata": {},
   "outputs": [
    {
     "name": "stdout",
     "output_type": "stream",
     "text": [
      "\n",
      "\n",
      "query: sequence A ggtaagtcctctagtacaaacacccccaatattgtgatataattaaaattatattcatat\n",
      "\n",
      "\n",
      "query: sequence B ggtaagtcctctagtacaaacacccccaatattgtgatataattaaaattatattca\n",
      "match: gi|1853088208|gb|CP054431.1| Chlamydia trachomatis strain CH2_mutant_L2/434/Bu(i) plasmid unnamed \n",
      "match: gi|1853087206|gb|CP054433.1| Chlamydia trachomatis strain CH1_mutant_L2/434/Bu(i) plasmid unnamed \n",
      "match: gi|1853086301|gb|CP054429.1| Chlamydia trachomatis strain CH3_mutant_L2/434/Bu(i) plasmid unnamed \n",
      "match: gi|1853085398|gb|CP054427.1| Chlamydia trachomatis strain CH5_mutant_L2/434/Bu(i) plasmid unnamed \n",
      "match: gi|1834305694|gb|MT241513.1| Cloning vector pREF100, complete sequence \n",
      "match: gi|575868421|gb|KF790910.1| Cloning vector pBOMB4-Tet-mCherry, complete sequence \n",
      "match: gi|575868419|gb|KF790909.1| Cloning vector pBOMB4R-MCI, complete sequence \n",
      "match: gi|575868417|gb|KF790908.1| Cloning vector pBOMB4R, complete sequence \n",
      "match: gi|575868414|gb|KF790907.1| Cloning vector pBOMB4-MCI, complete sequence \n",
      "match: gi|575868410|gb|KF790906.1| Cloning vector pBOMB4, complete sequence \n",
      "match: gi|380252486|emb|HE603228.1| Chlamydia trachomatis L3/404/LN plasmid pL3404 complete sequence \n",
      "match: gi|380251597|emb|HE603227.1| Chlamydia trachomatis L2b/UCH-2 plasmid pL2bUCH2 complete sequence \n",
      "match: gi|380251588|emb|HE603226.1| Chlamydia trachomatis L2b/LST plasmid pL2bLST complete sequence \n",
      "match: gi|380251534|emb|HE603220.1| Chlamydia trachomatis L1/224 plasmid pL1224 complete sequence \n",
      "match: gi|380251525|emb|HE603219.1| Chlamydia trachomatis L1/1322/p2 plasmid pL11322 complete sequence \n",
      "match: gi|380251516|emb|HE603218.1| Chlamydia trachomatis L1/115 plasmid pL1115 complete sequence \n",
      "match: gi|380251471|emb|HE603213.1| Chlamydia trachomatis L2b/Ams1 plasmid pAms1 complete sequence >gi|3802 \n",
      "match: gi|194680626|emb|X06707.3| Chlamydia trachomatis cryptic plasmid pLGV440 \n",
      "match: gi|165931721|emb|AM886279.1| Chlamydia trachomatis pUCH-1 plasmid \n",
      "match: gi|165931711|emb|AM886278.1| Chlamydia trachomatis pL2 plasmid >gi|478751958|gb|CP003966.1| Chlamydi \n",
      "match: gi|158322049|gb|EU180727.1| Chlamydia trachomatis plasmid pCT clone C10-1 ORF7 and ORF8 genes, parti \n",
      "match: gi|40730|emb|X07547.1| C. trachomatis plasmid DNA for growth within mammalian cells \n"
     ]
    }
   ],
   "source": [
    "E_VALUE_THRESH = 1e-20 \n",
    "for record in NCBIXML.parse(open(\"results.xml\")): \n",
    "    if record.alignments: \n",
    "        print(\"\\n\") \n",
    "        print(\"query: %s\" % record.query[:100]) \n",
    "        for align in record.alignments: \n",
    "            for hsp in align.hsps: \n",
    "                if hsp.expect < E_VALUE_THRESH: \n",
    "                    print(\"match: %s \" % align.title[:100])"
   ]
  },
  {
   "cell_type": "code",
   "execution_count": null,
   "metadata": {},
   "outputs": [],
   "source": []
  }
 ],
 "metadata": {
  "kernelspec": {
   "display_name": "Python 3",
   "language": "python",
   "name": "python3"
  },
  "language_info": {
   "codemirror_mode": {
    "name": "ipython",
    "version": 3
   },
   "file_extension": ".py",
   "mimetype": "text/x-python",
   "name": "python",
   "nbconvert_exporter": "python",
   "pygments_lexer": "ipython3",
   "version": "3.7.6"
  }
 },
 "nbformat": 4,
 "nbformat_minor": 4
}
