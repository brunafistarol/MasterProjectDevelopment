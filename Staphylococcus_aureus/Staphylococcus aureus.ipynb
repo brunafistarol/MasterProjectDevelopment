{
 "cells": [
  {
   "cell_type": "markdown",
   "metadata": {},
   "source": [
    "# Staphylococcus aureus\n",
    "## Data"
   ]
  },
  {
   "cell_type": "code",
   "execution_count": 609,
   "metadata": {},
   "outputs": [],
   "source": [
    "import pandas as pd\n",
    "import numpy as np"
   ]
  },
  {
   "cell_type": "markdown",
   "metadata": {},
   "source": [
    "### Genomic Features"
   ]
  },
  {
   "cell_type": "markdown",
   "metadata": {},
   "source": [
    "The table below contains a list of genimoc features, including coding DNA.\n",
    "\n",
    "Each feature is solely identified by BRC ID and associated to a protein family referred as PATRIC genus-specific families (PLfams)."
   ]
  },
  {
   "cell_type": "code",
   "execution_count": 610,
   "metadata": {},
   "outputs": [],
   "source": [
    "saureus_features = pd.read_csv('saureus_genome_features.csv')"
   ]
  },
  {
   "cell_type": "code",
   "execution_count": 611,
   "metadata": {
    "scrolled": true
   },
   "outputs": [
    {
     "name": "stdout",
     "output_type": "stream",
     "text": [
      "<class 'pandas.core.frame.DataFrame'>\n",
      "RangeIndex: 10999 entries, 0 to 10998\n",
      "Data columns (total 21 columns):\n",
      " #   Column                                   Non-Null Count  Dtype  \n",
      "---  ------                                   --------------  -----  \n",
      " 0   Genome                                   10999 non-null  object \n",
      " 1   Genome ID                                10999 non-null  float64\n",
      " 2   Accession                                10999 non-null  object \n",
      " 3   BRC ID                                   10999 non-null  object \n",
      " 4   RefSeq Locus Tag                         10703 non-null  object \n",
      " 5   Alt Locus Tag                            5488 non-null   object \n",
      " 6   Feature ID                               10999 non-null  object \n",
      " 7   Annotation                               10999 non-null  object \n",
      " 8   Feature Type                             10999 non-null  object \n",
      " 9   Start                                    10999 non-null  int64  \n",
      " 10  End                                      10999 non-null  int64  \n",
      " 11  Length                                   10999 non-null  int64  \n",
      " 12  Strand                                   10999 non-null  object \n",
      " 13  FIGfam ID                                10070 non-null  object \n",
      " 14  PATRIC genus-specific families (PLfams)  10999 non-null  object \n",
      " 15  PATRIC cross-genus families (PGfams)     10999 non-null  object \n",
      " 16  Protein ID                               8022 non-null   object \n",
      " 17  AA Length                                10999 non-null  int64  \n",
      " 18  Gene Symbol                              1198 non-null   object \n",
      " 19  Product                                  10999 non-null  object \n",
      " 20  GO                                       2879 non-null   object \n",
      "dtypes: float64(1), int64(4), object(16)\n",
      "memory usage: 1.8+ MB\n"
     ]
    }
   ],
   "source": [
    "saureus_features.info()"
   ]
  },
  {
   "cell_type": "markdown",
   "metadata": {},
   "source": [
    "Through this table, we extract useful data to map protein families referred by Nguyen et. al.:"
   ]
  },
  {
   "cell_type": "code",
   "execution_count": 612,
   "metadata": {},
   "outputs": [
    {
     "data": {
      "text/html": [
       "<div>\n",
       "<style scoped>\n",
       "    .dataframe tbody tr th:only-of-type {\n",
       "        vertical-align: middle;\n",
       "    }\n",
       "\n",
       "    .dataframe tbody tr th {\n",
       "        vertical-align: top;\n",
       "    }\n",
       "\n",
       "    .dataframe thead th {\n",
       "        text-align: right;\n",
       "    }\n",
       "</style>\n",
       "<table border=\"1\" class=\"dataframe\">\n",
       "  <thead>\n",
       "    <tr style=\"text-align: right;\">\n",
       "      <th></th>\n",
       "      <th>PLFam</th>\n",
       "    </tr>\n",
       "    <tr>\n",
       "      <th>BRC_ID</th>\n",
       "      <th></th>\n",
       "    </tr>\n",
       "  </thead>\n",
       "  <tbody>\n",
       "    <tr>\n",
       "      <th>fig|1241616.6.peg.978</th>\n",
       "      <td>PLF_1279_00000947</td>\n",
       "    </tr>\n",
       "    <tr>\n",
       "      <th>fig|1241616.6.peg.979</th>\n",
       "      <td>PLF_1279_00001869</td>\n",
       "    </tr>\n",
       "    <tr>\n",
       "      <th>fig|1241616.6.peg.980</th>\n",
       "      <td>PLF_1279_00000303</td>\n",
       "    </tr>\n",
       "    <tr>\n",
       "      <th>fig|1241616.6.peg.981</th>\n",
       "      <td>PLF_1279_00000735</td>\n",
       "    </tr>\n",
       "    <tr>\n",
       "      <th>fig|1241616.6.peg.982</th>\n",
       "      <td>PLF_1279_00000362</td>\n",
       "    </tr>\n",
       "  </tbody>\n",
       "</table>\n",
       "</div>"
      ],
      "text/plain": [
       "                                   PLFam\n",
       "BRC_ID                                  \n",
       "fig|1241616.6.peg.978  PLF_1279_00000947\n",
       "fig|1241616.6.peg.979  PLF_1279_00001869\n",
       "fig|1241616.6.peg.980  PLF_1279_00000303\n",
       "fig|1241616.6.peg.981  PLF_1279_00000735\n",
       "fig|1241616.6.peg.982  PLF_1279_00000362"
      ]
     },
     "execution_count": 612,
     "metadata": {},
     "output_type": "execute_result"
    }
   ],
   "source": [
    "plf = saureus_features[['BRC ID', 'PATRIC genus-specific families (PLfams)']].astype(\"string\")\n",
    "plf.columns = ['BRC_ID', 'PLFam']\n",
    "plf.set_index('BRC_ID', inplace = True)\n",
    "plf.head()"
   ]
  },
  {
   "cell_type": "markdown",
   "metadata": {},
   "source": [
    "### Protein Interaction Network"
   ]
  },
  {
   "cell_type": "markdown",
   "metadata": {},
   "source": [
    "The table below contais pairs of proteins interacting with each other on Staphylococcus aureus protein network, identified by their BRC ID."
   ]
  },
  {
   "cell_type": "code",
   "execution_count": 613,
   "metadata": {},
   "outputs": [
    {
     "data": {
      "text/html": [
       "<div>\n",
       "<style scoped>\n",
       "    .dataframe tbody tr th:only-of-type {\n",
       "        vertical-align: middle;\n",
       "    }\n",
       "\n",
       "    .dataframe tbody tr th {\n",
       "        vertical-align: top;\n",
       "    }\n",
       "\n",
       "    .dataframe thead th {\n",
       "        text-align: right;\n",
       "    }\n",
       "</style>\n",
       "<table border=\"1\" class=\"dataframe\">\n",
       "  <thead>\n",
       "    <tr style=\"text-align: right;\">\n",
       "      <th></th>\n",
       "      <th>Interactor_A_ID</th>\n",
       "      <th>Interactor_B_ID</th>\n",
       "    </tr>\n",
       "  </thead>\n",
       "  <tbody>\n",
       "    <tr>\n",
       "      <th>0</th>\n",
       "      <td>fig|93061.5.peg.452</td>\n",
       "      <td>fig|93061.5.peg.713</td>\n",
       "    </tr>\n",
       "    <tr>\n",
       "      <th>1</th>\n",
       "      <td>fig|93061.5.peg.1920</td>\n",
       "      <td>fig|93061.5.peg.1921</td>\n",
       "    </tr>\n",
       "    <tr>\n",
       "      <th>2</th>\n",
       "      <td>fig|93061.5.peg.111</td>\n",
       "      <td>fig|93061.5.peg.119</td>\n",
       "    </tr>\n",
       "    <tr>\n",
       "      <th>3</th>\n",
       "      <td>fig|93061.5.peg.112</td>\n",
       "      <td>fig|93061.5.peg.121</td>\n",
       "    </tr>\n",
       "    <tr>\n",
       "      <th>4</th>\n",
       "      <td>fig|93061.5.peg.1069</td>\n",
       "      <td>fig|93061.5.peg.1071</td>\n",
       "    </tr>\n",
       "  </tbody>\n",
       "</table>\n",
       "</div>"
      ],
      "text/plain": [
       "        Interactor_A_ID       Interactor_B_ID\n",
       "0   fig|93061.5.peg.452   fig|93061.5.peg.713\n",
       "1  fig|93061.5.peg.1920  fig|93061.5.peg.1921\n",
       "2   fig|93061.5.peg.111   fig|93061.5.peg.119\n",
       "3   fig|93061.5.peg.112   fig|93061.5.peg.121\n",
       "4  fig|93061.5.peg.1069  fig|93061.5.peg.1071"
      ]
     },
     "execution_count": 613,
     "metadata": {},
     "output_type": "execute_result"
    }
   ],
   "source": [
    "saureus_ppi = pd.read_csv('saureus_ppi_patric.csv')\n",
    "saureus_ppi = saureus_ppi[['Interactor A ID', 'Interactor B ID']].astype(\"string\")\n",
    "saureus_ppi.columns = ['Interactor_A_ID', 'Interactor_B_ID']\n",
    "saureus_ppi.head()"
   ]
  },
  {
   "cell_type": "markdown",
   "metadata": {},
   "source": [
    "### Specialty Genes"
   ]
  },
  {
   "cell_type": "markdown",
   "metadata": {},
   "source": [
    "The table containing specialty genes relates several genomic features to a relevant property:\n",
    " - Essential gene\n",
    " - Antibiotic resistance\n",
    " - Virulence factor\n",
    " - Human homolog\n",
    " - Drug target\n",
    " - Transporter\n",
    " \n",
    "We are particularly interested on properties associated to antibiotic resistance. Besides genes related to antibiotic resistance themselves, it is possible to have causal relation between virulence factor and bacterial resistance."
   ]
  },
  {
   "cell_type": "code",
   "execution_count": 614,
   "metadata": {},
   "outputs": [
    {
     "data": {
      "text/plain": [
       "array(['Antibiotic Resistance', 'Essential Gene', 'Virulence Factor',\n",
       "       'Human Homolog', 'Drug Target', 'Transporter'], dtype=object)"
      ]
     },
     "execution_count": 614,
     "metadata": {},
     "output_type": "execute_result"
    }
   ],
   "source": [
    "sa_specialty_genes = pd.read_csv('saureus_specialty_genes.csv')\n",
    "sa_specialty_genes = sa_specialty[['BRC ID', 'Property']]\n",
    "sa_specialty_genes.columns = ['BRC_ID', 'Property']\n",
    "sa_specialty_genes.set_index('BRC_ID', inplace = True)\n",
    "sa_specialty_genes.Property.unique()"
   ]
  },
  {
   "cell_type": "markdown",
   "metadata": {},
   "source": [
    "### Conserved Genes"
   ]
  },
  {
   "cell_type": "markdown",
   "metadata": {},
   "source": [
    "Next table is listening protein families of 10 experiments (each one with 100 non overlapping protein families) selected from a set of conserved genes and used in the paper of Nguyen et. al.\n",
    "\n",
    "Each protein family has a feature importance value derived from XGBoost, which means a contribution degree from a protein family given to classificate in resistant/susceptible phenotype."
   ]
  },
  {
   "cell_type": "code",
   "execution_count": 615,
   "metadata": {},
   "outputs": [],
   "source": [
    "sa_feature_importance = pd.read_excel('saureus_feature_importance.xlsx')"
   ]
  },
  {
   "cell_type": "code",
   "execution_count": 616,
   "metadata": {},
   "outputs": [
    {
     "data": {
      "text/html": [
       "<div>\n",
       "<style scoped>\n",
       "    .dataframe tbody tr th:only-of-type {\n",
       "        vertical-align: middle;\n",
       "    }\n",
       "\n",
       "    .dataframe tbody tr th {\n",
       "        vertical-align: top;\n",
       "    }\n",
       "\n",
       "    .dataframe thead th {\n",
       "        text-align: right;\n",
       "    }\n",
       "</style>\n",
       "<table border=\"1\" class=\"dataframe\">\n",
       "  <thead>\n",
       "    <tr style=\"text-align: right;\">\n",
       "      <th></th>\n",
       "      <th>Protein Family ID</th>\n",
       "      <th>Model</th>\n",
       "      <th>Total Feature Importance</th>\n",
       "      <th>Annotation</th>\n",
       "    </tr>\n",
       "  </thead>\n",
       "  <tbody>\n",
       "    <tr>\n",
       "      <th>0</th>\n",
       "      <td>PLF_1279_00001080</td>\n",
       "      <td>1</td>\n",
       "      <td>162.412577</td>\n",
       "      <td>hypothetical protein</td>\n",
       "    </tr>\n",
       "    <tr>\n",
       "      <th>1</th>\n",
       "      <td>PLF_1279_00001505</td>\n",
       "      <td>1</td>\n",
       "      <td>81.039855</td>\n",
       "      <td>ABC transporter-like sensor ATP-binding protei...</td>\n",
       "    </tr>\n",
       "    <tr>\n",
       "      <th>2</th>\n",
       "      <td>PLF_1279_00001583</td>\n",
       "      <td>1</td>\n",
       "      <td>67.782436</td>\n",
       "      <td>Polysaccharide intercellular adhesin (PIA) bio...</td>\n",
       "    </tr>\n",
       "    <tr>\n",
       "      <th>3</th>\n",
       "      <td>PLF_1279_00001118</td>\n",
       "      <td>1</td>\n",
       "      <td>60.701992</td>\n",
       "      <td>Nickel ABC transporter, substrate-binding prot...</td>\n",
       "    </tr>\n",
       "    <tr>\n",
       "      <th>4</th>\n",
       "      <td>PLF_1279_00001691</td>\n",
       "      <td>1</td>\n",
       "      <td>54.623888</td>\n",
       "      <td>Activator of the mannose operon (transcription...</td>\n",
       "    </tr>\n",
       "    <tr>\n",
       "      <th>...</th>\n",
       "      <td>...</td>\n",
       "      <td>...</td>\n",
       "      <td>...</td>\n",
       "      <td>...</td>\n",
       "    </tr>\n",
       "    <tr>\n",
       "      <th>995</th>\n",
       "      <td>PLF_1279_00007034</td>\n",
       "      <td>10</td>\n",
       "      <td>0.000000</td>\n",
       "      <td>Cold shock protein of CSP family</td>\n",
       "    </tr>\n",
       "    <tr>\n",
       "      <th>996</th>\n",
       "      <td>PLF_1279_00001353</td>\n",
       "      <td>10</td>\n",
       "      <td>0.000000</td>\n",
       "      <td>UPF0398 protein YpsA</td>\n",
       "    </tr>\n",
       "    <tr>\n",
       "      <th>997</th>\n",
       "      <td>PLF_1279_00000861</td>\n",
       "      <td>10</td>\n",
       "      <td>0.000000</td>\n",
       "      <td>LSU ribosomal protein L15p (L27Ae)</td>\n",
       "    </tr>\n",
       "    <tr>\n",
       "      <th>998</th>\n",
       "      <td>PLF_1279_00000601</td>\n",
       "      <td>10</td>\n",
       "      <td>0.000000</td>\n",
       "      <td>LSU ribosomal protein L30p (L7e)</td>\n",
       "    </tr>\n",
       "    <tr>\n",
       "      <th>999</th>\n",
       "      <td>PLF_1279_00089683</td>\n",
       "      <td>10</td>\n",
       "      <td>0.000000</td>\n",
       "      <td>Copper(I) chaperone CopZ</td>\n",
       "    </tr>\n",
       "  </tbody>\n",
       "</table>\n",
       "<p>1000 rows × 4 columns</p>\n",
       "</div>"
      ],
      "text/plain": [
       "     Protein Family ID  Model  Total Feature Importance  \\\n",
       "0    PLF_1279_00001080      1                162.412577   \n",
       "1    PLF_1279_00001505      1                 81.039855   \n",
       "2    PLF_1279_00001583      1                 67.782436   \n",
       "3    PLF_1279_00001118      1                 60.701992   \n",
       "4    PLF_1279_00001691      1                 54.623888   \n",
       "..                 ...    ...                       ...   \n",
       "995  PLF_1279_00007034     10                  0.000000   \n",
       "996  PLF_1279_00001353     10                  0.000000   \n",
       "997  PLF_1279_00000861     10                  0.000000   \n",
       "998  PLF_1279_00000601     10                  0.000000   \n",
       "999  PLF_1279_00089683     10                  0.000000   \n",
       "\n",
       "                                            Annotation  \n",
       "0                                 hypothetical protein  \n",
       "1    ABC transporter-like sensor ATP-binding protei...  \n",
       "2    Polysaccharide intercellular adhesin (PIA) bio...  \n",
       "3    Nickel ABC transporter, substrate-binding prot...  \n",
       "4    Activator of the mannose operon (transcription...  \n",
       "..                                                 ...  \n",
       "995                   Cold shock protein of CSP family  \n",
       "996                               UPF0398 protein YpsA  \n",
       "997                 LSU ribosomal protein L15p (L27Ae)  \n",
       "998                   LSU ribosomal protein L30p (L7e)  \n",
       "999                           Copper(I) chaperone CopZ  \n",
       "\n",
       "[1000 rows x 4 columns]"
      ]
     },
     "execution_count": 616,
     "metadata": {},
     "output_type": "execute_result"
    }
   ],
   "source": [
    "sa_feature_importance"
   ]
  },
  {
   "cell_type": "markdown",
   "metadata": {},
   "source": [
    "Once the information used in the paper from Nguyen is given in therms of protein families, we need to associate every feature for a corresponding protein family.\n",
    "\n",
    "Lets  check if every genome feature in the PPI has a associated Patric Local Family:"
   ]
  },
  {
   "cell_type": "code",
   "execution_count": 617,
   "metadata": {},
   "outputs": [
    {
     "data": {
      "text/plain": [
       "Series([], Name: Interactor_A_ID, dtype: bool)"
      ]
     },
     "execution_count": 617,
     "metadata": {},
     "output_type": "execute_result"
    }
   ],
   "source": [
    "saureus_ppi['Interactor_A_ID'].isin(plf.index)[saureus_ppi['Interactor_A_ID'].isin(plf.index)==False]"
   ]
  },
  {
   "cell_type": "code",
   "execution_count": 618,
   "metadata": {
    "scrolled": true
   },
   "outputs": [
    {
     "data": {
      "text/plain": [
       "2085    False\n",
       "Name: Interactor_B_ID, dtype: bool"
      ]
     },
     "execution_count": 618,
     "metadata": {},
     "output_type": "execute_result"
    }
   ],
   "source": [
    "saureus_ppi['Interactor_B_ID'].isin(plf.index)[saureus_ppi['Interactor_B_ID'].isin(plf.index)==False]"
   ]
  },
  {
   "cell_type": "markdown",
   "metadata": {},
   "source": [
    "There is no PLFam associated to the feature fig|93061.5.peg.894 (line 2085, interactor B).\n",
    "\n",
    "Before ignore this information, lets also check if there is some relevant characteristic related to this feature:"
   ]
  },
  {
   "cell_type": "code",
   "execution_count": 619,
   "metadata": {},
   "outputs": [
    {
     "data": {
      "text/html": [
       "<div>\n",
       "<style scoped>\n",
       "    .dataframe tbody tr th:only-of-type {\n",
       "        vertical-align: middle;\n",
       "    }\n",
       "\n",
       "    .dataframe tbody tr th {\n",
       "        vertical-align: top;\n",
       "    }\n",
       "\n",
       "    .dataframe thead th {\n",
       "        text-align: right;\n",
       "    }\n",
       "</style>\n",
       "<table border=\"1\" class=\"dataframe\">\n",
       "  <thead>\n",
       "    <tr style=\"text-align: right;\">\n",
       "      <th></th>\n",
       "      <th>Property</th>\n",
       "    </tr>\n",
       "    <tr>\n",
       "      <th>BRC_ID</th>\n",
       "      <th></th>\n",
       "    </tr>\n",
       "  </thead>\n",
       "  <tbody>\n",
       "  </tbody>\n",
       "</table>\n",
       "</div>"
      ],
      "text/plain": [
       "Empty DataFrame\n",
       "Columns: [Property]\n",
       "Index: []"
      ]
     },
     "execution_count": 619,
     "metadata": {},
     "output_type": "execute_result"
    }
   ],
   "source": [
    "sa_specialty_genes.loc[sa_specialty_genes.index == saureus_ppi['Interactor_B_ID'].loc[2085]]"
   ]
  },
  {
   "cell_type": "markdown",
   "metadata": {},
   "source": [
    "There is no property associated to this feature, hence, it can be excluded:"
   ]
  },
  {
   "cell_type": "code",
   "execution_count": 620,
   "metadata": {},
   "outputs": [],
   "source": [
    "saureus_ppi.drop(2085, axis = 0, inplace = True)\n",
    "saureus_ppi.reset_index(drop=True, inplace=True)"
   ]
  },
  {
   "cell_type": "markdown",
   "metadata": {},
   "source": [
    "Now we can map a feature to a Patric Local Family with no problem."
   ]
  },
  {
   "cell_type": "markdown",
   "metadata": {},
   "source": [
    "# NetworkX"
   ]
  },
  {
   "cell_type": "code",
   "execution_count": 621,
   "metadata": {},
   "outputs": [],
   "source": [
    "import networkx as nx\n",
    "import scipy"
   ]
  },
  {
   "cell_type": "markdown",
   "metadata": {},
   "source": [
    "This is the network protein interaction in terms of PLFams:"
   ]
  },
  {
   "cell_type": "code",
   "execution_count": 622,
   "metadata": {},
   "outputs": [],
   "source": [
    "ppi_graph = nx.from_pandas_edgelist(saureus_ppi, 'Interactor_A_ID', 'Interactor_B_ID')"
   ]
  },
  {
   "cell_type": "code",
   "execution_count": 623,
   "metadata": {},
   "outputs": [
    {
     "data": {
      "text/plain": [
       "4999"
      ]
     },
     "execution_count": 623,
     "metadata": {},
     "output_type": "execute_result"
    }
   ],
   "source": [
    "ppi_graph.number_of_edges()"
   ]
  },
  {
   "cell_type": "markdown",
   "metadata": {},
   "source": [
    "### Resistance Genes"
   ]
  },
  {
   "cell_type": "code",
   "execution_count": 624,
   "metadata": {},
   "outputs": [
    {
     "data": {
      "text/html": [
       "<div>\n",
       "<style scoped>\n",
       "    .dataframe tbody tr th:only-of-type {\n",
       "        vertical-align: middle;\n",
       "    }\n",
       "\n",
       "    .dataframe tbody tr th {\n",
       "        vertical-align: top;\n",
       "    }\n",
       "\n",
       "    .dataframe thead th {\n",
       "        text-align: right;\n",
       "    }\n",
       "</style>\n",
       "<table border=\"1\" class=\"dataframe\">\n",
       "  <thead>\n",
       "    <tr style=\"text-align: right;\">\n",
       "      <th></th>\n",
       "      <th>Property</th>\n",
       "    </tr>\n",
       "    <tr>\n",
       "      <th>BRC_ID</th>\n",
       "      <th></th>\n",
       "    </tr>\n",
       "  </thead>\n",
       "  <tbody>\n",
       "    <tr>\n",
       "      <th>fig|1413510.3.peg.2169</th>\n",
       "      <td>Antibiotic Resistance</td>\n",
       "    </tr>\n",
       "    <tr>\n",
       "      <th>fig|93061.5.peg.1154</th>\n",
       "      <td>Antibiotic Resistance</td>\n",
       "    </tr>\n",
       "    <tr>\n",
       "      <th>fig|93061.5.peg.2089</th>\n",
       "      <td>Antibiotic Resistance</td>\n",
       "    </tr>\n",
       "    <tr>\n",
       "      <th>fig|93061.5.peg.842</th>\n",
       "      <td>Antibiotic Resistance</td>\n",
       "    </tr>\n",
       "    <tr>\n",
       "      <th>fig|158879.11.peg.1813</th>\n",
       "      <td>Antibiotic Resistance</td>\n",
       "    </tr>\n",
       "    <tr>\n",
       "      <th>...</th>\n",
       "      <td>...</td>\n",
       "    </tr>\n",
       "    <tr>\n",
       "      <th>fig|158879.11.peg.2331</th>\n",
       "      <td>Antibiotic Resistance</td>\n",
       "    </tr>\n",
       "    <tr>\n",
       "      <th>fig|1241616.6.peg.1396</th>\n",
       "      <td>Antibiotic Resistance</td>\n",
       "    </tr>\n",
       "    <tr>\n",
       "      <th>fig|158879.11.peg.647</th>\n",
       "      <td>Antibiotic Resistance</td>\n",
       "    </tr>\n",
       "    <tr>\n",
       "      <th>fig|158879.11.peg.2107</th>\n",
       "      <td>Antibiotic Resistance</td>\n",
       "    </tr>\n",
       "    <tr>\n",
       "      <th>fig|1241616.6.peg.2283</th>\n",
       "      <td>Antibiotic Resistance</td>\n",
       "    </tr>\n",
       "  </tbody>\n",
       "</table>\n",
       "<p>269 rows × 1 columns</p>\n",
       "</div>"
      ],
      "text/plain": [
       "                                     Property\n",
       "BRC_ID                                       \n",
       "fig|1413510.3.peg.2169  Antibiotic Resistance\n",
       "fig|93061.5.peg.1154    Antibiotic Resistance\n",
       "fig|93061.5.peg.2089    Antibiotic Resistance\n",
       "fig|93061.5.peg.842     Antibiotic Resistance\n",
       "fig|158879.11.peg.1813  Antibiotic Resistance\n",
       "...                                       ...\n",
       "fig|158879.11.peg.2331  Antibiotic Resistance\n",
       "fig|1241616.6.peg.1396  Antibiotic Resistance\n",
       "fig|158879.11.peg.647   Antibiotic Resistance\n",
       "fig|158879.11.peg.2107  Antibiotic Resistance\n",
       "fig|1241616.6.peg.2283  Antibiotic Resistance\n",
       "\n",
       "[269 rows x 1 columns]"
      ]
     },
     "execution_count": 624,
     "metadata": {},
     "output_type": "execute_result"
    }
   ],
   "source": [
    "sa_specialty_genes[sa_specialty_genes.Property == 'Antibiotic Resistance']"
   ]
  },
  {
   "cell_type": "code",
   "execution_count": 625,
   "metadata": {},
   "outputs": [],
   "source": [
    "resistance_genes = sa_specialty_genes.loc[sa_specialty_genes.Property == 'Antibiotic Resistance'].reset_index()"
   ]
  },
  {
   "cell_type": "code",
   "execution_count": 626,
   "metadata": {},
   "outputs": [
    {
     "data": {
      "text/html": [
       "<div>\n",
       "<style scoped>\n",
       "    .dataframe tbody tr th:only-of-type {\n",
       "        vertical-align: middle;\n",
       "    }\n",
       "\n",
       "    .dataframe tbody tr th {\n",
       "        vertical-align: top;\n",
       "    }\n",
       "\n",
       "    .dataframe thead th {\n",
       "        text-align: right;\n",
       "    }\n",
       "</style>\n",
       "<table border=\"1\" class=\"dataframe\">\n",
       "  <thead>\n",
       "    <tr style=\"text-align: right;\">\n",
       "      <th></th>\n",
       "      <th>BRC_ID</th>\n",
       "      <th>Property</th>\n",
       "    </tr>\n",
       "  </thead>\n",
       "  <tbody>\n",
       "    <tr>\n",
       "      <th>0</th>\n",
       "      <td>fig|1413510.3.peg.2169</td>\n",
       "      <td>Antibiotic Resistance</td>\n",
       "    </tr>\n",
       "    <tr>\n",
       "      <th>1</th>\n",
       "      <td>fig|93061.5.peg.1154</td>\n",
       "      <td>Antibiotic Resistance</td>\n",
       "    </tr>\n",
       "    <tr>\n",
       "      <th>2</th>\n",
       "      <td>fig|93061.5.peg.2089</td>\n",
       "      <td>Antibiotic Resistance</td>\n",
       "    </tr>\n",
       "    <tr>\n",
       "      <th>3</th>\n",
       "      <td>fig|93061.5.peg.842</td>\n",
       "      <td>Antibiotic Resistance</td>\n",
       "    </tr>\n",
       "    <tr>\n",
       "      <th>4</th>\n",
       "      <td>fig|158879.11.peg.1813</td>\n",
       "      <td>Antibiotic Resistance</td>\n",
       "    </tr>\n",
       "    <tr>\n",
       "      <th>...</th>\n",
       "      <td>...</td>\n",
       "      <td>...</td>\n",
       "    </tr>\n",
       "    <tr>\n",
       "      <th>264</th>\n",
       "      <td>fig|158879.11.peg.2331</td>\n",
       "      <td>Antibiotic Resistance</td>\n",
       "    </tr>\n",
       "    <tr>\n",
       "      <th>265</th>\n",
       "      <td>fig|1241616.6.peg.1396</td>\n",
       "      <td>Antibiotic Resistance</td>\n",
       "    </tr>\n",
       "    <tr>\n",
       "      <th>266</th>\n",
       "      <td>fig|158879.11.peg.647</td>\n",
       "      <td>Antibiotic Resistance</td>\n",
       "    </tr>\n",
       "    <tr>\n",
       "      <th>267</th>\n",
       "      <td>fig|158879.11.peg.2107</td>\n",
       "      <td>Antibiotic Resistance</td>\n",
       "    </tr>\n",
       "    <tr>\n",
       "      <th>268</th>\n",
       "      <td>fig|1241616.6.peg.2283</td>\n",
       "      <td>Antibiotic Resistance</td>\n",
       "    </tr>\n",
       "  </tbody>\n",
       "</table>\n",
       "<p>269 rows × 2 columns</p>\n",
       "</div>"
      ],
      "text/plain": [
       "                     BRC_ID               Property\n",
       "0    fig|1413510.3.peg.2169  Antibiotic Resistance\n",
       "1      fig|93061.5.peg.1154  Antibiotic Resistance\n",
       "2      fig|93061.5.peg.2089  Antibiotic Resistance\n",
       "3       fig|93061.5.peg.842  Antibiotic Resistance\n",
       "4    fig|158879.11.peg.1813  Antibiotic Resistance\n",
       "..                      ...                    ...\n",
       "264  fig|158879.11.peg.2331  Antibiotic Resistance\n",
       "265  fig|1241616.6.peg.1396  Antibiotic Resistance\n",
       "266   fig|158879.11.peg.647  Antibiotic Resistance\n",
       "267  fig|158879.11.peg.2107  Antibiotic Resistance\n",
       "268  fig|1241616.6.peg.2283  Antibiotic Resistance\n",
       "\n",
       "[269 rows x 2 columns]"
      ]
     },
     "execution_count": 626,
     "metadata": {},
     "output_type": "execute_result"
    }
   ],
   "source": [
    "resistance_genes"
   ]
  },
  {
   "cell_type": "markdown",
   "metadata": {},
   "source": [
    "We need to find which genes related to antibiotic resistance are in the PPI:"
   ]
  },
  {
   "cell_type": "code",
   "execution_count": 661,
   "metadata": {},
   "outputs": [],
   "source": [
    "resistance_genes_ppi_A = resistance_genes[resistance_genes['BRC_ID'].isin(saureus_ppi['Interactor_A_ID'])]['BRC_ID']\n",
    "resistance_genes_ppi_B = resistance_genes[resistance_genes['BRC_ID'].isin(saureus_ppi['Interactor_B_ID'])]['BRC_ID']\n",
    "\n",
    "resistance_genes_ppi = pd.DataFrame(pd.concat([resistance_genes_ppi_A, resistance_genes_ppi_B], axis = 0))\n",
    "resistance_genes_ppi.reset_index(drop=True, inplace=True)"
   ]
  },
  {
   "cell_type": "markdown",
   "metadata": {},
   "source": [
    "### Conserved Genes used for prediction in Nguyen et. al. 2020"
   ]
  },
  {
   "cell_type": "markdown",
   "metadata": {},
   "source": [
    "We also need to find which conserved genes used to prediction in the paper are in the PPI"
   ]
  },
  {
   "cell_type": "code",
   "execution_count": 628,
   "metadata": {},
   "outputs": [],
   "source": [
    "sa_conserved_ppi_A = sa_feature_importance[sa_feature_importance['Protein Family ID'].isin(saureus_ppi['Interactor_A_ID'])]['Protein Family ID']\n",
    "sa_conserved_ppi_B = sa_feature_importance[sa_feature_importance['Protein Family ID'].isin(saureus_ppi['Interactor_B_ID'])]['Protein Family ID']\n",
    "\n",
    "sa_conserved_ppi = pd.DataFrame(pd.concat([sa_paper_in_ppi_A, sa_paper_in_ppi_B], axis = 0).drop_duplicates())"
   ]
  },
  {
   "cell_type": "markdown",
   "metadata": {},
   "source": [
    "### Virulence Factors"
   ]
  },
  {
   "cell_type": "code",
   "execution_count": 630,
   "metadata": {},
   "outputs": [],
   "source": [
    "virulence_genes = sa_specialty_genes.loc[sa_specialty_genes.Property == 'Virulence Factor'].reset_index()"
   ]
  },
  {
   "cell_type": "markdown",
   "metadata": {},
   "source": [
    "We need to find which genes related to virulence are in the PPI:"
   ]
  },
  {
   "cell_type": "code",
   "execution_count": 631,
   "metadata": {},
   "outputs": [],
   "source": [
    "virulence_genes_ppi_A = virulence_genes[virulence_genes['BRC_ID'].isin(saureus_ppi['Interactor_A_ID'])]\n",
    "virulence_genes_ppi_B = virulence_genes[virulence_genes['BRC_ID'].isin(saureus_ppi['Interactor_B_ID'])]\n",
    "\n",
    "virulence_genes_ppi = pd.concat([virulence_genes_ppi_A, virulence_genes_ppi_B], axis = 0)"
   ]
  },
  {
   "cell_type": "code",
   "execution_count": 659,
   "metadata": {},
   "outputs": [],
   "source": [
    "virulence_genes_ppi.reset_index(drop=True, inplace=True)"
   ]
  },
  {
   "cell_type": "markdown",
   "metadata": {},
   "source": [
    "### Writing PPI in terms of PLFams for conserved genes"
   ]
  },
  {
   "cell_type": "markdown",
   "metadata": {},
   "source": [
    "Now, for conserved genes, lets create a new PPI substituing the feature for its Patric Local Familiy for conserved genes: "
   ]
  },
  {
   "cell_type": "code",
   "execution_count": 633,
   "metadata": {},
   "outputs": [],
   "source": [
    "saureus_ppi_plfams = saureus_ppi\n",
    "\n",
    "for i in range(1,len(saureus_ppi['Interactor_A_ID'])):\n",
    "    if plf.loc[saureus_ppi['Interactor_A_ID'][i]].isin(sa_feature_importance['Protein Family ID']).bool():\n",
    "        saureus_ppi_plfams.at[i, 'Interactor_A_ID'] = plf.loc[saureus_ppi['Interactor_A_ID'][i]].PLFam\n",
    "        \n",
    "for i in range(1,len(saureus_ppi['Interactor_B_ID'])):\n",
    "    if plf.loc[saureus_ppi['Interactor_B_ID'][i]].isin(sa_feature_importance['Protein Family ID']).bool():\n",
    "        saureus_ppi_plfams.at[i, 'Interactor_B_ID'] = plf.loc[saureus_ppi['Interactor_B_ID'][i]].PLFam        \n",
    "        \n",
    "saureus_ppi_plfams.drop_duplicates(subset=None, keep='first', inplace=True)"
   ]
  },
  {
   "cell_type": "markdown",
   "metadata": {},
   "source": [
    "## Statistics"
   ]
  },
  {
   "cell_type": "code",
   "execution_count": 638,
   "metadata": {},
   "outputs": [],
   "source": [
    "ppi_info = pd.DataFrame(columns = ['Conserved Gene', 'Shortest Path to an AMR gene (length)', 'Is it virulence related?'])\n",
    "\n",
    "ppi_info['Conserved Gene'] = sa_conserved_in_ppi.reset_index(drop = True)"
   ]
  },
  {
   "cell_type": "markdown",
   "metadata": {},
   "source": [
    "#### For each conserved gene having a path to an AMR, what is the length of this path? "
   ]
  },
  {
   "cell_type": "code",
   "execution_count": 658,
   "metadata": {},
   "outputs": [
    {
     "data": {
      "text/html": [
       "<div>\n",
       "<style scoped>\n",
       "    .dataframe tbody tr th:only-of-type {\n",
       "        vertical-align: middle;\n",
       "    }\n",
       "\n",
       "    .dataframe tbody tr th {\n",
       "        vertical-align: top;\n",
       "    }\n",
       "\n",
       "    .dataframe thead th {\n",
       "        text-align: right;\n",
       "    }\n",
       "</style>\n",
       "<table border=\"1\" class=\"dataframe\">\n",
       "  <thead>\n",
       "    <tr style=\"text-align: right;\">\n",
       "      <th></th>\n",
       "      <th>BRC_ID</th>\n",
       "    </tr>\n",
       "  </thead>\n",
       "  <tbody>\n",
       "    <tr>\n",
       "      <th>2</th>\n",
       "      <td>fig|93061.5.peg.2089</td>\n",
       "    </tr>\n",
       "    <tr>\n",
       "      <th>3</th>\n",
       "      <td>fig|93061.5.peg.842</td>\n",
       "    </tr>\n",
       "    <tr>\n",
       "      <th>7</th>\n",
       "      <td>fig|93061.5.peg.2384</td>\n",
       "    </tr>\n",
       "    <tr>\n",
       "      <th>8</th>\n",
       "      <td>fig|93061.5.peg.2139</td>\n",
       "    </tr>\n",
       "    <tr>\n",
       "      <th>11</th>\n",
       "      <td>fig|93061.5.peg.1243</td>\n",
       "    </tr>\n",
       "    <tr>\n",
       "      <th>...</th>\n",
       "      <td>...</td>\n",
       "    </tr>\n",
       "    <tr>\n",
       "      <th>247</th>\n",
       "      <td>fig|93061.5.peg.1310</td>\n",
       "    </tr>\n",
       "    <tr>\n",
       "      <th>252</th>\n",
       "      <td>fig|93061.5.peg.471</td>\n",
       "    </tr>\n",
       "    <tr>\n",
       "      <th>254</th>\n",
       "      <td>fig|93061.5.peg.2118</td>\n",
       "    </tr>\n",
       "    <tr>\n",
       "      <th>255</th>\n",
       "      <td>fig|93061.5.peg.287</td>\n",
       "    </tr>\n",
       "    <tr>\n",
       "      <th>257</th>\n",
       "      <td>fig|93061.5.peg.88</td>\n",
       "    </tr>\n",
       "  </tbody>\n",
       "</table>\n",
       "<p>101 rows × 1 columns</p>\n",
       "</div>"
      ],
      "text/plain": [
       "                   BRC_ID\n",
       "2    fig|93061.5.peg.2089\n",
       "3     fig|93061.5.peg.842\n",
       "7    fig|93061.5.peg.2384\n",
       "8    fig|93061.5.peg.2139\n",
       "11   fig|93061.5.peg.1243\n",
       "..                    ...\n",
       "247  fig|93061.5.peg.1310\n",
       "252   fig|93061.5.peg.471\n",
       "254  fig|93061.5.peg.2118\n",
       "255   fig|93061.5.peg.287\n",
       "257    fig|93061.5.peg.88\n",
       "\n",
       "[101 rows x 1 columns]"
      ]
     },
     "execution_count": 658,
     "metadata": {},
     "output_type": "execute_result"
    }
   ],
   "source": [
    "resistance_genes_ppi"
   ]
  },
  {
   "cell_type": "code",
   "execution_count": 665,
   "metadata": {},
   "outputs": [],
   "source": [
    "ppi_graph_plfams = nx.from_pandas_edgelist(saureus_ppi_plfams, 'Interactor_A_ID', 'Interactor_B_ID')\n",
    "\n",
    "ppi_info = pd.DataFrame(columns = ['Conserved Gene', 'Shortest Path to an AMR gene (length)', 'Is it virulence related?'])\n",
    "\n",
    "ppi_info['Conserved Gene'] = sa_conserved_in_ppi.reset_index(drop = True)\n",
    "\n",
    "idx = 0\n",
    "for i in sa_conserved_in_ppi:\n",
    "    lengths = []\n",
    "    for j in resistance_genes_ppi['BRC_ID']:\n",
    "        if nx.has_path(ppi_graph_plfams, i, j):\n",
    "            lengths.append(nx.shortest_path_length(ppi_graph_plfams, i, j))\n",
    "    if lengths:        \n",
    "        ppi_info['Shortest Path to an AMR gene (length)'][idx] = min(lengths)\n",
    "        \n",
    "    idx += 1"
   ]
  },
  {
   "cell_type": "code",
   "execution_count": 712,
   "metadata": {},
   "outputs": [],
   "source": [
    "ppi_info['Model'] = np.float64(sa_feature_importance[sa_feature_importance['Protein Family ID'].isin(sa_conserved_in_ppi)]['Model'].reset_index(drop = True))"
   ]
  },
  {
   "cell_type": "code",
   "execution_count": 709,
   "metadata": {},
   "outputs": [],
   "source": [
    "ppi_info['Feature Score'] = sa_feature_importance[sa_feature_importance['Protein Family ID'].isin(sa_conserved_in_ppi)]['Total Feature Importance'].reset_index(drop = True)np.float64"
   ]
  },
  {
   "cell_type": "code",
   "execution_count": 708,
   "metadata": {},
   "outputs": [
    {
     "name": "stdout",
     "output_type": "stream",
     "text": [
      "    Shortest Path to an AMR gene (length)  Model  Count\n",
      "0                                       1      1     13\n",
      "1                                       1      2     17\n",
      "2                                       1      3     13\n",
      "3                                       1      4     10\n",
      "4                                       1      5      7\n",
      "5                                       1      6      7\n",
      "6                                       1      7     12\n",
      "7                                       1      8     14\n",
      "8                                       1      9      2\n",
      "9                                       1     10      8\n",
      "10                                      2      1     42\n",
      "11                                      2      2     29\n",
      "12                                      2      3     32\n",
      "13                                      2      4     30\n",
      "14                                      2      5     31\n",
      "15                                      2      6     38\n",
      "16                                      2      7     32\n",
      "17                                      2      8     27\n",
      "18                                      2      9     16\n",
      "19                                      2     10     23\n",
      "20                                      3      1      9\n",
      "21                                      3      2     19\n",
      "22                                      3      3     21\n",
      "23                                      3      4     23\n",
      "24                                      3      5     17\n",
      "25                                      3      6     22\n",
      "26                                      3      7     17\n",
      "27                                      3      8     19\n",
      "28                                      3      9     27\n",
      "29                                      3     10     26\n",
      "30                                      4      1      7\n",
      "31                                      4      2      8\n",
      "32                                      4      3      5\n",
      "33                                      4      4      6\n",
      "34                                      4      5      7\n",
      "35                                      4      6      8\n",
      "36                                      4      7      5\n",
      "37                                      4      8      5\n",
      "38                                      4      9      5\n",
      "39                                      4     10     11\n",
      "40                                      5      2      1\n",
      "41                                      5      3      1\n",
      "42                                      5      5      1\n",
      "43                                      5      9      5\n",
      "44                                      5     10      2\n",
      "45                                      6      2      1\n",
      "46                                      6      4      2\n",
      "47                                      6      5      1\n",
      "48                                      6      7      1\n",
      "49                                      6      9      1\n",
      "50                                      6     10      1\n"
     ]
    }
   ],
   "source": [
    "print(ppi_info.groupby(['Shortest Path to an AMR gene (length)', 'Model']).size().reset_index(name='Count'))"
   ]
  },
  {
   "cell_type": "code",
   "execution_count": 713,
   "metadata": {},
   "outputs": [
    {
     "data": {
      "text/html": [
       "<div>\n",
       "<style scoped>\n",
       "    .dataframe tbody tr th:only-of-type {\n",
       "        vertical-align: middle;\n",
       "    }\n",
       "\n",
       "    .dataframe tbody tr th {\n",
       "        vertical-align: top;\n",
       "    }\n",
       "\n",
       "    .dataframe thead th {\n",
       "        text-align: right;\n",
       "    }\n",
       "</style>\n",
       "<table border=\"1\" class=\"dataframe\">\n",
       "  <thead>\n",
       "    <tr style=\"text-align: right;\">\n",
       "      <th></th>\n",
       "      <th>Conserved Gene</th>\n",
       "      <th>Shortest Path to an AMR gene (length)</th>\n",
       "      <th>Is it virulence related?</th>\n",
       "      <th>Model</th>\n",
       "      <th>Feature Score</th>\n",
       "    </tr>\n",
       "  </thead>\n",
       "  <tbody>\n",
       "    <tr>\n",
       "      <th>0</th>\n",
       "      <td>PLF_1279_00001583</td>\n",
       "      <td>2</td>\n",
       "      <td>NaN</td>\n",
       "      <td>1.0</td>\n",
       "      <td>81.039855</td>\n",
       "    </tr>\n",
       "    <tr>\n",
       "      <th>1</th>\n",
       "      <td>PLF_1279_00001118</td>\n",
       "      <td>2</td>\n",
       "      <td>NaN</td>\n",
       "      <td>1.0</td>\n",
       "      <td>67.782436</td>\n",
       "    </tr>\n",
       "    <tr>\n",
       "      <th>2</th>\n",
       "      <td>PLF_1279_00001741</td>\n",
       "      <td>2</td>\n",
       "      <td>NaN</td>\n",
       "      <td>1.0</td>\n",
       "      <td>60.701992</td>\n",
       "    </tr>\n",
       "    <tr>\n",
       "      <th>3</th>\n",
       "      <td>PLF_1279_00001743</td>\n",
       "      <td>3</td>\n",
       "      <td>NaN</td>\n",
       "      <td>1.0</td>\n",
       "      <td>54.623888</td>\n",
       "    </tr>\n",
       "    <tr>\n",
       "      <th>4</th>\n",
       "      <td>PLF_1279_00000675</td>\n",
       "      <td>3</td>\n",
       "      <td>NaN</td>\n",
       "      <td>1.0</td>\n",
       "      <td>51.659804</td>\n",
       "    </tr>\n",
       "    <tr>\n",
       "      <th>...</th>\n",
       "      <td>...</td>\n",
       "      <td>...</td>\n",
       "      <td>...</td>\n",
       "      <td>...</td>\n",
       "      <td>...</td>\n",
       "    </tr>\n",
       "    <tr>\n",
       "      <th>753</th>\n",
       "      <td>PLF_1279_00001003</td>\n",
       "      <td>3</td>\n",
       "      <td>NaN</td>\n",
       "      <td>10.0</td>\n",
       "      <td>0.000000</td>\n",
       "    </tr>\n",
       "    <tr>\n",
       "      <th>754</th>\n",
       "      <td>PLF_1279_00002144</td>\n",
       "      <td>NaN</td>\n",
       "      <td>NaN</td>\n",
       "      <td>10.0</td>\n",
       "      <td>0.000000</td>\n",
       "    </tr>\n",
       "    <tr>\n",
       "      <th>755</th>\n",
       "      <td>PLF_1279_00001063</td>\n",
       "      <td>3</td>\n",
       "      <td>NaN</td>\n",
       "      <td>10.0</td>\n",
       "      <td>0.000000</td>\n",
       "    </tr>\n",
       "    <tr>\n",
       "      <th>756</th>\n",
       "      <td>PLF_1279_00001416</td>\n",
       "      <td>3</td>\n",
       "      <td>NaN</td>\n",
       "      <td>10.0</td>\n",
       "      <td>0.000000</td>\n",
       "    </tr>\n",
       "    <tr>\n",
       "      <th>757</th>\n",
       "      <td>PLF_1279_00089683</td>\n",
       "      <td>NaN</td>\n",
       "      <td>NaN</td>\n",
       "      <td>10.0</td>\n",
       "      <td>0.000000</td>\n",
       "    </tr>\n",
       "  </tbody>\n",
       "</table>\n",
       "<p>758 rows × 5 columns</p>\n",
       "</div>"
      ],
      "text/plain": [
       "        Conserved Gene Shortest Path to an AMR gene (length)  \\\n",
       "0    PLF_1279_00001583                                     2   \n",
       "1    PLF_1279_00001118                                     2   \n",
       "2    PLF_1279_00001741                                     2   \n",
       "3    PLF_1279_00001743                                     3   \n",
       "4    PLF_1279_00000675                                     3   \n",
       "..                 ...                                   ...   \n",
       "753  PLF_1279_00001003                                     3   \n",
       "754  PLF_1279_00002144                                   NaN   \n",
       "755  PLF_1279_00001063                                     3   \n",
       "756  PLF_1279_00001416                                     3   \n",
       "757  PLF_1279_00089683                                   NaN   \n",
       "\n",
       "    Is it virulence related?  Model  Feature Score  \n",
       "0                        NaN    1.0      81.039855  \n",
       "1                        NaN    1.0      67.782436  \n",
       "2                        NaN    1.0      60.701992  \n",
       "3                        NaN    1.0      54.623888  \n",
       "4                        NaN    1.0      51.659804  \n",
       "..                       ...    ...            ...  \n",
       "753                      NaN   10.0       0.000000  \n",
       "754                      NaN   10.0       0.000000  \n",
       "755                      NaN   10.0       0.000000  \n",
       "756                      NaN   10.0       0.000000  \n",
       "757                      NaN   10.0       0.000000  \n",
       "\n",
       "[758 rows x 5 columns]"
      ]
     },
     "execution_count": 713,
     "metadata": {},
     "output_type": "execute_result"
    }
   ],
   "source": [
    "ppi_info"
   ]
  },
  {
   "cell_type": "code",
   "execution_count": 716,
   "metadata": {},
   "outputs": [],
   "source": [
    "ppi_info2 = ppi_info[~ppi_info[['Shortest Path to an AMR gene (length)', 'Feature Score']].isnull().any(axis = 1)]"
   ]
  },
  {
   "cell_type": "markdown",
   "metadata": {},
   "source": [
    "#### What is the correlaton between the feature score and the length of the path?"
   ]
  },
  {
   "cell_type": "code",
   "execution_count": 719,
   "metadata": {},
   "outputs": [
    {
     "data": {
      "text/plain": [
       "0.04841244141598265"
      ]
     },
     "execution_count": 719,
     "metadata": {},
     "output_type": "execute_result"
    }
   ],
   "source": [
    "ppi_info2['Shortest Path to an AMR gene (length)'].astype('int').corr(ppi_info2['Feature Score'].astype('float64'))"
   ]
  },
  {
   "cell_type": "code",
   "execution_count": null,
   "metadata": {},
   "outputs": [],
   "source": []
  }
 ],
 "metadata": {
  "kernelspec": {
   "display_name": "Python 3",
   "language": "python",
   "name": "python3"
  },
  "language_info": {
   "codemirror_mode": {
    "name": "ipython",
    "version": 3
   },
   "file_extension": ".py",
   "mimetype": "text/x-python",
   "name": "python",
   "nbconvert_exporter": "python",
   "pygments_lexer": "ipython3",
   "version": "3.7.6"
  }
 },
 "nbformat": 4,
 "nbformat_minor": 4
}
