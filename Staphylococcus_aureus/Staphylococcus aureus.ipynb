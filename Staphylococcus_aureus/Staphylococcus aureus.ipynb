{
 "cells": [
  {
   "cell_type": "markdown",
   "metadata": {},
   "source": [
    "# Staphylococcus aureus\n",
    "## Data"
   ]
  },
  {
   "cell_type": "code",
   "execution_count": 1,
   "metadata": {},
   "outputs": [],
   "source": [
    "import pandas as pd\n",
    "import numpy as np"
   ]
  },
  {
   "cell_type": "markdown",
   "metadata": {},
   "source": [
    "### Genomic Features"
   ]
  },
  {
   "cell_type": "markdown",
   "metadata": {},
   "source": [
    "The table below contains a list of genomic features, including coding DNA.\n",
    "\n",
    "Each feature is solely identified by BRC ID and associated to a protein family referred as PATRIC genus-specific families (PLfams)."
   ]
  },
  {
   "cell_type": "code",
   "execution_count": 2,
   "metadata": {},
   "outputs": [],
   "source": [
    "saureus_features = pd.read_csv('saureus_genome_features.csv')"
   ]
  },
  {
   "cell_type": "code",
   "execution_count": 3,
   "metadata": {
    "scrolled": true
   },
   "outputs": [
    {
     "name": "stdout",
     "output_type": "stream",
     "text": [
      "<class 'pandas.core.frame.DataFrame'>\n",
      "RangeIndex: 10999 entries, 0 to 10998\n",
      "Data columns (total 21 columns):\n",
      " #   Column                                   Non-Null Count  Dtype  \n",
      "---  ------                                   --------------  -----  \n",
      " 0   Genome                                   10999 non-null  object \n",
      " 1   Genome ID                                10999 non-null  float64\n",
      " 2   Accession                                10999 non-null  object \n",
      " 3   BRC ID                                   10999 non-null  object \n",
      " 4   RefSeq Locus Tag                         10703 non-null  object \n",
      " 5   Alt Locus Tag                            5488 non-null   object \n",
      " 6   Feature ID                               10999 non-null  object \n",
      " 7   Annotation                               10999 non-null  object \n",
      " 8   Feature Type                             10999 non-null  object \n",
      " 9   Start                                    10999 non-null  int64  \n",
      " 10  End                                      10999 non-null  int64  \n",
      " 11  Length                                   10999 non-null  int64  \n",
      " 12  Strand                                   10999 non-null  object \n",
      " 13  FIGfam ID                                10070 non-null  object \n",
      " 14  PATRIC genus-specific families (PLfams)  10999 non-null  object \n",
      " 15  PATRIC cross-genus families (PGfams)     10999 non-null  object \n",
      " 16  Protein ID                               8022 non-null   object \n",
      " 17  AA Length                                10999 non-null  int64  \n",
      " 18  Gene Symbol                              1198 non-null   object \n",
      " 19  Product                                  10999 non-null  object \n",
      " 20  GO                                       2879 non-null   object \n",
      "dtypes: float64(1), int64(4), object(16)\n",
      "memory usage: 1.8+ MB\n"
     ]
    }
   ],
   "source": [
    "saureus_features.info()"
   ]
  },
  {
   "cell_type": "markdown",
   "metadata": {},
   "source": [
    "Through this table, we extract useful data to map protein families referred by Nguyen et. al.:"
   ]
  },
  {
   "cell_type": "code",
   "execution_count": 4,
   "metadata": {},
   "outputs": [
    {
     "data": {
      "text/html": [
       "<div>\n",
       "<style scoped>\n",
       "    .dataframe tbody tr th:only-of-type {\n",
       "        vertical-align: middle;\n",
       "    }\n",
       "\n",
       "    .dataframe tbody tr th {\n",
       "        vertical-align: top;\n",
       "    }\n",
       "\n",
       "    .dataframe thead th {\n",
       "        text-align: right;\n",
       "    }\n",
       "</style>\n",
       "<table border=\"1\" class=\"dataframe\">\n",
       "  <thead>\n",
       "    <tr style=\"text-align: right;\">\n",
       "      <th></th>\n",
       "      <th>PLFam</th>\n",
       "    </tr>\n",
       "    <tr>\n",
       "      <th>BRC_ID</th>\n",
       "      <th></th>\n",
       "    </tr>\n",
       "  </thead>\n",
       "  <tbody>\n",
       "    <tr>\n",
       "      <th>fig|1241616.6.peg.978</th>\n",
       "      <td>PLF_1279_00000947</td>\n",
       "    </tr>\n",
       "    <tr>\n",
       "      <th>fig|1241616.6.peg.979</th>\n",
       "      <td>PLF_1279_00001869</td>\n",
       "    </tr>\n",
       "    <tr>\n",
       "      <th>fig|1241616.6.peg.980</th>\n",
       "      <td>PLF_1279_00000303</td>\n",
       "    </tr>\n",
       "    <tr>\n",
       "      <th>fig|1241616.6.peg.981</th>\n",
       "      <td>PLF_1279_00000735</td>\n",
       "    </tr>\n",
       "    <tr>\n",
       "      <th>fig|1241616.6.peg.982</th>\n",
       "      <td>PLF_1279_00000362</td>\n",
       "    </tr>\n",
       "  </tbody>\n",
       "</table>\n",
       "</div>"
      ],
      "text/plain": [
       "                                   PLFam\n",
       "BRC_ID                                  \n",
       "fig|1241616.6.peg.978  PLF_1279_00000947\n",
       "fig|1241616.6.peg.979  PLF_1279_00001869\n",
       "fig|1241616.6.peg.980  PLF_1279_00000303\n",
       "fig|1241616.6.peg.981  PLF_1279_00000735\n",
       "fig|1241616.6.peg.982  PLF_1279_00000362"
      ]
     },
     "execution_count": 4,
     "metadata": {},
     "output_type": "execute_result"
    }
   ],
   "source": [
    "plf = saureus_features[['BRC ID', 'PATRIC genus-specific families (PLfams)']].astype(\"string\")\n",
    "plf.columns = ['BRC_ID', 'PLFam']\n",
    "plf.set_index('BRC_ID', inplace = True)\n",
    "plf.head()"
   ]
  },
  {
   "cell_type": "markdown",
   "metadata": {},
   "source": [
    "### Protein Interaction Network"
   ]
  },
  {
   "cell_type": "markdown",
   "metadata": {},
   "source": [
    "The table below contais pairs of proteins interacting with each other on Staphylococcus aureus protein network, identified by their BRC ID."
   ]
  },
  {
   "cell_type": "code",
   "execution_count": 5,
   "metadata": {},
   "outputs": [
    {
     "data": {
      "text/html": [
       "<div>\n",
       "<style scoped>\n",
       "    .dataframe tbody tr th:only-of-type {\n",
       "        vertical-align: middle;\n",
       "    }\n",
       "\n",
       "    .dataframe tbody tr th {\n",
       "        vertical-align: top;\n",
       "    }\n",
       "\n",
       "    .dataframe thead th {\n",
       "        text-align: right;\n",
       "    }\n",
       "</style>\n",
       "<table border=\"1\" class=\"dataframe\">\n",
       "  <thead>\n",
       "    <tr style=\"text-align: right;\">\n",
       "      <th></th>\n",
       "      <th>Interactor_A_ID</th>\n",
       "      <th>Interactor_B_ID</th>\n",
       "    </tr>\n",
       "  </thead>\n",
       "  <tbody>\n",
       "    <tr>\n",
       "      <th>0</th>\n",
       "      <td>fig|93061.5.peg.452</td>\n",
       "      <td>fig|93061.5.peg.713</td>\n",
       "    </tr>\n",
       "    <tr>\n",
       "      <th>1</th>\n",
       "      <td>fig|93061.5.peg.1920</td>\n",
       "      <td>fig|93061.5.peg.1921</td>\n",
       "    </tr>\n",
       "    <tr>\n",
       "      <th>2</th>\n",
       "      <td>fig|93061.5.peg.111</td>\n",
       "      <td>fig|93061.5.peg.119</td>\n",
       "    </tr>\n",
       "    <tr>\n",
       "      <th>3</th>\n",
       "      <td>fig|93061.5.peg.112</td>\n",
       "      <td>fig|93061.5.peg.121</td>\n",
       "    </tr>\n",
       "    <tr>\n",
       "      <th>4</th>\n",
       "      <td>fig|93061.5.peg.1069</td>\n",
       "      <td>fig|93061.5.peg.1071</td>\n",
       "    </tr>\n",
       "  </tbody>\n",
       "</table>\n",
       "</div>"
      ],
      "text/plain": [
       "        Interactor_A_ID       Interactor_B_ID\n",
       "0   fig|93061.5.peg.452   fig|93061.5.peg.713\n",
       "1  fig|93061.5.peg.1920  fig|93061.5.peg.1921\n",
       "2   fig|93061.5.peg.111   fig|93061.5.peg.119\n",
       "3   fig|93061.5.peg.112   fig|93061.5.peg.121\n",
       "4  fig|93061.5.peg.1069  fig|93061.5.peg.1071"
      ]
     },
     "execution_count": 5,
     "metadata": {},
     "output_type": "execute_result"
    }
   ],
   "source": [
    "saureus_ppi = pd.read_csv('saureus_ppi_patric.csv')\n",
    "saureus_ppi = saureus_ppi[['Interactor A ID', 'Interactor B ID']].astype(\"string\")\n",
    "saureus_ppi.columns = ['Interactor_A_ID', 'Interactor_B_ID']\n",
    "saureus_ppi.head()"
   ]
  },
  {
   "cell_type": "markdown",
   "metadata": {},
   "source": [
    "### Specialty Genes"
   ]
  },
  {
   "cell_type": "markdown",
   "metadata": {},
   "source": [
    "The table containing specialty genes relates several genomic features to a relevant property:\n",
    " - Essential gene\n",
    " - Antibiotic resistance\n",
    " - Virulence factor\n",
    " - Human homolog\n",
    " - Drug target\n",
    " - Transporter\n",
    " \n",
    "We are particularly interested on properties associated to antibiotic resistance. Besides genes related to antibiotic resistance themselves, it is possible to have causal relation between virulence factor and bacterial resistance."
   ]
  },
  {
   "cell_type": "code",
   "execution_count": 6,
   "metadata": {},
   "outputs": [
    {
     "data": {
      "text/plain": [
       "array(['Antibiotic Resistance', 'Essential Gene', 'Virulence Factor',\n",
       "       'Human Homolog', 'Drug Target', 'Transporter'], dtype=object)"
      ]
     },
     "execution_count": 6,
     "metadata": {},
     "output_type": "execute_result"
    }
   ],
   "source": [
    "sa_specialty_genes = pd.read_csv('saureus_specialty_genes.csv')\n",
    "sa_specialty_genes = sa_specialty_genes[['BRC ID', 'Property']]\n",
    "sa_specialty_genes.columns = ['BRC_ID', 'Property']\n",
    "sa_specialty_genes.set_index('BRC_ID', inplace = True)\n",
    "sa_specialty_genes.Property.unique()"
   ]
  },
  {
   "cell_type": "markdown",
   "metadata": {},
   "source": [
    "### Conserved Genes used for prediction in Nguyen et. al. 2020"
   ]
  },
  {
   "cell_type": "markdown",
   "metadata": {},
   "source": [
    "Next table is listening protein families of 10 experiments (each one with 100 non overlapping protein families) selected from a set of conserved genes and used in the paper of Nguyen et. al.\n",
    "\n",
    "Each protein family has a feature importance value derived from XGBoost, which means a contribution degree from a protein family given to classificate in resistant/susceptible phenotype."
   ]
  },
  {
   "cell_type": "code",
   "execution_count": 7,
   "metadata": {},
   "outputs": [],
   "source": [
    "sa_feature_importance = pd.read_excel('saureus_feature_importance.xlsx')"
   ]
  },
  {
   "cell_type": "code",
   "execution_count": 8,
   "metadata": {},
   "outputs": [
    {
     "data": {
      "text/html": [
       "<div>\n",
       "<style scoped>\n",
       "    .dataframe tbody tr th:only-of-type {\n",
       "        vertical-align: middle;\n",
       "    }\n",
       "\n",
       "    .dataframe tbody tr th {\n",
       "        vertical-align: top;\n",
       "    }\n",
       "\n",
       "    .dataframe thead th {\n",
       "        text-align: right;\n",
       "    }\n",
       "</style>\n",
       "<table border=\"1\" class=\"dataframe\">\n",
       "  <thead>\n",
       "    <tr style=\"text-align: right;\">\n",
       "      <th></th>\n",
       "      <th>Protein Family ID</th>\n",
       "      <th>Model</th>\n",
       "      <th>Total Feature Importance</th>\n",
       "      <th>Annotation</th>\n",
       "    </tr>\n",
       "  </thead>\n",
       "  <tbody>\n",
       "    <tr>\n",
       "      <th>0</th>\n",
       "      <td>PLF_1279_00001080</td>\n",
       "      <td>1</td>\n",
       "      <td>162.412577</td>\n",
       "      <td>hypothetical protein</td>\n",
       "    </tr>\n",
       "    <tr>\n",
       "      <th>1</th>\n",
       "      <td>PLF_1279_00001505</td>\n",
       "      <td>1</td>\n",
       "      <td>81.039855</td>\n",
       "      <td>ABC transporter-like sensor ATP-binding protei...</td>\n",
       "    </tr>\n",
       "    <tr>\n",
       "      <th>2</th>\n",
       "      <td>PLF_1279_00001583</td>\n",
       "      <td>1</td>\n",
       "      <td>67.782436</td>\n",
       "      <td>Polysaccharide intercellular adhesin (PIA) bio...</td>\n",
       "    </tr>\n",
       "    <tr>\n",
       "      <th>3</th>\n",
       "      <td>PLF_1279_00001118</td>\n",
       "      <td>1</td>\n",
       "      <td>60.701992</td>\n",
       "      <td>Nickel ABC transporter, substrate-binding prot...</td>\n",
       "    </tr>\n",
       "    <tr>\n",
       "      <th>4</th>\n",
       "      <td>PLF_1279_00001691</td>\n",
       "      <td>1</td>\n",
       "      <td>54.623888</td>\n",
       "      <td>Activator of the mannose operon (transcription...</td>\n",
       "    </tr>\n",
       "    <tr>\n",
       "      <th>...</th>\n",
       "      <td>...</td>\n",
       "      <td>...</td>\n",
       "      <td>...</td>\n",
       "      <td>...</td>\n",
       "    </tr>\n",
       "    <tr>\n",
       "      <th>995</th>\n",
       "      <td>PLF_1279_00007034</td>\n",
       "      <td>10</td>\n",
       "      <td>0.000000</td>\n",
       "      <td>Cold shock protein of CSP family</td>\n",
       "    </tr>\n",
       "    <tr>\n",
       "      <th>996</th>\n",
       "      <td>PLF_1279_00001353</td>\n",
       "      <td>10</td>\n",
       "      <td>0.000000</td>\n",
       "      <td>UPF0398 protein YpsA</td>\n",
       "    </tr>\n",
       "    <tr>\n",
       "      <th>997</th>\n",
       "      <td>PLF_1279_00000861</td>\n",
       "      <td>10</td>\n",
       "      <td>0.000000</td>\n",
       "      <td>LSU ribosomal protein L15p (L27Ae)</td>\n",
       "    </tr>\n",
       "    <tr>\n",
       "      <th>998</th>\n",
       "      <td>PLF_1279_00000601</td>\n",
       "      <td>10</td>\n",
       "      <td>0.000000</td>\n",
       "      <td>LSU ribosomal protein L30p (L7e)</td>\n",
       "    </tr>\n",
       "    <tr>\n",
       "      <th>999</th>\n",
       "      <td>PLF_1279_00089683</td>\n",
       "      <td>10</td>\n",
       "      <td>0.000000</td>\n",
       "      <td>Copper(I) chaperone CopZ</td>\n",
       "    </tr>\n",
       "  </tbody>\n",
       "</table>\n",
       "<p>1000 rows × 4 columns</p>\n",
       "</div>"
      ],
      "text/plain": [
       "     Protein Family ID  Model  Total Feature Importance  \\\n",
       "0    PLF_1279_00001080      1                162.412577   \n",
       "1    PLF_1279_00001505      1                 81.039855   \n",
       "2    PLF_1279_00001583      1                 67.782436   \n",
       "3    PLF_1279_00001118      1                 60.701992   \n",
       "4    PLF_1279_00001691      1                 54.623888   \n",
       "..                 ...    ...                       ...   \n",
       "995  PLF_1279_00007034     10                  0.000000   \n",
       "996  PLF_1279_00001353     10                  0.000000   \n",
       "997  PLF_1279_00000861     10                  0.000000   \n",
       "998  PLF_1279_00000601     10                  0.000000   \n",
       "999  PLF_1279_00089683     10                  0.000000   \n",
       "\n",
       "                                            Annotation  \n",
       "0                                 hypothetical protein  \n",
       "1    ABC transporter-like sensor ATP-binding protei...  \n",
       "2    Polysaccharide intercellular adhesin (PIA) bio...  \n",
       "3    Nickel ABC transporter, substrate-binding prot...  \n",
       "4    Activator of the mannose operon (transcription...  \n",
       "..                                                 ...  \n",
       "995                   Cold shock protein of CSP family  \n",
       "996                               UPF0398 protein YpsA  \n",
       "997                 LSU ribosomal protein L15p (L27Ae)  \n",
       "998                   LSU ribosomal protein L30p (L7e)  \n",
       "999                           Copper(I) chaperone CopZ  \n",
       "\n",
       "[1000 rows x 4 columns]"
      ]
     },
     "execution_count": 8,
     "metadata": {},
     "output_type": "execute_result"
    }
   ],
   "source": [
    "sa_feature_importance"
   ]
  },
  {
   "cell_type": "markdown",
   "metadata": {},
   "source": [
    "Once the information used in the paper from Nguyen is given in therms of protein families, we need to associate every feature for a corresponding protein family.\n",
    "\n",
    "Lets  check if every genome feature in the PPI has a associated Patric Local Family:"
   ]
  },
  {
   "cell_type": "code",
   "execution_count": 9,
   "metadata": {},
   "outputs": [
    {
     "data": {
      "text/plain": [
       "Series([], Name: Interactor_A_ID, dtype: bool)"
      ]
     },
     "execution_count": 9,
     "metadata": {},
     "output_type": "execute_result"
    }
   ],
   "source": [
    "saureus_ppi['Interactor_A_ID'].isin(plf.index)[saureus_ppi['Interactor_A_ID'].isin(plf.index)==False]"
   ]
  },
  {
   "cell_type": "code",
   "execution_count": 10,
   "metadata": {
    "scrolled": true
   },
   "outputs": [
    {
     "data": {
      "text/plain": [
       "2085    False\n",
       "Name: Interactor_B_ID, dtype: bool"
      ]
     },
     "execution_count": 10,
     "metadata": {},
     "output_type": "execute_result"
    }
   ],
   "source": [
    "saureus_ppi['Interactor_B_ID'].isin(plf.index)[saureus_ppi['Interactor_B_ID'].isin(plf.index)==False]"
   ]
  },
  {
   "cell_type": "markdown",
   "metadata": {},
   "source": [
    "There is no PLFam associated to the feature fig|93061.5.peg.894 (line 2085, interactor B).\n",
    "\n",
    "Before ignore this information, lets also check if there is some relevant characteristic related to this feature:"
   ]
  },
  {
   "cell_type": "code",
   "execution_count": 11,
   "metadata": {},
   "outputs": [
    {
     "data": {
      "text/html": [
       "<div>\n",
       "<style scoped>\n",
       "    .dataframe tbody tr th:only-of-type {\n",
       "        vertical-align: middle;\n",
       "    }\n",
       "\n",
       "    .dataframe tbody tr th {\n",
       "        vertical-align: top;\n",
       "    }\n",
       "\n",
       "    .dataframe thead th {\n",
       "        text-align: right;\n",
       "    }\n",
       "</style>\n",
       "<table border=\"1\" class=\"dataframe\">\n",
       "  <thead>\n",
       "    <tr style=\"text-align: right;\">\n",
       "      <th></th>\n",
       "      <th>Property</th>\n",
       "    </tr>\n",
       "    <tr>\n",
       "      <th>BRC_ID</th>\n",
       "      <th></th>\n",
       "    </tr>\n",
       "  </thead>\n",
       "  <tbody>\n",
       "  </tbody>\n",
       "</table>\n",
       "</div>"
      ],
      "text/plain": [
       "Empty DataFrame\n",
       "Columns: [Property]\n",
       "Index: []"
      ]
     },
     "execution_count": 11,
     "metadata": {},
     "output_type": "execute_result"
    }
   ],
   "source": [
    "sa_specialty_genes.loc[sa_specialty_genes.index == saureus_ppi['Interactor_B_ID'].loc[2085]]"
   ]
  },
  {
   "cell_type": "markdown",
   "metadata": {},
   "source": [
    "There is no property associated to this feature, hence, it can be excluded:"
   ]
  },
  {
   "cell_type": "code",
   "execution_count": 12,
   "metadata": {},
   "outputs": [],
   "source": [
    "saureus_ppi.drop(2085, axis = 0, inplace = True)\n",
    "saureus_ppi.reset_index(drop=True, inplace=True)"
   ]
  },
  {
   "cell_type": "markdown",
   "metadata": {},
   "source": [
    "Now we can map a feature to a Patric Local Family with no problem."
   ]
  },
  {
   "cell_type": "markdown",
   "metadata": {},
   "source": [
    "### Writing PPI in terms of PLFams for conserved genes"
   ]
  },
  {
   "cell_type": "markdown",
   "metadata": {},
   "source": [
    "Creating a new PPI substituing the feature for its Patric Local Familiy for conserved genes: "
   ]
  },
  {
   "cell_type": "code",
   "execution_count": 13,
   "metadata": {},
   "outputs": [],
   "source": [
    "saureus_ppi_plfams = saureus_ppi\n",
    "\n",
    "for i in range(len(saureus_ppi['Interactor_A_ID'])):\n",
    "    if plf.loc[saureus_ppi['Interactor_A_ID'][i]].isin(sa_feature_importance['Protein Family ID']).bool():\n",
    "        saureus_ppi_plfams.at[i, 'Interactor_A_ID'] = plf.loc[saureus_ppi['Interactor_A_ID'][i]].PLFam\n",
    "        \n",
    "for i in range(len(saureus_ppi['Interactor_B_ID'])):\n",
    "    if plf.loc[saureus_ppi['Interactor_B_ID'][i]].isin(sa_feature_importance['Protein Family ID']).bool():\n",
    "        saureus_ppi_plfams.at[i, 'Interactor_B_ID'] = plf.loc[saureus_ppi['Interactor_B_ID'][i]].PLFam        \n",
    "        \n",
    "saureus_ppi_plfams.drop_duplicates(subset=None, keep='first', inplace=True)"
   ]
  },
  {
   "cell_type": "markdown",
   "metadata": {},
   "source": [
    "### Resistance Genes in PPI"
   ]
  },
  {
   "cell_type": "code",
   "execution_count": 14,
   "metadata": {},
   "outputs": [
    {
     "data": {
      "text/html": [
       "<div>\n",
       "<style scoped>\n",
       "    .dataframe tbody tr th:only-of-type {\n",
       "        vertical-align: middle;\n",
       "    }\n",
       "\n",
       "    .dataframe tbody tr th {\n",
       "        vertical-align: top;\n",
       "    }\n",
       "\n",
       "    .dataframe thead th {\n",
       "        text-align: right;\n",
       "    }\n",
       "</style>\n",
       "<table border=\"1\" class=\"dataframe\">\n",
       "  <thead>\n",
       "    <tr style=\"text-align: right;\">\n",
       "      <th></th>\n",
       "      <th>Property</th>\n",
       "    </tr>\n",
       "    <tr>\n",
       "      <th>BRC_ID</th>\n",
       "      <th></th>\n",
       "    </tr>\n",
       "  </thead>\n",
       "  <tbody>\n",
       "    <tr>\n",
       "      <th>fig|1413510.3.peg.2169</th>\n",
       "      <td>Antibiotic Resistance</td>\n",
       "    </tr>\n",
       "    <tr>\n",
       "      <th>fig|93061.5.peg.1154</th>\n",
       "      <td>Antibiotic Resistance</td>\n",
       "    </tr>\n",
       "    <tr>\n",
       "      <th>fig|93061.5.peg.2089</th>\n",
       "      <td>Antibiotic Resistance</td>\n",
       "    </tr>\n",
       "    <tr>\n",
       "      <th>fig|93061.5.peg.842</th>\n",
       "      <td>Antibiotic Resistance</td>\n",
       "    </tr>\n",
       "    <tr>\n",
       "      <th>fig|158879.11.peg.1813</th>\n",
       "      <td>Antibiotic Resistance</td>\n",
       "    </tr>\n",
       "    <tr>\n",
       "      <th>...</th>\n",
       "      <td>...</td>\n",
       "    </tr>\n",
       "    <tr>\n",
       "      <th>fig|158879.11.peg.2331</th>\n",
       "      <td>Antibiotic Resistance</td>\n",
       "    </tr>\n",
       "    <tr>\n",
       "      <th>fig|1241616.6.peg.1396</th>\n",
       "      <td>Antibiotic Resistance</td>\n",
       "    </tr>\n",
       "    <tr>\n",
       "      <th>fig|158879.11.peg.647</th>\n",
       "      <td>Antibiotic Resistance</td>\n",
       "    </tr>\n",
       "    <tr>\n",
       "      <th>fig|158879.11.peg.2107</th>\n",
       "      <td>Antibiotic Resistance</td>\n",
       "    </tr>\n",
       "    <tr>\n",
       "      <th>fig|1241616.6.peg.2283</th>\n",
       "      <td>Antibiotic Resistance</td>\n",
       "    </tr>\n",
       "  </tbody>\n",
       "</table>\n",
       "<p>269 rows × 1 columns</p>\n",
       "</div>"
      ],
      "text/plain": [
       "                                     Property\n",
       "BRC_ID                                       \n",
       "fig|1413510.3.peg.2169  Antibiotic Resistance\n",
       "fig|93061.5.peg.1154    Antibiotic Resistance\n",
       "fig|93061.5.peg.2089    Antibiotic Resistance\n",
       "fig|93061.5.peg.842     Antibiotic Resistance\n",
       "fig|158879.11.peg.1813  Antibiotic Resistance\n",
       "...                                       ...\n",
       "fig|158879.11.peg.2331  Antibiotic Resistance\n",
       "fig|1241616.6.peg.1396  Antibiotic Resistance\n",
       "fig|158879.11.peg.647   Antibiotic Resistance\n",
       "fig|158879.11.peg.2107  Antibiotic Resistance\n",
       "fig|1241616.6.peg.2283  Antibiotic Resistance\n",
       "\n",
       "[269 rows x 1 columns]"
      ]
     },
     "execution_count": 14,
     "metadata": {},
     "output_type": "execute_result"
    }
   ],
   "source": [
    "sa_specialty_genes[sa_specialty_genes.Property == 'Antibiotic Resistance']"
   ]
  },
  {
   "cell_type": "code",
   "execution_count": 15,
   "metadata": {},
   "outputs": [],
   "source": [
    "resistance_genes = sa_specialty_genes.loc[sa_specialty_genes.Property == 'Antibiotic Resistance'].reset_index()"
   ]
  },
  {
   "cell_type": "code",
   "execution_count": 16,
   "metadata": {},
   "outputs": [
    {
     "data": {
      "text/html": [
       "<div>\n",
       "<style scoped>\n",
       "    .dataframe tbody tr th:only-of-type {\n",
       "        vertical-align: middle;\n",
       "    }\n",
       "\n",
       "    .dataframe tbody tr th {\n",
       "        vertical-align: top;\n",
       "    }\n",
       "\n",
       "    .dataframe thead th {\n",
       "        text-align: right;\n",
       "    }\n",
       "</style>\n",
       "<table border=\"1\" class=\"dataframe\">\n",
       "  <thead>\n",
       "    <tr style=\"text-align: right;\">\n",
       "      <th></th>\n",
       "      <th>BRC_ID</th>\n",
       "      <th>Property</th>\n",
       "    </tr>\n",
       "  </thead>\n",
       "  <tbody>\n",
       "    <tr>\n",
       "      <th>0</th>\n",
       "      <td>fig|1413510.3.peg.2169</td>\n",
       "      <td>Antibiotic Resistance</td>\n",
       "    </tr>\n",
       "    <tr>\n",
       "      <th>1</th>\n",
       "      <td>fig|93061.5.peg.1154</td>\n",
       "      <td>Antibiotic Resistance</td>\n",
       "    </tr>\n",
       "    <tr>\n",
       "      <th>2</th>\n",
       "      <td>fig|93061.5.peg.2089</td>\n",
       "      <td>Antibiotic Resistance</td>\n",
       "    </tr>\n",
       "    <tr>\n",
       "      <th>3</th>\n",
       "      <td>fig|93061.5.peg.842</td>\n",
       "      <td>Antibiotic Resistance</td>\n",
       "    </tr>\n",
       "    <tr>\n",
       "      <th>4</th>\n",
       "      <td>fig|158879.11.peg.1813</td>\n",
       "      <td>Antibiotic Resistance</td>\n",
       "    </tr>\n",
       "    <tr>\n",
       "      <th>...</th>\n",
       "      <td>...</td>\n",
       "      <td>...</td>\n",
       "    </tr>\n",
       "    <tr>\n",
       "      <th>264</th>\n",
       "      <td>fig|158879.11.peg.2331</td>\n",
       "      <td>Antibiotic Resistance</td>\n",
       "    </tr>\n",
       "    <tr>\n",
       "      <th>265</th>\n",
       "      <td>fig|1241616.6.peg.1396</td>\n",
       "      <td>Antibiotic Resistance</td>\n",
       "    </tr>\n",
       "    <tr>\n",
       "      <th>266</th>\n",
       "      <td>fig|158879.11.peg.647</td>\n",
       "      <td>Antibiotic Resistance</td>\n",
       "    </tr>\n",
       "    <tr>\n",
       "      <th>267</th>\n",
       "      <td>fig|158879.11.peg.2107</td>\n",
       "      <td>Antibiotic Resistance</td>\n",
       "    </tr>\n",
       "    <tr>\n",
       "      <th>268</th>\n",
       "      <td>fig|1241616.6.peg.2283</td>\n",
       "      <td>Antibiotic Resistance</td>\n",
       "    </tr>\n",
       "  </tbody>\n",
       "</table>\n",
       "<p>269 rows × 2 columns</p>\n",
       "</div>"
      ],
      "text/plain": [
       "                     BRC_ID               Property\n",
       "0    fig|1413510.3.peg.2169  Antibiotic Resistance\n",
       "1      fig|93061.5.peg.1154  Antibiotic Resistance\n",
       "2      fig|93061.5.peg.2089  Antibiotic Resistance\n",
       "3       fig|93061.5.peg.842  Antibiotic Resistance\n",
       "4    fig|158879.11.peg.1813  Antibiotic Resistance\n",
       "..                      ...                    ...\n",
       "264  fig|158879.11.peg.2331  Antibiotic Resistance\n",
       "265  fig|1241616.6.peg.1396  Antibiotic Resistance\n",
       "266   fig|158879.11.peg.647  Antibiotic Resistance\n",
       "267  fig|158879.11.peg.2107  Antibiotic Resistance\n",
       "268  fig|1241616.6.peg.2283  Antibiotic Resistance\n",
       "\n",
       "[269 rows x 2 columns]"
      ]
     },
     "execution_count": 16,
     "metadata": {},
     "output_type": "execute_result"
    }
   ],
   "source": [
    "resistance_genes"
   ]
  },
  {
   "cell_type": "markdown",
   "metadata": {},
   "source": [
    "We need to find which genes related to antibiotic resistance are in the PPI:"
   ]
  },
  {
   "cell_type": "code",
   "execution_count": 17,
   "metadata": {},
   "outputs": [],
   "source": [
    "resistance_genes_ppi_A = resistance_genes[resistance_genes['BRC_ID'].isin(saureus_ppi_plfams['Interactor_A_ID'])]['BRC_ID']\n",
    "resistance_genes_ppi_B = resistance_genes[resistance_genes['BRC_ID'].isin(saureus_ppi_plfams['Interactor_B_ID'])]['BRC_ID']\n",
    "\n",
    "resistance_genes_ppi = pd.DataFrame(pd.concat([resistance_genes_ppi_A, resistance_genes_ppi_B], axis = 0))\n",
    "resistance_genes_ppi.reset_index(drop=True, inplace=True)"
   ]
  },
  {
   "cell_type": "code",
   "execution_count": 18,
   "metadata": {},
   "outputs": [
    {
     "data": {
      "text/html": [
       "<div>\n",
       "<style scoped>\n",
       "    .dataframe tbody tr th:only-of-type {\n",
       "        vertical-align: middle;\n",
       "    }\n",
       "\n",
       "    .dataframe tbody tr th {\n",
       "        vertical-align: top;\n",
       "    }\n",
       "\n",
       "    .dataframe thead th {\n",
       "        text-align: right;\n",
       "    }\n",
       "</style>\n",
       "<table border=\"1\" class=\"dataframe\">\n",
       "  <thead>\n",
       "    <tr style=\"text-align: right;\">\n",
       "      <th></th>\n",
       "      <th>BRC_ID</th>\n",
       "    </tr>\n",
       "  </thead>\n",
       "  <tbody>\n",
       "    <tr>\n",
       "      <th>0</th>\n",
       "      <td>fig|93061.5.peg.2089</td>\n",
       "    </tr>\n",
       "    <tr>\n",
       "      <th>1</th>\n",
       "      <td>fig|93061.5.peg.842</td>\n",
       "    </tr>\n",
       "    <tr>\n",
       "      <th>2</th>\n",
       "      <td>fig|93061.5.peg.2384</td>\n",
       "    </tr>\n",
       "    <tr>\n",
       "      <th>3</th>\n",
       "      <td>fig|93061.5.peg.2139</td>\n",
       "    </tr>\n",
       "    <tr>\n",
       "      <th>4</th>\n",
       "      <td>fig|93061.5.peg.1243</td>\n",
       "    </tr>\n",
       "    <tr>\n",
       "      <th>...</th>\n",
       "      <td>...</td>\n",
       "    </tr>\n",
       "    <tr>\n",
       "      <th>92</th>\n",
       "      <td>fig|93061.5.peg.88</td>\n",
       "    </tr>\n",
       "    <tr>\n",
       "      <th>93</th>\n",
       "      <td>fig|93061.5.peg.1310</td>\n",
       "    </tr>\n",
       "    <tr>\n",
       "      <th>94</th>\n",
       "      <td>fig|93061.5.peg.471</td>\n",
       "    </tr>\n",
       "    <tr>\n",
       "      <th>95</th>\n",
       "      <td>fig|93061.5.peg.2118</td>\n",
       "    </tr>\n",
       "    <tr>\n",
       "      <th>96</th>\n",
       "      <td>fig|93061.5.peg.88</td>\n",
       "    </tr>\n",
       "  </tbody>\n",
       "</table>\n",
       "<p>97 rows × 1 columns</p>\n",
       "</div>"
      ],
      "text/plain": [
       "                  BRC_ID\n",
       "0   fig|93061.5.peg.2089\n",
       "1    fig|93061.5.peg.842\n",
       "2   fig|93061.5.peg.2384\n",
       "3   fig|93061.5.peg.2139\n",
       "4   fig|93061.5.peg.1243\n",
       "..                   ...\n",
       "92    fig|93061.5.peg.88\n",
       "93  fig|93061.5.peg.1310\n",
       "94   fig|93061.5.peg.471\n",
       "95  fig|93061.5.peg.2118\n",
       "96    fig|93061.5.peg.88\n",
       "\n",
       "[97 rows x 1 columns]"
      ]
     },
     "execution_count": 18,
     "metadata": {},
     "output_type": "execute_result"
    }
   ],
   "source": [
    "resistance_genes_ppi"
   ]
  },
  {
   "cell_type": "markdown",
   "metadata": {},
   "source": [
    "### Conserved Genes used for prediction in Nguyen et. al. 2020 in PPI"
   ]
  },
  {
   "cell_type": "markdown",
   "metadata": {},
   "source": [
    "We also need to find which conserved genes of 10 experiments (each one with 100 non overlapping protein families) used to prediction in the paper are in the PPI"
   ]
  },
  {
   "cell_type": "code",
   "execution_count": 19,
   "metadata": {},
   "outputs": [],
   "source": [
    "sa_conserved_ppi_A = sa_feature_importance[sa_feature_importance['Protein Family ID'].isin(saureus_ppi_plfams['Interactor_A_ID'])]['Protein Family ID']\n",
    "sa_conserved_ppi_B = sa_feature_importance[sa_feature_importance['Protein Family ID'].isin(saureus_ppi_plfams['Interactor_B_ID'])]['Protein Family ID']\n",
    "\n",
    "sa_conserved_ppi = pd.DataFrame(pd.concat([sa_conserved_ppi_A, sa_conserved_ppi_B], axis = 0).drop_duplicates())"
   ]
  },
  {
   "cell_type": "code",
   "execution_count": 20,
   "metadata": {},
   "outputs": [
    {
     "data": {
      "text/html": [
       "<div>\n",
       "<style scoped>\n",
       "    .dataframe tbody tr th:only-of-type {\n",
       "        vertical-align: middle;\n",
       "    }\n",
       "\n",
       "    .dataframe tbody tr th {\n",
       "        vertical-align: top;\n",
       "    }\n",
       "\n",
       "    .dataframe thead th {\n",
       "        text-align: right;\n",
       "    }\n",
       "</style>\n",
       "<table border=\"1\" class=\"dataframe\">\n",
       "  <thead>\n",
       "    <tr style=\"text-align: right;\">\n",
       "      <th></th>\n",
       "      <th>Protein Family ID</th>\n",
       "    </tr>\n",
       "  </thead>\n",
       "  <tbody>\n",
       "    <tr>\n",
       "      <th>2</th>\n",
       "      <td>PLF_1279_00001583</td>\n",
       "    </tr>\n",
       "    <tr>\n",
       "      <th>3</th>\n",
       "      <td>PLF_1279_00001118</td>\n",
       "    </tr>\n",
       "    <tr>\n",
       "      <th>5</th>\n",
       "      <td>PLF_1279_00001741</td>\n",
       "    </tr>\n",
       "    <tr>\n",
       "      <th>6</th>\n",
       "      <td>PLF_1279_00001743</td>\n",
       "    </tr>\n",
       "    <tr>\n",
       "      <th>8</th>\n",
       "      <td>PLF_1279_00000675</td>\n",
       "    </tr>\n",
       "    <tr>\n",
       "      <th>...</th>\n",
       "      <td>...</td>\n",
       "    </tr>\n",
       "    <tr>\n",
       "      <th>974</th>\n",
       "      <td>PLF_1279_00001003</td>\n",
       "    </tr>\n",
       "    <tr>\n",
       "      <th>982</th>\n",
       "      <td>PLF_1279_00002144</td>\n",
       "    </tr>\n",
       "    <tr>\n",
       "      <th>988</th>\n",
       "      <td>PLF_1279_00001063</td>\n",
       "    </tr>\n",
       "    <tr>\n",
       "      <th>990</th>\n",
       "      <td>PLF_1279_00001416</td>\n",
       "    </tr>\n",
       "    <tr>\n",
       "      <th>999</th>\n",
       "      <td>PLF_1279_00089683</td>\n",
       "    </tr>\n",
       "  </tbody>\n",
       "</table>\n",
       "<p>758 rows × 1 columns</p>\n",
       "</div>"
      ],
      "text/plain": [
       "     Protein Family ID\n",
       "2    PLF_1279_00001583\n",
       "3    PLF_1279_00001118\n",
       "5    PLF_1279_00001741\n",
       "6    PLF_1279_00001743\n",
       "8    PLF_1279_00000675\n",
       "..                 ...\n",
       "974  PLF_1279_00001003\n",
       "982  PLF_1279_00002144\n",
       "988  PLF_1279_00001063\n",
       "990  PLF_1279_00001416\n",
       "999  PLF_1279_00089683\n",
       "\n",
       "[758 rows x 1 columns]"
      ]
     },
     "execution_count": 20,
     "metadata": {},
     "output_type": "execute_result"
    }
   ],
   "source": [
    "sa_conserved_ppi"
   ]
  },
  {
   "cell_type": "code",
   "execution_count": 21,
   "metadata": {},
   "outputs": [],
   "source": [
    "#### Virulence Factors in PPI\n",
    "\n",
    "#virulence_genes = sa_specialty_genes.loc[sa_specialty_genes.Property == 'Virulence Factor'].reset_index()\n",
    "\n",
    "# We need to find which genes related to virulence are in the PPI:\n",
    "\n",
    "\n",
    "#virulence_genes_ppi_A = virulence_genes[virulence_genes['BRC_ID'].isin(saureus_ppi['Interactor_A_ID'])]\n",
    "#virulence_genes_ppi_B = virulence_genes[virulence_genes['BRC_ID'].isin(saureus_ppi['Interactor_B_ID'])]\n",
    "\n",
    "#virulence_genes_ppi = pd.concat([virulence_genes_ppi_A, virulence_genes_ppi_B], axis = 0)\n",
    "\n",
    "#virulence_genes_ppi.reset_index(drop=True, inplace=True)"
   ]
  },
  {
   "cell_type": "markdown",
   "metadata": {},
   "source": [
    "# NetworkX"
   ]
  },
  {
   "cell_type": "code",
   "execution_count": 22,
   "metadata": {},
   "outputs": [],
   "source": [
    "import networkx as nx\n",
    "import scipy"
   ]
  },
  {
   "cell_type": "markdown",
   "metadata": {},
   "source": [
    "## Statistics"
   ]
  },
  {
   "cell_type": "code",
   "execution_count": 23,
   "metadata": {},
   "outputs": [],
   "source": [
    "ppi_info = pd.DataFrame(columns = ['Conserved Gene', 'Shortest Path to an AMR gene (length)',])\n",
    "\n",
    "ppi_info['Conserved Gene'] = sa_conserved_ppi.reset_index(drop = True)['Protein Family ID']"
   ]
  },
  {
   "cell_type": "markdown",
   "metadata": {},
   "source": [
    "#### For each conserved gene having a path to an AMR, what is the length of this path? "
   ]
  },
  {
   "cell_type": "code",
   "execution_count": 24,
   "metadata": {},
   "outputs": [],
   "source": [
    "ppi_graph_plfams = nx.from_pandas_edgelist(saureus_ppi_plfams, 'Interactor_A_ID', 'Interactor_B_ID')\n",
    "\n",
    "idx = 0\n",
    "for i in sa_conserved_ppi['Protein Family ID']:\n",
    "    lengths = []\n",
    "    for j in resistance_genes_ppi['BRC_ID']:\n",
    "        if nx.has_path(ppi_graph_plfams, i, j):\n",
    "            lengths.append(nx.shortest_path_length(ppi_graph_plfams, i, j))\n",
    "    if lengths:        \n",
    "        ppi_info['Shortest Path to an AMR gene (length)'][idx] = min(lengths)\n",
    "        \n",
    "    idx += 1"
   ]
  },
  {
   "cell_type": "code",
   "execution_count": 25,
   "metadata": {},
   "outputs": [],
   "source": [
    "ppi_info['Feature Score'] = sa_feature_importance[sa_feature_importance['Protein Family ID'].isin(sa_conserved_ppi['Protein Family ID'])]['Total Feature Importance'].reset_index(drop = True)"
   ]
  },
  {
   "cell_type": "code",
   "execution_count": 26,
   "metadata": {},
   "outputs": [
    {
     "name": "stdout",
     "output_type": "stream",
     "text": [
      "   Shortest Path to an AMR gene (length)  Count\n",
      "0                                      1    103\n",
      "1                                      2    300\n",
      "2                                      3    200\n",
      "3                                      4     67\n",
      "4                                      5     10\n",
      "5                                      6      7\n"
     ]
    }
   ],
   "source": [
    "print(ppi_info.groupby(['Shortest Path to an AMR gene (length)']).size().reset_index(name='Count'))"
   ]
  },
  {
   "cell_type": "code",
   "execution_count": 27,
   "metadata": {
    "scrolled": true
   },
   "outputs": [
    {
     "data": {
      "text/html": [
       "<div>\n",
       "<style scoped>\n",
       "    .dataframe tbody tr th:only-of-type {\n",
       "        vertical-align: middle;\n",
       "    }\n",
       "\n",
       "    .dataframe tbody tr th {\n",
       "        vertical-align: top;\n",
       "    }\n",
       "\n",
       "    .dataframe thead th {\n",
       "        text-align: right;\n",
       "    }\n",
       "</style>\n",
       "<table border=\"1\" class=\"dataframe\">\n",
       "  <thead>\n",
       "    <tr style=\"text-align: right;\">\n",
       "      <th></th>\n",
       "      <th>Conserved Gene</th>\n",
       "      <th>Shortest Path to an AMR gene (length)</th>\n",
       "      <th>Feature Score</th>\n",
       "    </tr>\n",
       "  </thead>\n",
       "  <tbody>\n",
       "    <tr>\n",
       "      <th>0</th>\n",
       "      <td>PLF_1279_00001583</td>\n",
       "      <td>2</td>\n",
       "      <td>81.039855</td>\n",
       "    </tr>\n",
       "    <tr>\n",
       "      <th>1</th>\n",
       "      <td>PLF_1279_00001118</td>\n",
       "      <td>2</td>\n",
       "      <td>67.782436</td>\n",
       "    </tr>\n",
       "    <tr>\n",
       "      <th>2</th>\n",
       "      <td>PLF_1279_00001741</td>\n",
       "      <td>2</td>\n",
       "      <td>60.701992</td>\n",
       "    </tr>\n",
       "    <tr>\n",
       "      <th>3</th>\n",
       "      <td>PLF_1279_00001743</td>\n",
       "      <td>3</td>\n",
       "      <td>54.623888</td>\n",
       "    </tr>\n",
       "    <tr>\n",
       "      <th>4</th>\n",
       "      <td>PLF_1279_00000675</td>\n",
       "      <td>3</td>\n",
       "      <td>51.659804</td>\n",
       "    </tr>\n",
       "    <tr>\n",
       "      <th>...</th>\n",
       "      <td>...</td>\n",
       "      <td>...</td>\n",
       "      <td>...</td>\n",
       "    </tr>\n",
       "    <tr>\n",
       "      <th>753</th>\n",
       "      <td>PLF_1279_00001003</td>\n",
       "      <td>3</td>\n",
       "      <td>0.000000</td>\n",
       "    </tr>\n",
       "    <tr>\n",
       "      <th>754</th>\n",
       "      <td>PLF_1279_00002144</td>\n",
       "      <td>NaN</td>\n",
       "      <td>0.000000</td>\n",
       "    </tr>\n",
       "    <tr>\n",
       "      <th>755</th>\n",
       "      <td>PLF_1279_00001063</td>\n",
       "      <td>3</td>\n",
       "      <td>0.000000</td>\n",
       "    </tr>\n",
       "    <tr>\n",
       "      <th>756</th>\n",
       "      <td>PLF_1279_00001416</td>\n",
       "      <td>3</td>\n",
       "      <td>0.000000</td>\n",
       "    </tr>\n",
       "    <tr>\n",
       "      <th>757</th>\n",
       "      <td>PLF_1279_00089683</td>\n",
       "      <td>NaN</td>\n",
       "      <td>0.000000</td>\n",
       "    </tr>\n",
       "  </tbody>\n",
       "</table>\n",
       "<p>758 rows × 3 columns</p>\n",
       "</div>"
      ],
      "text/plain": [
       "        Conserved Gene Shortest Path to an AMR gene (length)  Feature Score\n",
       "0    PLF_1279_00001583                                     2      81.039855\n",
       "1    PLF_1279_00001118                                     2      67.782436\n",
       "2    PLF_1279_00001741                                     2      60.701992\n",
       "3    PLF_1279_00001743                                     3      54.623888\n",
       "4    PLF_1279_00000675                                     3      51.659804\n",
       "..                 ...                                   ...            ...\n",
       "753  PLF_1279_00001003                                     3       0.000000\n",
       "754  PLF_1279_00002144                                   NaN       0.000000\n",
       "755  PLF_1279_00001063                                     3       0.000000\n",
       "756  PLF_1279_00001416                                     3       0.000000\n",
       "757  PLF_1279_00089683                                   NaN       0.000000\n",
       "\n",
       "[758 rows x 3 columns]"
      ]
     },
     "execution_count": 27,
     "metadata": {},
     "output_type": "execute_result"
    }
   ],
   "source": [
    "ppi_info"
   ]
  },
  {
   "cell_type": "markdown",
   "metadata": {},
   "source": [
    "Removing genes with no path to an AMR gene:"
   ]
  },
  {
   "cell_type": "code",
   "execution_count": 28,
   "metadata": {},
   "outputs": [],
   "source": [
    "ppi_info = ppi_info[~ppi_info[['Shortest Path to an AMR gene (length)', 'Feature Score']].isnull().any(axis = 1)]"
   ]
  },
  {
   "cell_type": "markdown",
   "metadata": {},
   "source": [
    "#### What is the correlaton between the feature score and the length of the path?"
   ]
  },
  {
   "cell_type": "code",
   "execution_count": 30,
   "metadata": {},
   "outputs": [
    {
     "data": {
      "text/plain": [
       "0.04841244141598265"
      ]
     },
     "execution_count": 30,
     "metadata": {},
     "output_type": "execute_result"
    }
   ],
   "source": [
    "ppi_info['Shortest Path to an AMR gene (length)'].astype('int').corr(ppi_info['Feature Score'].astype('float64'))"
   ]
  },
  {
   "cell_type": "markdown",
   "metadata": {},
   "source": [
    "# Running the model with different groups of genes\n",
    "\n",
    "Once we did not have a satisfactory result calculating correlation, we will try to look ate the model performance using groups of genes constructed according to the path length to an AMR gene. \n",
    "\n",
    "However, we can not use different replicates because each strain in a different replicate has different protein families associated. So, the separation considering different replicates will gives different samples and we need to have the same features on each strain.\n",
    "\n",
    "## Constructing sets of genes according to the path length\n",
    "\n",
    "From now one, we will consider the set of strains using 500 conserved genes.\n",
    "\n",
    "Taking protein families from this experiment set:"
   ]
  },
  {
   "cell_type": "code",
   "execution_count": 31,
   "metadata": {},
   "outputs": [],
   "source": [
    "import os\n",
    "from os import listdir\n",
    "\n",
    "plf_500 = []\n",
    "\n",
    "datadir = 'E:/User/bruna.fistarol/Documents/GitHub/Nguyen_et_al_2020/Staphylococcus/fasta.500.0'\n",
    "for strain in listdir(datadir):\n",
    "    with open(os.path.join(datadir, strain), 'r') as sequences:\n",
    "        for line in sequences:\n",
    "            if line[0] == '>':\n",
    "                plf_500.append(line[1:len(line)-1])\n",
    "                \n",
    "plf_500 = pd.DataFrame(np.unique(plf_500))\n",
    "plf_500.columns = ['Protein Family ID']"
   ]
  },
  {
   "cell_type": "code",
   "execution_count": 32,
   "metadata": {},
   "outputs": [
    {
     "data": {
      "text/html": [
       "<div>\n",
       "<style scoped>\n",
       "    .dataframe tbody tr th:only-of-type {\n",
       "        vertical-align: middle;\n",
       "    }\n",
       "\n",
       "    .dataframe tbody tr th {\n",
       "        vertical-align: top;\n",
       "    }\n",
       "\n",
       "    .dataframe thead th {\n",
       "        text-align: right;\n",
       "    }\n",
       "</style>\n",
       "<table border=\"1\" class=\"dataframe\">\n",
       "  <thead>\n",
       "    <tr style=\"text-align: right;\">\n",
       "      <th></th>\n",
       "      <th>Protein Family ID</th>\n",
       "    </tr>\n",
       "  </thead>\n",
       "  <tbody>\n",
       "    <tr>\n",
       "      <th>0</th>\n",
       "      <td>PLF_1279_00000015</td>\n",
       "    </tr>\n",
       "    <tr>\n",
       "      <th>1</th>\n",
       "      <td>PLF_1279_00000025</td>\n",
       "    </tr>\n",
       "    <tr>\n",
       "      <th>2</th>\n",
       "      <td>PLF_1279_00000070</td>\n",
       "    </tr>\n",
       "    <tr>\n",
       "      <th>3</th>\n",
       "      <td>PLF_1279_00000084</td>\n",
       "    </tr>\n",
       "    <tr>\n",
       "      <th>4</th>\n",
       "      <td>PLF_1279_00000090</td>\n",
       "    </tr>\n",
       "    <tr>\n",
       "      <th>...</th>\n",
       "      <td>...</td>\n",
       "    </tr>\n",
       "    <tr>\n",
       "      <th>495</th>\n",
       "      <td>PLF_1279_00125198</td>\n",
       "    </tr>\n",
       "    <tr>\n",
       "      <th>496</th>\n",
       "      <td>PLF_1279_00125895</td>\n",
       "    </tr>\n",
       "    <tr>\n",
       "      <th>497</th>\n",
       "      <td>PLF_1279_00126161</td>\n",
       "    </tr>\n",
       "    <tr>\n",
       "      <th>498</th>\n",
       "      <td>PLF_1279_00126203</td>\n",
       "    </tr>\n",
       "    <tr>\n",
       "      <th>499</th>\n",
       "      <td>PLF_1279_00133695</td>\n",
       "    </tr>\n",
       "  </tbody>\n",
       "</table>\n",
       "<p>500 rows × 1 columns</p>\n",
       "</div>"
      ],
      "text/plain": [
       "     Protein Family ID\n",
       "0    PLF_1279_00000015\n",
       "1    PLF_1279_00000025\n",
       "2    PLF_1279_00000070\n",
       "3    PLF_1279_00000084\n",
       "4    PLF_1279_00000090\n",
       "..                 ...\n",
       "495  PLF_1279_00125198\n",
       "496  PLF_1279_00125895\n",
       "497  PLF_1279_00126161\n",
       "498  PLF_1279_00126203\n",
       "499  PLF_1279_00133695\n",
       "\n",
       "[500 rows x 1 columns]"
      ]
     },
     "execution_count": 32,
     "metadata": {},
     "output_type": "execute_result"
    }
   ],
   "source": [
    "plf_500"
   ]
  },
  {
   "cell_type": "markdown",
   "metadata": {},
   "source": [
    "Againg, once the information used in the paper from Nguyen is given in therms of protein families, we need to associate every feature for a corresponding protein family.\n",
    "\n",
    "Constructing the PPI in terms of protein families for conserved genes:"
   ]
  },
  {
   "cell_type": "code",
   "execution_count": 33,
   "metadata": {},
   "outputs": [],
   "source": [
    "saureus_ppi = pd.read_csv('saureus_ppi_patric.csv')\n",
    "saureus_ppi = saureus_ppi[['Interactor A ID', 'Interactor B ID']].astype(\"string\")\n",
    "saureus_ppi.columns = ['Interactor_A_ID', 'Interactor_B_ID']\n",
    "saureus_ppi.drop(2085, axis = 0, inplace = True)\n",
    "saureus_ppi.reset_index(drop=True, inplace=True)\n",
    "\n",
    "saureus_ppi_plfams2 = saureus_ppi\n",
    "\n",
    "for i in range(len(saureus_ppi['Interactor_A_ID'])):\n",
    "    if plf.loc[saureus_ppi['Interactor_A_ID'][i]].isin(plf_500['Protein Family ID']).bool():\n",
    "        saureus_ppi_plfams2.at[i, 'Interactor_A_ID'] = plf.loc[saureus_ppi['Interactor_A_ID'][i]].PLFam\n",
    "        \n",
    "for i in range(len(saureus_ppi['Interactor_B_ID'])):\n",
    "    if plf.loc[saureus_ppi['Interactor_B_ID'][i]].isin(plf_500['Protein Family ID']).bool():\n",
    "        saureus_ppi_plfams2.at[i, 'Interactor_B_ID'] = plf.loc[saureus_ppi['Interactor_B_ID'][i]].PLFam        \n",
    "        \n",
    "saureus_ppi_plfams2.drop_duplicates(subset=None, keep='first', inplace=True)"
   ]
  },
  {
   "cell_type": "markdown",
   "metadata": {},
   "source": [
    "Checking which protein families are in PPI:"
   ]
  },
  {
   "cell_type": "code",
   "execution_count": 34,
   "metadata": {},
   "outputs": [],
   "source": [
    "sa_conserved_ppi_A = plf_500[plf_500['Protein Family ID'].isin(saureus_ppi_plfams2['Interactor_A_ID'])]['Protein Family ID']\n",
    "sa_conserved_ppi_B = plf_500[plf_500['Protein Family ID'].isin(saureus_ppi_plfams2['Interactor_B_ID'])]['Protein Family ID']\n",
    "\n",
    "sa_conserved_ppi2 = pd.DataFrame(pd.concat([sa_conserved_ppi_A, sa_conserved_ppi_B], axis = 0).drop_duplicates())"
   ]
  },
  {
   "cell_type": "code",
   "execution_count": 35,
   "metadata": {},
   "outputs": [
    {
     "data": {
      "text/html": [
       "<div>\n",
       "<style scoped>\n",
       "    .dataframe tbody tr th:only-of-type {\n",
       "        vertical-align: middle;\n",
       "    }\n",
       "\n",
       "    .dataframe tbody tr th {\n",
       "        vertical-align: top;\n",
       "    }\n",
       "\n",
       "    .dataframe thead th {\n",
       "        text-align: right;\n",
       "    }\n",
       "</style>\n",
       "<table border=\"1\" class=\"dataframe\">\n",
       "  <thead>\n",
       "    <tr style=\"text-align: right;\">\n",
       "      <th></th>\n",
       "      <th>Protein Family ID</th>\n",
       "    </tr>\n",
       "  </thead>\n",
       "  <tbody>\n",
       "    <tr>\n",
       "      <th>0</th>\n",
       "      <td>PLF_1279_00000015</td>\n",
       "    </tr>\n",
       "    <tr>\n",
       "      <th>3</th>\n",
       "      <td>PLF_1279_00000084</td>\n",
       "    </tr>\n",
       "    <tr>\n",
       "      <th>5</th>\n",
       "      <td>PLF_1279_00000113</td>\n",
       "    </tr>\n",
       "    <tr>\n",
       "      <th>6</th>\n",
       "      <td>PLF_1279_00000121</td>\n",
       "    </tr>\n",
       "    <tr>\n",
       "      <th>8</th>\n",
       "      <td>PLF_1279_00000138</td>\n",
       "    </tr>\n",
       "    <tr>\n",
       "      <th>...</th>\n",
       "      <td>...</td>\n",
       "    </tr>\n",
       "    <tr>\n",
       "      <th>479</th>\n",
       "      <td>PLF_1279_00022461</td>\n",
       "    </tr>\n",
       "    <tr>\n",
       "      <th>485</th>\n",
       "      <td>PLF_1279_00030959</td>\n",
       "    </tr>\n",
       "    <tr>\n",
       "      <th>490</th>\n",
       "      <td>PLF_1279_00088943</td>\n",
       "    </tr>\n",
       "    <tr>\n",
       "      <th>494</th>\n",
       "      <td>PLF_1279_00122740</td>\n",
       "    </tr>\n",
       "    <tr>\n",
       "      <th>499</th>\n",
       "      <td>PLF_1279_00133695</td>\n",
       "    </tr>\n",
       "  </tbody>\n",
       "</table>\n",
       "<p>379 rows × 1 columns</p>\n",
       "</div>"
      ],
      "text/plain": [
       "     Protein Family ID\n",
       "0    PLF_1279_00000015\n",
       "3    PLF_1279_00000084\n",
       "5    PLF_1279_00000113\n",
       "6    PLF_1279_00000121\n",
       "8    PLF_1279_00000138\n",
       "..                 ...\n",
       "479  PLF_1279_00022461\n",
       "485  PLF_1279_00030959\n",
       "490  PLF_1279_00088943\n",
       "494  PLF_1279_00122740\n",
       "499  PLF_1279_00133695\n",
       "\n",
       "[379 rows x 1 columns]"
      ]
     },
     "execution_count": 35,
     "metadata": {},
     "output_type": "execute_result"
    }
   ],
   "source": [
    "sa_conserved_ppi2"
   ]
  },
  {
   "cell_type": "markdown",
   "metadata": {},
   "source": [
    "Checking which resistant genes are in PPI:"
   ]
  },
  {
   "cell_type": "code",
   "execution_count": 36,
   "metadata": {},
   "outputs": [],
   "source": [
    "resistance_genes_ppi_A = resistance_genes[resistance_genes['BRC_ID'].isin(saureus_ppi_plfams2['Interactor_A_ID'])]['BRC_ID']\n",
    "resistance_genes_ppi_B = resistance_genes[resistance_genes['BRC_ID'].isin(saureus_ppi_plfams2['Interactor_B_ID'])]['BRC_ID']\n",
    "\n",
    "resistance_genes_ppi2 = pd.DataFrame(pd.concat([resistance_genes_ppi_A, resistance_genes_ppi_B], axis = 0))\n",
    "resistance_genes_ppi2.reset_index(drop=True, inplace=True)"
   ]
  },
  {
   "cell_type": "code",
   "execution_count": 37,
   "metadata": {},
   "outputs": [
    {
     "data": {
      "text/html": [
       "<div>\n",
       "<style scoped>\n",
       "    .dataframe tbody tr th:only-of-type {\n",
       "        vertical-align: middle;\n",
       "    }\n",
       "\n",
       "    .dataframe tbody tr th {\n",
       "        vertical-align: top;\n",
       "    }\n",
       "\n",
       "    .dataframe thead th {\n",
       "        text-align: right;\n",
       "    }\n",
       "</style>\n",
       "<table border=\"1\" class=\"dataframe\">\n",
       "  <thead>\n",
       "    <tr style=\"text-align: right;\">\n",
       "      <th></th>\n",
       "      <th>BRC_ID</th>\n",
       "    </tr>\n",
       "  </thead>\n",
       "  <tbody>\n",
       "    <tr>\n",
       "      <th>0</th>\n",
       "      <td>fig|93061.5.peg.2089</td>\n",
       "    </tr>\n",
       "    <tr>\n",
       "      <th>1</th>\n",
       "      <td>fig|93061.5.peg.842</td>\n",
       "    </tr>\n",
       "    <tr>\n",
       "      <th>2</th>\n",
       "      <td>fig|93061.5.peg.2384</td>\n",
       "    </tr>\n",
       "    <tr>\n",
       "      <th>3</th>\n",
       "      <td>fig|93061.5.peg.2139</td>\n",
       "    </tr>\n",
       "    <tr>\n",
       "      <th>4</th>\n",
       "      <td>fig|93061.5.peg.1243</td>\n",
       "    </tr>\n",
       "    <tr>\n",
       "      <th>...</th>\n",
       "      <td>...</td>\n",
       "    </tr>\n",
       "    <tr>\n",
       "      <th>96</th>\n",
       "      <td>fig|93061.5.peg.1310</td>\n",
       "    </tr>\n",
       "    <tr>\n",
       "      <th>97</th>\n",
       "      <td>fig|93061.5.peg.471</td>\n",
       "    </tr>\n",
       "    <tr>\n",
       "      <th>98</th>\n",
       "      <td>fig|93061.5.peg.2118</td>\n",
       "    </tr>\n",
       "    <tr>\n",
       "      <th>99</th>\n",
       "      <td>fig|93061.5.peg.287</td>\n",
       "    </tr>\n",
       "    <tr>\n",
       "      <th>100</th>\n",
       "      <td>fig|93061.5.peg.88</td>\n",
       "    </tr>\n",
       "  </tbody>\n",
       "</table>\n",
       "<p>101 rows × 1 columns</p>\n",
       "</div>"
      ],
      "text/plain": [
       "                   BRC_ID\n",
       "0    fig|93061.5.peg.2089\n",
       "1     fig|93061.5.peg.842\n",
       "2    fig|93061.5.peg.2384\n",
       "3    fig|93061.5.peg.2139\n",
       "4    fig|93061.5.peg.1243\n",
       "..                    ...\n",
       "96   fig|93061.5.peg.1310\n",
       "97    fig|93061.5.peg.471\n",
       "98   fig|93061.5.peg.2118\n",
       "99    fig|93061.5.peg.287\n",
       "100    fig|93061.5.peg.88\n",
       "\n",
       "[101 rows x 1 columns]"
      ]
     },
     "execution_count": 37,
     "metadata": {},
     "output_type": "execute_result"
    }
   ],
   "source": [
    "resistance_genes_ppi2"
   ]
  },
  {
   "cell_type": "markdown",
   "metadata": {},
   "source": [
    "Calculating the distance to an AMR gene:"
   ]
  },
  {
   "cell_type": "code",
   "execution_count": 38,
   "metadata": {},
   "outputs": [],
   "source": [
    "ppi_info2 = pd.DataFrame(columns = ['Conserved Gene', 'Shortest Path to an AMR gene (length)',])\n",
    "\n",
    "ppi_info2['Conserved Gene'] = sa_conserved_ppi2.reset_index(drop = True)['Protein Family ID']"
   ]
  },
  {
   "cell_type": "code",
   "execution_count": 39,
   "metadata": {},
   "outputs": [],
   "source": [
    "ppi_graph_plfams2 = nx.from_pandas_edgelist(saureus_ppi_plfams2, 'Interactor_A_ID', 'Interactor_B_ID')\n",
    "\n",
    "idx = 0\n",
    "for i in sa_conserved_ppi2['Protein Family ID']:\n",
    "    lengths = []\n",
    "    for j in resistance_genes_ppi2['BRC_ID']:\n",
    "        if nx.has_path(ppi_graph_plfams2, i, j):\n",
    "            lengths.append(nx.shortest_path_length(ppi_graph_plfams2, i, j))\n",
    "    if lengths:        \n",
    "        ppi_info2['Shortest Path to an AMR gene (length)'][idx] = min(lengths)\n",
    "        \n",
    "    idx += 1"
   ]
  },
  {
   "cell_type": "code",
   "execution_count": 40,
   "metadata": {
    "scrolled": true
   },
   "outputs": [
    {
     "name": "stdout",
     "output_type": "stream",
     "text": [
      "   Shortest Path to an AMR gene (length)  Count\n",
      "0                                      1     55\n",
      "1                                      2    152\n",
      "2                                      3     87\n",
      "3                                      4     39\n",
      "4                                      5      6\n",
      "5                                      6      1\n",
      "6                                      7      1\n"
     ]
    }
   ],
   "source": [
    "print(ppi_info2.groupby(['Shortest Path to an AMR gene (length)']).size().reset_index(name='Count'))"
   ]
  },
  {
   "cell_type": "markdown",
   "metadata": {},
   "source": [
    "To evaluate the model from Nguyen et. al. with genes according to the path until an AMR gene, we need to separate these families. Lets construct them:"
   ]
  },
  {
   "cell_type": "code",
   "execution_count": 41,
   "metadata": {},
   "outputs": [],
   "source": [
    "for i in ppi_info2['Shortest Path to an AMR gene (length)'].unique():\n",
    "    globals()[f'plf_length_{i}'] = ppi_info[ppi_info['Shortest Path to an AMR gene (length)'] == i]['Conserved Gene']"
   ]
  },
  {
   "cell_type": "markdown",
   "metadata": {},
   "source": [
    "The data used is available through the PATRIC FTP (ftp://ftp.patricbrc.org/datasets/) downloading the Nguyen_et_al_2020.tar.gz archive.\n",
    "\n"
   ]
  },
  {
   "cell_type": "code",
   "execution_count": null,
   "metadata": {},
   "outputs": [],
   "source": [
    "mydir = 'E:/User/bruna.fistarol/Documents/GitHub/Fistarol_2022/Staphylococcus'\n",
    "datadir = 'E:/User/bruna.fistarol/Documents/GitHub/Nguyen_et_al_2020/Staphylococcus'\n",
    "\n",
    "import os\n",
    "for i in ppi_info2['Shortest Path to an AMR gene (length)'].unique():\n",
    "    newdir = f'length.{i}'\n",
    "    path = os.path.join(mydir, newdir)\n",
    "    os.mkdir(path)\n",
    "    \n",
    "    sample = f'E:/User/bruna.fistarol/Documents/GitHub/Nguyen_et_al_2020/Staphylococcus/fasta.500.0'\n",
    "    for strain in listdir(sample):\n",
    "        with open(os.path.join(path, strain), 'a') as mystrain:\n",
    "            with open(os.path.join(sample, strain), 'r') as sequences:\n",
    "                first_loop = True\n",
    "                for line in sequences:\n",
    "                    if line[0] == '>':\n",
    "                        if first_loop:\n",
    "                            plf = line[1:len(line)-1]\n",
    "                            seq = ''\n",
    "                            first_loop = False\n",
    "                            continue\n",
    "                        if plf in list((globals()[f'plf_length_{i}'])):\n",
    "                            mystrain.write('>' + plf + '\\n')\n",
    "                            mystrain.write(seq)\n",
    "                        plf = line[1:len(line)-1]\n",
    "                        seq = ''\n",
    "                    else:\n",
    "                        seq += line\n",
    "                if plf in list((globals()[f'plf_length_{i}'])):\n",
    "                            mystrain.write('>' + plf + '\\n')\n",
    "                            mystrain.write(seq)"
   ]
  },
  {
   "cell_type": "code",
   "execution_count": 42,
   "metadata": {},
   "outputs": [],
   "source": [
    "for i in ppi_info2['Shortest Path to an AMR gene (length)'].unique():\n",
    "    globals()[f'len_{i}'] = []\n",
    "    for strain in listdir(f'E:/User/bruna.fistarol/Documents/GitHub/Fistarol_2022/Staphylococcus/length.{i}'):\n",
    "        with open(os.path.join(f'E:/User/bruna.fistarol/Documents/GitHub/Fistarol_2022/Staphylococcus/length.{i}', strain), 'r') as sequence:\n",
    "            genes = 0\n",
    "            for line in sequence:\n",
    "                if line[0] == '>':\n",
    "                    genes += 1\n",
    "            globals()[f'len_{i}'].append(genes)"
   ]
  },
  {
   "cell_type": "markdown",
   "metadata": {},
   "source": [
    "For each strain considering different path lengths to an AMR gene, we have the following number of genes:"
   ]
  },
  {
   "cell_type": "code",
   "execution_count": 43,
   "metadata": {},
   "outputs": [
    {
     "name": "stdout",
     "output_type": "stream",
     "text": [
      "1 36.018927444794954\n",
      "3 69.05520504731861\n",
      "nan 0.0\n",
      "2 105.08832807570978\n",
      "4 28.074132492113566\n",
      "5 2.001577287066246\n",
      "7 0.0\n",
      "6 1.0\n"
     ]
    }
   ],
   "source": [
    "for i in ppi_info2['Shortest Path to an AMR gene (length)'].unique():\n",
    "    print(i, np.mean(globals()[f'len_{i}']))"
   ]
  },
  {
   "cell_type": "markdown",
   "metadata": {},
   "source": [
    "At this point, it is possible to use this new configuration of data to run the model. However, it makes more sense taking all the strains with the same number of genes, because using more genes means to be closer to the whole genome sequence.\n",
    "\n",
    "We can take 25 genes to each strain for lengths equals to 1, 2, 3 and 4, because the results from the paper also are derived from groups of 25 genes, hence, we can compare these results."
   ]
  },
  {
   "cell_type": "code",
   "execution_count": 106,
   "metadata": {},
   "outputs": [],
   "source": [
    "import random\n",
    "mydir = 'E:/User/bruna.fistarol/Documents/GitHub/Fistarol_2022/Staphylococcus'\n",
    "os.mkdir(os.path.join(mydir, '25genes'))\n",
    "dir_25genes = 'E:/User/bruna.fistarol/Documents/GitHub/Fistarol_2022/Staphylococcus/25genes'\n",
    "\n",
    "for j in [0, 1, 2, 3, 4]:\n",
    "    \n",
    "    rand_idx = [sorted(random.sample(range(1,36), 25)), \n",
    "                sorted(random.sample(range(1,105), 25)), \n",
    "                sorted(random.sample(range(1,69), 25)), \n",
    "                sorted(random.sample(range(1,28), 25))]\n",
    "    \n",
    "    for i in [1, 2, 3, 4]:   \n",
    "\n",
    "        path = f'E:/User/bruna.fistarol/Documents/GitHub/Fistarol_2022/Staphylococcus/length.{i}'\n",
    "        mydir = os.path.join(dir_25genes, f'length.{i}.{j}')\n",
    "        os.mkdir(mydir)\n",
    "\n",
    "        for strain in listdir(path):\n",
    "            with open(os.path.join(mydir, strain), 'a') as mystrain:\n",
    "                with open(os.path.join(path, strain), 'r') as sequences:\n",
    "                    c = 0\n",
    "                    first_loop = True\n",
    "                    for line in sequences:\n",
    "                        if line[0] == '>':\n",
    "                            if first_loop:\n",
    "                                plf = line\n",
    "                                seq = ''\n",
    "                                c += 1\n",
    "                                first_loop = False\n",
    "                                continue\n",
    "                            if c in rand_idx[i-1]:\n",
    "                                mystrain.write(plf)\n",
    "                                mystrain.write(seq)\n",
    "                            plf = line\n",
    "                            seq = ''\n",
    "                            c += 1\n",
    "                        else:\n",
    "                            seq += line\n",
    "                    if c in rand_idx[i-1]:\n",
    "                            mystrain.write(plf)\n",
    "                            mystrain.write(seq)"
   ]
  },
  {
   "cell_type": "code",
   "execution_count": 115,
   "metadata": {
    "scrolled": true
   },
   "outputs": [
    {
     "data": {
      "text/plain": [
       "[]"
      ]
     },
     "execution_count": 115,
     "metadata": {},
     "output_type": "execute_result"
    }
   ],
   "source": [
    "#sanity check: is there any gene anottated as AMR today inside this group?\n",
    "list(set(resistance_genes['BRC_ID']) & set(plf_500['Protein Family ID']))"
   ]
  },
  {
   "cell_type": "markdown",
   "metadata": {},
   "source": [
    "## Results"
   ]
  },
  {
   "cell_type": "code",
   "execution_count": 155,
   "metadata": {},
   "outputs": [],
   "source": [
    "result_example = 'E:/User/bruna.fistarol/Documents/GitHub/Mestrado-EMAp/Staphylococcus_aureus/Results/model_gset_1_0/all/f1.tab'\n",
    "\n",
    "with open(result_example, 'r') as result:\n",
    "    antibiotics = []\n",
    "    for line in result:\n",
    "        antibiotics.append(line.split('\\t')[0])\n",
    "\n",
    "experiments = pd.MultiIndex.from_product([['Length_1', 'Length_2', 'Length_3', 'Length_4'], [0, 1, 2, 3, 4]])\n",
    "\n",
    "results = pd.DataFrame(index = antibiotics, columns = experiments)"
   ]
  },
  {
   "cell_type": "code",
   "execution_count": 178,
   "metadata": {},
   "outputs": [],
   "source": [
    "for i in [1, 2, 3, 4]: #path length\n",
    "    for j in [0, 1, 2, 3, 4]: #replicate\n",
    "        result_file = f'E:/User/bruna.fistarol/Documents/GitHub/Mestrado-EMAp/Staphylococcus_aureus/Results/model_gset_{i}_{j}/all/f1.tab'\n",
    "        with open(result_file, 'r') as result:\n",
    "            for line in result:\n",
    "                values = line.split('\\t')\n",
    "                results.loc[values[0]][f'Length_{i}'][j] = np.around(float(values[1]), decimals = 3)\n"
   ]
  },
  {
   "cell_type": "code",
   "execution_count": 197,
   "metadata": {},
   "outputs": [
    {
     "data": {
      "text/html": [
       "<div>\n",
       "<style scoped>\n",
       "    .dataframe tbody tr th:only-of-type {\n",
       "        vertical-align: middle;\n",
       "    }\n",
       "\n",
       "    .dataframe tbody tr th {\n",
       "        vertical-align: top;\n",
       "    }\n",
       "\n",
       "    .dataframe thead tr th {\n",
       "        text-align: left;\n",
       "    }\n",
       "</style>\n",
       "<table border=\"1\" class=\"dataframe\">\n",
       "  <thead>\n",
       "    <tr>\n",
       "      <th></th>\n",
       "      <th colspan=\"5\" halign=\"left\">Length_1</th>\n",
       "      <th colspan=\"5\" halign=\"left\">Length_2</th>\n",
       "      <th colspan=\"5\" halign=\"left\">Length_3</th>\n",
       "      <th colspan=\"5\" halign=\"left\">Length_4</th>\n",
       "    </tr>\n",
       "    <tr>\n",
       "      <th></th>\n",
       "      <th>0</th>\n",
       "      <th>1</th>\n",
       "      <th>2</th>\n",
       "      <th>3</th>\n",
       "      <th>4</th>\n",
       "      <th>0</th>\n",
       "      <th>1</th>\n",
       "      <th>2</th>\n",
       "      <th>3</th>\n",
       "      <th>4</th>\n",
       "      <th>0</th>\n",
       "      <th>1</th>\n",
       "      <th>2</th>\n",
       "      <th>3</th>\n",
       "      <th>4</th>\n",
       "      <th>0</th>\n",
       "      <th>1</th>\n",
       "      <th>2</th>\n",
       "      <th>3</th>\n",
       "      <th>4</th>\n",
       "    </tr>\n",
       "  </thead>\n",
       "  <tbody>\n",
       "    <tr>\n",
       "      <th>ALL</th>\n",
       "      <td>0.88</td>\n",
       "      <td>0.86</td>\n",
       "      <td>0.869</td>\n",
       "      <td>0.868</td>\n",
       "      <td>0.859</td>\n",
       "      <td>0.799</td>\n",
       "      <td>0.874</td>\n",
       "      <td>0.876</td>\n",
       "      <td>0.859</td>\n",
       "      <td>0.854</td>\n",
       "      <td>0.873</td>\n",
       "      <td>0.867</td>\n",
       "      <td>0.864</td>\n",
       "      <td>0.866</td>\n",
       "      <td>0.881</td>\n",
       "      <td>0.813</td>\n",
       "      <td>0.817</td>\n",
       "      <td>0.811</td>\n",
       "      <td>0.819</td>\n",
       "      <td>0.824</td>\n",
       "    </tr>\n",
       "    <tr>\n",
       "      <th>ciprofloxacin</th>\n",
       "      <td>0.97</td>\n",
       "      <td>0.955</td>\n",
       "      <td>0.968</td>\n",
       "      <td>0.973</td>\n",
       "      <td>0.973</td>\n",
       "      <td>0.846</td>\n",
       "      <td>0.969</td>\n",
       "      <td>0.97</td>\n",
       "      <td>0.973</td>\n",
       "      <td>0.973</td>\n",
       "      <td>0.969</td>\n",
       "      <td>0.96</td>\n",
       "      <td>0.954</td>\n",
       "      <td>0.973</td>\n",
       "      <td>0.965</td>\n",
       "      <td>0.862</td>\n",
       "      <td>0.878</td>\n",
       "      <td>0.881</td>\n",
       "      <td>0.876</td>\n",
       "      <td>0.875</td>\n",
       "    </tr>\n",
       "    <tr>\n",
       "      <th>clindamycin</th>\n",
       "      <td>0.882</td>\n",
       "      <td>0.902</td>\n",
       "      <td>0.884</td>\n",
       "      <td>0.933</td>\n",
       "      <td>0.883</td>\n",
       "      <td>0.804</td>\n",
       "      <td>0.858</td>\n",
       "      <td>0.914</td>\n",
       "      <td>0.895</td>\n",
       "      <td>0.911</td>\n",
       "      <td>0.902</td>\n",
       "      <td>0.893</td>\n",
       "      <td>0.885</td>\n",
       "      <td>0.878</td>\n",
       "      <td>0.844</td>\n",
       "      <td>0.786</td>\n",
       "      <td>0.84</td>\n",
       "      <td>0.795</td>\n",
       "      <td>0.76</td>\n",
       "      <td>0.763</td>\n",
       "    </tr>\n",
       "    <tr>\n",
       "      <th>erythromycin</th>\n",
       "      <td>0.832</td>\n",
       "      <td>0.814</td>\n",
       "      <td>0.822</td>\n",
       "      <td>0.828</td>\n",
       "      <td>0.832</td>\n",
       "      <td>0.729</td>\n",
       "      <td>0.838</td>\n",
       "      <td>0.803</td>\n",
       "      <td>0.815</td>\n",
       "      <td>0.82</td>\n",
       "      <td>0.835</td>\n",
       "      <td>0.844</td>\n",
       "      <td>0.833</td>\n",
       "      <td>0.823</td>\n",
       "      <td>0.848</td>\n",
       "      <td>0.753</td>\n",
       "      <td>0.743</td>\n",
       "      <td>0.768</td>\n",
       "      <td>0.764</td>\n",
       "      <td>0.741</td>\n",
       "    </tr>\n",
       "    <tr>\n",
       "      <th>fusidic_acid</th>\n",
       "      <td>0.644</td>\n",
       "      <td>0.654</td>\n",
       "      <td>0.643</td>\n",
       "      <td>0.768</td>\n",
       "      <td>0.635</td>\n",
       "      <td>0.573</td>\n",
       "      <td>0.636</td>\n",
       "      <td>0.814</td>\n",
       "      <td>0.64</td>\n",
       "      <td>0.605</td>\n",
       "      <td>0.726</td>\n",
       "      <td>0.668</td>\n",
       "      <td>0.646</td>\n",
       "      <td>0.654</td>\n",
       "      <td>0.707</td>\n",
       "      <td>0.596</td>\n",
       "      <td>0.596</td>\n",
       "      <td>0.632</td>\n",
       "      <td>0.606</td>\n",
       "      <td>0.636</td>\n",
       "    </tr>\n",
       "    <tr>\n",
       "      <th>methicillin</th>\n",
       "      <td>0.972</td>\n",
       "      <td>0.953</td>\n",
       "      <td>0.98</td>\n",
       "      <td>0.941</td>\n",
       "      <td>0.984</td>\n",
       "      <td>0.824</td>\n",
       "      <td>0.952</td>\n",
       "      <td>0.933</td>\n",
       "      <td>0.984</td>\n",
       "      <td>0.945</td>\n",
       "      <td>0.953</td>\n",
       "      <td>0.946</td>\n",
       "      <td>0.945</td>\n",
       "      <td>0.976</td>\n",
       "      <td>0.953</td>\n",
       "      <td>0.91</td>\n",
       "      <td>0.828</td>\n",
       "      <td>0.82</td>\n",
       "      <td>0.903</td>\n",
       "      <td>0.893</td>\n",
       "    </tr>\n",
       "    <tr>\n",
       "      <th>penicillin</th>\n",
       "      <td>0.66</td>\n",
       "      <td>0.612</td>\n",
       "      <td>0.685</td>\n",
       "      <td>0.641</td>\n",
       "      <td>0.628</td>\n",
       "      <td>0.652</td>\n",
       "      <td>0.685</td>\n",
       "      <td>0.666</td>\n",
       "      <td>0.7</td>\n",
       "      <td>0.664</td>\n",
       "      <td>0.663</td>\n",
       "      <td>0.673</td>\n",
       "      <td>0.67</td>\n",
       "      <td>0.615</td>\n",
       "      <td>0.678</td>\n",
       "      <td>0.616</td>\n",
       "      <td>0.728</td>\n",
       "      <td>0.648</td>\n",
       "      <td>0.648</td>\n",
       "      <td>0.665</td>\n",
       "    </tr>\n",
       "    <tr>\n",
       "      <th>rifampin</th>\n",
       "      <td>0.85</td>\n",
       "      <td>0.81</td>\n",
       "      <td>0.683</td>\n",
       "      <td>0.643</td>\n",
       "      <td>0.673</td>\n",
       "      <td>0.83</td>\n",
       "      <td>0.829</td>\n",
       "      <td>0.711</td>\n",
       "      <td>0.658</td>\n",
       "      <td>0.722</td>\n",
       "      <td>0.684</td>\n",
       "      <td>0.723</td>\n",
       "      <td>0.792</td>\n",
       "      <td>0.824</td>\n",
       "      <td>0.747</td>\n",
       "      <td>0.8</td>\n",
       "      <td>0.74</td>\n",
       "      <td>0.759</td>\n",
       "      <td>0.777</td>\n",
       "      <td>0.788</td>\n",
       "    </tr>\n",
       "  </tbody>\n",
       "</table>\n",
       "</div>"
      ],
      "text/plain": [
       "              Length_1                             Length_2                \\\n",
       "                     0      1      2      3      4        0      1      2   \n",
       "ALL               0.88   0.86  0.869  0.868  0.859    0.799  0.874  0.876   \n",
       "ciprofloxacin     0.97  0.955  0.968  0.973  0.973    0.846  0.969   0.97   \n",
       "clindamycin      0.882  0.902  0.884  0.933  0.883    0.804  0.858  0.914   \n",
       "erythromycin     0.832  0.814  0.822  0.828  0.832    0.729  0.838  0.803   \n",
       "fusidic_acid     0.644  0.654  0.643  0.768  0.635    0.573  0.636  0.814   \n",
       "methicillin      0.972  0.953   0.98  0.941  0.984    0.824  0.952  0.933   \n",
       "penicillin        0.66  0.612  0.685  0.641  0.628    0.652  0.685  0.666   \n",
       "rifampin          0.85   0.81  0.683  0.643  0.673     0.83  0.829  0.711   \n",
       "\n",
       "                            Length_3                             Length_4  \\\n",
       "                   3      4        0      1      2      3      4        0   \n",
       "ALL            0.859  0.854    0.873  0.867  0.864  0.866  0.881    0.813   \n",
       "ciprofloxacin  0.973  0.973    0.969   0.96  0.954  0.973  0.965    0.862   \n",
       "clindamycin    0.895  0.911    0.902  0.893  0.885  0.878  0.844    0.786   \n",
       "erythromycin   0.815   0.82    0.835  0.844  0.833  0.823  0.848    0.753   \n",
       "fusidic_acid    0.64  0.605    0.726  0.668  0.646  0.654  0.707    0.596   \n",
       "methicillin    0.984  0.945    0.953  0.946  0.945  0.976  0.953     0.91   \n",
       "penicillin       0.7  0.664    0.663  0.673   0.67  0.615  0.678    0.616   \n",
       "rifampin       0.658  0.722    0.684  0.723  0.792  0.824  0.747      0.8   \n",
       "\n",
       "                                           \n",
       "                   1      2      3      4  \n",
       "ALL            0.817  0.811  0.819  0.824  \n",
       "ciprofloxacin  0.878  0.881  0.876  0.875  \n",
       "clindamycin     0.84  0.795   0.76  0.763  \n",
       "erythromycin   0.743  0.768  0.764  0.741  \n",
       "fusidic_acid   0.596  0.632  0.606  0.636  \n",
       "methicillin    0.828   0.82  0.903  0.893  \n",
       "penicillin     0.728  0.648  0.648  0.665  \n",
       "rifampin        0.74  0.759  0.777  0.788  "
      ]
     },
     "execution_count": 197,
     "metadata": {},
     "output_type": "execute_result"
    }
   ],
   "source": [
    "results"
   ]
  },
  {
   "cell_type": "code",
   "execution_count": 203,
   "metadata": {},
   "outputs": [],
   "source": [
    "mean_results = pd.DataFrame(index = antibiotics, columns = ['Length_1', 'Length_2', 'Length_3', 'Length_4'])\n",
    "\n",
    "for i in [1, 2, 3, 4]: #path length\n",
    "    mean_results[f'Length_{i}'] = results.loc[antibiotics][f'Length_{i}'].mean(axis = 1)"
   ]
  },
  {
   "cell_type": "code",
   "execution_count": 216,
   "metadata": {},
   "outputs": [
    {
     "data": {
      "text/plain": [
       "<matplotlib.legend.Legend at 0x2b4c53dcc48>"
      ]
     },
     "execution_count": 216,
     "metadata": {},
     "output_type": "execute_result"
    },
    {
     "data": {
      "image/png": "[encoded data removed]",
      "text/plain": [
       "<Figure size 1008x720 with 1 Axes>"
      ]
     },
     "metadata": {
      "needs_background": "light"
     },
     "output_type": "display_data"
    }
   ],
   "source": [
    "mean_results.T.plot(figsize = (14,10)).legend(loc='upper right')"
   ]
  },
  {
   "cell_type": "code",
   "execution_count": null,
   "metadata": {},
   "outputs": [],
   "source": [
    "mean"
   ]
  }
 ],
 "metadata": {
  "kernelspec": {
   "display_name": "Python 3",
   "language": "python",
   "name": "python3"
  },
  "language_info": {
   "codemirror_mode": {
    "name": "ipython",
    "version": 3
   },
   "file_extension": ".py",
   "mimetype": "text/x-python",
   "name": "python",
   "nbconvert_exporter": "python",
   "pygments_lexer": "ipython3",
   "version": "3.7.6"
  }
 },
 "nbformat": 4,
 "nbformat_minor": 4
}
