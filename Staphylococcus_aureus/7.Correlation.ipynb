{
 "cells": [
  {
   "cell_type": "code",
   "execution_count": 27,
   "metadata": {},
   "outputs": [],
   "source": [
    "import pandas as pd\n",
    "import numpy as np\n",
    "import networkx as nx\n",
    "import matplotlib.pyplot as plt"
   ]
  },
  {
   "cell_type": "markdown",
   "metadata": {},
   "source": [
    "We are going try to recalculate the correlation between the feature importance and distance between conserved genes and AMR genes once we have a more complete PPI"
   ]
  },
  {
   "cell_type": "markdown",
   "metadata": {},
   "source": [
    "## Conserved Genes used for prediction in Nguyen et. al. 2020\n",
    "\n",
    "The table below is listening protein families of 10 experiments (each one with 100 non overlapping protein families) selected from a set of conserved genes and used in the paper of Nguyen et. al.\n",
    "\n",
    "Each protein family has a feature importance value derived from XGBoost, which means a contribution degree from a protein family given to classificate in resistant/susceptible phenotype."
   ]
  },
  {
   "cell_type": "code",
   "execution_count": 2,
   "metadata": {},
   "outputs": [],
   "source": [
    "feature_importance = pd.read_excel('saureus_feature_importance.xlsx')"
   ]
  },
  {
   "cell_type": "code",
   "execution_count": 3,
   "metadata": {},
   "outputs": [
    {
     "data": {
      "text/html": [
       "<div>\n",
       "<style scoped>\n",
       "    .dataframe tbody tr th:only-of-type {\n",
       "        vertical-align: middle;\n",
       "    }\n",
       "\n",
       "    .dataframe tbody tr th {\n",
       "        vertical-align: top;\n",
       "    }\n",
       "\n",
       "    .dataframe thead th {\n",
       "        text-align: right;\n",
       "    }\n",
       "</style>\n",
       "<table border=\"1\" class=\"dataframe\">\n",
       "  <thead>\n",
       "    <tr style=\"text-align: right;\">\n",
       "      <th></th>\n",
       "      <th>Protein Family ID</th>\n",
       "      <th>Model</th>\n",
       "      <th>Total Feature Importance</th>\n",
       "      <th>Annotation</th>\n",
       "    </tr>\n",
       "  </thead>\n",
       "  <tbody>\n",
       "    <tr>\n",
       "      <th>0</th>\n",
       "      <td>PLF_1279_00001080</td>\n",
       "      <td>1</td>\n",
       "      <td>162.412577</td>\n",
       "      <td>hypothetical protein</td>\n",
       "    </tr>\n",
       "    <tr>\n",
       "      <th>1</th>\n",
       "      <td>PLF_1279_00001505</td>\n",
       "      <td>1</td>\n",
       "      <td>81.039855</td>\n",
       "      <td>ABC transporter-like sensor ATP-binding protei...</td>\n",
       "    </tr>\n",
       "    <tr>\n",
       "      <th>2</th>\n",
       "      <td>PLF_1279_00001583</td>\n",
       "      <td>1</td>\n",
       "      <td>67.782436</td>\n",
       "      <td>Polysaccharide intercellular adhesin (PIA) bio...</td>\n",
       "    </tr>\n",
       "    <tr>\n",
       "      <th>3</th>\n",
       "      <td>PLF_1279_00001118</td>\n",
       "      <td>1</td>\n",
       "      <td>60.701992</td>\n",
       "      <td>Nickel ABC transporter, substrate-binding prot...</td>\n",
       "    </tr>\n",
       "    <tr>\n",
       "      <th>4</th>\n",
       "      <td>PLF_1279_00001691</td>\n",
       "      <td>1</td>\n",
       "      <td>54.623888</td>\n",
       "      <td>Activator of the mannose operon (transcription...</td>\n",
       "    </tr>\n",
       "    <tr>\n",
       "      <th>...</th>\n",
       "      <td>...</td>\n",
       "      <td>...</td>\n",
       "      <td>...</td>\n",
       "      <td>...</td>\n",
       "    </tr>\n",
       "    <tr>\n",
       "      <th>995</th>\n",
       "      <td>PLF_1279_00007034</td>\n",
       "      <td>10</td>\n",
       "      <td>0.000000</td>\n",
       "      <td>Cold shock protein of CSP family</td>\n",
       "    </tr>\n",
       "    <tr>\n",
       "      <th>996</th>\n",
       "      <td>PLF_1279_00001353</td>\n",
       "      <td>10</td>\n",
       "      <td>0.000000</td>\n",
       "      <td>UPF0398 protein YpsA</td>\n",
       "    </tr>\n",
       "    <tr>\n",
       "      <th>997</th>\n",
       "      <td>PLF_1279_00000861</td>\n",
       "      <td>10</td>\n",
       "      <td>0.000000</td>\n",
       "      <td>LSU ribosomal protein L15p (L27Ae)</td>\n",
       "    </tr>\n",
       "    <tr>\n",
       "      <th>998</th>\n",
       "      <td>PLF_1279_00000601</td>\n",
       "      <td>10</td>\n",
       "      <td>0.000000</td>\n",
       "      <td>LSU ribosomal protein L30p (L7e)</td>\n",
       "    </tr>\n",
       "    <tr>\n",
       "      <th>999</th>\n",
       "      <td>PLF_1279_00089683</td>\n",
       "      <td>10</td>\n",
       "      <td>0.000000</td>\n",
       "      <td>Copper(I) chaperone CopZ</td>\n",
       "    </tr>\n",
       "  </tbody>\n",
       "</table>\n",
       "<p>1000 rows × 4 columns</p>\n",
       "</div>"
      ],
      "text/plain": [
       "     Protein Family ID  Model  Total Feature Importance  \\\n",
       "0    PLF_1279_00001080      1                162.412577   \n",
       "1    PLF_1279_00001505      1                 81.039855   \n",
       "2    PLF_1279_00001583      1                 67.782436   \n",
       "3    PLF_1279_00001118      1                 60.701992   \n",
       "4    PLF_1279_00001691      1                 54.623888   \n",
       "..                 ...    ...                       ...   \n",
       "995  PLF_1279_00007034     10                  0.000000   \n",
       "996  PLF_1279_00001353     10                  0.000000   \n",
       "997  PLF_1279_00000861     10                  0.000000   \n",
       "998  PLF_1279_00000601     10                  0.000000   \n",
       "999  PLF_1279_00089683     10                  0.000000   \n",
       "\n",
       "                                            Annotation  \n",
       "0                                 hypothetical protein  \n",
       "1    ABC transporter-like sensor ATP-binding protei...  \n",
       "2    Polysaccharide intercellular adhesin (PIA) bio...  \n",
       "3    Nickel ABC transporter, substrate-binding prot...  \n",
       "4    Activator of the mannose operon (transcription...  \n",
       "..                                                 ...  \n",
       "995                   Cold shock protein of CSP family  \n",
       "996                               UPF0398 protein YpsA  \n",
       "997                 LSU ribosomal protein L15p (L27Ae)  \n",
       "998                   LSU ribosomal protein L30p (L7e)  \n",
       "999                           Copper(I) chaperone CopZ  \n",
       "\n",
       "[1000 rows x 4 columns]"
      ]
     },
     "execution_count": 3,
     "metadata": {},
     "output_type": "execute_result"
    }
   ],
   "source": [
    "feature_importance"
   ]
  },
  {
   "cell_type": "markdown",
   "metadata": {},
   "source": [
    "## Data required"
   ]
  },
  {
   "cell_type": "code",
   "execution_count": 4,
   "metadata": {},
   "outputs": [],
   "source": [
    "features = pd.read_csv('genome_features.csv')"
   ]
  },
  {
   "cell_type": "code",
   "execution_count": 5,
   "metadata": {},
   "outputs": [],
   "source": [
    "refseq = features[['BRC ID', 'RefSeq Locus Tag']]\n",
    "refseq.columns = ['BRC_ID', 'RefSeq']\n",
    "refseq.set_index('BRC_ID', inplace = True)"
   ]
  },
  {
   "cell_type": "code",
   "execution_count": 6,
   "metadata": {},
   "outputs": [],
   "source": [
    "ppi_string = pd.read_csv('ppi_string.txt', sep = ' ')\n",
    "ppi_string.columns = ['Interactor_A_ID', 'Interactor_B_ID', 'weight']\n",
    "ppi_string.replace('93061.', '', regex = True, inplace = True)"
   ]
  },
  {
   "cell_type": "code",
   "execution_count": 7,
   "metadata": {},
   "outputs": [],
   "source": [
    "specialty_genes = pd.read_csv('specialty_genes.csv')\n",
    "specialty_genes = specialty_genes[['BRC ID', 'Property']]\n",
    "specialty_genes.columns = ['BRC_ID', 'Property']\n",
    "specialty_genes.set_index('BRC_ID', inplace = True)\n",
    "AMR_genes = pd.DataFrame(specialty_genes.loc[specialty_genes.Property == 'Antibiotic Resistance'].reset_index()['BRC_ID'])"
   ]
  },
  {
   "cell_type": "code",
   "execution_count": 8,
   "metadata": {},
   "outputs": [],
   "source": [
    "plf_map_refseq = features[['RefSeq Locus Tag', 'PATRIC genus-specific families (PLfams)']][features['PATRIC genus-specific families (PLfams)'].isin(feature_importance['Protein Family ID'])].reset_index(drop = True)\n",
    "plf_map_refseq.columns = ['RefSeq', 'PLF']\n",
    "plf_map_refseq.dropna(inplace = True)\n",
    "plf_SAOUHSC = plf_map_refseq.drop_duplicates(subset = 'PLF', keep = 'last')\n",
    "plf_SAOUHSC.reset_index(drop = True, inplace = True)\n"
   ]
  },
  {
   "cell_type": "code",
   "execution_count": 9,
   "metadata": {
    "scrolled": true
   },
   "outputs": [],
   "source": [
    "AMR_refseq = features[['RefSeq Locus Tag']][features['BRC ID'].isin(AMR_genes['BRC_ID'])].reset_index(drop = True)\n",
    "AMR_refseq.columns = ['AMR_RefSeq']"
   ]
  },
  {
   "cell_type": "code",
   "execution_count": 10,
   "metadata": {},
   "outputs": [],
   "source": [
    "ppi_patric = pd.read_csv('ppi_patric.csv')\n",
    "ppi_patric = ppi_patric[['Interactor A ID', 'Interactor B ID']].astype(\"string\")\n",
    "ppi_patric.columns = ['Interactor_A_ID', 'Interactor_B_ID']\n",
    "ppi_patric.drop(2085, axis = 0, inplace = True)\n",
    "ppi_patric.reset_index(drop=True, inplace=True)\n",
    "ppi_refseq = ppi_patric\n",
    "\n",
    "for i in range(len(ppi_patric['Interactor_A_ID'])):\n",
    "    ppi_refseq.at[i, 'Interactor_A_ID'] = refseq.loc[ppi_patric['Interactor_A_ID'][i]].RefSeq\n",
    "        \n",
    "for i in range(len(ppi_patric['Interactor_B_ID'])):\n",
    "    ppi_refseq.at[i, 'Interactor_B_ID'] = refseq.loc[ppi_patric['Interactor_B_ID'][i]].RefSeq "
   ]
  },
  {
   "cell_type": "code",
   "execution_count": 11,
   "metadata": {},
   "outputs": [],
   "source": [
    "ppi = pd.DataFrame(pd.concat([ppi_refseq, ppi_string], axis = 0).drop_duplicates())"
   ]
  },
  {
   "cell_type": "code",
   "execution_count": 12,
   "metadata": {},
   "outputs": [],
   "source": [
    "conserved_ppi_A = plf_SAOUHSC[plf_SAOUHSC['RefSeq'].isin(ppi['Interactor_A_ID'])]['RefSeq']\n",
    "conserved_ppi_B = plf_SAOUHSC[plf_SAOUHSC['RefSeq'].isin(ppi['Interactor_B_ID'])]['RefSeq']\n",
    "\n",
    "conserved_ppi = pd.DataFrame(pd.concat([conserved_ppi_A, conserved_ppi_B], axis = 0).drop_duplicates())"
   ]
  },
  {
   "cell_type": "code",
   "execution_count": 13,
   "metadata": {},
   "outputs": [
    {
     "data": {
      "text/html": [
       "<div>\n",
       "<style scoped>\n",
       "    .dataframe tbody tr th:only-of-type {\n",
       "        vertical-align: middle;\n",
       "    }\n",
       "\n",
       "    .dataframe tbody tr th {\n",
       "        vertical-align: top;\n",
       "    }\n",
       "\n",
       "    .dataframe thead th {\n",
       "        text-align: right;\n",
       "    }\n",
       "</style>\n",
       "<table border=\"1\" class=\"dataframe\">\n",
       "  <thead>\n",
       "    <tr style=\"text-align: right;\">\n",
       "      <th></th>\n",
       "      <th>RefSeq</th>\n",
       "    </tr>\n",
       "  </thead>\n",
       "  <tbody>\n",
       "    <tr>\n",
       "      <th>5</th>\n",
       "      <td>SAOUHSC_01030</td>\n",
       "    </tr>\n",
       "    <tr>\n",
       "      <th>6</th>\n",
       "      <td>SAOUHSC_01032</td>\n",
       "    </tr>\n",
       "    <tr>\n",
       "      <th>7</th>\n",
       "      <td>SAOUHSC_01036</td>\n",
       "    </tr>\n",
       "    <tr>\n",
       "      <th>8</th>\n",
       "      <td>SAOUHSC_01039</td>\n",
       "    </tr>\n",
       "    <tr>\n",
       "      <th>9</th>\n",
       "      <td>SAOUHSC_01044</td>\n",
       "    </tr>\n",
       "    <tr>\n",
       "      <th>...</th>\n",
       "      <td>...</td>\n",
       "    </tr>\n",
       "    <tr>\n",
       "      <th>823</th>\n",
       "      <td>SAOUHSC_00565</td>\n",
       "    </tr>\n",
       "    <tr>\n",
       "      <th>829</th>\n",
       "      <td>SAOUHSC_00605</td>\n",
       "    </tr>\n",
       "    <tr>\n",
       "      <th>855</th>\n",
       "      <td>SAOUHSC_00659</td>\n",
       "    </tr>\n",
       "    <tr>\n",
       "      <th>883</th>\n",
       "      <td>SAOUHSC_00754</td>\n",
       "    </tr>\n",
       "    <tr>\n",
       "      <th>978</th>\n",
       "      <td>SAOUHSC_00979</td>\n",
       "    </tr>\n",
       "  </tbody>\n",
       "</table>\n",
       "<p>874 rows × 1 columns</p>\n",
       "</div>"
      ],
      "text/plain": [
       "            RefSeq\n",
       "5    SAOUHSC_01030\n",
       "6    SAOUHSC_01032\n",
       "7    SAOUHSC_01036\n",
       "8    SAOUHSC_01039\n",
       "9    SAOUHSC_01044\n",
       "..             ...\n",
       "823  SAOUHSC_00565\n",
       "829  SAOUHSC_00605\n",
       "855  SAOUHSC_00659\n",
       "883  SAOUHSC_00754\n",
       "978  SAOUHSC_00979\n",
       "\n",
       "[874 rows x 1 columns]"
      ]
     },
     "execution_count": 13,
     "metadata": {},
     "output_type": "execute_result"
    }
   ],
   "source": [
    "conserved_ppi"
   ]
  },
  {
   "cell_type": "code",
   "execution_count": 14,
   "metadata": {},
   "outputs": [],
   "source": [
    "AMR_ppi_A = AMR_refseq[AMR_refseq['AMR_RefSeq'].isin(ppi['Interactor_A_ID'])]['AMR_RefSeq']\n",
    "AMR_ppi_B = AMR_refseq[AMR_refseq['AMR_RefSeq'].isin(ppi['Interactor_B_ID'])]['AMR_RefSeq']\n",
    "\n",
    "AMR_ppi = pd.DataFrame(pd.concat([AMR_ppi_A, AMR_ppi_B], axis = 0))\n",
    "AMR_ppi.reset_index(drop=True, inplace=True)"
   ]
  },
  {
   "cell_type": "code",
   "execution_count": 15,
   "metadata": {},
   "outputs": [
    {
     "data": {
      "text/html": [
       "<div>\n",
       "<style scoped>\n",
       "    .dataframe tbody tr th:only-of-type {\n",
       "        vertical-align: middle;\n",
       "    }\n",
       "\n",
       "    .dataframe tbody tr th {\n",
       "        vertical-align: top;\n",
       "    }\n",
       "\n",
       "    .dataframe thead th {\n",
       "        text-align: right;\n",
       "    }\n",
       "</style>\n",
       "<table border=\"1\" class=\"dataframe\">\n",
       "  <thead>\n",
       "    <tr style=\"text-align: right;\">\n",
       "      <th></th>\n",
       "      <th>AMR_RefSeq</th>\n",
       "    </tr>\n",
       "  </thead>\n",
       "  <tbody>\n",
       "    <tr>\n",
       "      <th>0</th>\n",
       "      <td>SAOUHSC_00099</td>\n",
       "    </tr>\n",
       "    <tr>\n",
       "      <th>1</th>\n",
       "      <td>SAOUHSC_01071</td>\n",
       "    </tr>\n",
       "    <tr>\n",
       "      <th>2</th>\n",
       "      <td>SAOUHSC_01159</td>\n",
       "    </tr>\n",
       "    <tr>\n",
       "      <th>3</th>\n",
       "      <td>SAOUHSC_01260</td>\n",
       "    </tr>\n",
       "    <tr>\n",
       "      <th>4</th>\n",
       "      <td>SAOUHSC_01351</td>\n",
       "    </tr>\n",
       "    <tr>\n",
       "      <th>...</th>\n",
       "      <td>...</td>\n",
       "    </tr>\n",
       "    <tr>\n",
       "      <th>88</th>\n",
       "      <td>SAOUHSC_00694</td>\n",
       "    </tr>\n",
       "    <tr>\n",
       "      <th>89</th>\n",
       "      <td>SAOUHSC_00703</td>\n",
       "    </tr>\n",
       "    <tr>\n",
       "      <th>90</th>\n",
       "      <td>SAOUHSC_00006</td>\n",
       "    </tr>\n",
       "    <tr>\n",
       "      <th>91</th>\n",
       "      <td>SAOUHSC_00921</td>\n",
       "    </tr>\n",
       "    <tr>\n",
       "      <th>92</th>\n",
       "      <td>SAOUHSC_00947</td>\n",
       "    </tr>\n",
       "  </tbody>\n",
       "</table>\n",
       "<p>93 rows × 1 columns</p>\n",
       "</div>"
      ],
      "text/plain": [
       "       AMR_RefSeq\n",
       "0   SAOUHSC_00099\n",
       "1   SAOUHSC_01071\n",
       "2   SAOUHSC_01159\n",
       "3   SAOUHSC_01260\n",
       "4   SAOUHSC_01351\n",
       "..            ...\n",
       "88  SAOUHSC_00694\n",
       "89  SAOUHSC_00703\n",
       "90  SAOUHSC_00006\n",
       "91  SAOUHSC_00921\n",
       "92  SAOUHSC_00947\n",
       "\n",
       "[93 rows x 1 columns]"
      ]
     },
     "execution_count": 15,
     "metadata": {},
     "output_type": "execute_result"
    }
   ],
   "source": [
    "AMR_ppi"
   ]
  },
  {
   "cell_type": "code",
   "execution_count": 16,
   "metadata": {},
   "outputs": [],
   "source": [
    "ppi_info = pd.DataFrame(columns = ['Conserved Gene', 'Shortest Path to an AMR gene (length)',])\n",
    "\n",
    "ppi_info['Conserved Gene'] = conserved_ppi.reset_index(drop = True)['RefSeq']"
   ]
  },
  {
   "cell_type": "code",
   "execution_count": 17,
   "metadata": {},
   "outputs": [],
   "source": [
    "ppi_graph = nx.from_pandas_edgelist(ppi, 'Interactor_A_ID', 'Interactor_B_ID')"
   ]
  },
  {
   "cell_type": "code",
   "execution_count": 18,
   "metadata": {},
   "outputs": [],
   "source": [
    "ppi_graph = nx.from_pandas_edgelist(ppi, 'Interactor_A_ID', 'Interactor_B_ID')\n",
    "\n",
    "idx = 0\n",
    "for i in conserved_ppi['RefSeq']:\n",
    "    lengths = []\n",
    "    for j in AMR_ppi['AMR_RefSeq']:\n",
    "        if nx.has_path(ppi_graph, i, j):\n",
    "            lengths.append(nx.shortest_path_length(ppi_graph, i, j))\n",
    "    if lengths:        \n",
    "        ppi_info['Shortest Path to an AMR gene (length)'][idx] = min(lengths)\n",
    "        \n",
    "    idx += 1"
   ]
  },
  {
   "cell_type": "code",
   "execution_count": 19,
   "metadata": {},
   "outputs": [
    {
     "data": {
      "text/html": [
       "<div>\n",
       "<style scoped>\n",
       "    .dataframe tbody tr th:only-of-type {\n",
       "        vertical-align: middle;\n",
       "    }\n",
       "\n",
       "    .dataframe tbody tr th {\n",
       "        vertical-align: top;\n",
       "    }\n",
       "\n",
       "    .dataframe thead th {\n",
       "        text-align: right;\n",
       "    }\n",
       "</style>\n",
       "<table border=\"1\" class=\"dataframe\">\n",
       "  <thead>\n",
       "    <tr style=\"text-align: right;\">\n",
       "      <th></th>\n",
       "      <th>Conserved Gene</th>\n",
       "      <th>Shortest Path to an AMR gene (length)</th>\n",
       "    </tr>\n",
       "  </thead>\n",
       "  <tbody>\n",
       "    <tr>\n",
       "      <th>0</th>\n",
       "      <td>SAOUHSC_01030</td>\n",
       "      <td>2</td>\n",
       "    </tr>\n",
       "    <tr>\n",
       "      <th>1</th>\n",
       "      <td>SAOUHSC_01032</td>\n",
       "      <td>2</td>\n",
       "    </tr>\n",
       "    <tr>\n",
       "      <th>2</th>\n",
       "      <td>SAOUHSC_01036</td>\n",
       "      <td>1</td>\n",
       "    </tr>\n",
       "    <tr>\n",
       "      <th>3</th>\n",
       "      <td>SAOUHSC_01039</td>\n",
       "      <td>2</td>\n",
       "    </tr>\n",
       "    <tr>\n",
       "      <th>4</th>\n",
       "      <td>SAOUHSC_01044</td>\n",
       "      <td>2</td>\n",
       "    </tr>\n",
       "    <tr>\n",
       "      <th>...</th>\n",
       "      <td>...</td>\n",
       "      <td>...</td>\n",
       "    </tr>\n",
       "    <tr>\n",
       "      <th>869</th>\n",
       "      <td>SAOUHSC_00565</td>\n",
       "      <td>3</td>\n",
       "    </tr>\n",
       "    <tr>\n",
       "      <th>870</th>\n",
       "      <td>SAOUHSC_00605</td>\n",
       "      <td>2</td>\n",
       "    </tr>\n",
       "    <tr>\n",
       "      <th>871</th>\n",
       "      <td>SAOUHSC_00659</td>\n",
       "      <td>2</td>\n",
       "    </tr>\n",
       "    <tr>\n",
       "      <th>872</th>\n",
       "      <td>SAOUHSC_00754</td>\n",
       "      <td>3</td>\n",
       "    </tr>\n",
       "    <tr>\n",
       "      <th>873</th>\n",
       "      <td>SAOUHSC_00979</td>\n",
       "      <td>2</td>\n",
       "    </tr>\n",
       "  </tbody>\n",
       "</table>\n",
       "<p>874 rows × 2 columns</p>\n",
       "</div>"
      ],
      "text/plain": [
       "    Conserved Gene Shortest Path to an AMR gene (length)\n",
       "0    SAOUHSC_01030                                     2\n",
       "1    SAOUHSC_01032                                     2\n",
       "2    SAOUHSC_01036                                     1\n",
       "3    SAOUHSC_01039                                     2\n",
       "4    SAOUHSC_01044                                     2\n",
       "..             ...                                   ...\n",
       "869  SAOUHSC_00565                                     3\n",
       "870  SAOUHSC_00605                                     2\n",
       "871  SAOUHSC_00659                                     2\n",
       "872  SAOUHSC_00754                                     3\n",
       "873  SAOUHSC_00979                                     2\n",
       "\n",
       "[874 rows x 2 columns]"
      ]
     },
     "execution_count": 19,
     "metadata": {},
     "output_type": "execute_result"
    }
   ],
   "source": [
    "ppi_info"
   ]
  },
  {
   "cell_type": "code",
   "execution_count": 20,
   "metadata": {},
   "outputs": [
    {
     "name": "stderr",
     "output_type": "stream",
     "text": [
      "C:\\ProgramData\\Anaconda3\\lib\\site-packages\\ipykernel_launcher.py:3: SettingWithCopyWarning: \n",
      "A value is trying to be set on a copy of a slice from a DataFrame\n",
      "\n",
      "See the caveats in the documentation: https://pandas.pydata.org/pandas-docs/stable/user_guide/indexing.html#returning-a-view-versus-a-copy\n",
      "  This is separate from the ipykernel package so we can avoid doing imports until\n"
     ]
    }
   ],
   "source": [
    "ppi_info['Feature Score'] = pd.Series(dtype='float')\n",
    "for i in range(len(ppi_info['Conserved Gene'])):\n",
    "    ppi_info['Feature Score'][i] = feature_importance[feature_importance['Protein Family ID'] == (plf_map_refseq[plf_map_refseq['RefSeq'] == ppi_info['Conserved Gene'][i]]['PLF'].iloc[0])]['Total Feature Importance']"
   ]
  },
  {
   "cell_type": "code",
   "execution_count": 41,
   "metadata": {
    "scrolled": false
   },
   "outputs": [
    {
     "data": {
      "text/html": [
       "<div>\n",
       "<style scoped>\n",
       "    .dataframe tbody tr th:only-of-type {\n",
       "        vertical-align: middle;\n",
       "    }\n",
       "\n",
       "    .dataframe tbody tr th {\n",
       "        vertical-align: top;\n",
       "    }\n",
       "\n",
       "    .dataframe thead th {\n",
       "        text-align: right;\n",
       "    }\n",
       "</style>\n",
       "<table border=\"1\" class=\"dataframe\">\n",
       "  <thead>\n",
       "    <tr style=\"text-align: right;\">\n",
       "      <th></th>\n",
       "      <th>Conserved Gene</th>\n",
       "      <th>Shortest Path to an AMR gene (length)</th>\n",
       "      <th>Feature Score</th>\n",
       "    </tr>\n",
       "  </thead>\n",
       "  <tbody>\n",
       "    <tr>\n",
       "      <th>0</th>\n",
       "      <td>SAOUHSC_01030</td>\n",
       "      <td>2</td>\n",
       "      <td>3.044391</td>\n",
       "    </tr>\n",
       "    <tr>\n",
       "      <th>1</th>\n",
       "      <td>SAOUHSC_01032</td>\n",
       "      <td>2</td>\n",
       "      <td>8.875277</td>\n",
       "    </tr>\n",
       "    <tr>\n",
       "      <th>2</th>\n",
       "      <td>SAOUHSC_01036</td>\n",
       "      <td>1</td>\n",
       "      <td>0.000000</td>\n",
       "    </tr>\n",
       "    <tr>\n",
       "      <th>3</th>\n",
       "      <td>SAOUHSC_01039</td>\n",
       "      <td>2</td>\n",
       "      <td>1.987799</td>\n",
       "    </tr>\n",
       "    <tr>\n",
       "      <th>4</th>\n",
       "      <td>SAOUHSC_01044</td>\n",
       "      <td>2</td>\n",
       "      <td>0.790515</td>\n",
       "    </tr>\n",
       "    <tr>\n",
       "      <th>...</th>\n",
       "      <td>...</td>\n",
       "      <td>...</td>\n",
       "      <td>...</td>\n",
       "    </tr>\n",
       "    <tr>\n",
       "      <th>869</th>\n",
       "      <td>SAOUHSC_00565</td>\n",
       "      <td>3</td>\n",
       "      <td>8.636960</td>\n",
       "    </tr>\n",
       "    <tr>\n",
       "      <th>870</th>\n",
       "      <td>SAOUHSC_00605</td>\n",
       "      <td>2</td>\n",
       "      <td>4.103818</td>\n",
       "    </tr>\n",
       "    <tr>\n",
       "      <th>871</th>\n",
       "      <td>SAOUHSC_00659</td>\n",
       "      <td>2</td>\n",
       "      <td>16.589901</td>\n",
       "    </tr>\n",
       "    <tr>\n",
       "      <th>872</th>\n",
       "      <td>SAOUHSC_00754</td>\n",
       "      <td>3</td>\n",
       "      <td>9.519017</td>\n",
       "    </tr>\n",
       "    <tr>\n",
       "      <th>873</th>\n",
       "      <td>SAOUHSC_00979</td>\n",
       "      <td>2</td>\n",
       "      <td>3.325259</td>\n",
       "    </tr>\n",
       "  </tbody>\n",
       "</table>\n",
       "<p>864 rows × 3 columns</p>\n",
       "</div>"
      ],
      "text/plain": [
       "    Conserved Gene Shortest Path to an AMR gene (length)  Feature Score\n",
       "0    SAOUHSC_01030                                     2       3.044391\n",
       "1    SAOUHSC_01032                                     2       8.875277\n",
       "2    SAOUHSC_01036                                     1       0.000000\n",
       "3    SAOUHSC_01039                                     2       1.987799\n",
       "4    SAOUHSC_01044                                     2       0.790515\n",
       "..             ...                                   ...            ...\n",
       "869  SAOUHSC_00565                                     3       8.636960\n",
       "870  SAOUHSC_00605                                     2       4.103818\n",
       "871  SAOUHSC_00659                                     2      16.589901\n",
       "872  SAOUHSC_00754                                     3       9.519017\n",
       "873  SAOUHSC_00979                                     2       3.325259\n",
       "\n",
       "[864 rows x 3 columns]"
      ]
     },
     "execution_count": 41,
     "metadata": {},
     "output_type": "execute_result"
    }
   ],
   "source": [
    "ppi_info"
   ]
  },
  {
   "cell_type": "markdown",
   "metadata": {},
   "source": [
    "Removing genes with no path to an AMR gene:"
   ]
  },
  {
   "cell_type": "code",
   "execution_count": 22,
   "metadata": {},
   "outputs": [],
   "source": [
    "ppi_info = ppi_info[~ppi_info[['Shortest Path to an AMR gene (length)', 'Feature Score']].isnull().any(axis = 1)]"
   ]
  },
  {
   "cell_type": "code",
   "execution_count": 45,
   "metadata": {},
   "outputs": [],
   "source": [
    "ppi_info = ppi_info.reset_index(drop=True)"
   ]
  },
  {
   "cell_type": "code",
   "execution_count": 29,
   "metadata": {},
   "outputs": [
    {
     "data": {
      "text/plain": [
       "<matplotlib.collections.PathCollection at 0x27d6ec18c88>"
      ]
     },
     "execution_count": 29,
     "metadata": {},
     "output_type": "execute_result"
    },
    {
     "data": {
      "image/png": "[encoded data removed]",
      "text/plain": [
       "<Figure size 432x288 with 1 Axes>"
      ]
     },
     "metadata": {
      "needs_background": "light"
     },
     "output_type": "display_data"
    }
   ],
   "source": [
    "plt.scatter(ppi_info['Shortest Path to an AMR gene (length)'], ppi_info['Feature Score'])"
   ]
  },
  {
   "cell_type": "markdown",
   "metadata": {},
   "source": [
    "## What is the correlaton between the feature score and the length of the path?"
   ]
  },
  {
   "cell_type": "code",
   "execution_count": 44,
   "metadata": {},
   "outputs": [
    {
     "data": {
      "text/plain": [
       "0      2\n",
       "1      2\n",
       "2      1\n",
       "3      2\n",
       "4      2\n",
       "      ..\n",
       "869    3\n",
       "870    2\n",
       "871    2\n",
       "872    3\n",
       "873    2\n",
       "Name: Shortest Path to an AMR gene (length), Length: 864, dtype: object"
      ]
     },
     "execution_count": 44,
     "metadata": {},
     "output_type": "execute_result"
    }
   ],
   "source": [
    "ppi_info['Shortest Path to an AMR gene (length)']"
   ]
  },
  {
   "cell_type": "code",
   "execution_count": 24,
   "metadata": {},
   "outputs": [
    {
     "data": {
      "text/plain": [
       "0.007974958509645066"
      ]
     },
     "execution_count": 24,
     "metadata": {},
     "output_type": "execute_result"
    }
   ],
   "source": [
    "ppi_info['Shortest Path to an AMR gene (length)'].astype('int').corr(ppi_info['Feature Score'].astype('float64'), method = 'kendall')"
   ]
  },
  {
   "cell_type": "code",
   "execution_count": null,
   "metadata": {},
   "outputs": [],
   "source": []
  }
 ],
 "metadata": {
  "kernelspec": {
   "display_name": "Python 3",
   "language": "python",
   "name": "python3"
  },
  "language_info": {
   "codemirror_mode": {
    "name": "ipython",
    "version": 3
   },
   "file_extension": ".py",
   "mimetype": "text/x-python",
   "name": "python",
   "nbconvert_exporter": "python",
   "pygments_lexer": "ipython3",
   "version": "3.7.6"
  }
 },
 "nbformat": 4,
 "nbformat_minor": 4
}
