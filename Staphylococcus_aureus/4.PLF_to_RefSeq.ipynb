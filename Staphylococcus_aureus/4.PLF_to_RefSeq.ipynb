{
 "cells": [
  {
   "cell_type": "markdown",
   "metadata": {},
   "source": [
    "# Mapping from PATRIC to RefSeq Locus Tag\n",
    "\n",
    "To work with another PPI, we need to have gene index compatible with another databases. Once the table containing feature information has the RefSeq Locus Tag, we will use this information."
   ]
  },
  {
   "cell_type": "code",
   "execution_count": 2,
   "metadata": {},
   "outputs": [],
   "source": [
    "import pandas as pd\n",
    "import numpy as np"
   ]
  },
  {
   "cell_type": "code",
   "execution_count": 40,
   "metadata": {},
   "outputs": [
    {
     "name": "stdout",
     "output_type": "stream",
     "text": [
      "<class 'pandas.core.frame.DataFrame'>\n",
      "RangeIndex: 10999 entries, 0 to 10998\n",
      "Data columns (total 21 columns):\n",
      " #   Column                                   Non-Null Count  Dtype  \n",
      "---  ------                                   --------------  -----  \n",
      " 0   Genome                                   10999 non-null  object \n",
      " 1   Genome ID                                10999 non-null  float64\n",
      " 2   Accession                                10999 non-null  object \n",
      " 3   BRC ID                                   10999 non-null  object \n",
      " 4   RefSeq Locus Tag                         10703 non-null  object \n",
      " 5   Alt Locus Tag                            5488 non-null   object \n",
      " 6   Feature ID                               10999 non-null  object \n",
      " 7   Annotation                               10999 non-null  object \n",
      " 8   Feature Type                             10999 non-null  object \n",
      " 9   Start                                    10999 non-null  int64  \n",
      " 10  End                                      10999 non-null  int64  \n",
      " 11  Length                                   10999 non-null  int64  \n",
      " 12  Strand                                   10999 non-null  object \n",
      " 13  FIGfam ID                                10070 non-null  object \n",
      " 14  PATRIC genus-specific families (PLfams)  10999 non-null  object \n",
      " 15  PATRIC cross-genus families (PGfams)     10999 non-null  object \n",
      " 16  Protein ID                               8022 non-null   object \n",
      " 17  AA Length                                10999 non-null  int64  \n",
      " 18  Gene Symbol                              1198 non-null   object \n",
      " 19  Product                                  10999 non-null  object \n",
      " 20  GO                                       2879 non-null   object \n",
      "dtypes: float64(1), int64(4), object(16)\n",
      "memory usage: 1.8+ MB\n"
     ]
    }
   ],
   "source": [
    "features = pd.read_csv('genome_features.csv')\n",
    "features.info()"
   ]
  },
  {
   "cell_type": "code",
   "execution_count": 41,
   "metadata": {},
   "outputs": [],
   "source": [
    "refseq = features[['BRC ID', 'RefSeq Locus Tag']]\n",
    "refseq.columns = ['BRC_ID', 'RefSeq']\n",
    "refseq.set_index('BRC_ID', inplace = True)"
   ]
  },
  {
   "cell_type": "code",
   "execution_count": 43,
   "metadata": {},
   "outputs": [],
   "source": [
    "specialty_genes = pd.read_csv('specialty_genes.csv')\n",
    "specialty_genes = specialty_genes[['BRC ID', 'Property']]\n",
    "specialty_genes.columns = ['BRC_ID', 'Property']\n",
    "specialty_genes.set_index('BRC_ID', inplace = True)"
   ]
  },
  {
   "cell_type": "code",
   "execution_count": 44,
   "metadata": {},
   "outputs": [],
   "source": [
    "AMR_genes = pd.DataFrame(specialty_genes.loc[specialty_genes.Property == 'Antibiotic Resistance'].reset_index()['BRC_ID'])"
   ]
  },
  {
   "cell_type": "code",
   "execution_count": 45,
   "metadata": {},
   "outputs": [
    {
     "data": {
      "text/html": [
       "<div>\n",
       "<style scoped>\n",
       "    .dataframe tbody tr th:only-of-type {\n",
       "        vertical-align: middle;\n",
       "    }\n",
       "\n",
       "    .dataframe tbody tr th {\n",
       "        vertical-align: top;\n",
       "    }\n",
       "\n",
       "    .dataframe thead th {\n",
       "        text-align: right;\n",
       "    }\n",
       "</style>\n",
       "<table border=\"1\" class=\"dataframe\">\n",
       "  <thead>\n",
       "    <tr style=\"text-align: right;\">\n",
       "      <th></th>\n",
       "      <th>BRC_ID</th>\n",
       "    </tr>\n",
       "  </thead>\n",
       "  <tbody>\n",
       "    <tr>\n",
       "      <th>0</th>\n",
       "      <td>fig|1413510.3.peg.2169</td>\n",
       "    </tr>\n",
       "    <tr>\n",
       "      <th>1</th>\n",
       "      <td>fig|93061.5.peg.1154</td>\n",
       "    </tr>\n",
       "    <tr>\n",
       "      <th>2</th>\n",
       "      <td>fig|93061.5.peg.2089</td>\n",
       "    </tr>\n",
       "    <tr>\n",
       "      <th>3</th>\n",
       "      <td>fig|93061.5.peg.842</td>\n",
       "    </tr>\n",
       "    <tr>\n",
       "      <th>4</th>\n",
       "      <td>fig|158879.11.peg.1813</td>\n",
       "    </tr>\n",
       "    <tr>\n",
       "      <th>...</th>\n",
       "      <td>...</td>\n",
       "    </tr>\n",
       "    <tr>\n",
       "      <th>264</th>\n",
       "      <td>fig|158879.11.peg.2331</td>\n",
       "    </tr>\n",
       "    <tr>\n",
       "      <th>265</th>\n",
       "      <td>fig|1241616.6.peg.1396</td>\n",
       "    </tr>\n",
       "    <tr>\n",
       "      <th>266</th>\n",
       "      <td>fig|158879.11.peg.647</td>\n",
       "    </tr>\n",
       "    <tr>\n",
       "      <th>267</th>\n",
       "      <td>fig|158879.11.peg.2107</td>\n",
       "    </tr>\n",
       "    <tr>\n",
       "      <th>268</th>\n",
       "      <td>fig|1241616.6.peg.2283</td>\n",
       "    </tr>\n",
       "  </tbody>\n",
       "</table>\n",
       "<p>269 rows × 1 columns</p>\n",
       "</div>"
      ],
      "text/plain": [
       "                     BRC_ID\n",
       "0    fig|1413510.3.peg.2169\n",
       "1      fig|93061.5.peg.1154\n",
       "2      fig|93061.5.peg.2089\n",
       "3       fig|93061.5.peg.842\n",
       "4    fig|158879.11.peg.1813\n",
       "..                      ...\n",
       "264  fig|158879.11.peg.2331\n",
       "265  fig|1241616.6.peg.1396\n",
       "266   fig|158879.11.peg.647\n",
       "267  fig|158879.11.peg.2107\n",
       "268  fig|1241616.6.peg.2283\n",
       "\n",
       "[269 rows x 1 columns]"
      ]
     },
     "execution_count": 45,
     "metadata": {},
     "output_type": "execute_result"
    }
   ],
   "source": [
    "AMR_genes"
   ]
  },
  {
   "cell_type": "code",
   "execution_count": 46,
   "metadata": {},
   "outputs": [],
   "source": [
    "import os\n",
    "from os import listdir\n",
    "\n",
    "plf_500 = []\n",
    "\n",
    "datadir = 'E:/User/bruna.fistarol/Documents/GitHub/Nguyen_et_al_2020/Staphylococcus/fasta.500.0'\n",
    "for strain in listdir(datadir):\n",
    "    with open(os.path.join(datadir, strain), 'r') as sequences:\n",
    "        for line in sequences:\n",
    "            if line[0] == '>':\n",
    "                plf_500.append(line[1:len(line)-1])\n",
    "                \n",
    "plf_500 = pd.DataFrame(np.unique(plf_500))\n",
    "plf_500.columns = ['Protein Family ID']"
   ]
  },
  {
   "cell_type": "code",
   "execution_count": 47,
   "metadata": {},
   "outputs": [],
   "source": [
    "plf_map_ncbi = features[['RefSeq Locus Tag', 'PATRIC genus-specific families (PLfams)']][features['PATRIC genus-specific families (PLfams)'].isin(plf_500['Protein Family ID'])].reset_index(drop = True)\n",
    "plf_map_ncbi.columns = ['RefSeq', 'PLF']\n",
    "plf_map_ncbi.dropna(inplace = True)\n",
    "plf_SAOUHSC = plf_map_ncbi.drop_duplicates(subset = 'PLF', keep = 'last', inplace = True)"
   ]
  },
  {
   "cell_type": "code",
   "execution_count": 48,
   "metadata": {},
   "outputs": [
    {
     "data": {
      "text/html": [
       "<div>\n",
       "<style scoped>\n",
       "    .dataframe tbody tr th:only-of-type {\n",
       "        vertical-align: middle;\n",
       "    }\n",
       "\n",
       "    .dataframe tbody tr th {\n",
       "        vertical-align: top;\n",
       "    }\n",
       "\n",
       "    .dataframe thead th {\n",
       "        text-align: right;\n",
       "    }\n",
       "</style>\n",
       "<table border=\"1\" class=\"dataframe\">\n",
       "  <thead>\n",
       "    <tr style=\"text-align: right;\">\n",
       "      <th></th>\n",
       "      <th>AMR_RefSeq</th>\n",
       "    </tr>\n",
       "  </thead>\n",
       "  <tbody>\n",
       "    <tr>\n",
       "      <th>0</th>\n",
       "      <td>AA076_00455</td>\n",
       "    </tr>\n",
       "    <tr>\n",
       "      <th>1</th>\n",
       "      <td>AA076_05535</td>\n",
       "    </tr>\n",
       "    <tr>\n",
       "      <th>2</th>\n",
       "      <td>AA076_05935</td>\n",
       "    </tr>\n",
       "    <tr>\n",
       "      <th>3</th>\n",
       "      <td>AA076_06405</td>\n",
       "    </tr>\n",
       "    <tr>\n",
       "      <th>4</th>\n",
       "      <td>AA076_06830</td>\n",
       "    </tr>\n",
       "    <tr>\n",
       "      <th>...</th>\n",
       "      <td>...</td>\n",
       "    </tr>\n",
       "    <tr>\n",
       "      <th>200</th>\n",
       "      <td>SAOUHSC_00694</td>\n",
       "    </tr>\n",
       "    <tr>\n",
       "      <th>201</th>\n",
       "      <td>SAOUHSC_00703</td>\n",
       "    </tr>\n",
       "    <tr>\n",
       "      <th>202</th>\n",
       "      <td>SAOUHSC_00006</td>\n",
       "    </tr>\n",
       "    <tr>\n",
       "      <th>203</th>\n",
       "      <td>SAOUHSC_00921</td>\n",
       "    </tr>\n",
       "    <tr>\n",
       "      <th>204</th>\n",
       "      <td>SAOUHSC_00947</td>\n",
       "    </tr>\n",
       "  </tbody>\n",
       "</table>\n",
       "<p>205 rows × 1 columns</p>\n",
       "</div>"
      ],
      "text/plain": [
       "        AMR_RefSeq\n",
       "0      AA076_00455\n",
       "1      AA076_05535\n",
       "2      AA076_05935\n",
       "3      AA076_06405\n",
       "4      AA076_06830\n",
       "..             ...\n",
       "200  SAOUHSC_00694\n",
       "201  SAOUHSC_00703\n",
       "202  SAOUHSC_00006\n",
       "203  SAOUHSC_00921\n",
       "204  SAOUHSC_00947\n",
       "\n",
       "[205 rows x 1 columns]"
      ]
     },
     "execution_count": 48,
     "metadata": {},
     "output_type": "execute_result"
    }
   ],
   "source": [
    "AMR_map_ncbi = features[['RefSeq Locus Tag']][features['BRC ID'].isin(AMR_genes['BRC_ID'])].reset_index(drop = True)\n",
    "AMR_map_ncbi.columns = ['AMR_RefSeq']\n",
    "AMR_map_ncbi"
   ]
  },
  {
   "cell_type": "code",
   "execution_count": 42,
   "metadata": {},
   "outputs": [
    {
     "data": {
      "text/html": [
       "<div>\n",
       "<style scoped>\n",
       "    .dataframe tbody tr th:only-of-type {\n",
       "        vertical-align: middle;\n",
       "    }\n",
       "\n",
       "    .dataframe tbody tr th {\n",
       "        vertical-align: top;\n",
       "    }\n",
       "\n",
       "    .dataframe thead th {\n",
       "        text-align: right;\n",
       "    }\n",
       "</style>\n",
       "<table border=\"1\" class=\"dataframe\">\n",
       "  <thead>\n",
       "    <tr style=\"text-align: right;\">\n",
       "      <th></th>\n",
       "      <th>Interactor_A_ID</th>\n",
       "      <th>Interactor_B_ID</th>\n",
       "    </tr>\n",
       "  </thead>\n",
       "  <tbody>\n",
       "    <tr>\n",
       "      <th>0</th>\n",
       "      <td>fig|93061.5.peg.452</td>\n",
       "      <td>fig|93061.5.peg.713</td>\n",
       "    </tr>\n",
       "    <tr>\n",
       "      <th>1</th>\n",
       "      <td>fig|93061.5.peg.1920</td>\n",
       "      <td>fig|93061.5.peg.1921</td>\n",
       "    </tr>\n",
       "    <tr>\n",
       "      <th>2</th>\n",
       "      <td>fig|93061.5.peg.111</td>\n",
       "      <td>fig|93061.5.peg.119</td>\n",
       "    </tr>\n",
       "    <tr>\n",
       "      <th>3</th>\n",
       "      <td>fig|93061.5.peg.112</td>\n",
       "      <td>fig|93061.5.peg.121</td>\n",
       "    </tr>\n",
       "    <tr>\n",
       "      <th>4</th>\n",
       "      <td>fig|93061.5.peg.1069</td>\n",
       "      <td>fig|93061.5.peg.1071</td>\n",
       "    </tr>\n",
       "    <tr>\n",
       "      <th>...</th>\n",
       "      <td>...</td>\n",
       "      <td>...</td>\n",
       "    </tr>\n",
       "    <tr>\n",
       "      <th>4995</th>\n",
       "      <td>fig|93061.5.peg.544</td>\n",
       "      <td>fig|93061.5.peg.856</td>\n",
       "    </tr>\n",
       "    <tr>\n",
       "      <th>4996</th>\n",
       "      <td>fig|93061.5.peg.1411</td>\n",
       "      <td>fig|93061.5.peg.1412</td>\n",
       "    </tr>\n",
       "    <tr>\n",
       "      <th>4997</th>\n",
       "      <td>fig|93061.5.peg.1112</td>\n",
       "      <td>fig|93061.5.peg.2465</td>\n",
       "    </tr>\n",
       "    <tr>\n",
       "      <th>4998</th>\n",
       "      <td>fig|93061.5.peg.2477</td>\n",
       "      <td>fig|93061.5.peg.2638</td>\n",
       "    </tr>\n",
       "    <tr>\n",
       "      <th>4999</th>\n",
       "      <td>fig|93061.5.peg.1866</td>\n",
       "      <td>fig|93061.5.peg.1868</td>\n",
       "    </tr>\n",
       "  </tbody>\n",
       "</table>\n",
       "<p>5000 rows × 2 columns</p>\n",
       "</div>"
      ],
      "text/plain": [
       "           Interactor_A_ID       Interactor_B_ID\n",
       "0      fig|93061.5.peg.452   fig|93061.5.peg.713\n",
       "1     fig|93061.5.peg.1920  fig|93061.5.peg.1921\n",
       "2      fig|93061.5.peg.111   fig|93061.5.peg.119\n",
       "3      fig|93061.5.peg.112   fig|93061.5.peg.121\n",
       "4     fig|93061.5.peg.1069  fig|93061.5.peg.1071\n",
       "...                    ...                   ...\n",
       "4995   fig|93061.5.peg.544   fig|93061.5.peg.856\n",
       "4996  fig|93061.5.peg.1411  fig|93061.5.peg.1412\n",
       "4997  fig|93061.5.peg.1112  fig|93061.5.peg.2465\n",
       "4998  fig|93061.5.peg.2477  fig|93061.5.peg.2638\n",
       "4999  fig|93061.5.peg.1866  fig|93061.5.peg.1868\n",
       "\n",
       "[5000 rows x 2 columns]"
      ]
     },
     "execution_count": 42,
     "metadata": {},
     "output_type": "execute_result"
    }
   ],
   "source": [
    "# ppi = pd.read_csv('ppi_patric.csv')\n",
    "# ppi = ppi[['Interactor A ID', 'Interactor B ID']].astype(\"string\")\n",
    "# ppi.columns = ['Interactor_A_ID', 'Interactor_B_ID']\n",
    "# ppi"
   ]
  },
  {
   "cell_type": "code",
   "execution_count": 57,
   "metadata": {},
   "outputs": [],
   "source": [
    "# Lets  check if every genomic feature in the PPI is on the table 'features':"
   ]
  },
  {
   "cell_type": "code",
   "execution_count": 49,
   "metadata": {},
   "outputs": [
    {
     "data": {
      "text/plain": [
       "[(True, 5000)]"
      ]
     },
     "execution_count": 49,
     "metadata": {},
     "output_type": "execute_result"
    }
   ],
   "source": [
    "# alist = list(ppi['Interactor_A_ID'].isin(features['BRC ID']))\n",
    "# [(i, alist.count(i)) for i in set(alist)]"
   ]
  },
  {
   "cell_type": "code",
   "execution_count": 50,
   "metadata": {},
   "outputs": [
    {
     "data": {
      "text/plain": [
       "[(False, 1), (True, 4999)]"
      ]
     },
     "execution_count": 50,
     "metadata": {},
     "output_type": "execute_result"
    }
   ],
   "source": [
    "# alist = list(ppi['Interactor_B_ID'].isin(features['BRC ID']))\n",
    "# [(i, alist.count(i)) for i in set(alist)]"
   ]
  },
  {
   "cell_type": "code",
   "execution_count": 51,
   "metadata": {
    "scrolled": true
   },
   "outputs": [
    {
     "data": {
      "text/plain": [
       "2085    fig|93061.5.peg.894\n",
       "Name: Interactor_B_ID, dtype: string"
      ]
     },
     "execution_count": 51,
     "metadata": {},
     "output_type": "execute_result"
    }
   ],
   "source": [
    "# ppi['Interactor_B_ID'][ppi['Interactor_B_ID'].isin(features['BRC ID']) == False]"
   ]
  },
  {
   "cell_type": "code",
   "execution_count": 52,
   "metadata": {},
   "outputs": [],
   "source": [
    "# ppi.drop(2085, axis = 0, inplace = True)\n",
    "# ppi.reset_index(drop=True, inplace=True)"
   ]
  },
  {
   "cell_type": "code",
   "execution_count": 56,
   "metadata": {},
   "outputs": [],
   "source": [
    "# Creating a new PPI substituing the feature for its RefSeq Locus Tag:"
   ]
  },
  {
   "cell_type": "code",
   "execution_count": 53,
   "metadata": {},
   "outputs": [],
   "source": [
    "# ppi_refseq = ppi\n",
    "\n",
    "# for i in range(len(ppi['Interactor_A_ID'])):\n",
    "#     ppi_refseq.at[i, 'Interactor_A_ID'] = refseq.loc[ppi['Interactor_A_ID'][i]].RefSeq\n",
    "        \n",
    "# for i in range(len(ppi['Interactor_B_ID'])):\n",
    "#     ppi_refseq.at[i, 'Interactor_B_ID'] = refseq.loc[ppi['Interactor_B_ID'][i]].RefSeq  "
   ]
  },
  {
   "cell_type": "code",
   "execution_count": 54,
   "metadata": {},
   "outputs": [],
   "source": [
    "# ppi_refseq.to_excel('ppi_refseq.xlsx')"
   ]
  },
  {
   "cell_type": "code",
   "execution_count": 55,
   "metadata": {},
   "outputs": [
    {
     "data": {
      "text/html": [
       "<div>\n",
       "<style scoped>\n",
       "    .dataframe tbody tr th:only-of-type {\n",
       "        vertical-align: middle;\n",
       "    }\n",
       "\n",
       "    .dataframe tbody tr th {\n",
       "        vertical-align: top;\n",
       "    }\n",
       "\n",
       "    .dataframe thead th {\n",
       "        text-align: right;\n",
       "    }\n",
       "</style>\n",
       "<table border=\"1\" class=\"dataframe\">\n",
       "  <thead>\n",
       "    <tr style=\"text-align: right;\">\n",
       "      <th></th>\n",
       "      <th>Interactor_A_ID</th>\n",
       "      <th>Interactor_B_ID</th>\n",
       "    </tr>\n",
       "  </thead>\n",
       "  <tbody>\n",
       "    <tr>\n",
       "      <th>0</th>\n",
       "      <td>SAOUHSC_00505</td>\n",
       "      <td>SAOUHSC_00790</td>\n",
       "    </tr>\n",
       "    <tr>\n",
       "      <th>1</th>\n",
       "      <td>SAOUHSC_02116</td>\n",
       "      <td>SAOUHSC_02117</td>\n",
       "    </tr>\n",
       "    <tr>\n",
       "      <th>2</th>\n",
       "      <td>SAOUHSC_00119</td>\n",
       "      <td>SAOUHSC_00127</td>\n",
       "    </tr>\n",
       "    <tr>\n",
       "      <th>3</th>\n",
       "      <td>SAOUHSC_00120</td>\n",
       "      <td>SAOUHSC_00129</td>\n",
       "    </tr>\n",
       "    <tr>\n",
       "      <th>4</th>\n",
       "      <td>SAOUHSC_01166</td>\n",
       "      <td>SAOUHSC_01169</td>\n",
       "    </tr>\n",
       "    <tr>\n",
       "      <th>...</th>\n",
       "      <td>...</td>\n",
       "      <td>...</td>\n",
       "    </tr>\n",
       "    <tr>\n",
       "      <th>4994</th>\n",
       "      <td>SAOUHSC_00607</td>\n",
       "      <td>SAOUHSC_00935</td>\n",
       "    </tr>\n",
       "    <tr>\n",
       "      <th>4995</th>\n",
       "      <td>SAOUHSC_01550</td>\n",
       "      <td>SAOUHSC_01551</td>\n",
       "    </tr>\n",
       "    <tr>\n",
       "      <th>4996</th>\n",
       "      <td>SAOUHSC_01213</td>\n",
       "      <td>SAOUHSC_02722</td>\n",
       "    </tr>\n",
       "    <tr>\n",
       "      <th>4997</th>\n",
       "      <td>SAOUHSC_02739</td>\n",
       "      <td>SAOUHSC_02919</td>\n",
       "    </tr>\n",
       "    <tr>\n",
       "      <th>4998</th>\n",
       "      <td>SAOUHSC_02058</td>\n",
       "      <td>SAOUHSC_02060</td>\n",
       "    </tr>\n",
       "  </tbody>\n",
       "</table>\n",
       "<p>4999 rows × 2 columns</p>\n",
       "</div>"
      ],
      "text/plain": [
       "     Interactor_A_ID Interactor_B_ID\n",
       "0      SAOUHSC_00505   SAOUHSC_00790\n",
       "1      SAOUHSC_02116   SAOUHSC_02117\n",
       "2      SAOUHSC_00119   SAOUHSC_00127\n",
       "3      SAOUHSC_00120   SAOUHSC_00129\n",
       "4      SAOUHSC_01166   SAOUHSC_01169\n",
       "...              ...             ...\n",
       "4994   SAOUHSC_00607   SAOUHSC_00935\n",
       "4995   SAOUHSC_01550   SAOUHSC_01551\n",
       "4996   SAOUHSC_01213   SAOUHSC_02722\n",
       "4997   SAOUHSC_02739   SAOUHSC_02919\n",
       "4998   SAOUHSC_02058   SAOUHSC_02060\n",
       "\n",
       "[4999 rows x 2 columns]"
      ]
     },
     "execution_count": 55,
     "metadata": {},
     "output_type": "execute_result"
    }
   ],
   "source": [
    "# ppi_refseq #is in terms of SAOUHSC subspecie"
   ]
  }
 ],
 "metadata": {
  "kernelspec": {
   "display_name": "Python 3",
   "language": "python",
   "name": "python3"
  },
  "language_info": {
   "codemirror_mode": {
    "name": "ipython",
    "version": 3
   },
   "file_extension": ".py",
   "mimetype": "text/x-python",
   "name": "python",
   "nbconvert_exporter": "python",
   "pygments_lexer": "ipython3",
   "version": "3.7.6"
  }
 },
 "nbformat": 4,
 "nbformat_minor": 4
}
