{
 "cells": [
  {
   "cell_type": "markdown",
   "metadata": {},
   "source": [
    "Notebooks with tutorials:\n",
    "https://blast.ncbi.nlm.nih.gov/Blast.cgi?CMD=Web&PAGE_TYPE=BlastDocs&DOC_TYPE=CloudBlast"
   ]
  },
  {
   "cell_type": "code",
   "execution_count": 1,
   "metadata": {},
   "outputs": [],
   "source": [
    "from Bio.Blast import NCBIWWW\n",
    "from Bio.Blast import NCBIXML"
   ]
  },
  {
   "cell_type": "code",
   "execution_count": 11,
   "metadata": {
    "scrolled": true
   },
   "outputs": [
    {
     "data": {
      "text/plain": [
       "'>PLF_1279_00001835\\nttgaaaaatattttaaaagtttttaatacaacgattttagcgttaattatcatcatcgcg\\nacattcagtaattctgcaaatgccgcagatagcggtactttgaattatgaggtttacaaa\\ntacaataccaatgacacgtcaattgctaatgactattttaataaaccggcaaagtacatt\\naagaaaaatggtaaattgtatgttcaaataactgtcaaccacagtcattggattactgga\\natgagtatcgaaggacataaagaaaatattattagtaaaaacactgccaaagatgaacgc\\nacttctgaatttgaagtaagtaagttgaacggtaaaatagatggaaaaattgacgtttat\\natcgatgaaaaagtaaatggaaagccattcaaatatgaccatcattacaacattacatat\\naaatttaatggaccaactgatgtagcaggtgctaatgcaccaggtaaagatgataaaaat\\ntctgcttcaggtagtgacaaaggatctgatggaacgactactggtcaaagtgaatctaat\\nagttcgaataaagacaaagtagaaaatccacaaacaaatgctggtacacctgcatatata\\ntatgcaataccagttgcatccttagcattattaatcgcaatcacattgtttgttagaaaa\\naaatctaaaggcaatgtggaataa\\n>PLF_1279_00001833\\natggctttaaagatacggtatcaaactacatatgaaccgtttaaagtagttgatgatatc\\naaagagataccaaaagatgcgactattgtttggtatgattttgatgaaccgaatgaacaa\\ngaaaatgaatggtttaaagcacattttaattttaatgatttagaagtggatgatgcaatt\\naacggtatgccacgagctaaatataaatcttataaagattatcaatacttagtatttcat\\nagtattatggggtcaaactattcaccaatagcactaaatatttttatacaagacaatgta\\nttagtaacatatcatcatcaaacgttggaatcattaaataaagtagtctataagtatatg\\naatacattagatgcagaattagattgtgcagatgtcgtcatattaattttagatatgatg\\ngttgataaatatttcaactttgtatatgcacttgaagatagtgtttatcattttgaagac\\ncgccatgtagatgatcgctttaataaaatggtcatggatagtgtctttaagttacgttcg\\ngatttgattaaagtaaaacgtgtactgtttcctatgcaagagctaattgatacaatgaaa\\ncaaaatggtgatttgattatagataataaacattcgctatacattcaacatatcgatgac\\ncacttgattaagcaacgtaatatcattcgtactgctcaagaaatgacaaacgaaatacga\\ngaaaattttgagtcatacacgtcatttagaatgaatagtattatgcaagtattaacgtta\\ngtatcagttatattttcaccgttaacattcatagctgggatttatggtatgaactttgta\\naatatgccggcattacatttacattatggatattatatttgcttagctgtaatgtttgtt\\natagctgtcgtattaatcatctttttcagacgtaaaaaatggttttaa\\n\\n'"
      ]
     },
     "execution_count": 11,
     "metadata": {},
     "output_type": "execute_result"
    }
   ],
   "source": [
    "plf500 =  'E:/User/bruna.fistarol/Documents/GitHub/Nguyen_et_al_2020/Staphylococcus/fasta.500.0/teste.fasta'\n",
    "sequence_data = open(plf500).read()\n",
    "sequence_data"
   ]
  },
  {
   "cell_type": "code",
   "execution_count": 18,
   "metadata": {},
   "outputs": [],
   "source": [
    "result_handle = NCBIWWW.qblast(\"refseq_\", \"nt\", sequence_data, ncbi_gi=True)"
   ]
  },
  {
   "cell_type": "code",
   "execution_count": 19,
   "metadata": {},
   "outputs": [],
   "source": [
    "with open('results.xml', 'w') as save_file: \n",
    "    blast_results = result_handle.read() \n",
    "    save_file.write(blast_results)"
   ]
  },
  {
   "cell_type": "code",
   "execution_count": 20,
   "metadata": {},
   "outputs": [
    {
     "name": "stdout",
     "output_type": "stream",
     "text": [
      "\n",
      "\n",
      "query: PLF_1279_00001835\n",
      "match: gi|2289339079|gb|CP102974.1| Staphylococcus aureus strain 01-RR-86 chromosome, complete genome \n",
      "match: gi|2289331213|gb|CP102968.1| Staphylococcus aureus strain 13-G-52 chromosome, complete genome \n",
      "match: gi|2289321680|gb|CP102966.1| Staphylococcus aureus strain 29-P-01 chromosome, complete genome \n",
      "match: gi|2273363724|gb|CP101124.1| Staphylococcus aureus subsp. aureus RN4220 chromosome, complete genome \n",
      "match: gi|2269522540|gb|CP091525.1| Staphylococcus aureus strain N09CSA16 chromosome, complete genome \n",
      "match: gi|2264352972|gb|CP099576.1| Staphylococcus aureus strain MRSA1369 chromosome, complete genome \n",
      "match: gi|2252738315|gb|CP098686.1| Staphylococcus aureus strain TCD2 chromosome \n",
      "match: gi|2252735689|gb|CP098687.1| Staphylococcus aureus strain TCD1 chromosome \n",
      "match: gi|2252733057|gb|CP098680.1| Staphylococcus aureus strain TCD10 chromosome \n",
      "match: gi|2252730426|gb|CP098679.1| Staphylococcus aureus strain TCD11 chromosome \n",
      "match: gi|2252727833|gb|CP098678.1| Staphylococcus aureus strain TCD12 chromosome \n",
      "match: gi|2252725200|gb|CP098672.1| Staphylococcus aureus strain TCD18 chromosome \n",
      "match: gi|2252722570|gb|CP098677.1| Staphylococcus aureus strain TCD13 chromosome \n",
      "match: gi|2252719946|gb|CP098683.1| Staphylococcus aureus strain TCD7 chromosome \n",
      "match: gi|2252717320|gb|CP098684.1| Staphylococcus aureus strain TCD4 chromosome \n",
      "match: gi|2252714690|gb|CP098685.1| Staphylococcus aureus strain TCD3 chromosome \n",
      "match: gi|2252707042|gb|CP098671.1| Staphylococcus aureus strain TCD19 chromosome \n",
      "match: gi|2252704411|gb|CP098682.1| Staphylococcus aureus strain TCD8 chromosome \n",
      "match: gi|2252699226|gb|CP098670.1| Staphylococcus aureus strain TCD20 chromosome \n",
      "match: gi|2251999103|dbj|AP024742.1| Staphylococcus aureus 59736 DNA, complete genome \n",
      "match: gi|2251999099|dbj|AP024738.1| Staphylococcus aureus 59731 DNA, complete genome \n",
      "match: gi|2251999097|dbj|AP024736.1| Staphylococcus aureus 59709 DNA, complete genome \n",
      "match: gi|2251999095|dbj|AP024734.1| Staphylococcus aureus 59691 DNA, complete genome \n",
      "match: gi|2251999093|dbj|AP024732.1| Staphylococcus aureus 59621 DNA, complete genome \n",
      "match: gi|2251999091|dbj|AP024730.1| Staphylococcus aureus 59574 DNA, complete genome \n",
      "match: gi|2251999089|dbj|AP024728.1| Staphylococcus aureus 59553 DNA, complete genome \n",
      "match: gi|2251996319|dbj|AP024723.1| Staphylococcus aureus 59458 DNA, complete genome \n",
      "match: gi|2249879806|gb|CP094663.1| Staphylococcus aureus strain 494 chromosome, complete genome \n",
      "match: gi|2235685216|gb|CP059180.1| Staphylococcus aureus strain SH1000 chromosome, complete genome \n",
      "match: gi|2232755822|gb|CP096250.1| Staphylococcus aureus strain RAC013018-A chromosome \n",
      "match: gi|2224838674|dbj|AP025693.1| Staphylococcus aureus JICS127 DNA, complete genome \n",
      "match: gi|2221415216|gb|CP064772.1| Staphylococcus aureus strain TCH32767 chromosome, complete genome \n",
      "match: gi|2221394432|gb|CP078521.1| Staphylococcus aureus strain ATCC 29213 chromosome, complete genome \n",
      "match: gi|2221343750|gb|CP064389.1| Staphylococcus aureus strain PartE-Saureus-RM8376 chromosome, complete  \n",
      "match: gi|2221281263|gb|CP064365.1| Staphylococcus aureus strain PartF-Saureus-RM8376 chromosome, complete  \n",
      "match: gi|2219734079|gb|CP051483.2| Staphylococcus aureus strain NGA66a chromosome, complete genome \n",
      "match: gi|2219733721|gb|CP051482.2| Staphylococcus aureus strain NGA104a chromosome, complete genome \n",
      "match: gi|2219580743|gb|CP094853.1| Staphylococcus aureus strain NY2010 chromosome, complete genome \n",
      "match: gi|2219575389|gb|CP094855.1| Staphylococcus aureus strain NY2491 chromosome, complete genome \n",
      "match: gi|2219572429|gb|CP094857.1| Staphylococcus aureus strain ATCC 29213 chromosome, complete genome \n",
      "match: gi|2215698559|gb|CP094443.1| Staphylococcus aureus strain N10CSA27 chromosome, complete genome \n",
      "match: gi|2212319223|gb|CP093933.1| Staphylococcus aureus strain WA121-2021_15363 chromosome, complete geno \n",
      "match: gi|2212316359|gb|CP093935.1| Staphylococcus aureus strain WA121-2021_16354 chromosome, complete geno \n",
      "match: gi|2212313564|gb|CP093930.1| Staphylococcus aureus strain WA121-2010_15611 chromosome, complete geno \n",
      "match: gi|2211473454|gb|CP092538.1| Staphylococcus aureus strain VMRSA-WC123 chromosome, complete genome \n",
      "match: gi|2211470734|gb|CP092540.1| Staphylococcus aureus strain VMRSA-WC121 chromosome, complete genome \n",
      "match: gi|2211468006|gb|CP092542.1| Staphylococcus aureus strain VRMSSA-WC113 chromosome, complete genome \n",
      "match: gi|2211465300|gb|CP092581.1| Staphylococcus aureus strain VRMSSA-WC111 chromosome, complete genome \n",
      "match: gi|2211462562|gb|CP092544.1| Staphylococcus aureus strain VMRSA-WC102 chromosome, complete genome \n",
      "match: gi|2211459840|gb|CP092547.1| Staphylococcus aureus strain VMRSA-WC083 chromosome, complete genome \n",
      "\n",
      "\n",
      "query: PLF_1279_00001833\n",
      "match: gi|2289327405|gb|CP102967.1| Staphylococcus aureus strain 17-H-61 chromosome, complete genome \n",
      "match: gi|2276811437|gb|CP075563.1| Staphylococcus aureus strain Sta2021027 chromosome, complete genome \n",
      "match: gi|2276808764|gb|CP075562.1| Staphylococcus aureus strain Sta2021010 chromosome, complete genome \n",
      "match: gi|2269522540|gb|CP091525.1| Staphylococcus aureus strain N09CSA16 chromosome, complete genome \n",
      "match: gi|2249879806|gb|CP094663.1| Staphylococcus aureus strain 494 chromosome, complete genome \n",
      "match: gi|2221415216|gb|CP064772.1| Staphylococcus aureus strain TCH32767 chromosome, complete genome \n",
      "match: gi|2221394432|gb|CP078521.1| Staphylococcus aureus strain ATCC 29213 chromosome, complete genome \n",
      "match: gi|2219734736|gb|CP051191.2| Staphylococcus aureus strain NGA102 chromosome, complete genome \n",
      "match: gi|2219727692|gb|CP051479.2| Staphylococcus aureus strain NGA76 chromosome, complete genome \n",
      "match: gi|2219572429|gb|CP094857.1| Staphylococcus aureus strain ATCC 29213 chromosome, complete genome \n",
      "match: gi|2215698559|gb|CP094443.1| Staphylococcus aureus strain N10CSA27 chromosome, complete genome \n",
      "match: gi|2212319223|gb|CP093933.1| Staphylococcus aureus strain WA121-2021_15363 chromosome, complete geno \n",
      "match: gi|2212316359|gb|CP093935.1| Staphylococcus aureus strain WA121-2021_16354 chromosome, complete geno \n",
      "match: gi|2212313564|gb|CP093930.1| Staphylococcus aureus strain WA121-2010_15611 chromosome, complete geno \n",
      "match: gi|2211473454|gb|CP092538.1| Staphylococcus aureus strain VMRSA-WC123 chromosome, complete genome \n",
      "match: gi|2211470734|gb|CP092540.1| Staphylococcus aureus strain VMRSA-WC121 chromosome, complete genome \n",
      "match: gi|2211468006|gb|CP092542.1| Staphylococcus aureus strain VRMSSA-WC113 chromosome, complete genome \n",
      "match: gi|2211465300|gb|CP092581.1| Staphylococcus aureus strain VRMSSA-WC111 chromosome, complete genome \n",
      "match: gi|2211462562|gb|CP092544.1| Staphylococcus aureus strain VMRSA-WC102 chromosome, complete genome \n",
      "match: gi|2211459840|gb|CP092547.1| Staphylococcus aureus strain VMRSA-WC083 chromosome, complete genome \n",
      "match: gi|2211457087|gb|CP092550.1| Staphylococcus aureus strain VMRSA-WC082 chromosome, complete genome \n",
      "match: gi|2211454358|gb|CP092552.1| Staphylococcus aureus strain VMRSA-WC081 chromosome, complete genome \n",
      "match: gi|2211451469|gb|CP092554.1| Staphylococcus aureus strain VMRSA-WC071 chromosome, complete genome \n",
      "match: gi|2211438706|gb|CP092556.1| Staphylococcus aureus strain VMRSA-WC062 chromosome, complete genome \n",
      "match: gi|2211435976|gb|CP092558.1| Staphylococcus aureus strain VMRSA-WC052 chromosome, complete genome \n",
      "match: gi|2211433312|gb|CP092561.1| Staphylococcus aureus strain MRSA-WC101 chromosome, complete genome \n",
      "match: gi|2211430638|gb|CP092563.1| Staphylococcus aureus strain MRSA-WC090 chromosome, complete genome \n",
      "match: gi|2211416384|gb|CP092565.1| Staphylococcus aureus strain MRSA-WC061 chromosome, complete genome \n",
      "match: gi|2211413683|gb|CP092567.1| Staphylococcus aureus strain MRSA-WC000 chromosome, complete genome \n",
      "match: gi|2204867968|gb|CP062455.1| Staphylococcus aureus strain NAS_AN_030 chromosome \n",
      "match: gi|2204816132|gb|CP062423.1| Staphylococcus aureus strain NAS_OP_087 chromosome, complete genome \n",
      "match: gi|2204813566|gb|CP062463.1| Staphylococcus aureus strain NAS_OP_131 chromosome \n",
      "match: gi|2200316453|gb|CP062417.1| Staphylococcus aureus strain NAS_AN_143 chromosome, complete genome \n",
      "match: gi|2200305309|gb|CP062413.1| Staphylococcus aureus strain NAS_AN_176 chromosome, complete genome \n",
      "match: gi|2200300123|gb|CP062411.1| Staphylococcus aureus strain NAS_AN_204 chromosome, complete genome \n",
      "match: gi|2200297505|gb|CP062410.1| Staphylococcus aureus strain NAS_AN_205 chromosome, complete genome \n",
      "match: gi|2200294951|gb|CP062409.1| Staphylococcus aureus strain NAS_AN_239 chromosome, complete genome \n",
      "match: gi|2200274213|gb|CP062401.1| Staphylococcus aureus strain NAS_OP_098 chromosome, complete genome \n",
      "match: gi|2200269041|gb|CP062399.1| Staphylococcus aureus strain NAS_OP_143 chromosome, complete genome \n",
      "match: gi|2200266495|gb|CP062398.1| Staphylococcus aureus strain NAS_OP_154 chromosome, complete genome \n",
      "match: gi|2200255904|gb|CP062388.1| Staphylococcus aureus strain NAS_AN_044 chromosome, complete genome \n",
      "match: gi|2200242668|gb|CP062378.1| Staphylococcus aureus strain NAS_AN_079 chromosome, complete genome \n",
      "match: gi|2200234981|gb|CP062370.1| Staphylococcus aureus strain NAS_AN_111 chromosome, complete genome \n",
      "match: gi|2200232403|gb|CP062368.1| Staphylococcus aureus strain NAS_AN_115 chromosome, complete genome \n",
      "match: gi|2200219247|gb|CP062358.1| Staphylococcus aureus strain NAS_AN_184 chromosome, complete genome \n",
      "match: gi|2200216673|gb|CP062356.1| Staphylococcus aureus strain NAS_AN_203 chromosome, complete genome \n",
      "match: gi|2200208993|gb|CP062352.1| Staphylococcus aureus strain NAS_AN_233 chromosome, complete genome \n",
      "match: gi|2193889158|gb|CP080249.1| Staphylococcus aureus strain NV_1 chromosome, complete genome \n",
      "match: gi|2187003758|gb|CP086215.1| Staphylococcus aureus strain Patient 14, Isolate 02 chromosome, complet \n",
      "match: gi|2179303696|gb|CP090871.1| Staphylococcus aureus strain SAUR_BFS21 chromosome \n"
     ]
    }
   ],
   "source": [
    "E_VALUE_THRESH = 1e-20 \n",
    "for record in NCBIXML.parse(open(\"results.xml\")): \n",
    "    if record.alignments: \n",
    "        print(\"\\n\") \n",
    "        print(\"query: %s\" % record.query[:100]) \n",
    "        for align in record.alignments: \n",
    "            for hsp in align.hsps: \n",
    "                if hsp.expect < E_VALUE_THRESH: \n",
    "                    print(\"match: %s \" % align.title[:100])"
   ]
  },
  {
   "cell_type": "code",
   "execution_count": null,
   "metadata": {},
   "outputs": [],
   "source": []
  }
 ],
 "metadata": {
  "kernelspec": {
   "display_name": "Python 3",
   "language": "python",
   "name": "python3"
  },
  "language_info": {
   "codemirror_mode": {
    "name": "ipython",
    "version": 3
   },
   "file_extension": ".py",
   "mimetype": "text/x-python",
   "name": "python",
   "nbconvert_exporter": "python",
   "pygments_lexer": "ipython3",
   "version": "3.7.6"
  }
 },
 "nbformat": 4,
 "nbformat_minor": 4
}
