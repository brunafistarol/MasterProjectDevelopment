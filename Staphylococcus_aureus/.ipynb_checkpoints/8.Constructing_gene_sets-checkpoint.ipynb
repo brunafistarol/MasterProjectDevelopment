{
 "cells": [
  {
   "cell_type": "code",
   "execution_count": 21,
   "metadata": {},
   "outputs": [],
   "source": [
    "import pandas as pd\n",
    "import numpy as np\n",
    "import networkx as nx\n",
    "import os\n",
    "from os import listdir\n",
    "import random"
   ]
  },
  {
   "cell_type": "markdown",
   "metadata": {},
   "source": [
    "# Staphylococcus aureus subsp. aureus NCTC 8325\n",
    "\n",
    "In order to have the same RefSeq on both databases, this subspecie is used"
   ]
  },
  {
   "cell_type": "code",
   "execution_count": 83,
   "metadata": {},
   "outputs": [],
   "source": [
    "bacteria = 'Staphylococcus'\n",
    "root = 'E:/User/bruna.fistarol/Documents/GitHub'"
   ]
  },
  {
   "cell_type": "markdown",
   "metadata": {},
   "source": [
    "# Data From PATRIC"
   ]
  },
  {
   "cell_type": "markdown",
   "metadata": {},
   "source": [
    "## Genomic Features\n",
    "\n",
    "The table below contains a list of genomic features, including coding DNA.\n",
    "\n",
    "Each feature is solely identified by BRC ID and associated to a protein family referred as PATRIC genus-specific families (PLfams). Most of the genes has the associated RefSeq."
   ]
  },
  {
   "cell_type": "code",
   "execution_count": 23,
   "metadata": {},
   "outputs": [],
   "source": [
    "features = pd.read_csv('genome_features.csv')"
   ]
  },
  {
   "cell_type": "code",
   "execution_count": 88,
   "metadata": {},
   "outputs": [
    {
     "name": "stdout",
     "output_type": "stream",
     "text": [
      "<class 'pandas.core.frame.DataFrame'>\n",
      "RangeIndex: 10999 entries, 0 to 10998\n",
      "Data columns (total 21 columns):\n",
      " #   Column                                   Non-Null Count  Dtype  \n",
      "---  ------                                   --------------  -----  \n",
      " 0   Genome                                   10999 non-null  object \n",
      " 1   Genome ID                                10999 non-null  float64\n",
      " 2   Accession                                10999 non-null  object \n",
      " 3   BRC ID                                   10999 non-null  object \n",
      " 4   RefSeq Locus Tag                         10703 non-null  object \n",
      " 5   Alt Locus Tag                            5488 non-null   object \n",
      " 6   Feature ID                               10999 non-null  object \n",
      " 7   Annotation                               10999 non-null  object \n",
      " 8   Feature Type                             10999 non-null  object \n",
      " 9   Start                                    10999 non-null  int64  \n",
      " 10  End                                      10999 non-null  int64  \n",
      " 11  Length                                   10999 non-null  int64  \n",
      " 12  Strand                                   10999 non-null  object \n",
      " 13  FIGfam ID                                10070 non-null  object \n",
      " 14  PATRIC genus-specific families (PLfams)  10999 non-null  object \n",
      " 15  PATRIC cross-genus families (PGfams)     10999 non-null  object \n",
      " 16  Protein ID                               8022 non-null   object \n",
      " 17  AA Length                                10999 non-null  int64  \n",
      " 18  Gene Symbol                              1198 non-null   object \n",
      " 19  Product                                  10999 non-null  object \n",
      " 20  GO                                       2879 non-null   object \n",
      "dtypes: float64(1), int64(4), object(16)\n",
      "memory usage: 1.8+ MB\n"
     ]
    }
   ],
   "source": [
    "features.info()"
   ]
  },
  {
   "cell_type": "markdown",
   "metadata": {},
   "source": [
    "Through this table, we extract useful data to map protein families referred by Nguyen et. al.:"
   ]
  },
  {
   "cell_type": "code",
   "execution_count": 24,
   "metadata": {},
   "outputs": [
    {
     "data": {
      "text/html": [
       "<div>\n",
       "<style scoped>\n",
       "    .dataframe tbody tr th:only-of-type {\n",
       "        vertical-align: middle;\n",
       "    }\n",
       "\n",
       "    .dataframe tbody tr th {\n",
       "        vertical-align: top;\n",
       "    }\n",
       "\n",
       "    .dataframe thead th {\n",
       "        text-align: right;\n",
       "    }\n",
       "</style>\n",
       "<table border=\"1\" class=\"dataframe\">\n",
       "  <thead>\n",
       "    <tr style=\"text-align: right;\">\n",
       "      <th></th>\n",
       "      <th>PLFam</th>\n",
       "    </tr>\n",
       "    <tr>\n",
       "      <th>BRC_ID</th>\n",
       "      <th></th>\n",
       "    </tr>\n",
       "  </thead>\n",
       "  <tbody>\n",
       "    <tr>\n",
       "      <th>fig|1241616.6.peg.978</th>\n",
       "      <td>PLF_1279_00000947</td>\n",
       "    </tr>\n",
       "    <tr>\n",
       "      <th>fig|1241616.6.peg.979</th>\n",
       "      <td>PLF_1279_00001869</td>\n",
       "    </tr>\n",
       "    <tr>\n",
       "      <th>fig|1241616.6.peg.980</th>\n",
       "      <td>PLF_1279_00000303</td>\n",
       "    </tr>\n",
       "    <tr>\n",
       "      <th>fig|1241616.6.peg.981</th>\n",
       "      <td>PLF_1279_00000735</td>\n",
       "    </tr>\n",
       "    <tr>\n",
       "      <th>fig|1241616.6.peg.982</th>\n",
       "      <td>PLF_1279_00000362</td>\n",
       "    </tr>\n",
       "    <tr>\n",
       "      <th>...</th>\n",
       "      <td>...</td>\n",
       "    </tr>\n",
       "    <tr>\n",
       "      <th>fig|93061.5.peg.83</th>\n",
       "      <td>PLF_1279_00002111</td>\n",
       "    </tr>\n",
       "    <tr>\n",
       "      <th>fig|93061.5.peg.939</th>\n",
       "      <td>PLF_1279_00000867</td>\n",
       "    </tr>\n",
       "    <tr>\n",
       "      <th>fig|93061.5.peg.940</th>\n",
       "      <td>PLF_1279_00000994</td>\n",
       "    </tr>\n",
       "    <tr>\n",
       "      <th>fig|93061.5.peg.941</th>\n",
       "      <td>PLF_1279_00000907</td>\n",
       "    </tr>\n",
       "    <tr>\n",
       "      <th>fig|93061.5.peg.942</th>\n",
       "      <td>PLF_1279_00000657</td>\n",
       "    </tr>\n",
       "  </tbody>\n",
       "</table>\n",
       "<p>10999 rows × 1 columns</p>\n",
       "</div>"
      ],
      "text/plain": [
       "                                   PLFam\n",
       "BRC_ID                                  \n",
       "fig|1241616.6.peg.978  PLF_1279_00000947\n",
       "fig|1241616.6.peg.979  PLF_1279_00001869\n",
       "fig|1241616.6.peg.980  PLF_1279_00000303\n",
       "fig|1241616.6.peg.981  PLF_1279_00000735\n",
       "fig|1241616.6.peg.982  PLF_1279_00000362\n",
       "...                                  ...\n",
       "fig|93061.5.peg.83     PLF_1279_00002111\n",
       "fig|93061.5.peg.939    PLF_1279_00000867\n",
       "fig|93061.5.peg.940    PLF_1279_00000994\n",
       "fig|93061.5.peg.941    PLF_1279_00000907\n",
       "fig|93061.5.peg.942    PLF_1279_00000657\n",
       "\n",
       "[10999 rows x 1 columns]"
      ]
     },
     "execution_count": 24,
     "metadata": {},
     "output_type": "execute_result"
    }
   ],
   "source": [
    "plf = features[['BRC ID', 'PATRIC genus-specific families (PLfams)']].astype(\"string\")\n",
    "plf.columns = ['BRC_ID', 'PLFam']\n",
    "plf.set_index('BRC_ID', inplace = True)\n",
    "plf"
   ]
  },
  {
   "cell_type": "markdown",
   "metadata": {},
   "source": [
    "## Specialty Genes\n",
    "\n",
    "The table containing specialty genes relates several genomic features to a relevant property. Here the table is filtered by the antibiotic resistance property"
   ]
  },
  {
   "cell_type": "code",
   "execution_count": 53,
   "metadata": {},
   "outputs": [],
   "source": [
    "AMR_genes = pd.DataFrame(pd.read_csv('specialty_genes.csv')[['BRC ID', 'Property']])\n",
    "AMR_genes = pd.DataFrame(AMR_genes[AMR_genes['Property'] == 'Antibiotic Resistance']['BRC ID']).reset_index(drop = True)\n",
    "AMR_genes.columns = ['BRC_ID']"
   ]
  },
  {
   "cell_type": "code",
   "execution_count": 54,
   "metadata": {},
   "outputs": [
    {
     "data": {
      "text/html": [
       "<div>\n",
       "<style scoped>\n",
       "    .dataframe tbody tr th:only-of-type {\n",
       "        vertical-align: middle;\n",
       "    }\n",
       "\n",
       "    .dataframe tbody tr th {\n",
       "        vertical-align: top;\n",
       "    }\n",
       "\n",
       "    .dataframe thead th {\n",
       "        text-align: right;\n",
       "    }\n",
       "</style>\n",
       "<table border=\"1\" class=\"dataframe\">\n",
       "  <thead>\n",
       "    <tr style=\"text-align: right;\">\n",
       "      <th></th>\n",
       "      <th>BRC_ID</th>\n",
       "    </tr>\n",
       "  </thead>\n",
       "  <tbody>\n",
       "    <tr>\n",
       "      <th>0</th>\n",
       "      <td>fig|1413510.3.peg.2169</td>\n",
       "    </tr>\n",
       "    <tr>\n",
       "      <th>1</th>\n",
       "      <td>fig|93061.5.peg.1154</td>\n",
       "    </tr>\n",
       "    <tr>\n",
       "      <th>2</th>\n",
       "      <td>fig|93061.5.peg.2089</td>\n",
       "    </tr>\n",
       "    <tr>\n",
       "      <th>3</th>\n",
       "      <td>fig|93061.5.peg.842</td>\n",
       "    </tr>\n",
       "    <tr>\n",
       "      <th>4</th>\n",
       "      <td>fig|158879.11.peg.1813</td>\n",
       "    </tr>\n",
       "    <tr>\n",
       "      <th>...</th>\n",
       "      <td>...</td>\n",
       "    </tr>\n",
       "    <tr>\n",
       "      <th>264</th>\n",
       "      <td>fig|158879.11.peg.2331</td>\n",
       "    </tr>\n",
       "    <tr>\n",
       "      <th>265</th>\n",
       "      <td>fig|1241616.6.peg.1396</td>\n",
       "    </tr>\n",
       "    <tr>\n",
       "      <th>266</th>\n",
       "      <td>fig|158879.11.peg.647</td>\n",
       "    </tr>\n",
       "    <tr>\n",
       "      <th>267</th>\n",
       "      <td>fig|158879.11.peg.2107</td>\n",
       "    </tr>\n",
       "    <tr>\n",
       "      <th>268</th>\n",
       "      <td>fig|1241616.6.peg.2283</td>\n",
       "    </tr>\n",
       "  </tbody>\n",
       "</table>\n",
       "<p>269 rows × 1 columns</p>\n",
       "</div>"
      ],
      "text/plain": [
       "                     BRC_ID\n",
       "0    fig|1413510.3.peg.2169\n",
       "1      fig|93061.5.peg.1154\n",
       "2      fig|93061.5.peg.2089\n",
       "3       fig|93061.5.peg.842\n",
       "4    fig|158879.11.peg.1813\n",
       "..                      ...\n",
       "264  fig|158879.11.peg.2331\n",
       "265  fig|1241616.6.peg.1396\n",
       "266   fig|158879.11.peg.647\n",
       "267  fig|158879.11.peg.2107\n",
       "268  fig|1241616.6.peg.2283\n",
       "\n",
       "[269 rows x 1 columns]"
      ]
     },
     "execution_count": 54,
     "metadata": {},
     "output_type": "execute_result"
    }
   ],
   "source": [
    "AMR_genes"
   ]
  },
  {
   "cell_type": "markdown",
   "metadata": {},
   "source": [
    "## Data from Nguyen et. al."
   ]
  },
  {
   "cell_type": "code",
   "execution_count": 26,
   "metadata": {},
   "outputs": [],
   "source": [
    "plf_500 = []\n",
    "\n",
    "datadir = f'E:/User/bruna.fistarol/Documents/GitHub/Nguyen_et_al_2020/{bacteria}/fasta.500.0'\n",
    "for strain in listdir(datadir):\n",
    "    with open(os.path.join(datadir, strain), 'r') as sequences:\n",
    "        for line in sequences:\n",
    "            if line[0] == '>':\n",
    "                plf_500.append(line[1:len(line)-1])\n",
    "                \n",
    "plf_500 = pd.DataFrame(np.unique(plf_500))\n",
    "plf_500.columns = ['Protein Family ID']"
   ]
  },
  {
   "cell_type": "markdown",
   "metadata": {},
   "source": [
    "## RefSeq Mapping"
   ]
  },
  {
   "cell_type": "code",
   "execution_count": 27,
   "metadata": {},
   "outputs": [],
   "source": [
    "refseq = features[['BRC ID', 'RefSeq Locus Tag']]\n",
    "refseq.columns = ['BRC_ID', 'RefSeq']\n",
    "refseq.set_index('BRC_ID', inplace = True)"
   ]
  },
  {
   "cell_type": "code",
   "execution_count": 60,
   "metadata": {},
   "outputs": [],
   "source": [
    "AMR_refseq = features[['RefSeq Locus Tag']][features['BRC ID'].isin(AMR_genes['BRC_ID'])].reset_index(drop = True)\n",
    "AMR_refseq.columns = ['AMR_RefSeq']"
   ]
  },
  {
   "cell_type": "code",
   "execution_count": 29,
   "metadata": {},
   "outputs": [],
   "source": [
    "plf_map_refseq = features[['RefSeq Locus Tag', 'PATRIC genus-specific families (PLfams)']][features['PATRIC genus-specific families (PLfams)'].isin(plf_500['Protein Family ID'])].reset_index(drop = True)\n",
    "plf_map_refseq.columns = ['RefSeq', 'PLF']\n",
    "plf_map_refseq.dropna(inplace = True)\n",
    "plf_map_refseq = plf_map_refseq.drop_duplicates(subset = 'PLF', keep = 'last')\n",
    "plf_map_refseq.reset_index(drop = True, inplace = True)\n",
    "plf_map_refseq.drop([0, 1, 2], inplace = True)\n",
    "plf_map_refseq.reset_index(drop = True, inplace = True)"
   ]
  },
  {
   "cell_type": "code",
   "execution_count": 30,
   "metadata": {},
   "outputs": [
    {
     "data": {
      "text/html": [
       "<div>\n",
       "<style scoped>\n",
       "    .dataframe tbody tr th:only-of-type {\n",
       "        vertical-align: middle;\n",
       "    }\n",
       "\n",
       "    .dataframe tbody tr th {\n",
       "        vertical-align: top;\n",
       "    }\n",
       "\n",
       "    .dataframe thead th {\n",
       "        text-align: right;\n",
       "    }\n",
       "</style>\n",
       "<table border=\"1\" class=\"dataframe\">\n",
       "  <thead>\n",
       "    <tr style=\"text-align: right;\">\n",
       "      <th></th>\n",
       "      <th>RefSeq</th>\n",
       "      <th>PLF</th>\n",
       "    </tr>\n",
       "  </thead>\n",
       "  <tbody>\n",
       "    <tr>\n",
       "      <th>0</th>\n",
       "      <td>SAOUHSC_01030</td>\n",
       "      <td>PLF_1279_00001903</td>\n",
       "    </tr>\n",
       "    <tr>\n",
       "      <th>1</th>\n",
       "      <td>SAOUHSC_01038</td>\n",
       "      <td>PLF_1279_00000817</td>\n",
       "    </tr>\n",
       "    <tr>\n",
       "      <th>2</th>\n",
       "      <td>SAOUHSC_01044</td>\n",
       "      <td>PLF_1279_00002027</td>\n",
       "    </tr>\n",
       "    <tr>\n",
       "      <th>3</th>\n",
       "      <td>SAOUHSC_01045</td>\n",
       "      <td>PLF_1279_00062515</td>\n",
       "    </tr>\n",
       "    <tr>\n",
       "      <th>4</th>\n",
       "      <td>SAOUHSC_01047</td>\n",
       "      <td>PLF_1279_00000667</td>\n",
       "    </tr>\n",
       "    <tr>\n",
       "      <th>...</th>\n",
       "      <td>...</td>\n",
       "      <td>...</td>\n",
       "    </tr>\n",
       "    <tr>\n",
       "      <th>491</th>\n",
       "      <td>SAOUHSC_01011</td>\n",
       "      <td>PLF_1279_00000821</td>\n",
       "    </tr>\n",
       "    <tr>\n",
       "      <th>492</th>\n",
       "      <td>SAOUHSC_01016</td>\n",
       "      <td>PLF_1279_00000658</td>\n",
       "    </tr>\n",
       "    <tr>\n",
       "      <th>493</th>\n",
       "      <td>SAOUHSC_01019</td>\n",
       "      <td>PLF_1279_00001408</td>\n",
       "    </tr>\n",
       "    <tr>\n",
       "      <th>494</th>\n",
       "      <td>SAOUHSC_01021</td>\n",
       "      <td>PLF_1279_00000378</td>\n",
       "    </tr>\n",
       "    <tr>\n",
       "      <th>495</th>\n",
       "      <td>SAOUHSC_00093</td>\n",
       "      <td>PLF_1279_00002111</td>\n",
       "    </tr>\n",
       "  </tbody>\n",
       "</table>\n",
       "<p>496 rows × 2 columns</p>\n",
       "</div>"
      ],
      "text/plain": [
       "            RefSeq                PLF\n",
       "0    SAOUHSC_01030  PLF_1279_00001903\n",
       "1    SAOUHSC_01038  PLF_1279_00000817\n",
       "2    SAOUHSC_01044  PLF_1279_00002027\n",
       "3    SAOUHSC_01045  PLF_1279_00062515\n",
       "4    SAOUHSC_01047  PLF_1279_00000667\n",
       "..             ...                ...\n",
       "491  SAOUHSC_01011  PLF_1279_00000821\n",
       "492  SAOUHSC_01016  PLF_1279_00000658\n",
       "493  SAOUHSC_01019  PLF_1279_00001408\n",
       "494  SAOUHSC_01021  PLF_1279_00000378\n",
       "495  SAOUHSC_00093  PLF_1279_00002111\n",
       "\n",
       "[496 rows x 2 columns]"
      ]
     },
     "execution_count": 30,
     "metadata": {},
     "output_type": "execute_result"
    }
   ],
   "source": [
    "plf_map_refseq"
   ]
  },
  {
   "cell_type": "markdown",
   "metadata": {},
   "source": [
    "## Protein Interaction Network"
   ]
  },
  {
   "cell_type": "code",
   "execution_count": 31,
   "metadata": {},
   "outputs": [],
   "source": [
    "ppi_patric = pd.read_csv('ppi_patric.csv')\n",
    "ppi_patric = ppi_patric[['Interactor A ID', 'Interactor B ID']].astype(\"string\")\n",
    "ppi_patric.columns = ['Interactor_A_ID', 'Interactor_B_ID']"
   ]
  },
  {
   "cell_type": "code",
   "execution_count": 32,
   "metadata": {},
   "outputs": [],
   "source": [
    "ppi_refseq = ppi_patric\n",
    "for i in range(len(ppi_refseq['Interactor_A_ID'])):\n",
    "    if ppi_refseq['Interactor_A_ID'][i] in list(refseq.index):\n",
    "        ppi_refseq.at[i, 'Interactor_A_ID'] = refseq.loc[ppi_refseq['Interactor_A_ID'][i]].RefSeq\n",
    "    else:\n",
    "        ppi_refseq.drop(inplace = True, labels = i)\n",
    "        \n",
    "ppi_refseq.reset_index(inplace = True, drop = True)\n",
    "        \n",
    "for i in range(len(ppi_refseq['Interactor_B_ID'])):\n",
    "    if ppi_refseq['Interactor_B_ID'][i]in (refseq.index):\n",
    "        ppi_refseq.at[i, 'Interactor_B_ID'] = refseq.loc[ppi_refseq['Interactor_B_ID'][i]].RefSeq\n",
    "    else:\n",
    "        ppi_refseq.drop(inplace = True, labels = i)"
   ]
  },
  {
   "cell_type": "code",
   "execution_count": 33,
   "metadata": {},
   "outputs": [],
   "source": [
    "ppi_string = pd.read_csv('ppi_string.txt', sep = ' ')\n",
    "ppi_string.columns = ['Interactor_A_ID', 'Interactor_B_ID', 'weight']\n",
    "ppi_string.replace('93061.', '', regex = True, inplace = True)"
   ]
  },
  {
   "cell_type": "code",
   "execution_count": 36,
   "metadata": {},
   "outputs": [],
   "source": [
    "ppi_all = pd.DataFrame(pd.concat([ppi_refseq, ppi_string], axis = 0)).reset_index()"
   ]
  },
  {
   "cell_type": "code",
   "execution_count": 37,
   "metadata": {},
   "outputs": [],
   "source": [
    "ppi_all.fillna(999, inplace = True)"
   ]
  },
  {
   "cell_type": "code",
   "execution_count": 38,
   "metadata": {},
   "outputs": [
    {
     "data": {
      "text/html": [
       "<div>\n",
       "<style scoped>\n",
       "    .dataframe tbody tr th:only-of-type {\n",
       "        vertical-align: middle;\n",
       "    }\n",
       "\n",
       "    .dataframe tbody tr th {\n",
       "        vertical-align: top;\n",
       "    }\n",
       "\n",
       "    .dataframe thead th {\n",
       "        text-align: right;\n",
       "    }\n",
       "</style>\n",
       "<table border=\"1\" class=\"dataframe\">\n",
       "  <thead>\n",
       "    <tr style=\"text-align: right;\">\n",
       "      <th></th>\n",
       "      <th>index</th>\n",
       "      <th>Interactor_A_ID</th>\n",
       "      <th>Interactor_B_ID</th>\n",
       "      <th>weight</th>\n",
       "    </tr>\n",
       "  </thead>\n",
       "  <tbody>\n",
       "    <tr>\n",
       "      <th>0</th>\n",
       "      <td>0</td>\n",
       "      <td>SAOUHSC_00505</td>\n",
       "      <td>SAOUHSC_00790</td>\n",
       "      <td>999.0</td>\n",
       "    </tr>\n",
       "    <tr>\n",
       "      <th>1</th>\n",
       "      <td>1</td>\n",
       "      <td>SAOUHSC_02116</td>\n",
       "      <td>SAOUHSC_02117</td>\n",
       "      <td>999.0</td>\n",
       "    </tr>\n",
       "    <tr>\n",
       "      <th>2</th>\n",
       "      <td>2</td>\n",
       "      <td>SAOUHSC_00119</td>\n",
       "      <td>SAOUHSC_00127</td>\n",
       "      <td>999.0</td>\n",
       "    </tr>\n",
       "    <tr>\n",
       "      <th>3</th>\n",
       "      <td>3</td>\n",
       "      <td>SAOUHSC_00120</td>\n",
       "      <td>SAOUHSC_00129</td>\n",
       "      <td>999.0</td>\n",
       "    </tr>\n",
       "    <tr>\n",
       "      <th>4</th>\n",
       "      <td>4</td>\n",
       "      <td>SAOUHSC_01166</td>\n",
       "      <td>SAOUHSC_01169</td>\n",
       "      <td>999.0</td>\n",
       "    </tr>\n",
       "    <tr>\n",
       "      <th>...</th>\n",
       "      <td>...</td>\n",
       "      <td>...</td>\n",
       "      <td>...</td>\n",
       "      <td>...</td>\n",
       "    </tr>\n",
       "    <tr>\n",
       "      <th>68646</th>\n",
       "      <td>63647</td>\n",
       "      <td>SAOUHSC_03037</td>\n",
       "      <td>SAOUHSC_03036</td>\n",
       "      <td>840.0</td>\n",
       "    </tr>\n",
       "    <tr>\n",
       "      <th>68647</th>\n",
       "      <td>63648</td>\n",
       "      <td>SAOUHSC_03052</td>\n",
       "      <td>SAOUHSC_03053</td>\n",
       "      <td>999.0</td>\n",
       "    </tr>\n",
       "    <tr>\n",
       "      <th>68648</th>\n",
       "      <td>63649</td>\n",
       "      <td>SAOUHSC_03053</td>\n",
       "      <td>SAOUHSC_03052</td>\n",
       "      <td>999.0</td>\n",
       "    </tr>\n",
       "    <tr>\n",
       "      <th>68649</th>\n",
       "      <td>63650</td>\n",
       "      <td>SAOUHSC_03054</td>\n",
       "      <td>SAOUHSC_03055</td>\n",
       "      <td>803.0</td>\n",
       "    </tr>\n",
       "    <tr>\n",
       "      <th>68650</th>\n",
       "      <td>63651</td>\n",
       "      <td>SAOUHSC_03055</td>\n",
       "      <td>SAOUHSC_03054</td>\n",
       "      <td>803.0</td>\n",
       "    </tr>\n",
       "  </tbody>\n",
       "</table>\n",
       "<p>68651 rows × 4 columns</p>\n",
       "</div>"
      ],
      "text/plain": [
       "       index Interactor_A_ID Interactor_B_ID  weight\n",
       "0          0   SAOUHSC_00505   SAOUHSC_00790   999.0\n",
       "1          1   SAOUHSC_02116   SAOUHSC_02117   999.0\n",
       "2          2   SAOUHSC_00119   SAOUHSC_00127   999.0\n",
       "3          3   SAOUHSC_00120   SAOUHSC_00129   999.0\n",
       "4          4   SAOUHSC_01166   SAOUHSC_01169   999.0\n",
       "...      ...             ...             ...     ...\n",
       "68646  63647   SAOUHSC_03037   SAOUHSC_03036   840.0\n",
       "68647  63648   SAOUHSC_03052   SAOUHSC_03053   999.0\n",
       "68648  63649   SAOUHSC_03053   SAOUHSC_03052   999.0\n",
       "68649  63650   SAOUHSC_03054   SAOUHSC_03055   803.0\n",
       "68650  63651   SAOUHSC_03055   SAOUHSC_03054   803.0\n",
       "\n",
       "[68651 rows x 4 columns]"
      ]
     },
     "execution_count": 38,
     "metadata": {},
     "output_type": "execute_result"
    }
   ],
   "source": [
    "ppi_all"
   ]
  },
  {
   "cell_type": "code",
   "execution_count": 39,
   "metadata": {},
   "outputs": [],
   "source": [
    "ppi = ppi_all[ppi_all['weight'] > 600].reset_index()"
   ]
  },
  {
   "cell_type": "code",
   "execution_count": 40,
   "metadata": {},
   "outputs": [],
   "source": [
    "conserved_ppi_A = plf_map_refseq[plf_map_refseq['RefSeq'].isin(ppi['Interactor_A_ID'])]['RefSeq']\n",
    "conserved_ppi_B = plf_map_refseq[plf_map_refseq['RefSeq'].isin(ppi['Interactor_B_ID'])]['RefSeq']\n",
    "\n",
    "conserved_ppi = pd.DataFrame(pd.concat([conserved_ppi_A, conserved_ppi_B], axis = 0).drop_duplicates())"
   ]
  },
  {
   "cell_type": "code",
   "execution_count": 41,
   "metadata": {},
   "outputs": [
    {
     "data": {
      "text/html": [
       "<div>\n",
       "<style scoped>\n",
       "    .dataframe tbody tr th:only-of-type {\n",
       "        vertical-align: middle;\n",
       "    }\n",
       "\n",
       "    .dataframe tbody tr th {\n",
       "        vertical-align: top;\n",
       "    }\n",
       "\n",
       "    .dataframe thead th {\n",
       "        text-align: right;\n",
       "    }\n",
       "</style>\n",
       "<table border=\"1\" class=\"dataframe\">\n",
       "  <thead>\n",
       "    <tr style=\"text-align: right;\">\n",
       "      <th></th>\n",
       "      <th>RefSeq</th>\n",
       "    </tr>\n",
       "  </thead>\n",
       "  <tbody>\n",
       "    <tr>\n",
       "      <th>0</th>\n",
       "      <td>SAOUHSC_01030</td>\n",
       "    </tr>\n",
       "    <tr>\n",
       "      <th>1</th>\n",
       "      <td>SAOUHSC_01038</td>\n",
       "    </tr>\n",
       "    <tr>\n",
       "      <th>2</th>\n",
       "      <td>SAOUHSC_01044</td>\n",
       "    </tr>\n",
       "    <tr>\n",
       "      <th>3</th>\n",
       "      <td>SAOUHSC_01045</td>\n",
       "    </tr>\n",
       "    <tr>\n",
       "      <th>4</th>\n",
       "      <td>SAOUHSC_01047</td>\n",
       "    </tr>\n",
       "    <tr>\n",
       "      <th>...</th>\n",
       "      <td>...</td>\n",
       "    </tr>\n",
       "    <tr>\n",
       "      <th>415</th>\n",
       "      <td>SAOUHSC_00606</td>\n",
       "    </tr>\n",
       "    <tr>\n",
       "      <th>430</th>\n",
       "      <td>SAOUHSC_00679</td>\n",
       "    </tr>\n",
       "    <tr>\n",
       "      <th>438</th>\n",
       "      <td>SAOUHSC_00717</td>\n",
       "    </tr>\n",
       "    <tr>\n",
       "      <th>440</th>\n",
       "      <td>SAOUHSC_00721</td>\n",
       "    </tr>\n",
       "    <tr>\n",
       "      <th>443</th>\n",
       "      <td>SAOUHSC_00754</td>\n",
       "    </tr>\n",
       "  </tbody>\n",
       "</table>\n",
       "<p>413 rows × 1 columns</p>\n",
       "</div>"
      ],
      "text/plain": [
       "            RefSeq\n",
       "0    SAOUHSC_01030\n",
       "1    SAOUHSC_01038\n",
       "2    SAOUHSC_01044\n",
       "3    SAOUHSC_01045\n",
       "4    SAOUHSC_01047\n",
       "..             ...\n",
       "415  SAOUHSC_00606\n",
       "430  SAOUHSC_00679\n",
       "438  SAOUHSC_00717\n",
       "440  SAOUHSC_00721\n",
       "443  SAOUHSC_00754\n",
       "\n",
       "[413 rows x 1 columns]"
      ]
     },
     "execution_count": 41,
     "metadata": {},
     "output_type": "execute_result"
    }
   ],
   "source": [
    "conserved_ppi"
   ]
  },
  {
   "cell_type": "code",
   "execution_count": 61,
   "metadata": {},
   "outputs": [],
   "source": [
    "AMR_ppi_A = AMR_refseq[AMR_refseq['AMR_RefSeq'].isin(ppi['Interactor_A_ID'])]['AMR_RefSeq']\n",
    "AMR_ppi_B = AMR_refseq[AMR_refseq['AMR_RefSeq'].isin(ppi['Interactor_B_ID'])]['AMR_RefSeq']\n",
    "\n",
    "AMR_ppi = pd.DataFrame(pd.concat([AMR_ppi_A, AMR_ppi_B], axis = 0))\n",
    "AMR_ppi.reset_index(drop=True, inplace=True)"
   ]
  },
  {
   "cell_type": "code",
   "execution_count": 62,
   "metadata": {},
   "outputs": [
    {
     "data": {
      "text/html": [
       "<div>\n",
       "<style scoped>\n",
       "    .dataframe tbody tr th:only-of-type {\n",
       "        vertical-align: middle;\n",
       "    }\n",
       "\n",
       "    .dataframe tbody tr th {\n",
       "        vertical-align: top;\n",
       "    }\n",
       "\n",
       "    .dataframe thead th {\n",
       "        text-align: right;\n",
       "    }\n",
       "</style>\n",
       "<table border=\"1\" class=\"dataframe\">\n",
       "  <thead>\n",
       "    <tr style=\"text-align: right;\">\n",
       "      <th></th>\n",
       "      <th>AMR_RefSeq</th>\n",
       "    </tr>\n",
       "  </thead>\n",
       "  <tbody>\n",
       "    <tr>\n",
       "      <th>0</th>\n",
       "      <td>SAOUHSC_00099</td>\n",
       "    </tr>\n",
       "    <tr>\n",
       "      <th>1</th>\n",
       "      <td>SAOUHSC_01159</td>\n",
       "    </tr>\n",
       "    <tr>\n",
       "      <th>2</th>\n",
       "      <td>SAOUHSC_01260</td>\n",
       "    </tr>\n",
       "    <tr>\n",
       "      <th>3</th>\n",
       "      <td>SAOUHSC_01351</td>\n",
       "    </tr>\n",
       "    <tr>\n",
       "      <th>4</th>\n",
       "      <td>SAOUHSC_01359</td>\n",
       "    </tr>\n",
       "    <tr>\n",
       "      <th>...</th>\n",
       "      <td>...</td>\n",
       "    </tr>\n",
       "    <tr>\n",
       "      <th>81</th>\n",
       "      <td>SAOUHSC_00694</td>\n",
       "    </tr>\n",
       "    <tr>\n",
       "      <th>82</th>\n",
       "      <td>SAOUHSC_00703</td>\n",
       "    </tr>\n",
       "    <tr>\n",
       "      <th>83</th>\n",
       "      <td>SAOUHSC_00006</td>\n",
       "    </tr>\n",
       "    <tr>\n",
       "      <th>84</th>\n",
       "      <td>SAOUHSC_00921</td>\n",
       "    </tr>\n",
       "    <tr>\n",
       "      <th>85</th>\n",
       "      <td>SAOUHSC_00947</td>\n",
       "    </tr>\n",
       "  </tbody>\n",
       "</table>\n",
       "<p>86 rows × 1 columns</p>\n",
       "</div>"
      ],
      "text/plain": [
       "       AMR_RefSeq\n",
       "0   SAOUHSC_00099\n",
       "1   SAOUHSC_01159\n",
       "2   SAOUHSC_01260\n",
       "3   SAOUHSC_01351\n",
       "4   SAOUHSC_01359\n",
       "..            ...\n",
       "81  SAOUHSC_00694\n",
       "82  SAOUHSC_00703\n",
       "83  SAOUHSC_00006\n",
       "84  SAOUHSC_00921\n",
       "85  SAOUHSC_00947\n",
       "\n",
       "[86 rows x 1 columns]"
      ]
     },
     "execution_count": 62,
     "metadata": {},
     "output_type": "execute_result"
    }
   ],
   "source": [
    "AMR_ppi"
   ]
  },
  {
   "cell_type": "code",
   "execution_count": 63,
   "metadata": {},
   "outputs": [],
   "source": [
    "ppi_info = pd.DataFrame(columns = ['Conserved Gene', 'Shortest Path to an AMR gene (length)',])\n",
    "\n",
    "ppi_info['Conserved Gene'] = conserved_ppi.reset_index(drop = True)['RefSeq']"
   ]
  },
  {
   "cell_type": "code",
   "execution_count": 70,
   "metadata": {},
   "outputs": [],
   "source": [
    "ppi_graph = nx.from_pandas_edgelist(ppi, 'Interactor_A_ID', 'Interactor_B_ID')"
   ]
  },
  {
   "cell_type": "code",
   "execution_count": 65,
   "metadata": {},
   "outputs": [
    {
     "data": {
      "text/plain": [
       "13145"
      ]
     },
     "execution_count": 65,
     "metadata": {},
     "output_type": "execute_result"
    }
   ],
   "source": [
    "ppi_graph.number_of_edges()"
   ]
  },
  {
   "cell_type": "code",
   "execution_count": 66,
   "metadata": {},
   "outputs": [
    {
     "data": {
      "text/plain": [
       "2140"
      ]
     },
     "execution_count": 66,
     "metadata": {},
     "output_type": "execute_result"
    }
   ],
   "source": [
    "ppi_graph.number_of_nodes()"
   ]
  },
  {
   "cell_type": "code",
   "execution_count": 67,
   "metadata": {},
   "outputs": [],
   "source": [
    "ppi_graph = nx.from_pandas_edgelist(ppi, 'Interactor_A_ID', 'Interactor_B_ID')\n",
    "\n",
    "idx = 0\n",
    "for i in conserved_ppi['RefSeq']:\n",
    "    lengths = []\n",
    "    for j in AMR_ppi['AMR_RefSeq']:\n",
    "        if nx.has_path(ppi_graph, i, j):\n",
    "            lengths.append(nx.shortest_path_length(ppi_graph, i, j))\n",
    "    if lengths:        \n",
    "        ppi_info['Shortest Path to an AMR gene (length)'][idx] = min(lengths)\n",
    "        \n",
    "    idx += 1"
   ]
  },
  {
   "cell_type": "code",
   "execution_count": 68,
   "metadata": {},
   "outputs": [
    {
     "name": "stdout",
     "output_type": "stream",
     "text": [
      "   Shortest Path to an AMR gene (length)  Count\n",
      "0                                      0      1\n",
      "1                                      1     80\n",
      "2                                      2    206\n",
      "3                                      3     96\n",
      "4                                      4     16\n",
      "5                                      5      2\n"
     ]
    }
   ],
   "source": [
    "print(ppi_info.groupby(['Shortest Path to an AMR gene (length)']).size().reset_index(name='Count'))"
   ]
  },
  {
   "cell_type": "code",
   "execution_count": 71,
   "metadata": {},
   "outputs": [],
   "source": [
    "plf_map_refseq = plf_map_refseq.set_index('RefSeq')"
   ]
  },
  {
   "cell_type": "code",
   "execution_count": 72,
   "metadata": {},
   "outputs": [],
   "source": [
    "for i in ppi_info['Shortest Path to an AMR gene (length)'].unique():\n",
    "    gene_set = ppi_info[ppi_info['Shortest Path to an AMR gene (length)'] == i]['Conserved Gene']\n",
    "    globals()[f'plf_length_{i}'] = plf_map_refseq.loc[list(gene_set)]['PLF']"
   ]
  },
  {
   "cell_type": "code",
   "execution_count": 73,
   "metadata": {},
   "outputs": [],
   "source": [
    "bacdir = f'{root}/Fistarol_2022_2.0/{bacteria}'\n",
    "\n",
    "os.mkdir(bacdir)\n",
    "\n",
    "for i in ppi_info['Shortest Path to an AMR gene (length)'].unique():\n",
    "    newdir = f'length.{i}'\n",
    "    lendir = os.path.join(bacdir, newdir)\n",
    "    os.mkdir(lendir)\n",
    "    \n",
    "    sample = f'{root}/Nguyen_et_al_2020/{bacteria}/fasta.500.0'\n",
    "    for strain in listdir(sample):\n",
    "        with open(os.path.join(lendir, strain), 'a') as mystrain:\n",
    "            with open(os.path.join(sample, strain), 'r') as sequences:\n",
    "                first_loop = True\n",
    "                for line in sequences:\n",
    "                    if line[0] == '>':\n",
    "                        if first_loop:\n",
    "                            plfam = line[1:len(line)-1]\n",
    "                            seq = ''\n",
    "                            first_loop = False\n",
    "                            continue\n",
    "                        if plfam in list((globals()[f'plf_length_{i}'])):\n",
    "                            mystrain.write('>' + plfam + '\\n')\n",
    "                            mystrain.write(seq)\n",
    "                        plfam = line[1:len(line)-1]\n",
    "                        seq = ''\n",
    "                    else:\n",
    "                        seq += line\n",
    "                if plfam in list((globals()[f'plf_length_{i}'])):\n",
    "                            mystrain.write('>' + plfam + '\\n')\n",
    "                            mystrain.write(seq)"
   ]
  },
  {
   "cell_type": "markdown",
   "metadata": {},
   "source": [
    "At this point, it is possible to use this new configuration of data to run the model. We can take 25 genes to each strain for lengths equals to 1, 2 and 3, because the results from the paper also are derived from groups of 25 genes, hence, we can compare these results."
   ]
  },
  {
   "cell_type": "code",
   "execution_count": 85,
   "metadata": {},
   "outputs": [],
   "source": [
    "dir_25genes = os.path.join(bacdir, '25genes')\n",
    "os.mkdir(dir_25genes)\n",
    "\n",
    "for j in [0, 1, 2, 3, 4]:\n",
    "    \n",
    "    rand_idx = [sorted(random.sample(range(80), 25)), \n",
    "                sorted(random.sample(range(206), 25)), \n",
    "                sorted(random.sample(range(96), 25))]\n",
    "    \n",
    "    for i in range(1, len(rand_idx)+1): \n",
    "        \n",
    "        lendir = os.path.join(bacdir, f'length.{i}')\n",
    "        repdir = os.path.join(dir_25genes, f'length.{i}.{j}')\n",
    "        os.mkdir(repdir)\n",
    "\n",
    "        for strain in listdir(lendir):\n",
    "            with open(os.path.join(repdir, strain), 'a') as mystrain:\n",
    "                with open(os.path.join(lendir, strain), 'r') as sequences:\n",
    "                    c = 0\n",
    "                    first_loop = True\n",
    "                    for line in sequences:\n",
    "                        if line[0] == '>':\n",
    "                            if first_loop:\n",
    "                                plfam = line\n",
    "                                seq = ''\n",
    "                                c += 1\n",
    "                                first_loop = False\n",
    "                                continue\n",
    "                            if c in rand_idx[i-1]:\n",
    "                                mystrain.write(plfam)\n",
    "                                mystrain.write(seq)\n",
    "                            plfam = line\n",
    "                            seq = ''\n",
    "                            c += 1\n",
    "                        else:\n",
    "                            seq += line\n",
    "                    if c in rand_idx[i-1]:\n",
    "                            mystrain.write(plfam)\n",
    "                            mystrain.write(seq)"
   ]
  },
  {
   "cell_type": "code",
   "execution_count": null,
   "metadata": {},
   "outputs": [],
   "source": []
  }
 ],
 "metadata": {
  "kernelspec": {
   "display_name": "Python 3",
   "language": "python",
   "name": "python3"
  },
  "language_info": {
   "codemirror_mode": {
    "name": "ipython",
    "version": 3
   },
   "file_extension": ".py",
   "mimetype": "text/x-python",
   "name": "python",
   "nbconvert_exporter": "python",
   "pygments_lexer": "ipython3",
   "version": "3.7.6"
  }
 },
 "nbformat": 4,
 "nbformat_minor": 4
}
