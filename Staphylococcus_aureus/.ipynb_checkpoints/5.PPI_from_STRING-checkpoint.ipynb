{
 "cells": [
  {
   "cell_type": "markdown",
   "metadata": {},
   "source": [
    "# Repeating the experiments using a PPI provided by STRING database"
   ]
  },
  {
   "cell_type": "code",
   "execution_count": 162,
   "metadata": {},
   "outputs": [],
   "source": [
    "import pandas as pd\n",
    "import numpy as np\n",
    "import networkx as nx\n",
    "import random"
   ]
  },
  {
   "cell_type": "code",
   "execution_count": 132,
   "metadata": {},
   "outputs": [],
   "source": [
    "features = pd.read_csv('genome_features.csv')"
   ]
  },
  {
   "cell_type": "code",
   "execution_count": 133,
   "metadata": {},
   "outputs": [],
   "source": [
    "refseq = features[['BRC ID', 'RefSeq Locus Tag']]\n",
    "refseq.columns = ['BRC_ID', 'RefSeq']\n",
    "refseq.set_index('BRC_ID', inplace = True)"
   ]
  },
  {
   "cell_type": "code",
   "execution_count": 134,
   "metadata": {},
   "outputs": [],
   "source": [
    "ppi_string = pd.read_csv('ppi_string.txt', sep = ' ')\n",
    "ppi_string.columns = ['Interactor_A_ID', 'Interactor_B_ID', 'weight']\n",
    "ppi_string.replace('93061.', '', regex = True, inplace = True)"
   ]
  },
  {
   "cell_type": "code",
   "execution_count": 135,
   "metadata": {},
   "outputs": [],
   "source": [
    "specialty_genes = pd.read_csv('specialty_genes.csv')\n",
    "specialty_genes = specialty_genes[['BRC ID', 'Property']]\n",
    "specialty_genes.columns = ['BRC_ID', 'Property']\n",
    "specialty_genes.set_index('BRC_ID', inplace = True)\n",
    "AMR_genes = pd.DataFrame(specialty_genes.loc[specialty_genes.Property == 'Antibiotic Resistance'].reset_index()['BRC_ID'])"
   ]
  },
  {
   "cell_type": "code",
   "execution_count": 136,
   "metadata": {},
   "outputs": [],
   "source": [
    "import os\n",
    "from os import listdir\n",
    "\n",
    "plf_500 = []\n",
    "\n",
    "datadir = 'E:/User/bruna.fistarol/Documents/GitHub/Nguyen_et_al_2020/Staphylococcus/fasta.500.0'\n",
    "for strain in listdir(datadir):\n",
    "    with open(os.path.join(datadir, strain), 'r') as sequences:\n",
    "        for line in sequences:\n",
    "            if line[0] == '>':\n",
    "                plf_500.append(line[1:len(line)-1])\n",
    "                \n",
    "plf_500 = pd.DataFrame(np.unique(plf_500))\n",
    "plf_500.columns = ['Protein Family ID']"
   ]
  },
  {
   "cell_type": "code",
   "execution_count": 137,
   "metadata": {},
   "outputs": [
    {
     "name": "stderr",
     "output_type": "stream",
     "text": [
      "C:\\ProgramData\\Anaconda3\\lib\\site-packages\\pandas\\core\\frame.py:3997: SettingWithCopyWarning: \n",
      "A value is trying to be set on a copy of a slice from a DataFrame\n",
      "\n",
      "See the caveats in the documentation: https://pandas.pydata.org/pandas-docs/stable/user_guide/indexing.html#returning-a-view-versus-a-copy\n",
      "  errors=errors,\n"
     ]
    }
   ],
   "source": [
    "plf_map_refseq = features[['RefSeq Locus Tag', 'PATRIC genus-specific families (PLfams)']][features['PATRIC genus-specific families (PLfams)'].isin(plf_500['Protein Family ID'])].reset_index(drop = True)\n",
    "plf_map_refseq.columns = ['RefSeq', 'PLF']\n",
    "plf_map_refseq.dropna(inplace = True)\n",
    "plf_SAOUHSC = plf_map_refseq.drop_duplicates(subset = 'PLF', keep = 'last')\n",
    "plf_SAOUHSC.reset_index(drop = True, inplace = True)\n",
    "plf_SAOUHSC.drop([0, 1, 2], inplace = True)\n",
    "plf_SAOUHSC.reset_index(drop = True, inplace = True)"
   ]
  },
  {
   "cell_type": "code",
   "execution_count": 138,
   "metadata": {
    "scrolled": true
   },
   "outputs": [],
   "source": [
    "AMR_refseq = features[['RefSeq Locus Tag']][features['BRC ID'].isin(AMR_genes['BRC_ID'])].reset_index(drop = True)\n",
    "AMR_refseq.columns = ['AMR_RefSeq']"
   ]
  },
  {
   "cell_type": "code",
   "execution_count": 139,
   "metadata": {},
   "outputs": [],
   "source": [
    "ppi_patric = pd.read_csv('ppi_patric.csv')\n",
    "ppi_patric = ppi_patric[['Interactor A ID', 'Interactor B ID']].astype(\"string\")\n",
    "ppi_patric.columns = ['Interactor_A_ID', 'Interactor_B_ID']\n",
    "ppi_patric.drop(2085, axis = 0, inplace = True)\n",
    "ppi_patric.reset_index(drop=True, inplace=True)\n",
    "ppi_refseq = ppi_patric\n",
    "\n",
    "for i in range(len(ppi_patric['Interactor_A_ID'])):\n",
    "    ppi_refseq.at[i, 'Interactor_A_ID'] = refseq.loc[ppi_patric['Interactor_A_ID'][i]].RefSeq\n",
    "        \n",
    "for i in range(len(ppi_patric['Interactor_B_ID'])):\n",
    "    ppi_refseq.at[i, 'Interactor_B_ID'] = refseq.loc[ppi_patric['Interactor_B_ID'][i]].RefSeq "
   ]
  },
  {
   "cell_type": "code",
   "execution_count": 140,
   "metadata": {},
   "outputs": [],
   "source": [
    "ppi = pd.DataFrame(pd.concat([ppi_refseq, ppi_string], axis = 0).drop_duplicates())"
   ]
  },
  {
   "cell_type": "code",
   "execution_count": 141,
   "metadata": {},
   "outputs": [],
   "source": [
    "conserved_ppi_A = plf_SAOUHSC[plf_SAOUHSC['RefSeq'].isin(ppi['Interactor_A_ID'])]['RefSeq']\n",
    "conserved_ppi_B = plf_SAOUHSC[plf_SAOUHSC['RefSeq'].isin(ppi['Interactor_B_ID'])]['RefSeq']\n",
    "\n",
    "conserved_ppi = pd.DataFrame(pd.concat([conserved_ppi_A, conserved_ppi_B], axis = 0).drop_duplicates())"
   ]
  },
  {
   "cell_type": "code",
   "execution_count": 142,
   "metadata": {},
   "outputs": [
    {
     "data": {
      "text/html": [
       "<div>\n",
       "<style scoped>\n",
       "    .dataframe tbody tr th:only-of-type {\n",
       "        vertical-align: middle;\n",
       "    }\n",
       "\n",
       "    .dataframe tbody tr th {\n",
       "        vertical-align: top;\n",
       "    }\n",
       "\n",
       "    .dataframe thead th {\n",
       "        text-align: right;\n",
       "    }\n",
       "</style>\n",
       "<table border=\"1\" class=\"dataframe\">\n",
       "  <thead>\n",
       "    <tr style=\"text-align: right;\">\n",
       "      <th></th>\n",
       "      <th>RefSeq</th>\n",
       "    </tr>\n",
       "  </thead>\n",
       "  <tbody>\n",
       "    <tr>\n",
       "      <th>0</th>\n",
       "      <td>SAOUHSC_01030</td>\n",
       "    </tr>\n",
       "    <tr>\n",
       "      <th>1</th>\n",
       "      <td>SAOUHSC_01038</td>\n",
       "    </tr>\n",
       "    <tr>\n",
       "      <th>2</th>\n",
       "      <td>SAOUHSC_01044</td>\n",
       "    </tr>\n",
       "    <tr>\n",
       "      <th>3</th>\n",
       "      <td>SAOUHSC_01045</td>\n",
       "    </tr>\n",
       "    <tr>\n",
       "      <th>4</th>\n",
       "      <td>SAOUHSC_01047</td>\n",
       "    </tr>\n",
       "    <tr>\n",
       "      <th>...</th>\n",
       "      <td>...</td>\n",
       "    </tr>\n",
       "    <tr>\n",
       "      <th>338</th>\n",
       "      <td>SAOUHSC_02906</td>\n",
       "    </tr>\n",
       "    <tr>\n",
       "      <th>346</th>\n",
       "      <td>SAOUHSC_02935</td>\n",
       "    </tr>\n",
       "    <tr>\n",
       "      <th>411</th>\n",
       "      <td>SAOUHSC_00565</td>\n",
       "    </tr>\n",
       "    <tr>\n",
       "      <th>438</th>\n",
       "      <td>SAOUHSC_00717</td>\n",
       "    </tr>\n",
       "    <tr>\n",
       "      <th>443</th>\n",
       "      <td>SAOUHSC_00754</td>\n",
       "    </tr>\n",
       "  </tbody>\n",
       "</table>\n",
       "<p>437 rows × 1 columns</p>\n",
       "</div>"
      ],
      "text/plain": [
       "            RefSeq\n",
       "0    SAOUHSC_01030\n",
       "1    SAOUHSC_01038\n",
       "2    SAOUHSC_01044\n",
       "3    SAOUHSC_01045\n",
       "4    SAOUHSC_01047\n",
       "..             ...\n",
       "338  SAOUHSC_02906\n",
       "346  SAOUHSC_02935\n",
       "411  SAOUHSC_00565\n",
       "438  SAOUHSC_00717\n",
       "443  SAOUHSC_00754\n",
       "\n",
       "[437 rows x 1 columns]"
      ]
     },
     "execution_count": 142,
     "metadata": {},
     "output_type": "execute_result"
    }
   ],
   "source": [
    "conserved_ppi"
   ]
  },
  {
   "cell_type": "code",
   "execution_count": 143,
   "metadata": {},
   "outputs": [],
   "source": [
    "AMR_ppi_A = AMR_refseq[AMR_refseq['AMR_RefSeq'].isin(ppi['Interactor_A_ID'])]['AMR_RefSeq']\n",
    "AMR_ppi_B = AMR_refseq[AMR_refseq['AMR_RefSeq'].isin(ppi['Interactor_B_ID'])]['AMR_RefSeq']\n",
    "\n",
    "AMR_ppi = pd.DataFrame(pd.concat([AMR_ppi_A, AMR_ppi_B], axis = 0))\n",
    "AMR_ppi.reset_index(drop=True, inplace=True)"
   ]
  },
  {
   "cell_type": "code",
   "execution_count": 144,
   "metadata": {},
   "outputs": [
    {
     "data": {
      "text/html": [
       "<div>\n",
       "<style scoped>\n",
       "    .dataframe tbody tr th:only-of-type {\n",
       "        vertical-align: middle;\n",
       "    }\n",
       "\n",
       "    .dataframe tbody tr th {\n",
       "        vertical-align: top;\n",
       "    }\n",
       "\n",
       "    .dataframe thead th {\n",
       "        text-align: right;\n",
       "    }\n",
       "</style>\n",
       "<table border=\"1\" class=\"dataframe\">\n",
       "  <thead>\n",
       "    <tr style=\"text-align: right;\">\n",
       "      <th></th>\n",
       "      <th>AMR_RefSeq</th>\n",
       "    </tr>\n",
       "  </thead>\n",
       "  <tbody>\n",
       "    <tr>\n",
       "      <th>0</th>\n",
       "      <td>SAOUHSC_00099</td>\n",
       "    </tr>\n",
       "    <tr>\n",
       "      <th>1</th>\n",
       "      <td>SAOUHSC_01071</td>\n",
       "    </tr>\n",
       "    <tr>\n",
       "      <th>2</th>\n",
       "      <td>SAOUHSC_01159</td>\n",
       "    </tr>\n",
       "    <tr>\n",
       "      <th>3</th>\n",
       "      <td>SAOUHSC_01260</td>\n",
       "    </tr>\n",
       "    <tr>\n",
       "      <th>4</th>\n",
       "      <td>SAOUHSC_01351</td>\n",
       "    </tr>\n",
       "    <tr>\n",
       "      <th>...</th>\n",
       "      <td>...</td>\n",
       "    </tr>\n",
       "    <tr>\n",
       "      <th>88</th>\n",
       "      <td>SAOUHSC_00694</td>\n",
       "    </tr>\n",
       "    <tr>\n",
       "      <th>89</th>\n",
       "      <td>SAOUHSC_00703</td>\n",
       "    </tr>\n",
       "    <tr>\n",
       "      <th>90</th>\n",
       "      <td>SAOUHSC_00006</td>\n",
       "    </tr>\n",
       "    <tr>\n",
       "      <th>91</th>\n",
       "      <td>SAOUHSC_00921</td>\n",
       "    </tr>\n",
       "    <tr>\n",
       "      <th>92</th>\n",
       "      <td>SAOUHSC_00947</td>\n",
       "    </tr>\n",
       "  </tbody>\n",
       "</table>\n",
       "<p>93 rows × 1 columns</p>\n",
       "</div>"
      ],
      "text/plain": [
       "       AMR_RefSeq\n",
       "0   SAOUHSC_00099\n",
       "1   SAOUHSC_01071\n",
       "2   SAOUHSC_01159\n",
       "3   SAOUHSC_01260\n",
       "4   SAOUHSC_01351\n",
       "..            ...\n",
       "88  SAOUHSC_00694\n",
       "89  SAOUHSC_00703\n",
       "90  SAOUHSC_00006\n",
       "91  SAOUHSC_00921\n",
       "92  SAOUHSC_00947\n",
       "\n",
       "[93 rows x 1 columns]"
      ]
     },
     "execution_count": 144,
     "metadata": {},
     "output_type": "execute_result"
    }
   ],
   "source": [
    "AMR_ppi"
   ]
  },
  {
   "cell_type": "code",
   "execution_count": 145,
   "metadata": {},
   "outputs": [],
   "source": [
    "ppi_info = pd.DataFrame(columns = ['Conserved Gene', 'Shortest Path to an AMR gene (length)',])\n",
    "\n",
    "ppi_info['Conserved Gene'] = conserved_ppi.reset_index(drop = True)['RefSeq']"
   ]
  },
  {
   "cell_type": "code",
   "execution_count": 146,
   "metadata": {},
   "outputs": [],
   "source": [
    "ppi_graph = nx.from_pandas_edgelist(ppi, 'Interactor_A_ID', 'Interactor_B_ID')"
   ]
  },
  {
   "cell_type": "code",
   "execution_count": 147,
   "metadata": {},
   "outputs": [],
   "source": [
    "ppi_graph = nx.from_pandas_edgelist(ppi, 'Interactor_A_ID', 'Interactor_B_ID')\n",
    "\n",
    "idx = 0\n",
    "for i in conserved_ppi['RefSeq']:\n",
    "    lengths = []\n",
    "    for j in AMR_ppi['AMR_RefSeq']:\n",
    "        if nx.has_path(ppi_graph, i, j):\n",
    "            lengths.append(nx.shortest_path_length(ppi_graph, i, j))\n",
    "    if lengths:        \n",
    "        ppi_info['Shortest Path to an AMR gene (length)'][idx] = min(lengths)\n",
    "        \n",
    "    idx += 1"
   ]
  },
  {
   "cell_type": "code",
   "execution_count": 148,
   "metadata": {},
   "outputs": [
    {
     "name": "stdout",
     "output_type": "stream",
     "text": [
      "   Shortest Path to an AMR gene (length)  Count\n",
      "0                                      0      1\n",
      "1                                      1    176\n",
      "2                                      2    216\n",
      "3                                      3     39\n",
      "4                                      4      1\n"
     ]
    }
   ],
   "source": [
    "print(ppi_info.groupby(['Shortest Path to an AMR gene (length)']).size().reset_index(name='Count'))"
   ]
  },
  {
   "cell_type": "code",
   "execution_count": null,
   "metadata": {},
   "outputs": [],
   "source": [
    "plf_SAOUHSC = plf_SAOUHSC.set_index('RefSeq')"
   ]
  },
  {
   "cell_type": "code",
   "execution_count": 155,
   "metadata": {},
   "outputs": [],
   "source": [
    "for i in ppi_info['Shortest Path to an AMR gene (length)'].unique():\n",
    "    gene_set = ppi_info[ppi_info['Shortest Path to an AMR gene (length)'] == i]['Conserved Gene']\n",
    "    globals()[f'plf_length_{i}'] = plf_SAOUHSC.loc[list(gene_set)]['PLF']"
   ]
  },
  {
   "cell_type": "code",
   "execution_count": 158,
   "metadata": {},
   "outputs": [],
   "source": [
    "mydir = 'E:/User/bruna.fistarol/Documents/GitHub/Fistarol_2022_2.0/Staphylococcus'\n",
    "datadir = 'E:/User/bruna.fistarol/Documents/GitHub/Nguyen_et_al_2020/Staphylococcus'\n",
    "\n",
    "for i in ppi_info['Shortest Path to an AMR gene (length)'].unique():\n",
    "    newdir = f'length.{i}'\n",
    "    path = os.path.join(mydir, newdir)\n",
    "    os.mkdir(path)\n",
    "    \n",
    "    sample = f'E:/User/bruna.fistarol/Documents/GitHub/Nguyen_et_al_2020/Staphylococcus/fasta.500.0'\n",
    "    for strain in listdir(sample):\n",
    "        with open(os.path.join(path, strain), 'a') as mystrain:\n",
    "            with open(os.path.join(sample, strain), 'r') as sequences:\n",
    "                first_loop = True\n",
    "                for line in sequences:\n",
    "                    if line[0] == '>':\n",
    "                        if first_loop:\n",
    "                            plfam = line[1:len(line)-1]\n",
    "                            seq = ''\n",
    "                            first_loop = False\n",
    "                            continue\n",
    "                        if plfam in list((globals()[f'plf_length_{i}'])):\n",
    "                            mystrain.write('>' + plfam + '\\n')\n",
    "                            mystrain.write(seq)\n",
    "                        plfam = line[1:len(line)-1]\n",
    "                        seq = ''\n",
    "                    else:\n",
    "                        seq += line\n",
    "                if plfam in list((globals()[f'plf_length_{i}'])):\n",
    "                            mystrain.write('>' + plfam + '\\n')\n",
    "                            mystrain.write(seq)"
   ]
  },
  {
   "cell_type": "code",
   "execution_count": 159,
   "metadata": {},
   "outputs": [],
   "source": [
    "for i in ppi_info['Shortest Path to an AMR gene (length)'].unique():\n",
    "    globals()[f'len_{i}'] = []\n",
    "    for strain in listdir(f'E:/User/bruna.fistarol/Documents/GitHub/Fistarol_2022_2.0/Staphylococcus/length.{i}'):\n",
    "        with open(os.path.join(f'E:/User/bruna.fistarol/Documents/GitHub/Fistarol_2022_2.0/Staphylococcus/length.{i}', strain), 'r') as sequence:\n",
    "            genes = 0\n",
    "            for line in sequence:\n",
    "                if line[0] == '>':\n",
    "                    genes += 1\n",
    "            globals()[f'len_{i}'].append(genes)"
   ]
  },
  {
   "cell_type": "markdown",
   "metadata": {},
   "source": [
    "For each strain considering different path lengths to an AMR gene, we have the following number of genes:"
   ]
  },
  {
   "cell_type": "code",
   "execution_count": 160,
   "metadata": {},
   "outputs": [
    {
     "name": "stdout",
     "output_type": "stream",
     "text": [
      "2 216.58359621451103\n",
      "1 177.18927444794951\n",
      "3 39.03785488958991\n",
      "0 1.0063091482649842\n",
      "nan 0.0\n",
      "4 1.0\n"
     ]
    }
   ],
   "source": [
    "for i in ppi_info['Shortest Path to an AMR gene (length)'].unique():\n",
    "    print(i, np.mean(globals()[f'len_{i}']))"
   ]
  },
  {
   "cell_type": "markdown",
   "metadata": {},
   "source": [
    "At this point, it is possible to use this new configuration of data to run the model. We can take 25 genes to each strain for lengths equals to 1, 2, 3 and 4, because the results from the paper also are derived from groups of 25 genes, hence, we can compare these results."
   ]
  },
  {
   "cell_type": "code",
   "execution_count": 164,
   "metadata": {},
   "outputs": [],
   "source": [
    "mydir = 'E:/User/bruna.fistarol/Documents/GitHub/Fistarol_2022_2.0/Staphylococcus'\n",
    "os.mkdir(os.path.join(mydir, '25genes'))\n",
    "dir_25genes = 'E:/User/bruna.fistarol/Documents/GitHub/Fistarol_2022_2.0/Staphylococcus/25genes'\n",
    "\n",
    "for j in [0, 1, 2, 3, 4]:\n",
    "    \n",
    "    rand_idx = [sorted(random.sample(range(1,36), 25)), \n",
    "                sorted(random.sample(range(1,105), 25)), \n",
    "                sorted(random.sample(range(1,69), 25))]\n",
    "    \n",
    "    for i in [1, 2, 3]:   \n",
    "\n",
    "        path = f'E:/User/bruna.fistarol/Documents/GitHub/Fistarol_2022_2.0/Staphylococcus/length.{i}'\n",
    "        mydir = os.path.join(dir_25genes, f'length.{i}.{j}')\n",
    "        os.mkdir(mydir)\n",
    "\n",
    "        for strain in listdir(path):\n",
    "            with open(os.path.join(mydir, strain), 'a') as mystrain:\n",
    "                with open(os.path.join(path, strain), 'r') as sequences:\n",
    "                    c = 0\n",
    "                    first_loop = True\n",
    "                    for line in sequences:\n",
    "                        if line[0] == '>':\n",
    "                            if first_loop:\n",
    "                                plfam = line\n",
    "                                seq = ''\n",
    "                                c += 1\n",
    "                                first_loop = False\n",
    "                                continue\n",
    "                            if c in rand_idx[i-1]:\n",
    "                                mystrain.write(plfam)\n",
    "                                mystrain.write(seq)\n",
    "                            plfam = line\n",
    "                            seq = ''\n",
    "                            c += 1\n",
    "                        else:\n",
    "                            seq += line\n",
    "                    if c in rand_idx[i-1]:\n",
    "                            mystrain.write(plfam)\n",
    "                            mystrain.write(seq)"
   ]
  },
  {
   "cell_type": "code",
   "execution_count": null,
   "metadata": {},
   "outputs": [],
   "source": []
  }
 ],
 "metadata": {
  "kernelspec": {
   "display_name": "Python 3",
   "language": "python",
   "name": "python3"
  },
  "language_info": {
   "codemirror_mode": {
    "name": "ipython",
    "version": 3
   },
   "file_extension": ".py",
   "mimetype": "text/x-python",
   "name": "python",
   "nbconvert_exporter": "python",
   "pygments_lexer": "ipython3",
   "version": "3.7.6"
  }
 },
 "nbformat": 4,
 "nbformat_minor": 4
}
