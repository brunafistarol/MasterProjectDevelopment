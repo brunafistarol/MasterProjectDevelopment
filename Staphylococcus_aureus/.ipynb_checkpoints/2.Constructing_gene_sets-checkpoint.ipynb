{
 "cells": [
  {
   "cell_type": "code",
   "execution_count": 2,
   "metadata": {},
   "outputs": [],
   "source": [
    "import pandas as pd\n",
    "import numpy as np\n",
    "import networkx as nx\n",
    "import os\n",
    "import random"
   ]
  },
  {
   "cell_type": "code",
   "execution_count": 5,
   "metadata": {},
   "outputs": [],
   "source": [
    "features = pd.read_csv('genome_features.csv')"
   ]
  },
  {
   "cell_type": "code",
   "execution_count": 7,
   "metadata": {},
   "outputs": [],
   "source": [
    "plf = features[['BRC ID', 'PATRIC genus-specific families (PLfams)']].astype(\"string\")\n",
    "plf.columns = ['BRC_ID', 'PLFam']\n",
    "plf.set_index('BRC_ID', inplace = True)"
   ]
  },
  {
   "cell_type": "code",
   "execution_count": 8,
   "metadata": {},
   "outputs": [],
   "source": [
    "specialty_genes = pd.read_csv('specialty_genes.csv')\n",
    "specialty_genes = specialty_genes[['BRC ID', 'Property']]\n",
    "specialty_genes.columns = ['BRC_ID', 'Property']\n",
    "specialty_genes.set_index('BRC_ID', inplace = True)\n",
    "specialty_genes.Property.unique()\n",
    "AMR_genes = pd.DataFrame(specialty_genes.loc[specialty_genes.Property == 'Antibiotic Resistance'].reset_index()['BRC_ID'])"
   ]
  },
  {
   "cell_type": "markdown",
   "metadata": {},
   "source": [
    "# Running the model with different groups of genes\n",
    "\n",
    "Once we did not have a satisfactory result calculating correlation, we will try to look ate the model performance using groups of genes constructed according to the path length to an AMR gene. \n",
    "\n",
    "However, we can not use different replicates because each strain in a different replicate has different protein families associated. So, the separation considering different replicates will gives different samples and we need to have the same features on each strain.\n",
    "\n",
    "## Constructing sets of genes according to the path length\n",
    "\n",
    "From now one, we will consider the set of strains using 500 conserved genes.\n",
    "\n",
    "Taking protein families from this experiment set:"
   ]
  },
  {
   "cell_type": "code",
   "execution_count": 3,
   "metadata": {},
   "outputs": [],
   "source": [
    "import os\n",
    "from os import listdir\n",
    "\n",
    "plf_500 = []\n",
    "\n",
    "#path to original dataset\n",
    "datadir = 'E:/User/bruna.fistarol/Documents/GitHub/Nguyen_et_al_2020/Staphylococcus/fasta.500.0'\n",
    "for strain in listdir(datadir):\n",
    "    with open(os.path.join(datadir, strain), 'r') as sequences:\n",
    "        for line in sequences:\n",
    "            if line[0] == '>':\n",
    "                plf_500.append(line[1:len(line)-1])\n",
    "                \n",
    "plf_500 = pd.DataFrame(np.unique(plf_500))\n",
    "plf_500.columns = ['Protein Family ID']"
   ]
  },
  {
   "cell_type": "markdown",
   "metadata": {},
   "source": [
    "Once the information used in the paper from Nguyen is given in therms of protein families, we need to associate every feature for a corresponding protein family.\n",
    "\n",
    "Constructing the PPI in terms of protein families for conserved genes:"
   ]
  },
  {
   "cell_type": "code",
   "execution_count": 9,
   "metadata": {},
   "outputs": [],
   "source": [
    "ppi = pd.read_csv('ppi_patric.csv')\n",
    "ppi = ppi[['Interactor A ID', 'Interactor B ID']].astype(\"string\")\n",
    "ppi.columns = ['Interactor_A_ID', 'Interactor_B_ID']\n",
    "ppi.drop(2085, axis = 0, inplace = True)\n",
    "ppi.reset_index(drop=True, inplace=True)\n",
    "\n",
    "ppi_plfams = ppi\n",
    "\n",
    "for i in range(len(ppi['Interactor_A_ID'])):\n",
    "    if plf.loc[ppi['Interactor_A_ID'][i]].isin(plf_500['Protein Family ID']).bool():\n",
    "        ppi_plfams.at[i, 'Interactor_A_ID'] = plf.loc[ppi['Interactor_A_ID'][i]].PLFam\n",
    "        \n",
    "for i in range(len(ppi['Interactor_B_ID'])):\n",
    "    if plf.loc[ppi['Interactor_B_ID'][i]].isin(plf_500['Protein Family ID']).bool():\n",
    "        ppi_plfams.at[i, 'Interactor_B_ID'] = plf.loc[ppi['Interactor_B_ID'][i]].PLFam        \n",
    "        \n",
    "ppi_plfams.drop_duplicates(subset=None, keep='first', inplace=True)"
   ]
  },
  {
   "cell_type": "markdown",
   "metadata": {},
   "source": [
    "Checking which protein families are in PPI:"
   ]
  },
  {
   "cell_type": "code",
   "execution_count": 11,
   "metadata": {},
   "outputs": [],
   "source": [
    "conserved_ppi_A = plf_500[plf_500['Protein Family ID'].isin(ppi['Interactor_A_ID'])]['Protein Family ID']\n",
    "conserved_ppi_B = plf_500[plf_500['Protein Family ID'].isin(ppi['Interactor_B_ID'])]['Protein Family ID']\n",
    "\n",
    "conserved_ppi = pd.DataFrame(pd.concat([conserved_ppi_A, conserved_ppi_B], axis = 0).drop_duplicates())"
   ]
  },
  {
   "cell_type": "markdown",
   "metadata": {},
   "source": [
    "Checking which resistant genes are in PPI:"
   ]
  },
  {
   "cell_type": "code",
   "execution_count": 12,
   "metadata": {},
   "outputs": [],
   "source": [
    "AMR_genes_ppi_A = AMR_genes[AMR_genes['BRC_ID'].isin(ppi['Interactor_A_ID'])]['BRC_ID']\n",
    "AMR_genes_ppi_B = AMR_genes[AMR_genes['BRC_ID'].isin(ppi['Interactor_B_ID'])]['BRC_ID']\n",
    "\n",
    "AMR_genes_ppi = pd.DataFrame(pd.concat([AMR_genes_ppi_A, AMR_genes_ppi_B], axis = 0))\n",
    "AMR_genes_ppi.reset_index(drop=True, inplace=True)"
   ]
  },
  {
   "cell_type": "markdown",
   "metadata": {},
   "source": [
    "Calculating the distance from a conserved gene to an AMR gene:"
   ]
  },
  {
   "cell_type": "code",
   "execution_count": 13,
   "metadata": {},
   "outputs": [],
   "source": [
    "ppi_info = pd.DataFrame(columns = ['Conserved Gene', 'Shortest Path to an AMR gene (length)',])\n",
    "\n",
    "ppi_info['Conserved Gene'] = conserved_ppi.reset_index(drop = True)['Protein Family ID']"
   ]
  },
  {
   "cell_type": "code",
   "execution_count": 14,
   "metadata": {},
   "outputs": [],
   "source": [
    "ppi_graph = nx.from_pandas_edgelist(ppi_plfams, 'Interactor_A_ID', 'Interactor_B_ID')\n",
    "\n",
    "idx = 0\n",
    "for i in conserved_ppi['Protein Family ID']:\n",
    "    lengths = []\n",
    "    for j in AMR_genes_ppi['BRC_ID']:\n",
    "        if nx.has_path(ppi_graph, i, j):\n",
    "            lengths.append(nx.shortest_path_length(ppi_graph, i, j))\n",
    "    if lengths:        \n",
    "        ppi_info['Shortest Path to an AMR gene (length)'][idx] = min(lengths)\n",
    "        \n",
    "    idx += 1"
   ]
  },
  {
   "cell_type": "code",
   "execution_count": 16,
   "metadata": {},
   "outputs": [
    {
     "name": "stdout",
     "output_type": "stream",
     "text": [
      "   Shortest Path to an AMR gene (length)  Count\n",
      "0                                      1     55\n",
      "1                                      2    152\n",
      "2                                      3     87\n",
      "3                                      4     39\n",
      "4                                      5      6\n",
      "5                                      6      1\n",
      "6                                      7      1\n"
     ]
    }
   ],
   "source": [
    "print(ppi_info.groupby(['Shortest Path to an AMR gene (length)']).size().reset_index(name='Count'))"
   ]
  },
  {
   "cell_type": "markdown",
   "metadata": {},
   "source": [
    "To evaluate the model from Nguyen et. al. with genes according to the path until an AMR gene, we need to separate these families. Lets construct them:"
   ]
  },
  {
   "cell_type": "code",
   "execution_count": 17,
   "metadata": {},
   "outputs": [],
   "source": [
    "for i in ppi_info['Shortest Path to an AMR gene (length)'].unique():\n",
    "    globals()[f'plf_length_{i}'] = ppi_info[ppi_info['Shortest Path to an AMR gene (length)'] == i]['Conserved Gene']"
   ]
  },
  {
   "cell_type": "markdown",
   "metadata": {},
   "source": [
    "The data used is available through the PATRIC FTP (ftp://ftp.patricbrc.org/datasets/) downloading the Nguyen_et_al_2020.tar.gz archive.\n",
    "\n",
    "Separating genes in files accordin to the length to an AMR gene:"
   ]
  },
  {
   "cell_type": "code",
   "execution_count": 18,
   "metadata": {},
   "outputs": [],
   "source": [
    "# mydir = 'E:/User/bruna.fistarol/Documents/GitHub/Fistarol_2022/Staphylococcus'\n",
    "# datadir = 'E:/User/bruna.fistarol/Documents/GitHub/Nguyen_et_al_2020/Staphylococcus'\n",
    "\n",
    "# for i in ppi_info2['Shortest Path to an AMR gene (length)'].unique():\n",
    "#     newdir = f'length.{i}'\n",
    "#     path = os.path.join(mydir, newdir)\n",
    "#     os.mkdir(path)\n",
    "    \n",
    "#     sample = f'E:/User/bruna.fistarol/Documents/GitHub/Nguyen_et_al_2020/Staphylococcus/fasta.500.0'\n",
    "#     for strain in listdir(sample):\n",
    "#         with open(os.path.join(path, strain), 'a') as mystrain:\n",
    "#             with open(os.path.join(sample, strain), 'r') as sequences:\n",
    "#                 first_loop = True\n",
    "#                 for line in sequences:\n",
    "#                     if line[0] == '>':\n",
    "#                         if first_loop:\n",
    "#                             plfam = line[1:len(line)-1]\n",
    "#                             seq = ''\n",
    "#                             first_loop = False\n",
    "#                             continue\n",
    "#                         if plfam in list((globals()[f'plf_length_{i}'])):\n",
    "#                             mystrain.write('>' + plfam + '\\n')\n",
    "#                             mystrain.write(seq)\n",
    "#                         plfam = line[1:len(line)-1]\n",
    "#                         seq = ''\n",
    "#                     else:\n",
    "#                         seq += line\n",
    "#                 if plfam in list((globals()[f'plf_length_{i}'])):\n",
    "#                             mystrain.write('>' + plfam + '\\n')\n",
    "#                             mystrain.write(seq)"
   ]
  },
  {
   "cell_type": "code",
   "execution_count": 19,
   "metadata": {},
   "outputs": [],
   "source": [
    "for i in ppi_info['Shortest Path to an AMR gene (length)'].unique():\n",
    "    globals()[f'len_{i}'] = []\n",
    "    for strain in listdir(f'E:/User/bruna.fistarol/Documents/GitHub/Fistarol_2022/Staphylococcus/length.{i}'):\n",
    "        with open(os.path.join(f'E:/User/bruna.fistarol/Documents/GitHub/Fistarol_2022/Staphylococcus/length.{i}', strain), 'r') as sequence:\n",
    "            genes = 0\n",
    "            for line in sequence:\n",
    "                if line[0] == '>':\n",
    "                    genes += 1\n",
    "            globals()[f'len_{i}'].append(genes)"
   ]
  },
  {
   "cell_type": "markdown",
   "metadata": {},
   "source": [
    "For each strain considering different path lengths to an AMR gene, we have the following number of genes:"
   ]
  },
  {
   "cell_type": "code",
   "execution_count": 21,
   "metadata": {},
   "outputs": [
    {
     "name": "stdout",
     "output_type": "stream",
     "text": [
      "1 36.018927444794954\n",
      "3 69.05520504731861\n",
      "nan 0.0\n",
      "2 105.08832807570978\n",
      "4 28.074132492113566\n",
      "5 2.001577287066246\n",
      "7 0.0\n",
      "6 1.0\n"
     ]
    }
   ],
   "source": [
    "for i in ppi_info['Shortest Path to an AMR gene (length)'].unique():\n",
    "    print(i, np.mean(globals()[f'len_{i}']))"
   ]
  },
  {
   "cell_type": "markdown",
   "metadata": {},
   "source": [
    "At this point, it is possible to use this new configuration of data to run the model. \n",
    "We can take 25 genes to each strain for lengths equals to 1, 2, 3 and 4, because the results from the paper also are derived from groups of 25 genes, hence, we can compare these results."
   ]
  },
  {
   "cell_type": "code",
   "execution_count": 22,
   "metadata": {},
   "outputs": [],
   "source": [
    "# mydir = 'E:/User/bruna.fistarol/Documents/GitHub/Fistarol_2022/Staphylococcus'\n",
    "# os.mkdir(os.path.join(mydir, '25genes'))\n",
    "# dir_25genes = 'E:/User/bruna.fistarol/Documents/GitHub/Fistarol_2022/Staphylococcus/25genes'\n",
    "\n",
    "# for j in [0, 1, 2, 3, 4]:\n",
    "    \n",
    "#     rand_idx = [sorted(random.sample(range(1,36), 25)), \n",
    "#                 sorted(random.sample(range(1,105), 25)), \n",
    "#                 sorted(random.sample(range(1,69), 25)), \n",
    "#                 sorted(random.sample(range(1,28), 25))]\n",
    "    \n",
    "#     for i in [1, 2, 3, 4]:   \n",
    "\n",
    "#         path = f'E:/User/bruna.fistarol/Documents/GitHub/Fistarol_2022/Staphylococcus/length.{i}'\n",
    "#         mydir = os.path.join(dir_25genes, f'length.{i}.{j}')\n",
    "#         os.mkdir(mydir)\n",
    "\n",
    "#         for strain in listdir(path):\n",
    "#             with open(os.path.join(mydir, strain), 'a') as mystrain:\n",
    "#                 with open(os.path.join(path, strain), 'r') as sequences:\n",
    "#                     c = 0\n",
    "#                     first_loop = True\n",
    "#                     for line in sequences:\n",
    "#                         if line[0] == '>':\n",
    "#                             if first_loop:\n",
    "#                                 plfam = line\n",
    "#                                 seq = ''\n",
    "#                                 c += 1\n",
    "#                                 first_loop = False\n",
    "#                                 continue\n",
    "#                             if c in rand_idx[i-1]:\n",
    "#                                 mystrain.write(plfam)\n",
    "#                                 mystrain.write(seq)\n",
    "#                             plfam = line\n",
    "#                             seq = ''\n",
    "#                             c += 1\n",
    "#                         else:\n",
    "#                             seq += line\n",
    "#                     if c in rand_idx[i-1]:\n",
    "#                             mystrain.write(plfam)\n",
    "#                             mystrain.write(seq)"
   ]
  },
  {
   "cell_type": "markdown",
   "metadata": {},
   "source": [
    "Sanity check: is there any gene anottated as AMR today inside this group?"
   ]
  },
  {
   "cell_type": "code",
   "execution_count": 24,
   "metadata": {},
   "outputs": [
    {
     "data": {
      "text/plain": [
       "['PLF_1279_00000145']"
      ]
     },
     "execution_count": 24,
     "metadata": {},
     "output_type": "execute_result"
    }
   ],
   "source": [
    "list(set(plf.loc[AMR_genes['BRC_ID']]['PLFam']) & set(plf_500['Protein Family ID']))"
   ]
  },
  {
   "cell_type": "code",
   "execution_count": 25,
   "metadata": {},
   "outputs": [
    {
     "name": "stdout",
     "output_type": "stream",
     "text": [
      "False\n",
      "False\n",
      "False\n",
      "False\n",
      "False\n",
      "False\n",
      "False\n"
     ]
    }
   ],
   "source": [
    "for i in (1, 2, 3, 4, 5, 6, 'nan'): \n",
    "    print('PLF_1279_00000145' in list(globals()[f'plf_length_{i}']))"
   ]
  },
  {
   "cell_type": "markdown",
   "metadata": {},
   "source": [
    "The conserved gene annotated as AMR gene is not being used in any set."
   ]
  },
  {
   "cell_type": "code",
   "execution_count": 26,
   "metadata": {},
   "outputs": [],
   "source": [
    "# #virulence\n",
    "\n",
    "# virulence_genes = sa_specialty_genes.loc[sa_specialty_genes.Property == 'Virulence Factor'].reset_index()\n",
    "# virulence_set = list(set(plf.loc[virulence_genes['BRC_ID']]['PLFam']) & set(plf_500['Protein Family ID']))\n",
    "# len(virulence_set)"
   ]
  },
  {
   "cell_type": "code",
   "execution_count": 27,
   "metadata": {},
   "outputs": [],
   "source": [
    "# Completing the set with more 10 random genes:"
   ]
  },
  {
   "cell_type": "code",
   "execution_count": 28,
   "metadata": {},
   "outputs": [],
   "source": [
    "# virulence_test = virulence_set\n",
    "\n",
    "# while len(virulence_test) < 25:\n",
    "#     idx =  random.randint(0,499)\n",
    "#     if plf_500['Protein Family ID'].iloc[idx] not in virulence_test:\n",
    "#         virulence_test.append(plf_500['Protein Family ID'].iloc[idx])"
   ]
  },
  {
   "cell_type": "code",
   "execution_count": 29,
   "metadata": {},
   "outputs": [],
   "source": [
    "# mydir = 'E:/User/bruna.fistarol/Documents/GitHub/Fistarol_2022/Staphylococcus'\n",
    "# datadir = 'E:/User/bruna.fistarol/Documents/GitHub/Nguyen_et_al_2020/Staphylococcus'\n",
    "\n",
    "# newdir = 'virulence'\n",
    "# path = os.path.join(mydir, newdir)\n",
    "# os.mkdir(path)\n",
    "    \n",
    "# sample = 'E:/User/bruna.fistarol/Documents/GitHub/Nguyen_et_al_2020/Staphylococcus/fasta.500.0'\n",
    "# for strain in listdir(sample):\n",
    "#     with open(os.path.join(path, strain), 'a') as mystrain:\n",
    "#         with open(os.path.join(sample, strain), 'r') as sequences:\n",
    "#             first_loop = True\n",
    "#             for line in sequences:\n",
    "#                 if line[0] == '>':\n",
    "#                     if first_loop:\n",
    "#                         plfam = line[1:len(line)-1]\n",
    "#                         seq = ''\n",
    "#                         first_loop = False\n",
    "#                         continue\n",
    "#                     if plfam in virulence_test:\n",
    "#                         mystrain.write('>' + plfam + '\\n')\n",
    "#                         mystrain.write(seq)\n",
    "#                     plfam = line[1:len(line)-1]\n",
    "#                     seq = ''\n",
    "#                 else:\n",
    "#                     seq += line\n",
    "#             if plfam in virulence_test:\n",
    "#                         mystrain.write('>' + plfam + '\\n')\n",
    "#                         mystrain.write(seq)"
   ]
  },
  {
   "cell_type": "code",
   "execution_count": null,
   "metadata": {},
   "outputs": [],
   "source": []
  }
 ],
 "metadata": {
  "kernelspec": {
   "display_name": "Python 3",
   "language": "python",
   "name": "python3"
  },
  "language_info": {
   "codemirror_mode": {
    "name": "ipython",
    "version": 3
   },
   "file_extension": ".py",
   "mimetype": "text/x-python",
   "name": "python",
   "nbconvert_exporter": "python",
   "pygments_lexer": "ipython3",
   "version": "3.7.6"
  }
 },
 "nbformat": 4,
 "nbformat_minor": 4
}
