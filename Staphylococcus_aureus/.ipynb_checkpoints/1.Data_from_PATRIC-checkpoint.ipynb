{
 "cells": [
  {
   "cell_type": "markdown",
   "metadata": {},
   "source": [
    "# Data From PATRIC"
   ]
  },
  {
   "cell_type": "code",
   "execution_count": 4,
   "metadata": {},
   "outputs": [],
   "source": [
    "import pandas as pd\n",
    "import numpy as np\n",
    "import networkx as nx"
   ]
  },
  {
   "cell_type": "markdown",
   "metadata": {},
   "source": [
    "## Genomic Features"
   ]
  },
  {
   "cell_type": "markdown",
   "metadata": {},
   "source": [
    "The table below contains a list of genomic features, including coding DNA.\n",
    "\n",
    "Each feature is solely identified by BRC ID and associated to a protein family referred as PATRIC genus-specific families (PLfams)."
   ]
  },
  {
   "cell_type": "code",
   "execution_count": 100,
   "metadata": {},
   "outputs": [],
   "source": [
    "features = pd.read_csv('genome_features.csv')"
   ]
  },
  {
   "cell_type": "code",
   "execution_count": 101,
   "metadata": {
    "scrolled": true
   },
   "outputs": [
    {
     "name": "stdout",
     "output_type": "stream",
     "text": [
      "<class 'pandas.core.frame.DataFrame'>\n",
      "RangeIndex: 10999 entries, 0 to 10998\n",
      "Data columns (total 21 columns):\n",
      " #   Column                                   Non-Null Count  Dtype  \n",
      "---  ------                                   --------------  -----  \n",
      " 0   Genome                                   10999 non-null  object \n",
      " 1   Genome ID                                10999 non-null  float64\n",
      " 2   Accession                                10999 non-null  object \n",
      " 3   BRC ID                                   10999 non-null  object \n",
      " 4   RefSeq Locus Tag                         10703 non-null  object \n",
      " 5   Alt Locus Tag                            5488 non-null   object \n",
      " 6   Feature ID                               10999 non-null  object \n",
      " 7   Annotation                               10999 non-null  object \n",
      " 8   Feature Type                             10999 non-null  object \n",
      " 9   Start                                    10999 non-null  int64  \n",
      " 10  End                                      10999 non-null  int64  \n",
      " 11  Length                                   10999 non-null  int64  \n",
      " 12  Strand                                   10999 non-null  object \n",
      " 13  FIGfam ID                                10070 non-null  object \n",
      " 14  PATRIC genus-specific families (PLfams)  10999 non-null  object \n",
      " 15  PATRIC cross-genus families (PGfams)     10999 non-null  object \n",
      " 16  Protein ID                               8022 non-null   object \n",
      " 17  AA Length                                10999 non-null  int64  \n",
      " 18  Gene Symbol                              1198 non-null   object \n",
      " 19  Product                                  10999 non-null  object \n",
      " 20  GO                                       2879 non-null   object \n",
      "dtypes: float64(1), int64(4), object(16)\n",
      "memory usage: 1.8+ MB\n"
     ]
    }
   ],
   "source": [
    "features.info()"
   ]
  },
  {
   "cell_type": "markdown",
   "metadata": {},
   "source": [
    "Through this table, we extract useful data to map protein families referred by Nguyen et. al.:"
   ]
  },
  {
   "cell_type": "code",
   "execution_count": 140,
   "metadata": {},
   "outputs": [
    {
     "data": {
      "text/html": [
       "<div>\n",
       "<style scoped>\n",
       "    .dataframe tbody tr th:only-of-type {\n",
       "        vertical-align: middle;\n",
       "    }\n",
       "\n",
       "    .dataframe tbody tr th {\n",
       "        vertical-align: top;\n",
       "    }\n",
       "\n",
       "    .dataframe thead th {\n",
       "        text-align: right;\n",
       "    }\n",
       "</style>\n",
       "<table border=\"1\" class=\"dataframe\">\n",
       "  <thead>\n",
       "    <tr style=\"text-align: right;\">\n",
       "      <th></th>\n",
       "      <th>PLFam</th>\n",
       "    </tr>\n",
       "    <tr>\n",
       "      <th>BRC_ID</th>\n",
       "      <th></th>\n",
       "    </tr>\n",
       "  </thead>\n",
       "  <tbody>\n",
       "    <tr>\n",
       "      <th>fig|1241616.6.peg.978</th>\n",
       "      <td>PLF_1279_00000947</td>\n",
       "    </tr>\n",
       "    <tr>\n",
       "      <th>fig|1241616.6.peg.979</th>\n",
       "      <td>PLF_1279_00001869</td>\n",
       "    </tr>\n",
       "    <tr>\n",
       "      <th>fig|1241616.6.peg.980</th>\n",
       "      <td>PLF_1279_00000303</td>\n",
       "    </tr>\n",
       "    <tr>\n",
       "      <th>fig|1241616.6.peg.981</th>\n",
       "      <td>PLF_1279_00000735</td>\n",
       "    </tr>\n",
       "    <tr>\n",
       "      <th>fig|1241616.6.peg.982</th>\n",
       "      <td>PLF_1279_00000362</td>\n",
       "    </tr>\n",
       "    <tr>\n",
       "      <th>...</th>\n",
       "      <td>...</td>\n",
       "    </tr>\n",
       "    <tr>\n",
       "      <th>fig|93061.5.peg.83</th>\n",
       "      <td>PLF_1279_00002111</td>\n",
       "    </tr>\n",
       "    <tr>\n",
       "      <th>fig|93061.5.peg.939</th>\n",
       "      <td>PLF_1279_00000867</td>\n",
       "    </tr>\n",
       "    <tr>\n",
       "      <th>fig|93061.5.peg.940</th>\n",
       "      <td>PLF_1279_00000994</td>\n",
       "    </tr>\n",
       "    <tr>\n",
       "      <th>fig|93061.5.peg.941</th>\n",
       "      <td>PLF_1279_00000907</td>\n",
       "    </tr>\n",
       "    <tr>\n",
       "      <th>fig|93061.5.peg.942</th>\n",
       "      <td>PLF_1279_00000657</td>\n",
       "    </tr>\n",
       "  </tbody>\n",
       "</table>\n",
       "<p>10999 rows × 1 columns</p>\n",
       "</div>"
      ],
      "text/plain": [
       "                                   PLFam\n",
       "BRC_ID                                  \n",
       "fig|1241616.6.peg.978  PLF_1279_00000947\n",
       "fig|1241616.6.peg.979  PLF_1279_00001869\n",
       "fig|1241616.6.peg.980  PLF_1279_00000303\n",
       "fig|1241616.6.peg.981  PLF_1279_00000735\n",
       "fig|1241616.6.peg.982  PLF_1279_00000362\n",
       "...                                  ...\n",
       "fig|93061.5.peg.83     PLF_1279_00002111\n",
       "fig|93061.5.peg.939    PLF_1279_00000867\n",
       "fig|93061.5.peg.940    PLF_1279_00000994\n",
       "fig|93061.5.peg.941    PLF_1279_00000907\n",
       "fig|93061.5.peg.942    PLF_1279_00000657\n",
       "\n",
       "[10999 rows x 1 columns]"
      ]
     },
     "execution_count": 140,
     "metadata": {},
     "output_type": "execute_result"
    }
   ],
   "source": [
    "plf = features[['BRC ID', 'PATRIC genus-specific families (PLfams)']].astype(\"string\")\n",
    "plf.columns = ['BRC_ID', 'PLFam']\n",
    "plf.set_index('BRC_ID', inplace = True)\n",
    "plf"
   ]
  },
  {
   "cell_type": "markdown",
   "metadata": {},
   "source": [
    "## Protein Interaction Network"
   ]
  },
  {
   "cell_type": "markdown",
   "metadata": {},
   "source": [
    "The table below contais pairs of proteins interacting with each other on Staphylococcus aureus protein network, identified by their BRC ID."
   ]
  },
  {
   "cell_type": "code",
   "execution_count": 103,
   "metadata": {},
   "outputs": [
    {
     "data": {
      "text/html": [
       "<div>\n",
       "<style scoped>\n",
       "    .dataframe tbody tr th:only-of-type {\n",
       "        vertical-align: middle;\n",
       "    }\n",
       "\n",
       "    .dataframe tbody tr th {\n",
       "        vertical-align: top;\n",
       "    }\n",
       "\n",
       "    .dataframe thead th {\n",
       "        text-align: right;\n",
       "    }\n",
       "</style>\n",
       "<table border=\"1\" class=\"dataframe\">\n",
       "  <thead>\n",
       "    <tr style=\"text-align: right;\">\n",
       "      <th></th>\n",
       "      <th>Interactor_A_ID</th>\n",
       "      <th>Interactor_B_ID</th>\n",
       "    </tr>\n",
       "  </thead>\n",
       "  <tbody>\n",
       "    <tr>\n",
       "      <th>0</th>\n",
       "      <td>fig|93061.5.peg.452</td>\n",
       "      <td>fig|93061.5.peg.713</td>\n",
       "    </tr>\n",
       "    <tr>\n",
       "      <th>1</th>\n",
       "      <td>fig|93061.5.peg.1920</td>\n",
       "      <td>fig|93061.5.peg.1921</td>\n",
       "    </tr>\n",
       "    <tr>\n",
       "      <th>2</th>\n",
       "      <td>fig|93061.5.peg.111</td>\n",
       "      <td>fig|93061.5.peg.119</td>\n",
       "    </tr>\n",
       "    <tr>\n",
       "      <th>3</th>\n",
       "      <td>fig|93061.5.peg.112</td>\n",
       "      <td>fig|93061.5.peg.121</td>\n",
       "    </tr>\n",
       "    <tr>\n",
       "      <th>4</th>\n",
       "      <td>fig|93061.5.peg.1069</td>\n",
       "      <td>fig|93061.5.peg.1071</td>\n",
       "    </tr>\n",
       "  </tbody>\n",
       "</table>\n",
       "</div>"
      ],
      "text/plain": [
       "        Interactor_A_ID       Interactor_B_ID\n",
       "0   fig|93061.5.peg.452   fig|93061.5.peg.713\n",
       "1  fig|93061.5.peg.1920  fig|93061.5.peg.1921\n",
       "2   fig|93061.5.peg.111   fig|93061.5.peg.119\n",
       "3   fig|93061.5.peg.112   fig|93061.5.peg.121\n",
       "4  fig|93061.5.peg.1069  fig|93061.5.peg.1071"
      ]
     },
     "execution_count": 103,
     "metadata": {},
     "output_type": "execute_result"
    }
   ],
   "source": [
    "ppi = pd.read_csv('ppi_patric.csv')\n",
    "ppi = ppi[['Interactor A ID', 'Interactor B ID']].astype(\"string\")\n",
    "ppi.columns = ['Interactor_A_ID', 'Interactor_B_ID']\n",
    "ppi.head()"
   ]
  },
  {
   "cell_type": "markdown",
   "metadata": {},
   "source": [
    "## Specialty Genes"
   ]
  },
  {
   "cell_type": "markdown",
   "metadata": {},
   "source": [
    "The table containing specialty genes relates several genomic features to a relevant property:\n",
    " - Essential gene\n",
    " - Antibiotic resistance\n",
    " - Virulence factor\n",
    " - Human homolog\n",
    " - Drug target\n",
    " - Transporter\n",
    " \n",
    "We are particularly interested on properties associated to antibiotic resistance. Besides genes related to antibiotic resistance themselves, it is possible to have causal relation between virulence factor and bacterial resistance."
   ]
  },
  {
   "cell_type": "code",
   "execution_count": 104,
   "metadata": {},
   "outputs": [
    {
     "data": {
      "text/plain": [
       "array(['Antibiotic Resistance', 'Essential Gene', 'Virulence Factor',\n",
       "       'Human Homolog', 'Drug Target', 'Transporter'], dtype=object)"
      ]
     },
     "execution_count": 104,
     "metadata": {},
     "output_type": "execute_result"
    }
   ],
   "source": [
    "specialty_genes = pd.read_csv('specialty_genes.csv')\n",
    "specialty_genes = specialty_genes[['BRC ID', 'Property']]\n",
    "specialty_genes.columns = ['BRC_ID', 'Property']\n",
    "specialty_genes.set_index('BRC_ID', inplace = True)\n",
    "specialty_genes.Property.unique()"
   ]
  },
  {
   "cell_type": "markdown",
   "metadata": {},
   "source": [
    "## Conserved Genes used for prediction in Nguyen et. al. 2020"
   ]
  },
  {
   "cell_type": "markdown",
   "metadata": {},
   "source": [
    "Next table is listening protein families of 10 experiments (each one with 100 non overlapping protein families) selected from a set of conserved genes and used in the paper of Nguyen et. al.\n",
    "\n",
    "Each protein family has a feature importance value derived from XGBoost, which means a contribution degree from a protein family given to classificate in resistant/susceptible phenotype."
   ]
  },
  {
   "cell_type": "code",
   "execution_count": 106,
   "metadata": {},
   "outputs": [],
   "source": [
    "feature_importance = pd.read_excel('saureus_feature_importance.xlsx')"
   ]
  },
  {
   "cell_type": "code",
   "execution_count": 107,
   "metadata": {},
   "outputs": [
    {
     "data": {
      "text/html": [
       "<div>\n",
       "<style scoped>\n",
       "    .dataframe tbody tr th:only-of-type {\n",
       "        vertical-align: middle;\n",
       "    }\n",
       "\n",
       "    .dataframe tbody tr th {\n",
       "        vertical-align: top;\n",
       "    }\n",
       "\n",
       "    .dataframe thead th {\n",
       "        text-align: right;\n",
       "    }\n",
       "</style>\n",
       "<table border=\"1\" class=\"dataframe\">\n",
       "  <thead>\n",
       "    <tr style=\"text-align: right;\">\n",
       "      <th></th>\n",
       "      <th>Protein Family ID</th>\n",
       "      <th>Model</th>\n",
       "      <th>Total Feature Importance</th>\n",
       "      <th>Annotation</th>\n",
       "    </tr>\n",
       "  </thead>\n",
       "  <tbody>\n",
       "    <tr>\n",
       "      <th>0</th>\n",
       "      <td>PLF_1279_00001080</td>\n",
       "      <td>1</td>\n",
       "      <td>162.412577</td>\n",
       "      <td>hypothetical protein</td>\n",
       "    </tr>\n",
       "    <tr>\n",
       "      <th>1</th>\n",
       "      <td>PLF_1279_00001505</td>\n",
       "      <td>1</td>\n",
       "      <td>81.039855</td>\n",
       "      <td>ABC transporter-like sensor ATP-binding protei...</td>\n",
       "    </tr>\n",
       "    <tr>\n",
       "      <th>2</th>\n",
       "      <td>PLF_1279_00001583</td>\n",
       "      <td>1</td>\n",
       "      <td>67.782436</td>\n",
       "      <td>Polysaccharide intercellular adhesin (PIA) bio...</td>\n",
       "    </tr>\n",
       "    <tr>\n",
       "      <th>3</th>\n",
       "      <td>PLF_1279_00001118</td>\n",
       "      <td>1</td>\n",
       "      <td>60.701992</td>\n",
       "      <td>Nickel ABC transporter, substrate-binding prot...</td>\n",
       "    </tr>\n",
       "    <tr>\n",
       "      <th>4</th>\n",
       "      <td>PLF_1279_00001691</td>\n",
       "      <td>1</td>\n",
       "      <td>54.623888</td>\n",
       "      <td>Activator of the mannose operon (transcription...</td>\n",
       "    </tr>\n",
       "    <tr>\n",
       "      <th>...</th>\n",
       "      <td>...</td>\n",
       "      <td>...</td>\n",
       "      <td>...</td>\n",
       "      <td>...</td>\n",
       "    </tr>\n",
       "    <tr>\n",
       "      <th>995</th>\n",
       "      <td>PLF_1279_00007034</td>\n",
       "      <td>10</td>\n",
       "      <td>0.000000</td>\n",
       "      <td>Cold shock protein of CSP family</td>\n",
       "    </tr>\n",
       "    <tr>\n",
       "      <th>996</th>\n",
       "      <td>PLF_1279_00001353</td>\n",
       "      <td>10</td>\n",
       "      <td>0.000000</td>\n",
       "      <td>UPF0398 protein YpsA</td>\n",
       "    </tr>\n",
       "    <tr>\n",
       "      <th>997</th>\n",
       "      <td>PLF_1279_00000861</td>\n",
       "      <td>10</td>\n",
       "      <td>0.000000</td>\n",
       "      <td>LSU ribosomal protein L15p (L27Ae)</td>\n",
       "    </tr>\n",
       "    <tr>\n",
       "      <th>998</th>\n",
       "      <td>PLF_1279_00000601</td>\n",
       "      <td>10</td>\n",
       "      <td>0.000000</td>\n",
       "      <td>LSU ribosomal protein L30p (L7e)</td>\n",
       "    </tr>\n",
       "    <tr>\n",
       "      <th>999</th>\n",
       "      <td>PLF_1279_00089683</td>\n",
       "      <td>10</td>\n",
       "      <td>0.000000</td>\n",
       "      <td>Copper(I) chaperone CopZ</td>\n",
       "    </tr>\n",
       "  </tbody>\n",
       "</table>\n",
       "<p>1000 rows × 4 columns</p>\n",
       "</div>"
      ],
      "text/plain": [
       "     Protein Family ID  Model  Total Feature Importance  \\\n",
       "0    PLF_1279_00001080      1                162.412577   \n",
       "1    PLF_1279_00001505      1                 81.039855   \n",
       "2    PLF_1279_00001583      1                 67.782436   \n",
       "3    PLF_1279_00001118      1                 60.701992   \n",
       "4    PLF_1279_00001691      1                 54.623888   \n",
       "..                 ...    ...                       ...   \n",
       "995  PLF_1279_00007034     10                  0.000000   \n",
       "996  PLF_1279_00001353     10                  0.000000   \n",
       "997  PLF_1279_00000861     10                  0.000000   \n",
       "998  PLF_1279_00000601     10                  0.000000   \n",
       "999  PLF_1279_00089683     10                  0.000000   \n",
       "\n",
       "                                            Annotation  \n",
       "0                                 hypothetical protein  \n",
       "1    ABC transporter-like sensor ATP-binding protei...  \n",
       "2    Polysaccharide intercellular adhesin (PIA) bio...  \n",
       "3    Nickel ABC transporter, substrate-binding prot...  \n",
       "4    Activator of the mannose operon (transcription...  \n",
       "..                                                 ...  \n",
       "995                   Cold shock protein of CSP family  \n",
       "996                               UPF0398 protein YpsA  \n",
       "997                 LSU ribosomal protein L15p (L27Ae)  \n",
       "998                   LSU ribosomal protein L30p (L7e)  \n",
       "999                           Copper(I) chaperone CopZ  \n",
       "\n",
       "[1000 rows x 4 columns]"
      ]
     },
     "execution_count": 107,
     "metadata": {},
     "output_type": "execute_result"
    }
   ],
   "source": [
    "feature_importance"
   ]
  },
  {
   "cell_type": "markdown",
   "metadata": {},
   "source": [
    "Once the information used in the paper from Nguyen is given in therms of protein families, we need to associate every feature for a corresponding protein family.\n",
    "\n",
    "Lets  check if every genomic feature in the PPI has an associated Patric Local Family:"
   ]
  },
  {
   "cell_type": "code",
   "execution_count": 111,
   "metadata": {},
   "outputs": [
    {
     "data": {
      "text/plain": [
       "Series([], Name: Interactor_A_ID, dtype: string)"
      ]
     },
     "execution_count": 111,
     "metadata": {},
     "output_type": "execute_result"
    }
   ],
   "source": [
    "ppi['Interactor_A_ID'][ppi['Interactor_A_ID'].isin(plf.index)==False]"
   ]
  },
  {
   "cell_type": "code",
   "execution_count": 112,
   "metadata": {
    "scrolled": true
   },
   "outputs": [
    {
     "data": {
      "text/plain": [
       "2085    fig|93061.5.peg.894\n",
       "Name: Interactor_B_ID, dtype: string"
      ]
     },
     "execution_count": 112,
     "metadata": {},
     "output_type": "execute_result"
    }
   ],
   "source": [
    "ppi['Interactor_B_ID'][ppi['Interactor_B_ID'].isin(plf.index)==False]"
   ]
  },
  {
   "cell_type": "markdown",
   "metadata": {},
   "source": [
    "There is no PLFam associated to the feature fig|93061.5.peg.894 (line 2085, interactor B).\n",
    "\n",
    "Before ignore this information, lets also check if there is some relevant characteristic related to this feature:"
   ]
  },
  {
   "cell_type": "code",
   "execution_count": 110,
   "metadata": {},
   "outputs": [
    {
     "data": {
      "text/html": [
       "<div>\n",
       "<style scoped>\n",
       "    .dataframe tbody tr th:only-of-type {\n",
       "        vertical-align: middle;\n",
       "    }\n",
       "\n",
       "    .dataframe tbody tr th {\n",
       "        vertical-align: top;\n",
       "    }\n",
       "\n",
       "    .dataframe thead th {\n",
       "        text-align: right;\n",
       "    }\n",
       "</style>\n",
       "<table border=\"1\" class=\"dataframe\">\n",
       "  <thead>\n",
       "    <tr style=\"text-align: right;\">\n",
       "      <th></th>\n",
       "      <th>Property</th>\n",
       "    </tr>\n",
       "    <tr>\n",
       "      <th>BRC_ID</th>\n",
       "      <th></th>\n",
       "    </tr>\n",
       "  </thead>\n",
       "  <tbody>\n",
       "  </tbody>\n",
       "</table>\n",
       "</div>"
      ],
      "text/plain": [
       "Empty DataFrame\n",
       "Columns: [Property]\n",
       "Index: []"
      ]
     },
     "execution_count": 110,
     "metadata": {},
     "output_type": "execute_result"
    }
   ],
   "source": [
    "specialty_genes.loc[specialty_genes.index == ppi['Interactor_B_ID'].loc[2085]]"
   ]
  },
  {
   "cell_type": "markdown",
   "metadata": {},
   "source": [
    "There is no property associated to this feature, hence, it can be excluded:"
   ]
  },
  {
   "cell_type": "code",
   "execution_count": 114,
   "metadata": {},
   "outputs": [],
   "source": [
    "ppi.drop(2085, axis = 0, inplace = True)\n",
    "ppi.reset_index(drop=True, inplace=True)"
   ]
  },
  {
   "cell_type": "markdown",
   "metadata": {},
   "source": [
    "Now we can map a feature to a Patric Local Family with no problem."
   ]
  },
  {
   "cell_type": "markdown",
   "metadata": {},
   "source": [
    "## Writing PPI in terms of PLFams for conserved genes"
   ]
  },
  {
   "cell_type": "markdown",
   "metadata": {},
   "source": [
    "Creating a new PPI substituing the feature for its Patric Local Familiy for conserved genes: "
   ]
  },
  {
   "cell_type": "code",
   "execution_count": 115,
   "metadata": {},
   "outputs": [],
   "source": [
    "ppi_plfams = ppi\n",
    "\n",
    "for i in range(len(ppi['Interactor_A_ID'])):\n",
    "    if plf.loc[ppi['Interactor_A_ID'][i]].isin(feature_importance['Protein Family ID']).bool():\n",
    "        ppi_plfams.at[i, 'Interactor_A_ID'] = plf.loc[ppi['Interactor_A_ID'][i]].PLFam\n",
    "        \n",
    "for i in range(len(ppi['Interactor_B_ID'])):\n",
    "    if plf.loc[ppi['Interactor_B_ID'][i]].isin(feature_importance['Protein Family ID']).bool():\n",
    "        ppi_plfams.at[i, 'Interactor_B_ID'] = plf.loc[ppi['Interactor_B_ID'][i]].PLFam        \n",
    "        \n",
    "ppi_plfams.drop_duplicates(subset=None, keep='first', inplace=True)"
   ]
  },
  {
   "cell_type": "markdown",
   "metadata": {},
   "source": [
    "### Resistance Genes in PPI"
   ]
  },
  {
   "cell_type": "code",
   "execution_count": 116,
   "metadata": {},
   "outputs": [
    {
     "data": {
      "text/html": [
       "<div>\n",
       "<style scoped>\n",
       "    .dataframe tbody tr th:only-of-type {\n",
       "        vertical-align: middle;\n",
       "    }\n",
       "\n",
       "    .dataframe tbody tr th {\n",
       "        vertical-align: top;\n",
       "    }\n",
       "\n",
       "    .dataframe thead th {\n",
       "        text-align: right;\n",
       "    }\n",
       "</style>\n",
       "<table border=\"1\" class=\"dataframe\">\n",
       "  <thead>\n",
       "    <tr style=\"text-align: right;\">\n",
       "      <th></th>\n",
       "      <th>Property</th>\n",
       "    </tr>\n",
       "    <tr>\n",
       "      <th>BRC_ID</th>\n",
       "      <th></th>\n",
       "    </tr>\n",
       "  </thead>\n",
       "  <tbody>\n",
       "    <tr>\n",
       "      <th>fig|1413510.3.peg.2169</th>\n",
       "      <td>Antibiotic Resistance</td>\n",
       "    </tr>\n",
       "    <tr>\n",
       "      <th>fig|93061.5.peg.1154</th>\n",
       "      <td>Antibiotic Resistance</td>\n",
       "    </tr>\n",
       "    <tr>\n",
       "      <th>fig|93061.5.peg.2089</th>\n",
       "      <td>Antibiotic Resistance</td>\n",
       "    </tr>\n",
       "    <tr>\n",
       "      <th>fig|93061.5.peg.842</th>\n",
       "      <td>Antibiotic Resistance</td>\n",
       "    </tr>\n",
       "    <tr>\n",
       "      <th>fig|158879.11.peg.1813</th>\n",
       "      <td>Antibiotic Resistance</td>\n",
       "    </tr>\n",
       "    <tr>\n",
       "      <th>...</th>\n",
       "      <td>...</td>\n",
       "    </tr>\n",
       "    <tr>\n",
       "      <th>fig|158879.11.peg.2331</th>\n",
       "      <td>Antibiotic Resistance</td>\n",
       "    </tr>\n",
       "    <tr>\n",
       "      <th>fig|1241616.6.peg.1396</th>\n",
       "      <td>Antibiotic Resistance</td>\n",
       "    </tr>\n",
       "    <tr>\n",
       "      <th>fig|158879.11.peg.647</th>\n",
       "      <td>Antibiotic Resistance</td>\n",
       "    </tr>\n",
       "    <tr>\n",
       "      <th>fig|158879.11.peg.2107</th>\n",
       "      <td>Antibiotic Resistance</td>\n",
       "    </tr>\n",
       "    <tr>\n",
       "      <th>fig|1241616.6.peg.2283</th>\n",
       "      <td>Antibiotic Resistance</td>\n",
       "    </tr>\n",
       "  </tbody>\n",
       "</table>\n",
       "<p>269 rows × 1 columns</p>\n",
       "</div>"
      ],
      "text/plain": [
       "                                     Property\n",
       "BRC_ID                                       \n",
       "fig|1413510.3.peg.2169  Antibiotic Resistance\n",
       "fig|93061.5.peg.1154    Antibiotic Resistance\n",
       "fig|93061.5.peg.2089    Antibiotic Resistance\n",
       "fig|93061.5.peg.842     Antibiotic Resistance\n",
       "fig|158879.11.peg.1813  Antibiotic Resistance\n",
       "...                                       ...\n",
       "fig|158879.11.peg.2331  Antibiotic Resistance\n",
       "fig|1241616.6.peg.1396  Antibiotic Resistance\n",
       "fig|158879.11.peg.647   Antibiotic Resistance\n",
       "fig|158879.11.peg.2107  Antibiotic Resistance\n",
       "fig|1241616.6.peg.2283  Antibiotic Resistance\n",
       "\n",
       "[269 rows x 1 columns]"
      ]
     },
     "execution_count": 116,
     "metadata": {},
     "output_type": "execute_result"
    }
   ],
   "source": [
    "specialty_genes[specialty_genes.Property == 'Antibiotic Resistance']"
   ]
  },
  {
   "cell_type": "code",
   "execution_count": 1,
   "metadata": {},
   "outputs": [
    {
     "ename": "NameError",
     "evalue": "name 'pd' is not defined",
     "output_type": "error",
     "traceback": [
      "\u001b[1;31m---------------------------------------------------------------------------\u001b[0m",
      "\u001b[1;31mNameError\u001b[0m                                 Traceback (most recent call last)",
      "\u001b[1;32m<ipython-input-1-25f0b2ad4935>\u001b[0m in \u001b[0;36m<module>\u001b[1;34m\u001b[0m\n\u001b[1;32m----> 1\u001b[1;33m \u001b[0mAMR_genes\u001b[0m \u001b[1;33m=\u001b[0m \u001b[0mpd\u001b[0m\u001b[1;33m.\u001b[0m\u001b[0mDataFrame\u001b[0m\u001b[1;33m(\u001b[0m\u001b[0mspecialty_genes\u001b[0m\u001b[1;33m.\u001b[0m\u001b[0mloc\u001b[0m\u001b[1;33m[\u001b[0m\u001b[0mspecialty_genes\u001b[0m\u001b[1;33m.\u001b[0m\u001b[0mProperty\u001b[0m \u001b[1;33m==\u001b[0m \u001b[1;34m'Antibiotic Resistance'\u001b[0m\u001b[1;33m]\u001b[0m\u001b[1;33m.\u001b[0m\u001b[0mreset_index\u001b[0m\u001b[1;33m(\u001b[0m\u001b[1;33m)\u001b[0m\u001b[1;33m[\u001b[0m\u001b[1;34m'BRC_ID'\u001b[0m\u001b[1;33m]\u001b[0m\u001b[1;33m)\u001b[0m\u001b[1;33m\u001b[0m\u001b[1;33m\u001b[0m\u001b[0m\n\u001b[0m",
      "\u001b[1;31mNameError\u001b[0m: name 'pd' is not defined"
     ]
    }
   ],
   "source": [
    "AMR_genes = pd.DataFrame(specialty_genes.loc[specialty_genes.Property == 'Antibiotic Resistance'].reset_index()['BRC_ID'])"
   ]
  },
  {
   "cell_type": "code",
   "execution_count": 118,
   "metadata": {},
   "outputs": [
    {
     "data": {
      "text/html": [
       "<div>\n",
       "<style scoped>\n",
       "    .dataframe tbody tr th:only-of-type {\n",
       "        vertical-align: middle;\n",
       "    }\n",
       "\n",
       "    .dataframe tbody tr th {\n",
       "        vertical-align: top;\n",
       "    }\n",
       "\n",
       "    .dataframe thead th {\n",
       "        text-align: right;\n",
       "    }\n",
       "</style>\n",
       "<table border=\"1\" class=\"dataframe\">\n",
       "  <thead>\n",
       "    <tr style=\"text-align: right;\">\n",
       "      <th></th>\n",
       "      <th>BRC_ID</th>\n",
       "      <th>Property</th>\n",
       "    </tr>\n",
       "  </thead>\n",
       "  <tbody>\n",
       "    <tr>\n",
       "      <th>0</th>\n",
       "      <td>fig|1413510.3.peg.2169</td>\n",
       "      <td>Antibiotic Resistance</td>\n",
       "    </tr>\n",
       "    <tr>\n",
       "      <th>1</th>\n",
       "      <td>fig|93061.5.peg.1154</td>\n",
       "      <td>Antibiotic Resistance</td>\n",
       "    </tr>\n",
       "    <tr>\n",
       "      <th>2</th>\n",
       "      <td>fig|93061.5.peg.2089</td>\n",
       "      <td>Antibiotic Resistance</td>\n",
       "    </tr>\n",
       "    <tr>\n",
       "      <th>3</th>\n",
       "      <td>fig|93061.5.peg.842</td>\n",
       "      <td>Antibiotic Resistance</td>\n",
       "    </tr>\n",
       "    <tr>\n",
       "      <th>4</th>\n",
       "      <td>fig|158879.11.peg.1813</td>\n",
       "      <td>Antibiotic Resistance</td>\n",
       "    </tr>\n",
       "    <tr>\n",
       "      <th>...</th>\n",
       "      <td>...</td>\n",
       "      <td>...</td>\n",
       "    </tr>\n",
       "    <tr>\n",
       "      <th>264</th>\n",
       "      <td>fig|158879.11.peg.2331</td>\n",
       "      <td>Antibiotic Resistance</td>\n",
       "    </tr>\n",
       "    <tr>\n",
       "      <th>265</th>\n",
       "      <td>fig|1241616.6.peg.1396</td>\n",
       "      <td>Antibiotic Resistance</td>\n",
       "    </tr>\n",
       "    <tr>\n",
       "      <th>266</th>\n",
       "      <td>fig|158879.11.peg.647</td>\n",
       "      <td>Antibiotic Resistance</td>\n",
       "    </tr>\n",
       "    <tr>\n",
       "      <th>267</th>\n",
       "      <td>fig|158879.11.peg.2107</td>\n",
       "      <td>Antibiotic Resistance</td>\n",
       "    </tr>\n",
       "    <tr>\n",
       "      <th>268</th>\n",
       "      <td>fig|1241616.6.peg.2283</td>\n",
       "      <td>Antibiotic Resistance</td>\n",
       "    </tr>\n",
       "  </tbody>\n",
       "</table>\n",
       "<p>269 rows × 2 columns</p>\n",
       "</div>"
      ],
      "text/plain": [
       "                     BRC_ID               Property\n",
       "0    fig|1413510.3.peg.2169  Antibiotic Resistance\n",
       "1      fig|93061.5.peg.1154  Antibiotic Resistance\n",
       "2      fig|93061.5.peg.2089  Antibiotic Resistance\n",
       "3       fig|93061.5.peg.842  Antibiotic Resistance\n",
       "4    fig|158879.11.peg.1813  Antibiotic Resistance\n",
       "..                      ...                    ...\n",
       "264  fig|158879.11.peg.2331  Antibiotic Resistance\n",
       "265  fig|1241616.6.peg.1396  Antibiotic Resistance\n",
       "266   fig|158879.11.peg.647  Antibiotic Resistance\n",
       "267  fig|158879.11.peg.2107  Antibiotic Resistance\n",
       "268  fig|1241616.6.peg.2283  Antibiotic Resistance\n",
       "\n",
       "[269 rows x 2 columns]"
      ]
     },
     "execution_count": 118,
     "metadata": {},
     "output_type": "execute_result"
    }
   ],
   "source": [
    "AMR_genes"
   ]
  },
  {
   "cell_type": "markdown",
   "metadata": {},
   "source": [
    "We need to find which genes related to antibiotic resistance are in the PPI:"
   ]
  },
  {
   "cell_type": "code",
   "execution_count": 119,
   "metadata": {},
   "outputs": [],
   "source": [
    "AMR_genes_ppi_A = AMR_genes[AMR_genes['BRC_ID'].isin(ppi_plfams['Interactor_A_ID'])]['BRC_ID']\n",
    "AMR_genes_ppi_B = AMR_genes[AMR_genes['BRC_ID'].isin(ppi_plfams['Interactor_B_ID'])]['BRC_ID']\n",
    "\n",
    "AMR_genes_ppi = pd.DataFrame(pd.concat([AMR_genes_ppi_A, AMR_genes_ppi_B], axis = 0))\n",
    "AMR_genes_ppi.reset_index(drop=True, inplace=True)"
   ]
  },
  {
   "cell_type": "code",
   "execution_count": 120,
   "metadata": {},
   "outputs": [
    {
     "data": {
      "text/html": [
       "<div>\n",
       "<style scoped>\n",
       "    .dataframe tbody tr th:only-of-type {\n",
       "        vertical-align: middle;\n",
       "    }\n",
       "\n",
       "    .dataframe tbody tr th {\n",
       "        vertical-align: top;\n",
       "    }\n",
       "\n",
       "    .dataframe thead th {\n",
       "        text-align: right;\n",
       "    }\n",
       "</style>\n",
       "<table border=\"1\" class=\"dataframe\">\n",
       "  <thead>\n",
       "    <tr style=\"text-align: right;\">\n",
       "      <th></th>\n",
       "      <th>BRC_ID</th>\n",
       "    </tr>\n",
       "  </thead>\n",
       "  <tbody>\n",
       "    <tr>\n",
       "      <th>0</th>\n",
       "      <td>fig|93061.5.peg.2089</td>\n",
       "    </tr>\n",
       "    <tr>\n",
       "      <th>1</th>\n",
       "      <td>fig|93061.5.peg.842</td>\n",
       "    </tr>\n",
       "    <tr>\n",
       "      <th>2</th>\n",
       "      <td>fig|93061.5.peg.1243</td>\n",
       "    </tr>\n",
       "    <tr>\n",
       "      <th>3</th>\n",
       "      <td>fig|93061.5.peg.2252</td>\n",
       "    </tr>\n",
       "    <tr>\n",
       "      <th>4</th>\n",
       "      <td>fig|93061.5.peg.1237</td>\n",
       "    </tr>\n",
       "    <tr>\n",
       "      <th>...</th>\n",
       "      <td>...</td>\n",
       "    </tr>\n",
       "    <tr>\n",
       "      <th>88</th>\n",
       "      <td>fig|93061.5.peg.88</td>\n",
       "    </tr>\n",
       "    <tr>\n",
       "      <th>89</th>\n",
       "      <td>fig|93061.5.peg.1310</td>\n",
       "    </tr>\n",
       "    <tr>\n",
       "      <th>90</th>\n",
       "      <td>fig|93061.5.peg.471</td>\n",
       "    </tr>\n",
       "    <tr>\n",
       "      <th>91</th>\n",
       "      <td>fig|93061.5.peg.2118</td>\n",
       "    </tr>\n",
       "    <tr>\n",
       "      <th>92</th>\n",
       "      <td>fig|93061.5.peg.88</td>\n",
       "    </tr>\n",
       "  </tbody>\n",
       "</table>\n",
       "<p>93 rows × 1 columns</p>\n",
       "</div>"
      ],
      "text/plain": [
       "                  BRC_ID\n",
       "0   fig|93061.5.peg.2089\n",
       "1    fig|93061.5.peg.842\n",
       "2   fig|93061.5.peg.1243\n",
       "3   fig|93061.5.peg.2252\n",
       "4   fig|93061.5.peg.1237\n",
       "..                   ...\n",
       "88    fig|93061.5.peg.88\n",
       "89  fig|93061.5.peg.1310\n",
       "90   fig|93061.5.peg.471\n",
       "91  fig|93061.5.peg.2118\n",
       "92    fig|93061.5.peg.88\n",
       "\n",
       "[93 rows x 1 columns]"
      ]
     },
     "execution_count": 120,
     "metadata": {},
     "output_type": "execute_result"
    }
   ],
   "source": [
    "AMR_genes_ppi"
   ]
  },
  {
   "cell_type": "markdown",
   "metadata": {},
   "source": [
    "### Conserved Genes used for prediction in Nguyen et. al. 2020 in PPI"
   ]
  },
  {
   "cell_type": "markdown",
   "metadata": {},
   "source": [
    "We also need to find which conserved genes of 10 experiments (each one with 100 non overlapping protein families) used to prediction in the paper are in the PPI"
   ]
  },
  {
   "cell_type": "code",
   "execution_count": 121,
   "metadata": {},
   "outputs": [],
   "source": [
    "conserved_ppi_A = feature_importance[feature_importance['Protein Family ID'].isin(ppi_plfams['Interactor_A_ID'])]['Protein Family ID']\n",
    "conserved_ppi_B = feature_importance[feature_importance['Protein Family ID'].isin(ppi_plfams['Interactor_B_ID'])]['Protein Family ID']\n",
    "\n",
    "conserved_ppi = pd.DataFrame(pd.concat([conserved_ppi_A, conserved_ppi_B], axis = 0).drop_duplicates())"
   ]
  },
  {
   "cell_type": "code",
   "execution_count": 122,
   "metadata": {},
   "outputs": [
    {
     "data": {
      "text/html": [
       "<div>\n",
       "<style scoped>\n",
       "    .dataframe tbody tr th:only-of-type {\n",
       "        vertical-align: middle;\n",
       "    }\n",
       "\n",
       "    .dataframe tbody tr th {\n",
       "        vertical-align: top;\n",
       "    }\n",
       "\n",
       "    .dataframe thead th {\n",
       "        text-align: right;\n",
       "    }\n",
       "</style>\n",
       "<table border=\"1\" class=\"dataframe\">\n",
       "  <thead>\n",
       "    <tr style=\"text-align: right;\">\n",
       "      <th></th>\n",
       "      <th>Protein Family ID</th>\n",
       "    </tr>\n",
       "  </thead>\n",
       "  <tbody>\n",
       "    <tr>\n",
       "      <th>2</th>\n",
       "      <td>PLF_1279_00001583</td>\n",
       "    </tr>\n",
       "    <tr>\n",
       "      <th>3</th>\n",
       "      <td>PLF_1279_00001118</td>\n",
       "    </tr>\n",
       "    <tr>\n",
       "      <th>5</th>\n",
       "      <td>PLF_1279_00001741</td>\n",
       "    </tr>\n",
       "    <tr>\n",
       "      <th>6</th>\n",
       "      <td>PLF_1279_00001743</td>\n",
       "    </tr>\n",
       "    <tr>\n",
       "      <th>8</th>\n",
       "      <td>PLF_1279_00000675</td>\n",
       "    </tr>\n",
       "    <tr>\n",
       "      <th>...</th>\n",
       "      <td>...</td>\n",
       "    </tr>\n",
       "    <tr>\n",
       "      <th>974</th>\n",
       "      <td>PLF_1279_00001003</td>\n",
       "    </tr>\n",
       "    <tr>\n",
       "      <th>982</th>\n",
       "      <td>PLF_1279_00002144</td>\n",
       "    </tr>\n",
       "    <tr>\n",
       "      <th>988</th>\n",
       "      <td>PLF_1279_00001063</td>\n",
       "    </tr>\n",
       "    <tr>\n",
       "      <th>990</th>\n",
       "      <td>PLF_1279_00001416</td>\n",
       "    </tr>\n",
       "    <tr>\n",
       "      <th>999</th>\n",
       "      <td>PLF_1279_00089683</td>\n",
       "    </tr>\n",
       "  </tbody>\n",
       "</table>\n",
       "<p>758 rows × 1 columns</p>\n",
       "</div>"
      ],
      "text/plain": [
       "     Protein Family ID\n",
       "2    PLF_1279_00001583\n",
       "3    PLF_1279_00001118\n",
       "5    PLF_1279_00001741\n",
       "6    PLF_1279_00001743\n",
       "8    PLF_1279_00000675\n",
       "..                 ...\n",
       "974  PLF_1279_00001003\n",
       "982  PLF_1279_00002144\n",
       "988  PLF_1279_00001063\n",
       "990  PLF_1279_00001416\n",
       "999  PLF_1279_00089683\n",
       "\n",
       "[758 rows x 1 columns]"
      ]
     },
     "execution_count": 122,
     "metadata": {},
     "output_type": "execute_result"
    }
   ],
   "source": [
    "conserved_ppi"
   ]
  },
  {
   "cell_type": "markdown",
   "metadata": {},
   "source": [
    "# NetworkX"
   ]
  },
  {
   "cell_type": "code",
   "execution_count": 123,
   "metadata": {},
   "outputs": [],
   "source": [
    "ppi_info = pd.DataFrame(columns = ['Conserved Gene', 'Shortest Path to an AMR gene (length)',])\n",
    "\n",
    "ppi_info['Conserved Gene'] = conserved_ppi.reset_index(drop = True)['Protein Family ID']"
   ]
  },
  {
   "cell_type": "markdown",
   "metadata": {},
   "source": [
    "## For each conserved gene having a path to an AMR, what is the length of this path? "
   ]
  },
  {
   "cell_type": "code",
   "execution_count": 125,
   "metadata": {},
   "outputs": [],
   "source": [
    "ppi_graph_plfams = nx.from_pandas_edgelist(saureus_ppi_plfams, 'Interactor_A_ID', 'Interactor_B_ID')\n",
    "\n",
    "idx = 0\n",
    "for i in conserved_ppi['Protein Family ID']:\n",
    "    lengths = []\n",
    "    for j in AMR_genes_ppi['BRC_ID']:\n",
    "        if nx.has_path(ppi_graph_plfams, i, j):\n",
    "            lengths.append(nx.shortest_path_length(ppi_graph_plfams, i, j))\n",
    "    if lengths:        \n",
    "        ppi_info['Shortest Path to an AMR gene (length)'][idx] = min(lengths)\n",
    "        \n",
    "    idx += 1"
   ]
  },
  {
   "cell_type": "code",
   "execution_count": 126,
   "metadata": {},
   "outputs": [],
   "source": [
    "ppi_info['Feature Score'] = feature_importance[feature_importance['Protein Family ID'].isin(conserved_ppi['Protein Family ID'])]['Total Feature Importance'].reset_index(drop = True)"
   ]
  },
  {
   "cell_type": "code",
   "execution_count": 127,
   "metadata": {},
   "outputs": [
    {
     "name": "stdout",
     "output_type": "stream",
     "text": [
      "   Shortest Path to an AMR gene (length)  Count\n",
      "0                                      1    102\n",
      "1                                      2    300\n",
      "2                                      3    200\n",
      "3                                      4     68\n",
      "4                                      5     10\n",
      "5                                      6      7\n"
     ]
    }
   ],
   "source": [
    "print(ppi_info.groupby(['Shortest Path to an AMR gene (length)']).size().reset_index(name='Count'))"
   ]
  },
  {
   "cell_type": "code",
   "execution_count": 29,
   "metadata": {
    "scrolled": true
   },
   "outputs": [
    {
     "data": {
      "text/html": [
       "<div>\n",
       "<style scoped>\n",
       "    .dataframe tbody tr th:only-of-type {\n",
       "        vertical-align: middle;\n",
       "    }\n",
       "\n",
       "    .dataframe tbody tr th {\n",
       "        vertical-align: top;\n",
       "    }\n",
       "\n",
       "    .dataframe thead th {\n",
       "        text-align: right;\n",
       "    }\n",
       "</style>\n",
       "<table border=\"1\" class=\"dataframe\">\n",
       "  <thead>\n",
       "    <tr style=\"text-align: right;\">\n",
       "      <th></th>\n",
       "      <th>Conserved Gene</th>\n",
       "      <th>Shortest Path to an AMR gene (length)</th>\n",
       "      <th>Feature Score</th>\n",
       "    </tr>\n",
       "  </thead>\n",
       "  <tbody>\n",
       "    <tr>\n",
       "      <th>0</th>\n",
       "      <td>PLF_1279_00001583</td>\n",
       "      <td>2</td>\n",
       "      <td>81.039855</td>\n",
       "    </tr>\n",
       "    <tr>\n",
       "      <th>1</th>\n",
       "      <td>PLF_1279_00001118</td>\n",
       "      <td>2</td>\n",
       "      <td>67.782436</td>\n",
       "    </tr>\n",
       "    <tr>\n",
       "      <th>2</th>\n",
       "      <td>PLF_1279_00001741</td>\n",
       "      <td>2</td>\n",
       "      <td>60.701992</td>\n",
       "    </tr>\n",
       "    <tr>\n",
       "      <th>3</th>\n",
       "      <td>PLF_1279_00001743</td>\n",
       "      <td>3</td>\n",
       "      <td>54.623888</td>\n",
       "    </tr>\n",
       "    <tr>\n",
       "      <th>4</th>\n",
       "      <td>PLF_1279_00000675</td>\n",
       "      <td>3</td>\n",
       "      <td>51.659804</td>\n",
       "    </tr>\n",
       "    <tr>\n",
       "      <th>...</th>\n",
       "      <td>...</td>\n",
       "      <td>...</td>\n",
       "      <td>...</td>\n",
       "    </tr>\n",
       "    <tr>\n",
       "      <th>753</th>\n",
       "      <td>PLF_1279_00001003</td>\n",
       "      <td>3</td>\n",
       "      <td>0.000000</td>\n",
       "    </tr>\n",
       "    <tr>\n",
       "      <th>754</th>\n",
       "      <td>PLF_1279_00002144</td>\n",
       "      <td>NaN</td>\n",
       "      <td>0.000000</td>\n",
       "    </tr>\n",
       "    <tr>\n",
       "      <th>755</th>\n",
       "      <td>PLF_1279_00001063</td>\n",
       "      <td>3</td>\n",
       "      <td>0.000000</td>\n",
       "    </tr>\n",
       "    <tr>\n",
       "      <th>756</th>\n",
       "      <td>PLF_1279_00001416</td>\n",
       "      <td>3</td>\n",
       "      <td>0.000000</td>\n",
       "    </tr>\n",
       "    <tr>\n",
       "      <th>757</th>\n",
       "      <td>PLF_1279_00089683</td>\n",
       "      <td>NaN</td>\n",
       "      <td>0.000000</td>\n",
       "    </tr>\n",
       "  </tbody>\n",
       "</table>\n",
       "<p>758 rows × 3 columns</p>\n",
       "</div>"
      ],
      "text/plain": [
       "        Conserved Gene Shortest Path to an AMR gene (length)  Feature Score\n",
       "0    PLF_1279_00001583                                     2      81.039855\n",
       "1    PLF_1279_00001118                                     2      67.782436\n",
       "2    PLF_1279_00001741                                     2      60.701992\n",
       "3    PLF_1279_00001743                                     3      54.623888\n",
       "4    PLF_1279_00000675                                     3      51.659804\n",
       "..                 ...                                   ...            ...\n",
       "753  PLF_1279_00001003                                     3       0.000000\n",
       "754  PLF_1279_00002144                                   NaN       0.000000\n",
       "755  PLF_1279_00001063                                     3       0.000000\n",
       "756  PLF_1279_00001416                                     3       0.000000\n",
       "757  PLF_1279_00089683                                   NaN       0.000000\n",
       "\n",
       "[758 rows x 3 columns]"
      ]
     },
     "execution_count": 29,
     "metadata": {},
     "output_type": "execute_result"
    }
   ],
   "source": [
    "ppi_info"
   ]
  },
  {
   "cell_type": "markdown",
   "metadata": {},
   "source": [
    "Removing genes with no path to an AMR gene:"
   ]
  },
  {
   "cell_type": "code",
   "execution_count": 128,
   "metadata": {},
   "outputs": [],
   "source": [
    "ppi_info = ppi_info[~ppi_info[['Shortest Path to an AMR gene (length)', 'Feature Score']].isnull().any(axis = 1)]"
   ]
  },
  {
   "cell_type": "markdown",
   "metadata": {},
   "source": [
    "## What is the correlaton between the feature score and the length of the path?"
   ]
  },
  {
   "cell_type": "code",
   "execution_count": 129,
   "metadata": {},
   "outputs": [
    {
     "data": {
      "text/plain": [
       "0.0497869055108677"
      ]
     },
     "execution_count": 129,
     "metadata": {},
     "output_type": "execute_result"
    }
   ],
   "source": [
    "ppi_info['Shortest Path to an AMR gene (length)'].astype('int').corr(ppi_info['Feature Score'].astype('float64'))"
   ]
  }
 ],
 "metadata": {
  "kernelspec": {
   "display_name": "Python 3",
   "language": "python",
   "name": "python3"
  },
  "language_info": {
   "codemirror_mode": {
    "name": "ipython",
    "version": 3
   },
   "file_extension": ".py",
   "mimetype": "text/x-python",
   "name": "python",
   "nbconvert_exporter": "python",
   "pygments_lexer": "ipython3",
   "version": "3.7.6"
  }
 },
 "nbformat": 4,
 "nbformat_minor": 4
}
