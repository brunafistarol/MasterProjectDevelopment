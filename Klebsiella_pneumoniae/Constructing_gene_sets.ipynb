{
 "cells": [
  {
   "cell_type": "code",
   "execution_count": 65,
   "metadata": {},
   "outputs": [],
   "source": [
    "import pandas as pd\n",
    "import numpy as np\n",
    "import networkx as nx\n",
    "import os\n",
    "from os import listdir\n",
    "import random"
   ]
  },
  {
   "cell_type": "markdown",
   "metadata": {},
   "source": [
    "# Klebsiella pneumoniae subsp. pneumoniae MGH 78578\n",
    "\n",
    "In order to have the same RefSeq on both databases, this subspecie is used"
   ]
  },
  {
   "cell_type": "code",
   "execution_count": 107,
   "metadata": {},
   "outputs": [],
   "source": [
    "bacteria = 'Klebsiella'\n",
    "root = 'E:/User/bruna.fistarol/Documents/GitHub'"
   ]
  },
  {
   "cell_type": "markdown",
   "metadata": {},
   "source": [
    "# Data From PATRIC"
   ]
  },
  {
   "cell_type": "markdown",
   "metadata": {},
   "source": [
    "## Genomic Features\n",
    "\n",
    "The table below contains a list of genomic features, including coding DNA.\n",
    "\n",
    "Each feature is solely identified by BRC ID and associated to a protein family referred as PATRIC genus-specific families (PLfams). Most of the genes has the associated RefSeq."
   ]
  },
  {
   "cell_type": "code",
   "execution_count": 67,
   "metadata": {},
   "outputs": [],
   "source": [
    "features = pd.read_csv('genome_features.csv')"
   ]
  },
  {
   "cell_type": "markdown",
   "metadata": {},
   "source": [
    "Through this table, we extract useful data to map protein families referred by Nguyen et. al.:"
   ]
  },
  {
   "cell_type": "code",
   "execution_count": 68,
   "metadata": {},
   "outputs": [
    {
     "data": {
      "text/html": [
       "<div>\n",
       "<style scoped>\n",
       "    .dataframe tbody tr th:only-of-type {\n",
       "        vertical-align: middle;\n",
       "    }\n",
       "\n",
       "    .dataframe tbody tr th {\n",
       "        vertical-align: top;\n",
       "    }\n",
       "\n",
       "    .dataframe thead th {\n",
       "        text-align: right;\n",
       "    }\n",
       "</style>\n",
       "<table border=\"1\" class=\"dataframe\">\n",
       "  <thead>\n",
       "    <tr style=\"text-align: right;\">\n",
       "      <th></th>\n",
       "      <th>PLFam</th>\n",
       "    </tr>\n",
       "    <tr>\n",
       "      <th>BRC_ID</th>\n",
       "      <th></th>\n",
       "    </tr>\n",
       "  </thead>\n",
       "  <tbody>\n",
       "    <tr>\n",
       "      <th>fig|272620.9.peg.923</th>\n",
       "      <td>PLF_570_00001646</td>\n",
       "    </tr>\n",
       "    <tr>\n",
       "      <th>fig|272620.9.peg.924</th>\n",
       "      <td>PLF_570_00000827</td>\n",
       "    </tr>\n",
       "    <tr>\n",
       "      <th>fig|272620.9.peg.925</th>\n",
       "      <td>PLF_570_00002014</td>\n",
       "    </tr>\n",
       "    <tr>\n",
       "      <th>fig|272620.9.peg.10</th>\n",
       "      <td>PLF_570_00001421</td>\n",
       "    </tr>\n",
       "    <tr>\n",
       "      <th>fig|272620.9.peg.926</th>\n",
       "      <td>PLF_570_00002244</td>\n",
       "    </tr>\n",
       "    <tr>\n",
       "      <th>...</th>\n",
       "      <td>...</td>\n",
       "    </tr>\n",
       "    <tr>\n",
       "      <th>fig|272620.9.peg.5264</th>\n",
       "      <td>PLF_570_00006439</td>\n",
       "    </tr>\n",
       "    <tr>\n",
       "      <th>fig|272620.9.peg.5266</th>\n",
       "      <td>PLF_570_00023239</td>\n",
       "    </tr>\n",
       "    <tr>\n",
       "      <th>fig|272620.9.peg.5267</th>\n",
       "      <td>PLF_570_00005744</td>\n",
       "    </tr>\n",
       "    <tr>\n",
       "      <th>fig|272620.9.peg.5268</th>\n",
       "      <td>PLF_570_00116871</td>\n",
       "    </tr>\n",
       "    <tr>\n",
       "      <th>fig|272620.9.peg.5269</th>\n",
       "      <td>PLF_570_00006439</td>\n",
       "    </tr>\n",
       "  </tbody>\n",
       "</table>\n",
       "<p>5267 rows × 1 columns</p>\n",
       "</div>"
      ],
      "text/plain": [
       "                                  PLFam\n",
       "BRC_ID                                 \n",
       "fig|272620.9.peg.923   PLF_570_00001646\n",
       "fig|272620.9.peg.924   PLF_570_00000827\n",
       "fig|272620.9.peg.925   PLF_570_00002014\n",
       "fig|272620.9.peg.10    PLF_570_00001421\n",
       "fig|272620.9.peg.926   PLF_570_00002244\n",
       "...                                 ...\n",
       "fig|272620.9.peg.5264  PLF_570_00006439\n",
       "fig|272620.9.peg.5266  PLF_570_00023239\n",
       "fig|272620.9.peg.5267  PLF_570_00005744\n",
       "fig|272620.9.peg.5268  PLF_570_00116871\n",
       "fig|272620.9.peg.5269  PLF_570_00006439\n",
       "\n",
       "[5267 rows x 1 columns]"
      ]
     },
     "execution_count": 68,
     "metadata": {},
     "output_type": "execute_result"
    }
   ],
   "source": [
    "plf = features[['BRC ID', 'PATRIC genus-specific families (PLfams)']].astype(\"string\")\n",
    "plf.columns = ['BRC_ID', 'PLFam']\n",
    "plf.set_index('BRC_ID', inplace = True)\n",
    "plf"
   ]
  },
  {
   "cell_type": "markdown",
   "metadata": {},
   "source": [
    "## Specialty Genes\n",
    "\n",
    "The table containing specialty genes relates several genomic features to a relevant property. Here the table is filtered by the antibiotic resistance property"
   ]
  },
  {
   "cell_type": "code",
   "execution_count": 69,
   "metadata": {},
   "outputs": [],
   "source": [
    "AMR_genes = pd.DataFrame(pd.read_csv('specialty_genes.csv')['BRC ID'])\n",
    "AMR_genes.columns = ['BRC_ID']"
   ]
  },
  {
   "cell_type": "markdown",
   "metadata": {},
   "source": [
    "## Data from Nguyen et. al."
   ]
  },
  {
   "cell_type": "code",
   "execution_count": 70,
   "metadata": {},
   "outputs": [],
   "source": [
    "plf_500 = []\n",
    "\n",
    "datadir = f'{root}/Nguyen_et_al_2020/{bacteria}/fasta.500.0'\n",
    "for strain in listdir(datadir):\n",
    "    with open(os.path.join(datadir, strain), 'r') as sequences:\n",
    "        for line in sequences:\n",
    "            if line[0] == '>':\n",
    "                plf_500.append(line[1:len(line)-1])\n",
    "                \n",
    "plf_500 = pd.DataFrame(np.unique(plf_500))\n",
    "plf_500.columns = ['Protein Family ID']"
   ]
  },
  {
   "cell_type": "markdown",
   "metadata": {},
   "source": [
    "## RefSeq Mapping"
   ]
  },
  {
   "cell_type": "code",
   "execution_count": 71,
   "metadata": {},
   "outputs": [],
   "source": [
    "refseq = features[['BRC ID', 'RefSeq Locus Tag']]\n",
    "refseq.columns = ['BRC_ID', 'RefSeq']\n",
    "refseq.set_index('BRC_ID', inplace = True)"
   ]
  },
  {
   "cell_type": "code",
   "execution_count": 72,
   "metadata": {},
   "outputs": [],
   "source": [
    "AMR_refseq = features[['RefSeq Locus Tag']][features['BRC ID'].isin(AMR_genes['BRC_ID'])].reset_index(drop = True)\n",
    "AMR_refseq.columns = ['AMR_RefSeq']"
   ]
  },
  {
   "cell_type": "code",
   "execution_count": 73,
   "metadata": {},
   "outputs": [],
   "source": [
    "plf_map_refseq = features[['RefSeq Locus Tag', 'PATRIC genus-specific families (PLfams)']][features['PATRIC genus-specific families (PLfams)'].isin(plf_500['Protein Family ID'])].reset_index(drop = True)\n",
    "plf_map_refseq.columns = ['RefSeq', 'PLF']\n",
    "plf_map_refseq.dropna(inplace = True)\n",
    "plf_map_refseq = plf_map_refseq.reset_index(drop = True)"
   ]
  },
  {
   "cell_type": "code",
   "execution_count": 74,
   "metadata": {},
   "outputs": [
    {
     "data": {
      "text/html": [
       "<div>\n",
       "<style scoped>\n",
       "    .dataframe tbody tr th:only-of-type {\n",
       "        vertical-align: middle;\n",
       "    }\n",
       "\n",
       "    .dataframe tbody tr th {\n",
       "        vertical-align: top;\n",
       "    }\n",
       "\n",
       "    .dataframe thead th {\n",
       "        text-align: right;\n",
       "    }\n",
       "</style>\n",
       "<table border=\"1\" class=\"dataframe\">\n",
       "  <thead>\n",
       "    <tr style=\"text-align: right;\">\n",
       "      <th></th>\n",
       "      <th>RefSeq</th>\n",
       "      <th>PLF</th>\n",
       "    </tr>\n",
       "  </thead>\n",
       "  <tbody>\n",
       "    <tr>\n",
       "      <th>0</th>\n",
       "      <td>KPN_00896</td>\n",
       "      <td>PLF_570_00000827</td>\n",
       "    </tr>\n",
       "    <tr>\n",
       "      <th>1</th>\n",
       "      <td>KPN_00900</td>\n",
       "      <td>PLF_570_00002125</td>\n",
       "    </tr>\n",
       "    <tr>\n",
       "      <th>2</th>\n",
       "      <td>KPN_00902</td>\n",
       "      <td>PLF_570_00000651</td>\n",
       "    </tr>\n",
       "    <tr>\n",
       "      <th>3</th>\n",
       "      <td>KPN_00909</td>\n",
       "      <td>PLF_570_00001323</td>\n",
       "    </tr>\n",
       "    <tr>\n",
       "      <th>4</th>\n",
       "      <td>KPN_00917</td>\n",
       "      <td>PLF_570_00001430</td>\n",
       "    </tr>\n",
       "    <tr>\n",
       "      <th>...</th>\n",
       "      <td>...</td>\n",
       "      <td>...</td>\n",
       "    </tr>\n",
       "    <tr>\n",
       "      <th>479</th>\n",
       "      <td>KPN_00081</td>\n",
       "      <td>PLF_570_00000905</td>\n",
       "    </tr>\n",
       "    <tr>\n",
       "      <th>480</th>\n",
       "      <td>KPN_00859</td>\n",
       "      <td>PLF_570_00002832</td>\n",
       "    </tr>\n",
       "    <tr>\n",
       "      <th>481</th>\n",
       "      <td>KPN_00868</td>\n",
       "      <td>PLF_570_00002022</td>\n",
       "    </tr>\n",
       "    <tr>\n",
       "      <th>482</th>\n",
       "      <td>KPN_00884</td>\n",
       "      <td>PLF_570_00000996</td>\n",
       "    </tr>\n",
       "    <tr>\n",
       "      <th>483</th>\n",
       "      <td>KPN_00890</td>\n",
       "      <td>PLF_570_00002286</td>\n",
       "    </tr>\n",
       "  </tbody>\n",
       "</table>\n",
       "<p>484 rows × 2 columns</p>\n",
       "</div>"
      ],
      "text/plain": [
       "        RefSeq               PLF\n",
       "0    KPN_00896  PLF_570_00000827\n",
       "1    KPN_00900  PLF_570_00002125\n",
       "2    KPN_00902  PLF_570_00000651\n",
       "3    KPN_00909  PLF_570_00001323\n",
       "4    KPN_00917  PLF_570_00001430\n",
       "..         ...               ...\n",
       "479  KPN_00081  PLF_570_00000905\n",
       "480  KPN_00859  PLF_570_00002832\n",
       "481  KPN_00868  PLF_570_00002022\n",
       "482  KPN_00884  PLF_570_00000996\n",
       "483  KPN_00890  PLF_570_00002286\n",
       "\n",
       "[484 rows x 2 columns]"
      ]
     },
     "execution_count": 74,
     "metadata": {},
     "output_type": "execute_result"
    }
   ],
   "source": [
    "plf_map_refseq"
   ]
  },
  {
   "cell_type": "markdown",
   "metadata": {},
   "source": [
    "## Protein Interaction Network"
   ]
  },
  {
   "cell_type": "code",
   "execution_count": 75,
   "metadata": {},
   "outputs": [],
   "source": [
    "ppi_patric = pd.read_csv('ppi_patric.csv')\n",
    "ppi_patric = ppi_patric[['Interactor A ID', 'Interactor B ID']].astype(\"string\")\n",
    "ppi_patric.columns = ['Interactor_A_ID', 'Interactor_B_ID']\n",
    "ppi_refseq = ppi_patric\n",
    "for i in range(len(ppi_patric['Interactor_A_ID'])):\n",
    "    ppi_refseq.at[i, 'Interactor_A_ID'] = refseq.loc[ppi_patric['Interactor_A_ID'][i]].RefSeq\n",
    "        \n",
    "for i in range(len(ppi_patric['Interactor_B_ID'])):\n",
    "    ppi_refseq.at[i, 'Interactor_B_ID'] = refseq.loc[ppi_patric['Interactor_B_ID'][i]].RefSeq "
   ]
  },
  {
   "cell_type": "code",
   "execution_count": 76,
   "metadata": {},
   "outputs": [],
   "source": [
    "ppi_string = pd.read_csv('ppi_string.txt', sep = ' ')\n",
    "ppi_string.columns = ['Interactor_A_ID', 'Interactor_B_ID', 'weight']\n",
    "ppi_string.replace('272620.', '', regex = True, inplace = True)"
   ]
  },
  {
   "cell_type": "code",
   "execution_count": 86,
   "metadata": {},
   "outputs": [],
   "source": [
    "ppi_all = pd.DataFrame(pd.concat([ppi_refseq, ppi_string], axis = 0)).reset_index()"
   ]
  },
  {
   "cell_type": "code",
   "execution_count": 87,
   "metadata": {},
   "outputs": [],
   "source": [
    "ppi_all.fillna(999, inplace = True)"
   ]
  },
  {
   "cell_type": "code",
   "execution_count": 88,
   "metadata": {
    "scrolled": true
   },
   "outputs": [
    {
     "data": {
      "text/html": [
       "<div>\n",
       "<style scoped>\n",
       "    .dataframe tbody tr th:only-of-type {\n",
       "        vertical-align: middle;\n",
       "    }\n",
       "\n",
       "    .dataframe tbody tr th {\n",
       "        vertical-align: top;\n",
       "    }\n",
       "\n",
       "    .dataframe thead th {\n",
       "        text-align: right;\n",
       "    }\n",
       "</style>\n",
       "<table border=\"1\" class=\"dataframe\">\n",
       "  <thead>\n",
       "    <tr style=\"text-align: right;\">\n",
       "      <th></th>\n",
       "      <th>index</th>\n",
       "      <th>Interactor_A_ID</th>\n",
       "      <th>Interactor_B_ID</th>\n",
       "      <th>weight</th>\n",
       "    </tr>\n",
       "  </thead>\n",
       "  <tbody>\n",
       "    <tr>\n",
       "      <th>0</th>\n",
       "      <td>0</td>\n",
       "      <td>KPN_01979</td>\n",
       "      <td>KPN_03910</td>\n",
       "      <td>999.0</td>\n",
       "    </tr>\n",
       "    <tr>\n",
       "      <th>1</th>\n",
       "      <td>1</td>\n",
       "      <td>KPN_03878</td>\n",
       "      <td>KPN_04176</td>\n",
       "      <td>999.0</td>\n",
       "    </tr>\n",
       "    <tr>\n",
       "      <th>2</th>\n",
       "      <td>2</td>\n",
       "      <td>KPN_02823</td>\n",
       "      <td>KPN_03551</td>\n",
       "      <td>999.0</td>\n",
       "    </tr>\n",
       "    <tr>\n",
       "      <th>3</th>\n",
       "      <td>3</td>\n",
       "      <td>KPN_01375</td>\n",
       "      <td>KPN_02032</td>\n",
       "      <td>999.0</td>\n",
       "    </tr>\n",
       "    <tr>\n",
       "      <th>4</th>\n",
       "      <td>4</td>\n",
       "      <td>KPN_03530</td>\n",
       "      <td>KPN_03650</td>\n",
       "      <td>999.0</td>\n",
       "    </tr>\n",
       "    <tr>\n",
       "      <th>...</th>\n",
       "      <td>...</td>\n",
       "      <td>...</td>\n",
       "      <td>...</td>\n",
       "      <td>...</td>\n",
       "    </tr>\n",
       "    <tr>\n",
       "      <th>115027</th>\n",
       "      <td>110027</td>\n",
       "      <td>KPN_04868</td>\n",
       "      <td>KPN_04867</td>\n",
       "      <td>550.0</td>\n",
       "    </tr>\n",
       "    <tr>\n",
       "      <th>115028</th>\n",
       "      <td>110028</td>\n",
       "      <td>KPN_04867</td>\n",
       "      <td>KPN_04869</td>\n",
       "      <td>550.0</td>\n",
       "    </tr>\n",
       "    <tr>\n",
       "      <th>115029</th>\n",
       "      <td>110029</td>\n",
       "      <td>KPN_04869</td>\n",
       "      <td>KPN_04867</td>\n",
       "      <td>550.0</td>\n",
       "    </tr>\n",
       "    <tr>\n",
       "      <th>115030</th>\n",
       "      <td>110030</td>\n",
       "      <td>KPN_04868</td>\n",
       "      <td>KPN_04869</td>\n",
       "      <td>550.0</td>\n",
       "    </tr>\n",
       "    <tr>\n",
       "      <th>115031</th>\n",
       "      <td>110031</td>\n",
       "      <td>KPN_04869</td>\n",
       "      <td>KPN_04868</td>\n",
       "      <td>550.0</td>\n",
       "    </tr>\n",
       "  </tbody>\n",
       "</table>\n",
       "<p>115032 rows × 4 columns</p>\n",
       "</div>"
      ],
      "text/plain": [
       "         index Interactor_A_ID Interactor_B_ID  weight\n",
       "0            0       KPN_01979       KPN_03910   999.0\n",
       "1            1       KPN_03878       KPN_04176   999.0\n",
       "2            2       KPN_02823       KPN_03551   999.0\n",
       "3            3       KPN_01375       KPN_02032   999.0\n",
       "4            4       KPN_03530       KPN_03650   999.0\n",
       "...        ...             ...             ...     ...\n",
       "115027  110027       KPN_04868       KPN_04867   550.0\n",
       "115028  110028       KPN_04867       KPN_04869   550.0\n",
       "115029  110029       KPN_04869       KPN_04867   550.0\n",
       "115030  110030       KPN_04868       KPN_04869   550.0\n",
       "115031  110031       KPN_04869       KPN_04868   550.0\n",
       "\n",
       "[115032 rows x 4 columns]"
      ]
     },
     "execution_count": 88,
     "metadata": {},
     "output_type": "execute_result"
    }
   ],
   "source": [
    "ppi_all"
   ]
  },
  {
   "cell_type": "code",
   "execution_count": 89,
   "metadata": {},
   "outputs": [],
   "source": [
    "ppi = ppi_all[ppi_all['weight'] > 600].reset_index()"
   ]
  },
  {
   "cell_type": "code",
   "execution_count": 90,
   "metadata": {},
   "outputs": [],
   "source": [
    "conserved_ppi_A = plf_map_refseq[plf_map_refseq['RefSeq'].isin(ppi['Interactor_A_ID'])]['RefSeq']\n",
    "conserved_ppi_B = plf_map_refseq[plf_map_refseq['RefSeq'].isin(ppi['Interactor_B_ID'])]['RefSeq']\n",
    "\n",
    "conserved_ppi = pd.DataFrame(pd.concat([conserved_ppi_A, conserved_ppi_B], axis = 0).drop_duplicates())"
   ]
  },
  {
   "cell_type": "code",
   "execution_count": 91,
   "metadata": {},
   "outputs": [
    {
     "data": {
      "text/html": [
       "<div>\n",
       "<style scoped>\n",
       "    .dataframe tbody tr th:only-of-type {\n",
       "        vertical-align: middle;\n",
       "    }\n",
       "\n",
       "    .dataframe tbody tr th {\n",
       "        vertical-align: top;\n",
       "    }\n",
       "\n",
       "    .dataframe thead th {\n",
       "        text-align: right;\n",
       "    }\n",
       "</style>\n",
       "<table border=\"1\" class=\"dataframe\">\n",
       "  <thead>\n",
       "    <tr style=\"text-align: right;\">\n",
       "      <th></th>\n",
       "      <th>RefSeq</th>\n",
       "    </tr>\n",
       "  </thead>\n",
       "  <tbody>\n",
       "    <tr>\n",
       "      <th>0</th>\n",
       "      <td>KPN_00896</td>\n",
       "    </tr>\n",
       "    <tr>\n",
       "      <th>1</th>\n",
       "      <td>KPN_00900</td>\n",
       "    </tr>\n",
       "    <tr>\n",
       "      <th>2</th>\n",
       "      <td>KPN_00902</td>\n",
       "    </tr>\n",
       "    <tr>\n",
       "      <th>5</th>\n",
       "      <td>KPN_00923</td>\n",
       "    </tr>\n",
       "    <tr>\n",
       "      <th>7</th>\n",
       "      <td>KPN_00932</td>\n",
       "    </tr>\n",
       "    <tr>\n",
       "      <th>...</th>\n",
       "      <td>...</td>\n",
       "    </tr>\n",
       "    <tr>\n",
       "      <th>372</th>\n",
       "      <td>KPN_04222</td>\n",
       "    </tr>\n",
       "    <tr>\n",
       "      <th>377</th>\n",
       "      <td>KPN_04252</td>\n",
       "    </tr>\n",
       "    <tr>\n",
       "      <th>394</th>\n",
       "      <td>KPN_04433</td>\n",
       "    </tr>\n",
       "    <tr>\n",
       "      <th>417</th>\n",
       "      <td>KPN_04638</td>\n",
       "    </tr>\n",
       "    <tr>\n",
       "      <th>420</th>\n",
       "      <td>KPN_04655</td>\n",
       "    </tr>\n",
       "  </tbody>\n",
       "</table>\n",
       "<p>342 rows × 1 columns</p>\n",
       "</div>"
      ],
      "text/plain": [
       "        RefSeq\n",
       "0    KPN_00896\n",
       "1    KPN_00900\n",
       "2    KPN_00902\n",
       "5    KPN_00923\n",
       "7    KPN_00932\n",
       "..         ...\n",
       "372  KPN_04222\n",
       "377  KPN_04252\n",
       "394  KPN_04433\n",
       "417  KPN_04638\n",
       "420  KPN_04655\n",
       "\n",
       "[342 rows x 1 columns]"
      ]
     },
     "execution_count": 91,
     "metadata": {},
     "output_type": "execute_result"
    }
   ],
   "source": [
    "conserved_ppi"
   ]
  },
  {
   "cell_type": "code",
   "execution_count": 92,
   "metadata": {},
   "outputs": [],
   "source": [
    "AMR_ppi_A = AMR_refseq[AMR_refseq['AMR_RefSeq'].isin(ppi['Interactor_A_ID'])]['AMR_RefSeq']\n",
    "AMR_ppi_B = AMR_refseq[AMR_refseq['AMR_RefSeq'].isin(ppi['Interactor_B_ID'])]['AMR_RefSeq']\n",
    "\n",
    "AMR_ppi = pd.DataFrame(pd.concat([AMR_ppi_A, AMR_ppi_B], axis = 0))\n",
    "AMR_ppi.reset_index(drop=True, inplace=True)"
   ]
  },
  {
   "cell_type": "code",
   "execution_count": 93,
   "metadata": {},
   "outputs": [
    {
     "data": {
      "text/html": [
       "<div>\n",
       "<style scoped>\n",
       "    .dataframe tbody tr th:only-of-type {\n",
       "        vertical-align: middle;\n",
       "    }\n",
       "\n",
       "    .dataframe tbody tr th {\n",
       "        vertical-align: top;\n",
       "    }\n",
       "\n",
       "    .dataframe thead th {\n",
       "        text-align: right;\n",
       "    }\n",
       "</style>\n",
       "<table border=\"1\" class=\"dataframe\">\n",
       "  <thead>\n",
       "    <tr style=\"text-align: right;\">\n",
       "      <th></th>\n",
       "      <th>AMR_RefSeq</th>\n",
       "    </tr>\n",
       "  </thead>\n",
       "  <tbody>\n",
       "    <tr>\n",
       "      <th>0</th>\n",
       "      <td>KPN_00911</td>\n",
       "    </tr>\n",
       "    <tr>\n",
       "      <th>1</th>\n",
       "      <td>KPN_00912</td>\n",
       "    </tr>\n",
       "    <tr>\n",
       "      <th>2</th>\n",
       "      <td>KPN_00096</td>\n",
       "    </tr>\n",
       "    <tr>\n",
       "      <th>3</th>\n",
       "      <td>KPN_01093</td>\n",
       "    </tr>\n",
       "    <tr>\n",
       "      <th>4</th>\n",
       "      <td>KPN_01284</td>\n",
       "    </tr>\n",
       "    <tr>\n",
       "      <th>...</th>\n",
       "      <td>...</td>\n",
       "    </tr>\n",
       "    <tr>\n",
       "      <th>117</th>\n",
       "      <td>KPN_04767</td>\n",
       "    </tr>\n",
       "    <tr>\n",
       "      <th>118</th>\n",
       "      <td>KPN_00806</td>\n",
       "    </tr>\n",
       "    <tr>\n",
       "      <th>119</th>\n",
       "      <td>KPN_00807</td>\n",
       "    </tr>\n",
       "    <tr>\n",
       "      <th>120</th>\n",
       "      <td>KPN_00808</td>\n",
       "    </tr>\n",
       "    <tr>\n",
       "      <th>121</th>\n",
       "      <td>KPN_00874</td>\n",
       "    </tr>\n",
       "  </tbody>\n",
       "</table>\n",
       "<p>122 rows × 1 columns</p>\n",
       "</div>"
      ],
      "text/plain": [
       "    AMR_RefSeq\n",
       "0    KPN_00911\n",
       "1    KPN_00912\n",
       "2    KPN_00096\n",
       "3    KPN_01093\n",
       "4    KPN_01284\n",
       "..         ...\n",
       "117  KPN_04767\n",
       "118  KPN_00806\n",
       "119  KPN_00807\n",
       "120  KPN_00808\n",
       "121  KPN_00874\n",
       "\n",
       "[122 rows x 1 columns]"
      ]
     },
     "execution_count": 93,
     "metadata": {},
     "output_type": "execute_result"
    }
   ],
   "source": [
    "AMR_ppi"
   ]
  },
  {
   "cell_type": "code",
   "execution_count": 94,
   "metadata": {},
   "outputs": [],
   "source": [
    "ppi_info = pd.DataFrame(columns = ['Conserved Gene', 'Shortest Path to an AMR gene (length)',])\n",
    "\n",
    "ppi_info['Conserved Gene'] = conserved_ppi.reset_index(drop = True)['RefSeq']"
   ]
  },
  {
   "cell_type": "code",
   "execution_count": 95,
   "metadata": {},
   "outputs": [],
   "source": [
    "ppi_graph = nx.from_pandas_edgelist(ppi, 'Interactor_A_ID', 'Interactor_B_ID')"
   ]
  },
  {
   "cell_type": "code",
   "execution_count": 96,
   "metadata": {},
   "outputs": [
    {
     "data": {
      "text/plain": [
       "20235"
      ]
     },
     "execution_count": 96,
     "metadata": {},
     "output_type": "execute_result"
    }
   ],
   "source": [
    "ppi_graph.number_of_edges()"
   ]
  },
  {
   "cell_type": "code",
   "execution_count": 97,
   "metadata": {},
   "outputs": [
    {
     "data": {
      "text/plain": [
       "3099"
      ]
     },
     "execution_count": 97,
     "metadata": {},
     "output_type": "execute_result"
    }
   ],
   "source": [
    "ppi_graph.number_of_nodes()"
   ]
  },
  {
   "cell_type": "code",
   "execution_count": 98,
   "metadata": {},
   "outputs": [],
   "source": [
    "idx = 0\n",
    "for i in conserved_ppi['RefSeq']:\n",
    "    lengths = []\n",
    "    for j in AMR_ppi['AMR_RefSeq']:\n",
    "        if nx.has_path(ppi_graph, i, j):\n",
    "            lengths.append(nx.shortest_path_length(ppi_graph, i, j))\n",
    "    if lengths:        \n",
    "        ppi_info['Shortest Path to an AMR gene (length)'][idx] = min(lengths)\n",
    "        \n",
    "    idx += 1"
   ]
  },
  {
   "cell_type": "code",
   "execution_count": 99,
   "metadata": {},
   "outputs": [
    {
     "name": "stdout",
     "output_type": "stream",
     "text": [
      "   Shortest Path to an AMR gene (length)  Count\n",
      "0                                      1     56\n",
      "1                                      2    165\n",
      "2                                      3    102\n",
      "3                                      4     12\n",
      "4                                      5      2\n",
      "5                                      6      2\n"
     ]
    }
   ],
   "source": [
    "print(ppi_info.groupby(['Shortest Path to an AMR gene (length)']).size().reset_index(name='Count'))"
   ]
  },
  {
   "cell_type": "code",
   "execution_count": 100,
   "metadata": {},
   "outputs": [],
   "source": [
    "plf_map_refseq = plf_map_refseq.set_index('RefSeq')"
   ]
  },
  {
   "cell_type": "code",
   "execution_count": 101,
   "metadata": {},
   "outputs": [],
   "source": [
    "for i in ppi_info['Shortest Path to an AMR gene (length)'].unique():\n",
    "    gene_set = ppi_info[ppi_info['Shortest Path to an AMR gene (length)'] == i]['Conserved Gene']\n",
    "    globals()[f'plf_length_{i}'] = plf_map_refseq.loc[list(gene_set)]['PLF']"
   ]
  },
  {
   "cell_type": "code",
   "execution_count": 102,
   "metadata": {},
   "outputs": [],
   "source": [
    "bacdir = f'{root}/Fistarol_2022_2.0/{bacteria}'\n",
    "\n",
    "os.mkdir(bacdir)\n",
    "\n",
    "for i in ppi_info['Shortest Path to an AMR gene (length)'].unique():\n",
    "    newdir = f'length.{i}'\n",
    "    lendir = os.path.join(bacdir, newdir)\n",
    "    os.mkdir(path)\n",
    "    \n",
    "    sample = f'{root}/Nguyen_et_al_2020/{bacteria}/fasta.500.0'\n",
    "    for strain in listdir(sample):\n",
    "        with open(os.path.join(lendir, strain), 'a') as mystrain:\n",
    "            with open(os.path.join(sample, strain), 'r') as sequences:\n",
    "                first_loop = True\n",
    "                for line in sequences:\n",
    "                    if line[0] == '>':\n",
    "                        if first_loop:\n",
    "                            plfam = line[1:len(line)-1]\n",
    "                            seq = ''\n",
    "                            first_loop = False\n",
    "                            continue\n",
    "                        if plfam in list((globals()[f'plf_length_{i}'])):\n",
    "                            mystrain.write('>' + plfam + '\\n')\n",
    "                            mystrain.write(seq)\n",
    "                        plfam = line[1:len(line)-1]\n",
    "                        seq = ''\n",
    "                    else:\n",
    "                        seq += line\n",
    "                if plfam in list((globals()[f'plf_length_{i}'])):\n",
    "                            mystrain.write('>' + plfam + '\\n')\n",
    "                            mystrain.write(seq)"
   ]
  },
  {
   "cell_type": "markdown",
   "metadata": {},
   "source": [
    "At this point, it is possible to use this new configuration of data to run the model. We can take 25 genes to each strain for lengths equals to 1, 2 and 3, because the results from the paper also are derived from groups of 25 genes, hence, we can compare these results."
   ]
  },
  {
   "cell_type": "code",
   "execution_count": 109,
   "metadata": {},
   "outputs": [],
   "source": [
    "dir_25genes = os.path.join(bacdir, '25genes')\n",
    "os.mkdir(dir_25genes)\n",
    "\n",
    "for j in [0, 1, 2, 3, 4]:\n",
    "    \n",
    "    rand_idx = [sorted(random.sample(range(56), 25)), \n",
    "                sorted(random.sample(range(165), 25)), \n",
    "                sorted(random.sample(range(102), 25))]\n",
    "    \n",
    "    for i in range(1, len(rand_idx)+1): \n",
    "        \n",
    "        lendir = os.path.join(bacdir, f'length.{i}')\n",
    "        repdir = os.path.join(dir_25genes, f'length.{i}.{j}')\n",
    "        os.mkdir(repdir)\n",
    "\n",
    "        for strain in listdir(lendir):\n",
    "            with open(os.path.join(repdir, strain), 'a') as mystrain:\n",
    "                with open(os.path.join(lendir, strain), 'r') as sequences:\n",
    "                    c = 0\n",
    "                    first_loop = True\n",
    "                    for line in sequences:\n",
    "                        if line[0] == '>':\n",
    "                            if first_loop:\n",
    "                                plfam = line\n",
    "                                seq = ''\n",
    "                                c += 1\n",
    "                                first_loop = False\n",
    "                                continue\n",
    "                            if c in rand_idx[i-1]:\n",
    "                                mystrain.write(plfam)\n",
    "                                mystrain.write(seq)\n",
    "                            plfam = line\n",
    "                            seq = ''\n",
    "                            c += 1\n",
    "                        else:\n",
    "                            seq += line\n",
    "                    if c in rand_idx[i-1]:\n",
    "                            mystrain.write(plfam)\n",
    "                            mystrain.write(seq)"
   ]
  }
 ],
 "metadata": {
  "kernelspec": {
   "display_name": "Python 3",
   "language": "python",
   "name": "python3"
  },
  "language_info": {
   "codemirror_mode": {
    "name": "ipython",
    "version": 3
   },
   "file_extension": ".py",
   "mimetype": "text/x-python",
   "name": "python",
   "nbconvert_exporter": "python",
   "pygments_lexer": "ipython3",
   "version": "3.7.6"
  }
 },
 "nbformat": 4,
 "nbformat_minor": 4
}
