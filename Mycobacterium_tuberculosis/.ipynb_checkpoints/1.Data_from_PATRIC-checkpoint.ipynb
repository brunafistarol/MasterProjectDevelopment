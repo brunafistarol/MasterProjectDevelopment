{
 "cells": [
  {
   "cell_type": "markdown",
   "metadata": {},
   "source": [
    "# Data From PATRIC"
   ]
  },
  {
   "cell_type": "code",
   "execution_count": 2,
   "metadata": {},
   "outputs": [],
   "source": [
    "import pandas as pd\n",
    "import numpy as np\n",
    "import networkx as nx"
   ]
  },
  {
   "cell_type": "markdown",
   "metadata": {},
   "source": [
    "## Genomic Features\n",
    "\n",
    "The table below contains a list of genomic features, including coding DNA.\n",
    "\n",
    "Each feature is solely identified by BRC ID and associated to a protein family referred as PATRIC genus-specific families (PLfams)."
   ]
  },
  {
   "cell_type": "code",
   "execution_count": 5,
   "metadata": {},
   "outputs": [],
   "source": [
    "features = pd.read_csv('genome_features1.csv')\n",
    "for i in [2, 3, 4]:\n",
    "    features = pd.concat([features, pd.read_csv(f'genome_features{i}.csv')], axis = 0)"
   ]
  },
  {
   "cell_type": "code",
   "execution_count": 6,
   "metadata": {},
   "outputs": [
    {
     "name": "stdout",
     "output_type": "stream",
     "text": [
      "<class 'pandas.core.frame.DataFrame'>\n",
      "Int64Index: 17217 entries, 0 to 4326\n",
      "Data columns (total 21 columns):\n",
      " #   Column                                   Non-Null Count  Dtype  \n",
      "---  ------                                   --------------  -----  \n",
      " 0   Genome                                   17217 non-null  object \n",
      " 1   Genome ID                                17217 non-null  float64\n",
      " 2   Accession                                17217 non-null  object \n",
      " 3   BRC ID                                   17217 non-null  object \n",
      " 4   RefSeq Locus Tag                         14821 non-null  object \n",
      " 5   Alt Locus Tag                            12958 non-null  object \n",
      " 6   Feature ID                               17217 non-null  object \n",
      " 7   Annotation                               17217 non-null  object \n",
      " 8   Feature Type                             17217 non-null  object \n",
      " 9   Start                                    17217 non-null  int64  \n",
      " 10  End                                      17217 non-null  int64  \n",
      " 11  Length                                   17217 non-null  int64  \n",
      " 12  Strand                                   17217 non-null  object \n",
      " 13  FIGfam ID                                16786 non-null  object \n",
      " 14  PATRIC genus-specific families (PLfams)  17217 non-null  object \n",
      " 15  PATRIC cross-genus families (PGfams)     17217 non-null  object \n",
      " 16  Protein ID                               11372 non-null  object \n",
      " 17  AA Length                                17217 non-null  int64  \n",
      " 18  Gene Symbol                              4906 non-null   object \n",
      " 19  Product                                  17217 non-null  object \n",
      " 20  GO                                       3686 non-null   object \n",
      "dtypes: float64(1), int64(4), object(16)\n",
      "memory usage: 2.9+ MB\n"
     ]
    }
   ],
   "source": [
    "features.info()"
   ]
  },
  {
   "cell_type": "markdown",
   "metadata": {},
   "source": [
    "Through this table, we extract useful data to map protein families referred by Nguyen et. al.:"
   ]
  },
  {
   "cell_type": "code",
   "execution_count": 7,
   "metadata": {},
   "outputs": [
    {
     "data": {
      "text/html": [
       "<div>\n",
       "<style scoped>\n",
       "    .dataframe tbody tr th:only-of-type {\n",
       "        vertical-align: middle;\n",
       "    }\n",
       "\n",
       "    .dataframe tbody tr th {\n",
       "        vertical-align: top;\n",
       "    }\n",
       "\n",
       "    .dataframe thead th {\n",
       "        text-align: right;\n",
       "    }\n",
       "</style>\n",
       "<table border=\"1\" class=\"dataframe\">\n",
       "  <thead>\n",
       "    <tr style=\"text-align: right;\">\n",
       "      <th></th>\n",
       "      <th>PLFam</th>\n",
       "    </tr>\n",
       "    <tr>\n",
       "      <th>BRC_ID</th>\n",
       "      <th></th>\n",
       "    </tr>\n",
       "  </thead>\n",
       "  <tbody>\n",
       "    <tr>\n",
       "      <th>fig|83332.12.peg.1000</th>\n",
       "      <td>PLF_1763_00001652</td>\n",
       "    </tr>\n",
       "    <tr>\n",
       "      <th>fig|83332.12.peg.1001</th>\n",
       "      <td>PLF_1763_00001934</td>\n",
       "    </tr>\n",
       "    <tr>\n",
       "      <th>fig|83332.12.peg.1002</th>\n",
       "      <td>PLF_1763_00021396</td>\n",
       "    </tr>\n",
       "    <tr>\n",
       "      <th>fig|83332.12.peg.1003</th>\n",
       "      <td>PLF_1763_00003246</td>\n",
       "    </tr>\n",
       "    <tr>\n",
       "      <th>fig|83332.12.peg.1004</th>\n",
       "      <td>PLF_1763_00003200</td>\n",
       "    </tr>\n",
       "    <tr>\n",
       "      <th>...</th>\n",
       "      <td>...</td>\n",
       "    </tr>\n",
       "    <tr>\n",
       "      <th>fig|233413.5.peg.7</th>\n",
       "      <td>PLF_1763_00003574</td>\n",
       "    </tr>\n",
       "    <tr>\n",
       "      <th>fig|233413.5.peg.999</th>\n",
       "      <td>PLF_1763_00002802</td>\n",
       "    </tr>\n",
       "    <tr>\n",
       "      <th>fig|233413.5.peg.106</th>\n",
       "      <td>PLF_1763_00002641</td>\n",
       "    </tr>\n",
       "    <tr>\n",
       "      <th>fig|233413.5.peg.1000</th>\n",
       "      <td>PLF_1763_00002923</td>\n",
       "    </tr>\n",
       "    <tr>\n",
       "      <th>fig|233413.5.peg.1001</th>\n",
       "      <td>PLF_1763_00165187</td>\n",
       "    </tr>\n",
       "  </tbody>\n",
       "</table>\n",
       "<p>17217 rows × 1 columns</p>\n",
       "</div>"
      ],
      "text/plain": [
       "                                   PLFam\n",
       "BRC_ID                                  \n",
       "fig|83332.12.peg.1000  PLF_1763_00001652\n",
       "fig|83332.12.peg.1001  PLF_1763_00001934\n",
       "fig|83332.12.peg.1002  PLF_1763_00021396\n",
       "fig|83332.12.peg.1003  PLF_1763_00003246\n",
       "fig|83332.12.peg.1004  PLF_1763_00003200\n",
       "...                                  ...\n",
       "fig|233413.5.peg.7     PLF_1763_00003574\n",
       "fig|233413.5.peg.999   PLF_1763_00002802\n",
       "fig|233413.5.peg.106   PLF_1763_00002641\n",
       "fig|233413.5.peg.1000  PLF_1763_00002923\n",
       "fig|233413.5.peg.1001  PLF_1763_00165187\n",
       "\n",
       "[17217 rows x 1 columns]"
      ]
     },
     "execution_count": 7,
     "metadata": {},
     "output_type": "execute_result"
    }
   ],
   "source": [
    "plf = features[['BRC ID', 'PATRIC genus-specific families (PLfams)']].astype(\"string\")\n",
    "plf.columns = ['BRC_ID', 'PLFam']\n",
    "plf.set_index('BRC_ID', inplace = True)\n",
    "plf"
   ]
  },
  {
   "cell_type": "markdown",
   "metadata": {},
   "source": [
    "## Protein Interaction Network\n",
    "\n",
    "The table below contais pairs of proteins interacting with each other on Mycobacterium tuberculosis protein network, identified by their BRC ID."
   ]
  },
  {
   "cell_type": "code",
   "execution_count": 9,
   "metadata": {},
   "outputs": [
    {
     "data": {
      "text/html": [
       "<div>\n",
       "<style scoped>\n",
       "    .dataframe tbody tr th:only-of-type {\n",
       "        vertical-align: middle;\n",
       "    }\n",
       "\n",
       "    .dataframe tbody tr th {\n",
       "        vertical-align: top;\n",
       "    }\n",
       "\n",
       "    .dataframe thead th {\n",
       "        text-align: right;\n",
       "    }\n",
       "</style>\n",
       "<table border=\"1\" class=\"dataframe\">\n",
       "  <thead>\n",
       "    <tr style=\"text-align: right;\">\n",
       "      <th></th>\n",
       "      <th>Interactor_A_ID</th>\n",
       "      <th>Interactor_B_ID</th>\n",
       "    </tr>\n",
       "  </thead>\n",
       "  <tbody>\n",
       "    <tr>\n",
       "      <th>0</th>\n",
       "      <td>fig|419947.8.peg.2722</td>\n",
       "      <td>fig|419947.9.peg.2601</td>\n",
       "    </tr>\n",
       "    <tr>\n",
       "      <th>1</th>\n",
       "      <td>fig|83332.12.peg.4366</td>\n",
       "      <td>fig|83332.12.peg.2246</td>\n",
       "    </tr>\n",
       "    <tr>\n",
       "      <th>2</th>\n",
       "      <td>fig|83332.12.peg.4366</td>\n",
       "      <td>fig|83332.12.peg.899</td>\n",
       "    </tr>\n",
       "    <tr>\n",
       "      <th>3</th>\n",
       "      <td>fig|83332.12.peg.4366</td>\n",
       "      <td>fig|83332.12.peg.3329</td>\n",
       "    </tr>\n",
       "    <tr>\n",
       "      <th>4</th>\n",
       "      <td>fig|83332.12.peg.4142</td>\n",
       "      <td>fig|83332.12.peg.3034</td>\n",
       "    </tr>\n",
       "    <tr>\n",
       "      <th>...</th>\n",
       "      <td>...</td>\n",
       "      <td>...</td>\n",
       "    </tr>\n",
       "    <tr>\n",
       "      <th>2429</th>\n",
       "      <td>fig|419947.9.peg.3089</td>\n",
       "      <td>fig|419947.9.peg.4595</td>\n",
       "    </tr>\n",
       "    <tr>\n",
       "      <th>2430</th>\n",
       "      <td>fig|83332.12.peg.339</td>\n",
       "      <td>fig|83332.12.peg.764</td>\n",
       "    </tr>\n",
       "    <tr>\n",
       "      <th>2431</th>\n",
       "      <td>fig|83332.12.peg.4012</td>\n",
       "      <td>fig|83332.12.peg.3267</td>\n",
       "    </tr>\n",
       "    <tr>\n",
       "      <th>2432</th>\n",
       "      <td>fig|419947.9.peg.2083</td>\n",
       "      <td>fig|419947.9.peg.4173</td>\n",
       "    </tr>\n",
       "    <tr>\n",
       "      <th>2433</th>\n",
       "      <td>fig|83332.12.peg.1945</td>\n",
       "      <td>fig|83332.12.peg.1946</td>\n",
       "    </tr>\n",
       "  </tbody>\n",
       "</table>\n",
       "<p>2434 rows × 2 columns</p>\n",
       "</div>"
      ],
      "text/plain": [
       "            Interactor_A_ID        Interactor_B_ID\n",
       "0     fig|419947.8.peg.2722  fig|419947.9.peg.2601\n",
       "1     fig|83332.12.peg.4366  fig|83332.12.peg.2246\n",
       "2     fig|83332.12.peg.4366   fig|83332.12.peg.899\n",
       "3     fig|83332.12.peg.4366  fig|83332.12.peg.3329\n",
       "4     fig|83332.12.peg.4142  fig|83332.12.peg.3034\n",
       "...                     ...                    ...\n",
       "2429  fig|419947.9.peg.3089  fig|419947.9.peg.4595\n",
       "2430   fig|83332.12.peg.339   fig|83332.12.peg.764\n",
       "2431  fig|83332.12.peg.4012  fig|83332.12.peg.3267\n",
       "2432  fig|419947.9.peg.2083  fig|419947.9.peg.4173\n",
       "2433  fig|83332.12.peg.1945  fig|83332.12.peg.1946\n",
       "\n",
       "[2434 rows x 2 columns]"
      ]
     },
     "execution_count": 9,
     "metadata": {},
     "output_type": "execute_result"
    }
   ],
   "source": [
    "ppi = pd.read_csv('ppi_patric.csv')\n",
    "ppi = ppi[['Interactor A ID', 'Interactor B ID']].astype(\"string\")\n",
    "ppi.columns = ['Interactor_A_ID', 'Interactor_B_ID']\n",
    "ppi"
   ]
  },
  {
   "cell_type": "markdown",
   "metadata": {},
   "source": [
    "## Specialty Genes\n",
    "\n",
    "The table containing specialty genes relates several genomic features to a relevant property:\n",
    "\n",
    " - Essential gene\n",
    " - Antibiotic resistance\n",
    " - Virulence factor\n",
    " - Human homolog\n",
    " - Drug target\n",
    " - Transporter\n",
    " \n",
    "We are particularly interested on properties associated to antibiotic resistance. Besides genes related to antibiotic resistance themselves, it is possible to have causal relation between virulence factor and bacterial resistance.\n",
    "\n",
    "Here the table is filtered by the antibiotic resistance property"
   ]
  },
  {
   "cell_type": "code",
   "execution_count": 10,
   "metadata": {},
   "outputs": [],
   "source": [
    "specialty_genes = pd.read_csv('specialty_genes1.csv')\n",
    "\n",
    "for i in [2, 3, 4]:\n",
    "    specialty_genes = pd.concat([specialty_genes, pd.read_csv(f'specialty_genes{i}.csv')], axis = 0)\n",
    "\n",
    "specialty_genes = specialty_genes[['BRC ID', 'Property']]\n",
    "specialty_genes.columns = ['BRC_ID', 'Property']\n",
    "specialty_genes.set_index('BRC_ID', inplace = True)\n",
    "specialty_genes"
   ]
  }
 ],
 "metadata": {
  "kernelspec": {
   "display_name": "Python 3",
   "language": "python",
   "name": "python3"
  },
  "language_info": {
   "codemirror_mode": {
    "name": "ipython",
    "version": 3
   },
   "file_extension": ".py",
   "mimetype": "text/x-python",
   "name": "python",
   "nbconvert_exporter": "python",
   "pygments_lexer": "ipython3",
   "version": "3.7.6"
  }
 },
 "nbformat": 4,
 "nbformat_minor": 4
}
